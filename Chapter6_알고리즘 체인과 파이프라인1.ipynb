{
 "cells": [
  {
   "cell_type": "code",
   "execution_count": 1,
   "metadata": {},
   "outputs": [
    {
     "name": "stderr",
     "output_type": "stream",
     "text": [
      "c:\\Users\\admin\\anaconda3\\lib\\site-packages\\outdated\\utils.py:14: OutdatedPackageWarning: The package pingouin is out of date. Your version is 0.5.2, the latest is 0.5.3.\n",
      "Set the environment variable OUTDATED_IGNORE=1 to disable these warnings.\n",
      "  return warn(\n"
     ]
    }
   ],
   "source": [
    "import os, sys\n",
    "import datetime\n",
    "from datetime import datetime, date, timedelta\n",
    "import numpy as np\n",
    "%matplotlib inline\n",
    "import matplotlib.pyplot as plt\n",
    "import seaborn as sns\n",
    "import pandas as pd\n",
    "from pandas.plotting import scatter_matrix\n",
    "from pandas_profiling import ProfileReport\n",
    "import mglearn\n",
    "plt.rcParams['font.family'] = 'Malgun Gothic'\n",
    "plt.rcParams['axes.unicode_minus'] = False\n",
    "%config InlineBackend.figure_format = 'svg'\n",
    "from mpl_toolkits.mplot3d import Axes3D, axes3d\n",
    "from scipy import sparse\n",
    "import scipy.stats as ss\n",
    "import scipy.cluster.hierarchy as sch\n",
    "import pingouin as pg\n",
    "import spacy, nltk\n",
    "from konlpy.tag import Okt"
   ]
  },
  {
   "cell_type": "code",
   "execution_count": 41,
   "metadata": {},
   "outputs": [],
   "source": [
    "from sklearn.datasets import load_breast_cancer\n",
    "from sklearn.datasets import load_boston"
   ]
  },
  {
   "cell_type": "code",
   "execution_count": 54,
   "metadata": {},
   "outputs": [],
   "source": [
    "from sklearn.preprocessing import StandardScaler, MinMaxScaler\n",
    "from sklearn.preprocessing import PolynomialFeatures\n",
    "from sklearn.model_selection import train_test_split, GridSearchCV\n",
    "from sklearn.pipeline import Pipeline, make_pipeline\n",
    "from sklearn.svm import SVC, SVR\n",
    "from sklearn.linear_model import Lasso, Ridge, LogisticRegression\n",
    "from sklearn.ensemble import RandomForestClassifier, RandomForestRegressor\n",
    "from sklearn.decomposition import PCA, NMF"
   ]
  },
  {
   "cell_type": "code",
   "execution_count": 4,
   "metadata": {},
   "outputs": [],
   "source": [
    "cancer = load_breast_cancer(as_frame=True)\n",
    "X_train, X_test, y_train, y_test = train_test_split(cancer['data'], cancer['target'], random_state=0)"
   ]
  },
  {
   "cell_type": "code",
   "execution_count": 15,
   "metadata": {},
   "outputs": [
    {
     "data": {
      "text/plain": [
       "0.972027972027972"
      ]
     },
     "execution_count": 15,
     "metadata": {},
     "output_type": "execute_result"
    }
   ],
   "source": [
    "pipe = Pipeline([('scaler', MinMaxScaler()), ('svc', SVC())])\n",
    "pipe.fit(X_train, y_train)\n",
    "pipe.score(X_test, y_test)"
   ]
  },
  {
   "cell_type": "code",
   "execution_count": 16,
   "metadata": {},
   "outputs": [],
   "source": [
    "param_grid = {'svc__C':np.logspace(-3, 2, 6), 'svc__gamma':np.logspace(-3, 2, 6)}\n",
    "# pipeline을 이용한 GridSearchCV가 정보 누설 문제를 방지해줌\n",
    "grid = GridSearchCV(pipe, param_grid=param_grid, cv=5, n_jobs=-1).fit(X_train, y_train)"
   ]
  },
  {
   "cell_type": "code",
   "execution_count": 17,
   "metadata": {},
   "outputs": [
    {
     "data": {
      "text/plain": [
       "(Pipeline(steps=[('scaler', MinMaxScaler()), ('svc', SVC(gamma=1.0))]),\n",
       " {'svc__C': 1.0, 'svc__gamma': 1.0},\n",
       " 0.9812311901504789,\n",
       " 0.972027972027972)"
      ]
     },
     "execution_count": 17,
     "metadata": {},
     "output_type": "execute_result"
    }
   ],
   "source": [
    "grid.best_estimator_, grid.best_params_, grid.best_score_, grid.score(X_test, y_test)"
   ]
  },
  {
   "cell_type": "code",
   "execution_count": 19,
   "metadata": {},
   "outputs": [
    {
     "data": {
      "text/plain": [
       "0.972027972027972"
      ]
     },
     "execution_count": 19,
     "metadata": {},
     "output_type": "execute_result"
    }
   ],
   "source": [
    "pipe = make_pipeline(MinMaxScaler(), SVC())\n",
    "pipe.fit(X_train, y_train)\n",
    "pipe.score(X_test, y_test)"
   ]
  },
  {
   "cell_type": "code",
   "execution_count": 20,
   "metadata": {},
   "outputs": [],
   "source": [
    "param_grid = {'svc__C':np.logspace(-3, 2, 6), 'svc__gamma':np.logspace(-3, 2, 6)}\n",
    "grid = GridSearchCV(pipe, param_grid=param_grid, cv=5, n_jobs=-1).fit(X_train, y_train)"
   ]
  },
  {
   "cell_type": "code",
   "execution_count": 21,
   "metadata": {},
   "outputs": [
    {
     "data": {
      "text/plain": [
       "(Pipeline(steps=[('minmaxscaler', MinMaxScaler()), ('svc', SVC(gamma=1.0))]),\n",
       " {'svc__C': 1.0, 'svc__gamma': 1.0},\n",
       " 0.9812311901504789,\n",
       " 0.972027972027972)"
      ]
     },
     "execution_count": 21,
     "metadata": {},
     "output_type": "execute_result"
    }
   ],
   "source": [
    "grid.best_estimator_, grid.best_params_, grid.best_score_, grid.score(X_test, y_test)"
   ]
  },
  {
   "cell_type": "code",
   "execution_count": 26,
   "metadata": {},
   "outputs": [
    {
     "data": {
      "text/plain": [
       "[('standardscaler-1', StandardScaler()),\n",
       " ('pca', PCA(n_components=2)),\n",
       " ('standardscaler-2', StandardScaler())]"
      ]
     },
     "execution_count": 26,
     "metadata": {},
     "output_type": "execute_result"
    }
   ],
   "source": [
    "pipe = make_pipeline(StandardScaler(), PCA(n_components=2), StandardScaler())\n",
    "pipe.steps"
   ]
  },
  {
   "cell_type": "code",
   "execution_count": 27,
   "metadata": {},
   "outputs": [
    {
     "data": {
      "text/plain": [
       "(2, 30)"
      ]
     },
     "execution_count": 27,
     "metadata": {},
     "output_type": "execute_result"
    }
   ],
   "source": [
    "pipe.fit(cancer['data'])\n",
    "components = pipe.named_steps['pca'].components_\n",
    "components.shape"
   ]
  },
  {
   "cell_type": "code",
   "execution_count": 36,
   "metadata": {},
   "outputs": [],
   "source": [
    "cancer = load_breast_cancer(as_frame=True)\n",
    "X_train, X_test, y_train, y_test = train_test_split(cancer['data'], cancer['target'], random_state=4)"
   ]
  },
  {
   "cell_type": "code",
   "execution_count": 37,
   "metadata": {},
   "outputs": [],
   "source": [
    "pipe = make_pipeline(StandardScaler(), LogisticRegression(max_iter=1000))"
   ]
  },
  {
   "cell_type": "code",
   "execution_count": 38,
   "metadata": {},
   "outputs": [
    {
     "data": {
      "text/plain": [
       "GridSearchCV(cv=5,\n",
       "             estimator=Pipeline(steps=[('standardscaler', StandardScaler()),\n",
       "                                       ('logisticregression',\n",
       "                                        LogisticRegression(max_iter=1000))]),\n",
       "             n_jobs=-1,\n",
       "             param_grid={'logisticregression__C': array([1.e-02, 1.e-01, 1.e+00, 1.e+01, 1.e+02, 1.e+03])})"
      ]
     },
     "execution_count": 38,
     "metadata": {},
     "output_type": "execute_result"
    }
   ],
   "source": [
    "param_grid = {'logisticregression__C':np.logspace(-2, 3, 6)}\n",
    "grid = GridSearchCV(pipe, param_grid=param_grid, cv=5, n_jobs=-1)\n",
    "grid.fit(X_train, y_train)"
   ]
  },
  {
   "cell_type": "code",
   "execution_count": 39,
   "metadata": {},
   "outputs": [
    {
     "data": {
      "text/plain": [
       "array([[-0.43570655, -0.34266946, -0.40809443, -0.5344574 , -0.14971847,\n",
       "         0.61034122, -0.72634347, -0.78538827,  0.03886087,  0.27497198,\n",
       "        -1.29780109,  0.04926005, -0.67336941, -0.93447426, -0.13939555,\n",
       "         0.45032641, -0.13009864, -0.10144273,  0.43432027,  0.71596578,\n",
       "        -1.09068862, -1.09463976, -0.85183755, -1.06406198, -0.74316099,\n",
       "         0.07252425, -0.82323903, -0.65321239, -0.64379499, -0.42026013]])"
      ]
     },
     "execution_count": 39,
     "metadata": {},
     "output_type": "execute_result"
    }
   ],
   "source": [
    "grid.best_estimator_.named_steps['logisticregression'].coef_"
   ]
  },
  {
   "cell_type": "code",
   "execution_count": 43,
   "metadata": {},
   "outputs": [
    {
     "name": "stderr",
     "output_type": "stream",
     "text": [
      "c:\\Users\\admin\\anaconda3\\lib\\site-packages\\sklearn\\utils\\deprecation.py:87: FutureWarning: Function load_boston is deprecated; `load_boston` is deprecated in 1.0 and will be removed in 1.2.\n",
      "\n",
      "    The Boston housing prices dataset has an ethical problem. You can refer to\n",
      "    the documentation of this function for further details.\n",
      "\n",
      "    The scikit-learn maintainers therefore strongly discourage the use of this\n",
      "    dataset unless the purpose of the code is to study and educate about\n",
      "    ethical issues in data science and machine learning.\n",
      "\n",
      "    In this special case, you can fetch the dataset from the original\n",
      "    source::\n",
      "\n",
      "        import pandas as pd\n",
      "        import numpy as np\n",
      "\n",
      "\n",
      "        data_url = \"http://lib.stat.cmu.edu/datasets/boston\"\n",
      "        raw_df = pd.read_csv(data_url, sep=\"\\s+\", skiprows=22, header=None)\n",
      "        data = np.hstack([raw_df.values[::2, :], raw_df.values[1::2, :2]])\n",
      "        target = raw_df.values[1::2, 2]\n",
      "\n",
      "    Alternative datasets include the California housing dataset (i.e.\n",
      "    :func:`~sklearn.datasets.fetch_california_housing`) and the Ames housing\n",
      "    dataset. You can load the datasets as follows::\n",
      "\n",
      "        from sklearn.datasets import fetch_california_housing\n",
      "        housing = fetch_california_housing()\n",
      "\n",
      "    for the California housing dataset and::\n",
      "\n",
      "        from sklearn.datasets import fetch_openml\n",
      "        housing = fetch_openml(name=\"house_prices\", as_frame=True)\n",
      "\n",
      "    for the Ames housing dataset.\n",
      "    \n",
      "  warnings.warn(msg, category=FutureWarning)\n"
     ]
    }
   ],
   "source": [
    "boston = load_boston()\n",
    "X_train, X_test, y_train, y_test = train_test_split(boston['data'], boston['target'], random_state=0)"
   ]
  },
  {
   "cell_type": "code",
   "execution_count": 46,
   "metadata": {},
   "outputs": [
    {
     "data": {
      "text/plain": [
       "{'standardscaler': StandardScaler(),\n",
       " 'polynomialfeatures': PolynomialFeatures(),\n",
       " 'ridge': Ridge()}"
      ]
     },
     "execution_count": 46,
     "metadata": {},
     "output_type": "execute_result"
    }
   ],
   "source": [
    "pipe = make_pipeline(StandardScaler(), PolynomialFeatures(), Ridge())\n",
    "pipe.named_steps"
   ]
  },
  {
   "cell_type": "code",
   "execution_count": 50,
   "metadata": {},
   "outputs": [
    {
     "data": {
      "text/plain": [
       "GridSearchCV(cv=5,\n",
       "             estimator=Pipeline(steps=[('standardscaler', StandardScaler()),\n",
       "                                       ('polynomialfeatures',\n",
       "                                        PolynomialFeatures()),\n",
       "                                       ('ridge', Ridge())]),\n",
       "             n_jobs=-1,\n",
       "             param_grid={'polynomialfeatures__degree': [1, 2, 3],\n",
       "                         'ridge__alpha': array([1.e-03, 1.e-02, 1.e-01, 1.e+00, 1.e+01, 1.e+02, 1.e+03])})"
      ]
     },
     "execution_count": 50,
     "metadata": {},
     "output_type": "execute_result"
    }
   ],
   "source": [
    "param_grid = {'polynomialfeatures__degree':[1, 2, 3], 'ridge__alpha':np.logspace(-3, 3, 7)}\n",
    "grid = GridSearchCV(pipe, param_grid=param_grid, cv=5, n_jobs=-1)\n",
    "grid.fit(X_train, y_train)"
   ]
  },
  {
   "cell_type": "code",
   "execution_count": 51,
   "metadata": {},
   "outputs": [
    {
     "data": {
      "text/plain": [
       "<matplotlib.collections.PolyCollection at 0x1ac45853bb0>"
      ]
     },
     "execution_count": 51,
     "metadata": {},
     "output_type": "execute_result"
    },
    {
     "data": {
      "image/svg+xml": "<?xml version=\"1.0\" encoding=\"utf-8\" standalone=\"no\"?>\n<!DOCTYPE svg PUBLIC \"-//W3C//DTD SVG 1.1//EN\"\n  \"http://www.w3.org/Graphics/SVG/1.1/DTD/svg11.dtd\">\n<svg xmlns:xlink=\"http://www.w3.org/1999/xlink\" width=\"375.717187pt\" height=\"188.851339pt\" viewBox=\"0 0 375.717187 188.851339\" xmlns=\"http://www.w3.org/2000/svg\" version=\"1.1\">\n <metadata>\n  <rdf:RDF xmlns:dc=\"http://purl.org/dc/elements/1.1/\" xmlns:cc=\"http://creativecommons.org/ns#\" xmlns:rdf=\"http://www.w3.org/1999/02/22-rdf-syntax-ns#\">\n   <cc:Work>\n    <dc:type rdf:resource=\"http://purl.org/dc/dcmitype/StillImage\"/>\n    <dc:date>2023-01-07T16:25:27.890882</dc:date>\n    <dc:format>image/svg+xml</dc:format>\n    <dc:creator>\n     <cc:Agent>\n      <dc:title>Matplotlib v3.5.1, https://matplotlib.org/</dc:title>\n     </cc:Agent>\n    </dc:creator>\n   </cc:Work>\n  </rdf:RDF>\n </metadata>\n <defs>\n  <style type=\"text/css\">*{stroke-linejoin: round; stroke-linecap: butt}</style>\n </defs>\n <g id=\"figure_1\">\n  <g id=\"patch_1\">\n   <path d=\"M 0 188.851339 \nL 375.717187 188.851339 \nL 375.717187 0 \nL 0 0 \nL 0 188.851339 \nz\n\" style=\"fill: none\"/>\n  </g>\n  <g id=\"axes_1\">\n   <g id=\"patch_2\">\n    <path d=\"M 33.717188 150.685714 \nL 368.517188 150.685714 \nL 368.517188 7.2 \nL 33.717188 7.2 \nz\n\" style=\"fill: #ffffff\"/>\n   </g>\n   <g id=\"PolyCollection_1\">\n    <path d=\"M 33.717188 150.685714 \nL 33.717188 102.857143 \nL 81.545759 102.857143 \nL 81.545759 150.685714 \nL 33.717188 150.685714 \nz\n\" clip-path=\"url(#pf89825fb86)\" style=\"fill: #fde725\"/>\n    <path d=\"M 81.545759 150.685714 \nL 81.545759 102.857143 \nL 129.37433 102.857143 \nL 129.37433 150.685714 \nL 81.545759 150.685714 \nz\n\" clip-path=\"url(#pf89825fb86)\" style=\"fill: #fde725\"/>\n    <path d=\"M 129.37433 150.685714 \nL 129.37433 102.857143 \nL 177.202902 102.857143 \nL 177.202902 150.685714 \nL 129.37433 150.685714 \nz\n\" clip-path=\"url(#pf89825fb86)\" style=\"fill: #fde725\"/>\n    <path d=\"M 177.202902 150.685714 \nL 177.202902 102.857143 \nL 225.031473 102.857143 \nL 225.031473 150.685714 \nL 177.202902 150.685714 \nz\n\" clip-path=\"url(#pf89825fb86)\" style=\"fill: #fde725\"/>\n    <path d=\"M 225.031473 150.685714 \nL 225.031473 102.857143 \nL 272.860045 102.857143 \nL 272.860045 150.685714 \nL 225.031473 150.685714 \nz\n\" clip-path=\"url(#pf89825fb86)\" style=\"fill: #fde725\"/>\n    <path d=\"M 272.860045 150.685714 \nL 272.860045 102.857143 \nL 320.688616 102.857143 \nL 320.688616 150.685714 \nL 272.860045 150.685714 \nz\n\" clip-path=\"url(#pf89825fb86)\" style=\"fill: #fde725\"/>\n    <path d=\"M 320.688616 150.685714 \nL 320.688616 102.857143 \nL 368.517188 102.857143 \nL 368.517188 150.685714 \nL 320.688616 150.685714 \nz\n\" clip-path=\"url(#pf89825fb86)\" style=\"fill: #fde725\"/>\n    <path d=\"M 33.717188 102.857143 \nL 33.717188 55.028571 \nL 81.545759 55.028571 \nL 81.545759 102.857143 \nL 33.717188 102.857143 \nz\n\" clip-path=\"url(#pf89825fb86)\" style=\"fill: #fde725\"/>\n    <path d=\"M 81.545759 102.857143 \nL 81.545759 55.028571 \nL 129.37433 55.028571 \nL 129.37433 102.857143 \nL 81.545759 102.857143 \nz\n\" clip-path=\"url(#pf89825fb86)\" style=\"fill: #fde725\"/>\n    <path d=\"M 129.37433 102.857143 \nL 129.37433 55.028571 \nL 177.202902 55.028571 \nL 177.202902 102.857143 \nL 129.37433 102.857143 \nz\n\" clip-path=\"url(#pf89825fb86)\" style=\"fill: #fde725\"/>\n    <path d=\"M 177.202902 102.857143 \nL 177.202902 55.028571 \nL 225.031473 55.028571 \nL 225.031473 102.857143 \nL 177.202902 102.857143 \nz\n\" clip-path=\"url(#pf89825fb86)\" style=\"fill: #fde725\"/>\n    <path d=\"M 225.031473 102.857143 \nL 225.031473 55.028571 \nL 272.860045 55.028571 \nL 272.860045 102.857143 \nL 225.031473 102.857143 \nz\n\" clip-path=\"url(#pf89825fb86)\" style=\"fill: #fde725\"/>\n    <path d=\"M 272.860045 102.857143 \nL 272.860045 55.028571 \nL 320.688616 55.028571 \nL 320.688616 102.857143 \nL 272.860045 102.857143 \nz\n\" clip-path=\"url(#pf89825fb86)\" style=\"fill: #fde725\"/>\n    <path d=\"M 320.688616 102.857143 \nL 320.688616 55.028571 \nL 368.517188 55.028571 \nL 368.517188 102.857143 \nL 320.688616 102.857143 \nz\n\" clip-path=\"url(#pf89825fb86)\" style=\"fill: #fde725\"/>\n    <path d=\"M 33.717188 55.028571 \nL 33.717188 7.2 \nL 81.545759 7.2 \nL 81.545759 55.028571 \nL 33.717188 55.028571 \nz\n\" clip-path=\"url(#pf89825fb86)\" style=\"fill: #440154\"/>\n    <path d=\"M 81.545759 55.028571 \nL 81.545759 7.2 \nL 129.37433 7.2 \nL 129.37433 55.028571 \nL 81.545759 55.028571 \nz\n\" clip-path=\"url(#pf89825fb86)\" style=\"fill: #4ec36b\"/>\n    <path d=\"M 129.37433 55.028571 \nL 129.37433 7.2 \nL 177.202902 7.2 \nL 177.202902 55.028571 \nL 129.37433 55.028571 \nz\n\" clip-path=\"url(#pf89825fb86)\" style=\"fill: #efe51c\"/>\n    <path d=\"M 177.202902 55.028571 \nL 177.202902 7.2 \nL 225.031473 7.2 \nL 225.031473 55.028571 \nL 177.202902 55.028571 \nz\n\" clip-path=\"url(#pf89825fb86)\" style=\"fill: #fde725\"/>\n    <path d=\"M 225.031473 55.028571 \nL 225.031473 7.2 \nL 272.860045 7.2 \nL 272.860045 55.028571 \nL 225.031473 55.028571 \nz\n\" clip-path=\"url(#pf89825fb86)\" style=\"fill: #fde725\"/>\n    <path d=\"M 272.860045 55.028571 \nL 272.860045 7.2 \nL 320.688616 7.2 \nL 320.688616 55.028571 \nL 272.860045 55.028571 \nz\n\" clip-path=\"url(#pf89825fb86)\" style=\"fill: #fde725\"/>\n    <path d=\"M 320.688616 55.028571 \nL 320.688616 7.2 \nL 368.517188 7.2 \nL 368.517188 55.028571 \nL 320.688616 55.028571 \nz\n\" clip-path=\"url(#pf89825fb86)\" style=\"fill: #fde725\"/>\n   </g>\n   <g id=\"matplotlib.axis_1\">\n    <g id=\"xtick_1\">\n     <g id=\"line2d_1\">\n      <defs>\n       <path id=\"m51e5dcd636\" d=\"M 0 0 \nL 0 3.5 \n\" style=\"stroke: #000000; stroke-width: 0.8\"/>\n      </defs>\n      <g>\n       <use xlink:href=\"#m51e5dcd636\" x=\"57.631473\" y=\"150.685714\" style=\"stroke: #000000; stroke-width: 0.8\"/>\n      </g>\n     </g>\n     <g id=\"text_1\">\n      <!-- 0.001 -->\n      <g transform=\"translate(45.522098 165.277902)scale(0.1 -0.1)\">\n       <defs>\n        <path id=\"MalgunGothic-30\" d=\"M 278 2206 \nQ 278 3425 675 4050 \nQ 1072 4675 1819 4675 \nQ 3253 4675 3253 2319 \nQ 3253 1156 2854 539 \nQ 2456 -78 1716 -78 \nQ 1016 -78 647 520 \nQ 278 1119 278 2206 \nz\nM 784 2231 \nQ 784 344 1769 344 \nQ 2747 344 2747 2259 \nQ 2747 4250 1794 4250 \nQ 784 4250 784 2231 \nz\n\" transform=\"scale(0.015625)\"/>\n        <path id=\"MalgunGothic-2e\" d=\"M 356 275 \nQ 356 422 459 523 \nQ 563 625 700 625 \nQ 838 625 941 523 \nQ 1044 422 1044 275 \nQ 1044 138 942 33 \nQ 841 -72 700 -72 \nQ 559 -72 457 29 \nQ 356 131 356 275 \nz\n\" transform=\"scale(0.015625)\"/>\n        <path id=\"MalgunGothic-31\" d=\"M 2231 0 \nL 1734 0 \nL 1734 3972 \nQ 1591 3828 1266 3661 \nQ 941 3494 672 3428 \nL 672 3959 \nQ 1016 4056 1409 4275 \nQ 1803 4494 2031 4700 \nL 2231 4700 \nL 2231 0 \nz\n\" transform=\"scale(0.015625)\"/>\n       </defs>\n       <use xlink:href=\"#MalgunGothic-30\"/>\n       <use xlink:href=\"#MalgunGothic-2e\" x=\"55.078125\"/>\n       <use xlink:href=\"#MalgunGothic-30\" x=\"76.953125\"/>\n       <use xlink:href=\"#MalgunGothic-30\" x=\"132.03125\"/>\n       <use xlink:href=\"#MalgunGothic-31\" x=\"187.109375\"/>\n      </g>\n     </g>\n    </g>\n    <g id=\"xtick_2\">\n     <g id=\"line2d_2\">\n      <g>\n       <use xlink:href=\"#m51e5dcd636\" x=\"105.460045\" y=\"150.685714\" style=\"stroke: #000000; stroke-width: 0.8\"/>\n      </g>\n     </g>\n     <g id=\"text_2\">\n      <!-- 0.01 -->\n      <g transform=\"translate(96.104576 165.277902)scale(0.1 -0.1)\">\n       <use xlink:href=\"#MalgunGothic-30\"/>\n       <use xlink:href=\"#MalgunGothic-2e\" x=\"55.078125\"/>\n       <use xlink:href=\"#MalgunGothic-30\" x=\"76.953125\"/>\n       <use xlink:href=\"#MalgunGothic-31\" x=\"132.03125\"/>\n      </g>\n     </g>\n    </g>\n    <g id=\"xtick_3\">\n     <g id=\"line2d_3\">\n      <g>\n       <use xlink:href=\"#m51e5dcd636\" x=\"153.288616\" y=\"150.685714\" style=\"stroke: #000000; stroke-width: 0.8\"/>\n      </g>\n     </g>\n     <g id=\"text_3\">\n      <!-- 0.1 -->\n      <g transform=\"translate(146.687054 165.277902)scale(0.1 -0.1)\">\n       <use xlink:href=\"#MalgunGothic-30\"/>\n       <use xlink:href=\"#MalgunGothic-2e\" x=\"55.078125\"/>\n       <use xlink:href=\"#MalgunGothic-31\" x=\"76.953125\"/>\n      </g>\n     </g>\n    </g>\n    <g id=\"xtick_4\">\n     <g id=\"line2d_4\">\n      <g>\n       <use xlink:href=\"#m51e5dcd636\" x=\"201.117188\" y=\"150.685714\" style=\"stroke: #000000; stroke-width: 0.8\"/>\n      </g>\n     </g>\n     <g id=\"text_4\">\n      <!-- 1.0 -->\n      <g transform=\"translate(194.515625 165.277902)scale(0.1 -0.1)\">\n       <use xlink:href=\"#MalgunGothic-31\"/>\n       <use xlink:href=\"#MalgunGothic-2e\" x=\"55.078125\"/>\n       <use xlink:href=\"#MalgunGothic-30\" x=\"76.953125\"/>\n      </g>\n     </g>\n    </g>\n    <g id=\"xtick_5\">\n     <g id=\"line2d_5\">\n      <g>\n       <use xlink:href=\"#m51e5dcd636\" x=\"248.945759\" y=\"150.685714\" style=\"stroke: #000000; stroke-width: 0.8\"/>\n      </g>\n     </g>\n     <g id=\"text_5\">\n      <!-- 10.0 -->\n      <g transform=\"translate(239.59029 165.277902)scale(0.1 -0.1)\">\n       <use xlink:href=\"#MalgunGothic-31\"/>\n       <use xlink:href=\"#MalgunGothic-30\" x=\"55.078125\"/>\n       <use xlink:href=\"#MalgunGothic-2e\" x=\"110.15625\"/>\n       <use xlink:href=\"#MalgunGothic-30\" x=\"132.03125\"/>\n      </g>\n     </g>\n    </g>\n    <g id=\"xtick_6\">\n     <g id=\"line2d_6\">\n      <g>\n       <use xlink:href=\"#m51e5dcd636\" x=\"296.77433\" y=\"150.685714\" style=\"stroke: #000000; stroke-width: 0.8\"/>\n      </g>\n     </g>\n     <g id=\"text_6\">\n      <!-- 100.0 -->\n      <g transform=\"translate(284.664955 165.277902)scale(0.1 -0.1)\">\n       <use xlink:href=\"#MalgunGothic-31\"/>\n       <use xlink:href=\"#MalgunGothic-30\" x=\"55.078125\"/>\n       <use xlink:href=\"#MalgunGothic-30\" x=\"110.15625\"/>\n       <use xlink:href=\"#MalgunGothic-2e\" x=\"165.234375\"/>\n       <use xlink:href=\"#MalgunGothic-30\" x=\"187.109375\"/>\n      </g>\n     </g>\n    </g>\n    <g id=\"xtick_7\">\n     <g id=\"line2d_7\">\n      <g>\n       <use xlink:href=\"#m51e5dcd636\" x=\"344.602902\" y=\"150.685714\" style=\"stroke: #000000; stroke-width: 0.8\"/>\n      </g>\n     </g>\n     <g id=\"text_7\">\n      <!-- 1000.0 -->\n      <g transform=\"translate(329.739621 165.277902)scale(0.1 -0.1)\">\n       <use xlink:href=\"#MalgunGothic-31\"/>\n       <use xlink:href=\"#MalgunGothic-30\" x=\"55.078125\"/>\n       <use xlink:href=\"#MalgunGothic-30\" x=\"110.15625\"/>\n       <use xlink:href=\"#MalgunGothic-30\" x=\"165.234375\"/>\n       <use xlink:href=\"#MalgunGothic-2e\" x=\"220.3125\"/>\n       <use xlink:href=\"#MalgunGothic-30\" x=\"242.1875\"/>\n      </g>\n     </g>\n    </g>\n    <g id=\"text_8\">\n     <!-- ridge__alpha -->\n     <g transform=\"translate(172.838281 179.234152)scale(0.1 -0.1)\">\n      <defs>\n       <path id=\"MalgunGothic-72\" d=\"M 2225 2775 \nQ 2084 2881 1828 2881 \nQ 1491 2881 1262 2553 \nQ 1034 2225 1034 1681 \nL 1034 0 \nL 538 0 \nL 538 3284 \nL 1034 3284 \nL 1034 2603 \nL 1047 2603 \nQ 1159 2950 1389 3145 \nQ 1619 3341 1903 3341 \nQ 2109 3341 2225 3297 \nL 2225 2775 \nz\n\" transform=\"scale(0.015625)\"/>\n       <path id=\"MalgunGothic-69\" d=\"M 472 4466 \nQ 472 4606 565 4701 \nQ 659 4797 794 4797 \nQ 934 4797 1029 4700 \nQ 1125 4603 1125 4466 \nQ 1125 4325 1029 4231 \nQ 934 4138 794 4138 \nQ 659 4138 565 4230 \nQ 472 4322 472 4466 \nz\nM 541 0 \nL 541 3284 \nL 1034 3284 \nL 1034 0 \nL 541 0 \nz\n\" transform=\"scale(0.015625)\"/>\n       <path id=\"MalgunGothic-64\" d=\"M 3313 0 \nL 2822 0 \nL 2822 566 \nL 2809 566 \nQ 2444 -78 1675 -78 \nQ 1056 -78 686 364 \nQ 316 806 316 1566 \nQ 316 2375 728 2867 \nQ 1141 3359 1816 3359 \nQ 2494 3359 2809 2822 \nL 2822 2822 \nL 2822 4859 \nL 3313 4859 \nL 3313 0 \nz\nM 2822 1978 \nQ 2822 2378 2550 2659 \nQ 2278 2941 1872 2941 \nQ 1384 2941 1101 2577 \nQ 819 2213 819 1591 \nQ 819 1025 1086 684 \nQ 1353 344 1813 344 \nQ 2250 344 2536 666 \nQ 2822 988 2822 1478 \nL 2822 1978 \nz\n\" transform=\"scale(0.015625)\"/>\n       <path id=\"MalgunGothic-67\" d=\"M 3313 259 \nQ 3313 -1547 1603 -1547 \nQ 1003 -1547 538 -1313 \nL 538 -806 \nQ 1088 -1116 1600 -1116 \nQ 2822 -1116 2822 194 \nL 2822 559 \nL 2809 559 \nQ 2422 -78 1675 -78 \nQ 1066 -78 691 362 \nQ 316 803 316 1534 \nQ 316 2375 722 2867 \nQ 1128 3359 1816 3359 \nQ 2484 3359 2809 2822 \nL 2822 2822 \nL 2822 3284 \nL 3313 3284 \nL 3313 259 \nz\nM 2822 1978 \nQ 2822 2378 2547 2659 \nQ 2272 2941 1878 2941 \nQ 1384 2941 1101 2577 \nQ 819 2213 819 1572 \nQ 819 1016 1092 680 \nQ 1366 344 1803 344 \nQ 2247 344 2534 666 \nQ 2822 988 2822 1478 \nL 2822 1978 \nz\n\" transform=\"scale(0.015625)\"/>\n       <path id=\"MalgunGothic-65\" d=\"M 3156 1519 \nL 828 1519 \nQ 844 950 1133 648 \nQ 1422 347 1909 347 \nQ 2472 347 2934 719 \nL 2934 244 \nQ 2494 -78 1794 -78 \nQ 1100 -78 708 376 \nQ 316 831 316 1634 \nQ 316 2381 747 2870 \nQ 1178 3359 1816 3359 \nQ 2453 3359 2804 2942 \nQ 3156 2525 3156 1788 \nL 3156 1519 \nz\nM 2644 1956 \nQ 2644 2416 2423 2675 \nQ 2203 2934 1809 2934 \nQ 1438 2934 1169 2667 \nQ 900 2400 834 1956 \nL 2644 1956 \nz\n\" transform=\"scale(0.015625)\"/>\n       <path id=\"MalgunGothic-5f\" d=\"M 2725 -953 \nL 0 -953 \nL 0 -569 \nL 2725 -569 \nL 2725 -953 \nz\n\" transform=\"scale(0.015625)\"/>\n       <path id=\"MalgunGothic-61\" d=\"M 616 3050 \nQ 1097 3359 1722 3359 \nQ 2866 3359 2866 2147 \nL 2866 0 \nL 2369 0 \nL 2369 516 \nL 2350 516 \nQ 2009 -78 1341 -78 \nQ 859 -78 576 180 \nQ 294 438 294 869 \nQ 294 1784 1375 1934 \nL 2366 2078 \nQ 2366 2934 1684 2934 \nQ 1084 2934 616 2525 \nL 616 3050 \nz\nM 1563 1559 \nQ 1178 1509 993 1371 \nQ 809 1234 809 903 \nQ 809 653 986 500 \nQ 1163 347 1450 347 \nQ 1847 347 2106 628 \nQ 2366 909 2366 1334 \nL 2366 1666 \nL 1563 1559 \nz\n\" transform=\"scale(0.015625)\"/>\n       <path id=\"MalgunGothic-6c\" d=\"M 541 0 \nL 541 4859 \nL 1034 4859 \nL 1034 0 \nL 541 0 \nz\n\" transform=\"scale(0.015625)\"/>\n       <path id=\"MalgunGothic-70\" d=\"M 1034 481 \nL 1034 -1513 \nL 538 -1513 \nL 538 3284 \nL 1034 3284 \nL 1034 2703 \nL 1047 2703 \nQ 1438 3359 2184 3359 \nQ 2809 3359 3171 2920 \nQ 3534 2481 3534 1738 \nQ 3534 906 3126 414 \nQ 2719 -78 2034 -78 \nQ 1394 -78 1047 481 \nL 1034 481 \nz\nM 1034 1331 \nQ 1034 922 1307 633 \nQ 1581 344 1991 344 \nQ 2475 344 2751 716 \nQ 3028 1088 3028 1753 \nQ 3028 2300 2767 2620 \nQ 2506 2941 2072 2941 \nQ 1619 2941 1326 2619 \nQ 1034 2297 1034 1806 \nL 1034 1331 \nz\n\" transform=\"scale(0.015625)\"/>\n       <path id=\"MalgunGothic-68\" d=\"M 3238 0 \nL 2744 0 \nL 2744 1894 \nQ 2744 2941 1963 2941 \nQ 1572 2941 1303 2637 \nQ 1034 2334 1034 1859 \nL 1034 0 \nL 538 0 \nL 538 4859 \nL 1034 4859 \nL 1034 2734 \nL 1047 2734 \nQ 1425 3359 2128 3359 \nQ 3238 3359 3238 2022 \nL 3238 0 \nz\n\" transform=\"scale(0.015625)\"/>\n      </defs>\n      <use xlink:href=\"#MalgunGothic-72\"/>\n      <use xlink:href=\"#MalgunGothic-69\" x=\"35.351562\"/>\n      <use xlink:href=\"#MalgunGothic-64\" x=\"59.960938\"/>\n      <use xlink:href=\"#MalgunGothic-67\" x=\"120.166016\"/>\n      <use xlink:href=\"#MalgunGothic-65\" x=\"180.371094\"/>\n      <use xlink:href=\"#MalgunGothic-5f\" x=\"233.886719\"/>\n      <use xlink:href=\"#MalgunGothic-5f\" x=\"276.464844\"/>\n      <use xlink:href=\"#MalgunGothic-61\" x=\"319.042969\"/>\n      <use xlink:href=\"#MalgunGothic-6c\" x=\"371.044922\"/>\n      <use xlink:href=\"#MalgunGothic-70\" x=\"395.654297\"/>\n      <use xlink:href=\"#MalgunGothic-68\" x=\"455.712891\"/>\n      <use xlink:href=\"#MalgunGothic-61\" x=\"513.574219\"/>\n     </g>\n    </g>\n   </g>\n   <g id=\"matplotlib.axis_2\">\n    <g id=\"ytick_1\">\n     <g id=\"line2d_8\">\n      <defs>\n       <path id=\"mb03f07caf4\" d=\"M 0 0 \nL -3.5 0 \n\" style=\"stroke: #000000; stroke-width: 0.8\"/>\n      </defs>\n      <g>\n       <use xlink:href=\"#mb03f07caf4\" x=\"33.717188\" y=\"126.771429\" style=\"stroke: #000000; stroke-width: 0.8\"/>\n      </g>\n     </g>\n     <g id=\"text_9\">\n      <!-- 1 -->\n      <g transform=\"translate(21.209375 130.567522)scale(0.1 -0.1)\">\n       <use xlink:href=\"#MalgunGothic-31\"/>\n      </g>\n     </g>\n    </g>\n    <g id=\"ytick_2\">\n     <g id=\"line2d_9\">\n      <g>\n       <use xlink:href=\"#mb03f07caf4\" x=\"33.717188\" y=\"78.942857\" style=\"stroke: #000000; stroke-width: 0.8\"/>\n      </g>\n     </g>\n     <g id=\"text_10\">\n      <!-- 2 -->\n      <g transform=\"translate(21.209375 82.738951)scale(0.1 -0.1)\">\n       <defs>\n        <path id=\"MalgunGothic-32\" d=\"M 2519 3372 \nQ 2519 3784 2275 4018 \nQ 2031 4253 1628 4253 \nQ 1341 4253 1053 4104 \nQ 766 3956 534 3697 \nL 534 4234 \nQ 981 4675 1691 4675 \nQ 2281 4675 2642 4334 \nQ 3003 3994 3003 3416 \nQ 3003 2919 2772 2545 \nQ 2541 2172 1984 1775 \nQ 1459 1406 1254 1215 \nQ 1050 1025 967 854 \nQ 884 684 884 450 \nL 3116 450 \nL 3116 0 \nL 356 0 \nL 356 225 \nQ 356 603 461 870 \nQ 566 1138 811 1392 \nQ 1056 1647 1597 2022 \nQ 2091 2363 2305 2670 \nQ 2519 2978 2519 3372 \nz\n\" transform=\"scale(0.015625)\"/>\n       </defs>\n       <use xlink:href=\"#MalgunGothic-32\"/>\n      </g>\n     </g>\n    </g>\n    <g id=\"ytick_3\">\n     <g id=\"line2d_10\">\n      <g>\n       <use xlink:href=\"#mb03f07caf4\" x=\"33.717188\" y=\"31.114286\" style=\"stroke: #000000; stroke-width: 0.8\"/>\n      </g>\n     </g>\n     <g id=\"text_11\">\n      <!-- 3 -->\n      <g transform=\"translate(21.209375 34.910379)scale(0.1 -0.1)\">\n       <defs>\n        <path id=\"MalgunGothic-33\" d=\"M 416 719 \nQ 891 344 1478 344 \nQ 1959 344 2254 587 \nQ 2550 831 2550 1247 \nQ 2550 2169 1253 2169 \nL 872 2169 \nL 872 2591 \nL 1234 2591 \nQ 2388 2591 2388 3453 \nQ 2388 4250 1509 4250 \nQ 1022 4250 594 3916 \nL 594 4413 \nQ 1031 4675 1634 4675 \nQ 2184 4675 2539 4372 \nQ 2894 4069 2894 3581 \nQ 2894 2678 1972 2409 \nL 1972 2400 \nQ 2469 2356 2764 2053 \nQ 3059 1750 3059 1300 \nQ 3059 672 2604 297 \nQ 2150 -78 1450 -78 \nQ 806 -78 416 169 \nL 416 719 \nz\n\" transform=\"scale(0.015625)\"/>\n       </defs>\n       <use xlink:href=\"#MalgunGothic-33\"/>\n      </g>\n     </g>\n    </g>\n    <g id=\"text_12\">\n     <!-- polynomial_degree -->\n     <g transform=\"translate(14.792188 121.85692)rotate(-90)scale(0.1 -0.1)\">\n      <defs>\n       <path id=\"MalgunGothic-6f\" d=\"M 316 1600 \nQ 316 2419 761 2889 \nQ 1206 3359 1978 3359 \nQ 2697 3359 3111 2907 \nQ 3525 2456 3525 1650 \nQ 3525 869 3078 395 \nQ 2631 -78 1900 -78 \nQ 1184 -78 750 384 \nQ 316 847 316 1600 \nz\nM 819 1622 \nQ 819 1041 1123 692 \nQ 1428 344 1934 344 \nQ 2459 344 2739 680 \nQ 3019 1016 3019 1634 \nQ 3019 2256 2737 2598 \nQ 2456 2941 1934 2941 \nQ 1425 2941 1122 2587 \nQ 819 2234 819 1622 \nz\n\" transform=\"scale(0.015625)\"/>\n       <path id=\"MalgunGothic-79\" d=\"M 3119 3284 \nL 1597 -544 \nQ 1197 -1547 481 -1547 \nQ 313 -1547 156 -1509 \nL 156 -1056 \nQ 316 -1109 459 -1109 \nQ 859 -1109 1059 -628 \nL 1328 6 \nL 47 3284 \nL 597 3284 \nL 1503 722 \nQ 1513 697 1572 488 \nL 1588 488 \nL 1650 716 \nL 2603 3284 \nL 3119 3284 \nz\n\" transform=\"scale(0.015625)\"/>\n       <path id=\"MalgunGothic-6e\" d=\"M 3238 0 \nL 2741 0 \nL 2741 1875 \nQ 2741 2941 1963 2941 \nQ 1563 2941 1298 2639 \nQ 1034 2338 1034 1872 \nL 1034 0 \nL 538 0 \nL 538 3284 \nL 1034 3284 \nL 1034 2734 \nL 1047 2734 \nQ 1416 3359 2125 3359 \nQ 2666 3359 2952 3012 \nQ 3238 2666 3238 2006 \nL 3238 0 \nz\n\" transform=\"scale(0.015625)\"/>\n       <path id=\"MalgunGothic-6d\" d=\"M 5166 0 \nL 4669 0 \nL 4669 1884 \nQ 4669 2463 4495 2702 \nQ 4322 2941 3922 2941 \nQ 3584 2941 3342 2623 \nQ 3100 2306 3100 1875 \nL 3100 0 \nL 2606 0 \nL 2606 1953 \nQ 2606 2941 1844 2941 \nQ 1497 2941 1265 2642 \nQ 1034 2344 1034 1875 \nL 1034 0 \nL 538 0 \nL 538 3284 \nL 1034 3284 \nL 1034 2763 \nL 1047 2763 \nQ 1391 3359 2063 3359 \nQ 2381 3359 2636 3176 \nQ 2891 2994 2991 2675 \nQ 3356 3359 4081 3359 \nQ 5166 3359 5166 2022 \nL 5166 0 \nz\n\" transform=\"scale(0.015625)\"/>\n      </defs>\n      <use xlink:href=\"#MalgunGothic-70\"/>\n      <use xlink:href=\"#MalgunGothic-6f\" x=\"60.058594\"/>\n      <use xlink:href=\"#MalgunGothic-6c\" x=\"119.970703\"/>\n      <use xlink:href=\"#MalgunGothic-79\" x=\"144.580078\"/>\n      <use xlink:href=\"#MalgunGothic-6e\" x=\"193.847656\"/>\n      <use xlink:href=\"#MalgunGothic-6f\" x=\"251.660156\"/>\n      <use xlink:href=\"#MalgunGothic-6d\" x=\"311.572266\"/>\n      <use xlink:href=\"#MalgunGothic-69\" x=\"399.560547\"/>\n      <use xlink:href=\"#MalgunGothic-61\" x=\"424.169922\"/>\n      <use xlink:href=\"#MalgunGothic-6c\" x=\"476.171875\"/>\n      <use xlink:href=\"#MalgunGothic-5f\" x=\"500.78125\"/>\n      <use xlink:href=\"#MalgunGothic-64\" x=\"543.359375\"/>\n      <use xlink:href=\"#MalgunGothic-65\" x=\"603.564453\"/>\n      <use xlink:href=\"#MalgunGothic-67\" x=\"657.080078\"/>\n      <use xlink:href=\"#MalgunGothic-72\" x=\"717.285156\"/>\n      <use xlink:href=\"#MalgunGothic-65\" x=\"751.261719\"/>\n      <use xlink:href=\"#MalgunGothic-65\" x=\"804.777344\"/>\n     </g>\n    </g>\n   </g>\n   <g id=\"patch_3\">\n    <path d=\"M 33.717188 150.685714 \nL 33.717188 7.2 \n\" style=\"fill: none; stroke: #000000; stroke-width: 0.8; stroke-linejoin: miter; stroke-linecap: square\"/>\n   </g>\n   <g id=\"patch_4\">\n    <path d=\"M 368.517188 150.685714 \nL 368.517188 7.2 \n\" style=\"fill: none; stroke: #000000; stroke-width: 0.8; stroke-linejoin: miter; stroke-linecap: square\"/>\n   </g>\n   <g id=\"patch_5\">\n    <path d=\"M 33.717188 150.685714 \nL 368.517188 150.685714 \n\" style=\"fill: none; stroke: #000000; stroke-width: 0.8; stroke-linejoin: miter; stroke-linecap: square\"/>\n   </g>\n   <g id=\"patch_6\">\n    <path d=\"M 33.717188 7.2 \nL 368.517188 7.2 \n\" style=\"fill: none; stroke: #000000; stroke-width: 0.8; stroke-linejoin: miter; stroke-linecap: square\"/>\n   </g>\n   <g id=\"text_13\">\n    <!-- 0.72 -->\n    <g transform=\"translate(48.276004 129.385491)scale(0.1 -0.1)\">\n     <defs>\n      <path id=\"MalgunGothic-37\" d=\"M 3213 4297 \nQ 2478 3006 2064 1918 \nQ 1650 831 1550 0 \nL 1009 0 \nQ 1084 531 1290 1176 \nQ 1497 1822 1815 2537 \nQ 2134 3253 2631 4147 \nL 291 4147 \nL 291 4600 \nL 3213 4600 \nL 3213 4297 \nz\n\" transform=\"scale(0.015625)\"/>\n     </defs>\n     <use xlink:href=\"#MalgunGothic-30\"/>\n     <use xlink:href=\"#MalgunGothic-2e\" x=\"55.078125\"/>\n     <use xlink:href=\"#MalgunGothic-37\" x=\"76.953125\"/>\n     <use xlink:href=\"#MalgunGothic-32\" x=\"132.03125\"/>\n    </g>\n   </g>\n   <g id=\"text_14\">\n    <!-- 0.72 -->\n    <g transform=\"translate(96.104576 129.385491)scale(0.1 -0.1)\">\n     <use xlink:href=\"#MalgunGothic-30\"/>\n     <use xlink:href=\"#MalgunGothic-2e\" x=\"55.078125\"/>\n     <use xlink:href=\"#MalgunGothic-37\" x=\"76.953125\"/>\n     <use xlink:href=\"#MalgunGothic-32\" x=\"132.03125\"/>\n    </g>\n   </g>\n   <g id=\"text_15\">\n    <!-- 0.72 -->\n    <g transform=\"translate(143.933147 129.385491)scale(0.1 -0.1)\">\n     <use xlink:href=\"#MalgunGothic-30\"/>\n     <use xlink:href=\"#MalgunGothic-2e\" x=\"55.078125\"/>\n     <use xlink:href=\"#MalgunGothic-37\" x=\"76.953125\"/>\n     <use xlink:href=\"#MalgunGothic-32\" x=\"132.03125\"/>\n    </g>\n   </g>\n   <g id=\"text_16\">\n    <!-- 0.72 -->\n    <g transform=\"translate(191.761719 129.385491)scale(0.1 -0.1)\">\n     <use xlink:href=\"#MalgunGothic-30\"/>\n     <use xlink:href=\"#MalgunGothic-2e\" x=\"55.078125\"/>\n     <use xlink:href=\"#MalgunGothic-37\" x=\"76.953125\"/>\n     <use xlink:href=\"#MalgunGothic-32\" x=\"132.03125\"/>\n    </g>\n   </g>\n   <g id=\"text_17\">\n    <!-- 0.72 -->\n    <g transform=\"translate(239.59029 129.385491)scale(0.1 -0.1)\">\n     <use xlink:href=\"#MalgunGothic-30\"/>\n     <use xlink:href=\"#MalgunGothic-2e\" x=\"55.078125\"/>\n     <use xlink:href=\"#MalgunGothic-37\" x=\"76.953125\"/>\n     <use xlink:href=\"#MalgunGothic-32\" x=\"132.03125\"/>\n    </g>\n   </g>\n   <g id=\"text_18\">\n    <!-- 0.71 -->\n    <g transform=\"translate(287.418862 129.385491)scale(0.1 -0.1)\">\n     <use xlink:href=\"#MalgunGothic-30\"/>\n     <use xlink:href=\"#MalgunGothic-2e\" x=\"55.078125\"/>\n     <use xlink:href=\"#MalgunGothic-37\" x=\"76.953125\"/>\n     <use xlink:href=\"#MalgunGothic-31\" x=\"132.03125\"/>\n    </g>\n   </g>\n   <g id=\"text_19\">\n    <!-- 0.51 -->\n    <g transform=\"translate(335.247433 129.385491)scale(0.1 -0.1)\">\n     <defs>\n      <path id=\"MalgunGothic-35\" d=\"M 3072 1403 \nQ 3072 722 2636 322 \nQ 2200 -78 1469 -78 \nQ 828 -78 516 113 \nL 516 650 \nQ 994 344 1475 344 \nQ 1969 344 2270 630 \nQ 2572 916 2572 1372 \nQ 2572 1838 2265 2092 \nQ 1959 2347 1381 2347 \nQ 994 2347 603 2300 \nL 759 4600 \nL 2869 4600 \nL 2869 4147 \nL 1206 4147 \nL 1106 2763 \nQ 1347 2784 1547 2784 \nQ 2263 2784 2667 2414 \nQ 3072 2044 3072 1403 \nz\n\" transform=\"scale(0.015625)\"/>\n     </defs>\n     <use xlink:href=\"#MalgunGothic-30\"/>\n     <use xlink:href=\"#MalgunGothic-2e\" x=\"55.078125\"/>\n     <use xlink:href=\"#MalgunGothic-35\" x=\"76.953125\"/>\n     <use xlink:href=\"#MalgunGothic-31\" x=\"132.03125\"/>\n    </g>\n   </g>\n   <g id=\"text_20\">\n    <!-- 0.76 -->\n    <g transform=\"translate(48.276004 81.55692)scale(0.1 -0.1)\">\n     <defs>\n      <path id=\"MalgunGothic-36\" d=\"M 2981 4069 \nQ 2619 4250 2228 4250 \nQ 1591 4250 1228 3689 \nQ 866 3128 869 2213 \nL 884 2213 \nQ 1203 2872 1938 2872 \nQ 2547 2872 2903 2478 \nQ 3259 2084 3259 1450 \nQ 3259 797 2857 359 \nQ 2456 -78 1825 -78 \nQ 1116 -78 736 478 \nQ 356 1034 356 2019 \nQ 356 3181 847 3928 \nQ 1338 4675 2222 4675 \nQ 2700 4675 2981 4544 \nL 2981 4069 \nz\nM 906 1506 \nQ 906 1022 1165 683 \nQ 1425 344 1844 344 \nQ 2247 344 2498 645 \nQ 2750 947 2750 1388 \nQ 2750 1888 2509 2167 \nQ 2269 2447 1838 2447 \nQ 1444 2447 1175 2173 \nQ 906 1900 906 1506 \nz\n\" transform=\"scale(0.015625)\"/>\n     </defs>\n     <use xlink:href=\"#MalgunGothic-30\"/>\n     <use xlink:href=\"#MalgunGothic-2e\" x=\"55.078125\"/>\n     <use xlink:href=\"#MalgunGothic-37\" x=\"76.953125\"/>\n     <use xlink:href=\"#MalgunGothic-36\" x=\"132.03125\"/>\n    </g>\n   </g>\n   <g id=\"text_21\">\n    <!-- 0.76 -->\n    <g transform=\"translate(96.104576 81.55692)scale(0.1 -0.1)\">\n     <use xlink:href=\"#MalgunGothic-30\"/>\n     <use xlink:href=\"#MalgunGothic-2e\" x=\"55.078125\"/>\n     <use xlink:href=\"#MalgunGothic-37\" x=\"76.953125\"/>\n     <use xlink:href=\"#MalgunGothic-36\" x=\"132.03125\"/>\n    </g>\n   </g>\n   <g id=\"text_22\">\n    <!-- 0.77 -->\n    <g transform=\"translate(143.933147 81.55692)scale(0.1 -0.1)\">\n     <use xlink:href=\"#MalgunGothic-30\"/>\n     <use xlink:href=\"#MalgunGothic-2e\" x=\"55.078125\"/>\n     <use xlink:href=\"#MalgunGothic-37\" x=\"76.953125\"/>\n     <use xlink:href=\"#MalgunGothic-37\" x=\"132.03125\"/>\n    </g>\n   </g>\n   <g id=\"text_23\">\n    <!-- 0.79 -->\n    <g transform=\"translate(191.761719 81.55692)scale(0.1 -0.1)\">\n     <defs>\n      <path id=\"MalgunGothic-39\" d=\"M 556 563 \nQ 941 344 1366 344 \nQ 1994 344 2347 855 \nQ 2700 1366 2700 2313 \nQ 2694 2306 2688 2313 \nQ 2388 1713 1653 1713 \nQ 1059 1713 682 2120 \nQ 306 2528 306 3144 \nQ 306 3806 711 4240 \nQ 1116 4675 1772 4675 \nQ 2466 4675 2833 4131 \nQ 3200 3588 3200 2578 \nQ 3200 1319 2717 620 \nQ 2234 -78 1344 -78 \nQ 881 -78 556 78 \nL 556 563 \nz\nM 813 3219 \nQ 813 2741 1063 2450 \nQ 1313 2159 1759 2159 \nQ 2147 2159 2406 2417 \nQ 2666 2675 2666 3047 \nQ 2666 3556 2411 3903 \nQ 2156 4250 1725 4250 \nQ 1322 4250 1067 3948 \nQ 813 3647 813 3219 \nz\n\" transform=\"scale(0.015625)\"/>\n     </defs>\n     <use xlink:href=\"#MalgunGothic-30\"/>\n     <use xlink:href=\"#MalgunGothic-2e\" x=\"55.078125\"/>\n     <use xlink:href=\"#MalgunGothic-37\" x=\"76.953125\"/>\n     <use xlink:href=\"#MalgunGothic-39\" x=\"132.03125\"/>\n    </g>\n   </g>\n   <g id=\"text_24\">\n    <!-- 0.83 -->\n    <g transform=\"translate(239.59029 81.55692)scale(0.1 -0.1)\">\n     <defs>\n      <path id=\"MalgunGothic-38\" d=\"M 303 1281 \nQ 303 1669 539 2011 \nQ 775 2353 1153 2494 \nQ 856 2647 675 2915 \nQ 494 3184 494 3500 \nQ 494 3828 659 4098 \nQ 825 4369 1122 4522 \nQ 1419 4675 1778 4675 \nQ 2334 4675 2700 4342 \nQ 3066 4009 3066 3500 \nQ 3066 3181 2881 2914 \nQ 2697 2647 2413 2494 \nQ 2788 2350 3022 2009 \nQ 3256 1669 3256 1281 \nQ 3256 672 2843 297 \nQ 2431 -78 1778 -78 \nQ 1131 -78 717 301 \nQ 303 681 303 1281 \nz\nM 809 1328 \nQ 809 878 1081 611 \nQ 1353 344 1781 344 \nQ 2206 344 2482 619 \nQ 2759 894 2759 1328 \nQ 2759 1731 2482 2011 \nQ 2206 2291 1781 2291 \nQ 1372 2291 1090 2020 \nQ 809 1750 809 1328 \nz\nM 1003 3459 \nQ 1003 3125 1234 2900 \nQ 1466 2675 1781 2675 \nQ 2097 2675 2330 2900 \nQ 2563 3125 2563 3459 \nQ 2563 3803 2341 4026 \nQ 2119 4250 1781 4250 \nQ 1450 4250 1226 4029 \nQ 1003 3809 1003 3459 \nz\n\" transform=\"scale(0.015625)\"/>\n     </defs>\n     <use xlink:href=\"#MalgunGothic-30\"/>\n     <use xlink:href=\"#MalgunGothic-2e\" x=\"55.078125\"/>\n     <use xlink:href=\"#MalgunGothic-38\" x=\"76.953125\"/>\n     <use xlink:href=\"#MalgunGothic-33\" x=\"132.03125\"/>\n    </g>\n   </g>\n   <g id=\"text_25\">\n    <!-- 0.80 -->\n    <g transform=\"translate(287.418862 81.55692)scale(0.1 -0.1)\">\n     <use xlink:href=\"#MalgunGothic-30\"/>\n     <use xlink:href=\"#MalgunGothic-2e\" x=\"55.078125\"/>\n     <use xlink:href=\"#MalgunGothic-38\" x=\"76.953125\"/>\n     <use xlink:href=\"#MalgunGothic-30\" x=\"132.03125\"/>\n    </g>\n   </g>\n   <g id=\"text_26\">\n    <!-- 0.61 -->\n    <g transform=\"translate(335.247433 81.55692)scale(0.1 -0.1)\">\n     <use xlink:href=\"#MalgunGothic-30\"/>\n     <use xlink:href=\"#MalgunGothic-2e\" x=\"55.078125\"/>\n     <use xlink:href=\"#MalgunGothic-36\" x=\"76.953125\"/>\n     <use xlink:href=\"#MalgunGothic-31\" x=\"132.03125\"/>\n    </g>\n   </g>\n   <g id=\"text_27\">\n    <!-- -581.10 -->\n    <g style=\"fill: #ffffff\" transform=\"translate(40.717411 33.728348)scale(0.1 -0.1)\">\n     <defs>\n      <path id=\"MalgunGothic-2d\" d=\"M 2213 1634 \nL 463 1634 \nL 463 2031 \nL 2213 2031 \nL 2213 1634 \nz\n\" transform=\"scale(0.015625)\"/>\n     </defs>\n     <use xlink:href=\"#MalgunGothic-2d\"/>\n     <use xlink:href=\"#MalgunGothic-35\" x=\"41.015625\"/>\n     <use xlink:href=\"#MalgunGothic-38\" x=\"96.09375\"/>\n     <use xlink:href=\"#MalgunGothic-31\" x=\"151.171875\"/>\n     <use xlink:href=\"#MalgunGothic-2e\" x=\"206.25\"/>\n     <use xlink:href=\"#MalgunGothic-31\" x=\"228.125\"/>\n     <use xlink:href=\"#MalgunGothic-30\" x=\"283.203125\"/>\n    </g>\n   </g>\n   <g id=\"text_28\">\n    <!-- -160.90 -->\n    <g style=\"fill: #ffffff\" transform=\"translate(88.545982 33.728348)scale(0.1 -0.1)\">\n     <use xlink:href=\"#MalgunGothic-2d\"/>\n     <use xlink:href=\"#MalgunGothic-31\" x=\"41.015625\"/>\n     <use xlink:href=\"#MalgunGothic-36\" x=\"96.09375\"/>\n     <use xlink:href=\"#MalgunGothic-30\" x=\"151.171875\"/>\n     <use xlink:href=\"#MalgunGothic-2e\" x=\"206.25\"/>\n     <use xlink:href=\"#MalgunGothic-39\" x=\"228.125\"/>\n     <use xlink:href=\"#MalgunGothic-30\" x=\"283.203125\"/>\n    </g>\n   </g>\n   <g id=\"text_29\">\n    <!-- -13.20 -->\n    <g transform=\"translate(139.12846 33.728348)scale(0.1 -0.1)\">\n     <use xlink:href=\"#MalgunGothic-2d\"/>\n     <use xlink:href=\"#MalgunGothic-31\" x=\"41.015625\"/>\n     <use xlink:href=\"#MalgunGothic-33\" x=\"96.09375\"/>\n     <use xlink:href=\"#MalgunGothic-2e\" x=\"151.171875\"/>\n     <use xlink:href=\"#MalgunGothic-32\" x=\"173.046875\"/>\n     <use xlink:href=\"#MalgunGothic-30\" x=\"228.125\"/>\n    </g>\n   </g>\n   <g id=\"text_30\">\n    <!-- -0.03 -->\n    <g transform=\"translate(189.710938 33.728348)scale(0.1 -0.1)\">\n     <use xlink:href=\"#MalgunGothic-2d\"/>\n     <use xlink:href=\"#MalgunGothic-30\" x=\"41.015625\"/>\n     <use xlink:href=\"#MalgunGothic-2e\" x=\"96.09375\"/>\n     <use xlink:href=\"#MalgunGothic-30\" x=\"117.96875\"/>\n     <use xlink:href=\"#MalgunGothic-33\" x=\"173.046875\"/>\n    </g>\n   </g>\n   <g id=\"text_31\">\n    <!-- 0.65 -->\n    <g transform=\"translate(239.59029 33.728348)scale(0.1 -0.1)\">\n     <use xlink:href=\"#MalgunGothic-30\"/>\n     <use xlink:href=\"#MalgunGothic-2e\" x=\"55.078125\"/>\n     <use xlink:href=\"#MalgunGothic-36\" x=\"76.953125\"/>\n     <use xlink:href=\"#MalgunGothic-35\" x=\"132.03125\"/>\n    </g>\n   </g>\n   <g id=\"text_32\">\n    <!-- 0.65 -->\n    <g transform=\"translate(287.418862 33.728348)scale(0.1 -0.1)\">\n     <use xlink:href=\"#MalgunGothic-30\"/>\n     <use xlink:href=\"#MalgunGothic-2e\" x=\"55.078125\"/>\n     <use xlink:href=\"#MalgunGothic-36\" x=\"76.953125\"/>\n     <use xlink:href=\"#MalgunGothic-35\" x=\"132.03125\"/>\n    </g>\n   </g>\n   <g id=\"text_33\">\n    <!-- 0.72 -->\n    <g transform=\"translate(335.247433 33.728348)scale(0.1 -0.1)\">\n     <use xlink:href=\"#MalgunGothic-30\"/>\n     <use xlink:href=\"#MalgunGothic-2e\" x=\"55.078125\"/>\n     <use xlink:href=\"#MalgunGothic-37\" x=\"76.953125\"/>\n     <use xlink:href=\"#MalgunGothic-32\" x=\"132.03125\"/>\n    </g>\n   </g>\n  </g>\n </g>\n <defs>\n  <clipPath id=\"pf89825fb86\">\n   <rect x=\"33.717188\" y=\"7.2\" width=\"334.8\" height=\"143.485714\"/>\n  </clipPath>\n </defs>\n</svg>\n",
      "text/plain": [
       "<Figure size 432x288 with 1 Axes>"
      ]
     },
     "metadata": {
      "needs_background": "light"
     },
     "output_type": "display_data"
    }
   ],
   "source": [
    "mglearn.tools.heatmap(grid.cv_results_['mean_test_score'].reshape(3, -1),\n",
    "xlabel='ridge__alpha', ylabel='polynomial_degree', xticklabels=param_grid['ridge__alpha'], yticklabels=param_grid['polynomialfeatures__degree'])"
   ]
  },
  {
   "cell_type": "code",
   "execution_count": 52,
   "metadata": {},
   "outputs": [
    {
     "data": {
      "text/plain": [
       "({'polynomialfeatures__degree': 2, 'ridge__alpha': 10.0},\n",
       " 0.8287261407694739,\n",
       " 0.7683045464100137)"
      ]
     },
     "execution_count": 52,
     "metadata": {},
     "output_type": "execute_result"
    }
   ],
   "source": [
    "grid.best_params_, grid.best_score_, grid.score(X_test, y_test)"
   ]
  },
  {
   "cell_type": "code",
   "execution_count": 58,
   "metadata": {},
   "outputs": [],
   "source": [
    "cancer = load_breast_cancer(as_frame=True)\n",
    "X_train, X_test, y_train, y_test = train_test_split(cancer['data'], cancer['target'], random_state=0)"
   ]
  },
  {
   "cell_type": "code",
   "execution_count": 59,
   "metadata": {},
   "outputs": [],
   "source": [
    "pipe = Pipeline([('preprocessing', StandardScaler()), ('classifier', SVC())])"
   ]
  },
  {
   "cell_type": "code",
   "execution_count": 60,
   "metadata": {},
   "outputs": [
    {
     "data": {
      "text/plain": [
       "GridSearchCV(cv=5,\n",
       "             estimator=Pipeline(steps=[('preprocessing', StandardScaler()),\n",
       "                                       ('classifier', SVC())]),\n",
       "             n_jobs=-1,\n",
       "             param_grid=[{'classifier': [SVC(C=10.0, gamma=0.01)],\n",
       "                          'classifier__C': array([1.e-03, 1.e-02, 1.e-01, 1.e+00, 1.e+01, 1.e+02, 1.e+03]),\n",
       "                          'classifier__gamma': array([1.e-03, 1.e-02, 1.e-01, 1.e+00, 1.e+01, 1.e+02, 1.e+03]),\n",
       "                          'preprocessing': [StandardScaler()]},\n",
       "                         {'classifier': [RandomForestClassifier()],\n",
       "                          'classifier__max_features': [1, 2, 3],\n",
       "                          'preprocessing': [None]}])"
      ]
     },
     "execution_count": 60,
     "metadata": {},
     "output_type": "execute_result"
    }
   ],
   "source": [
    "param_grid = [\n",
    "    {'classifier':[SVC()], 'preprocessing':[StandardScaler()], 'classifier__gamma':np.logspace(-3, 3, 7), 'classifier__C':np.logspace(-3, 3, 7)},\n",
    "    {'classifier':[RandomForestClassifier()], 'preprocessing':[None], 'classifier__max_features':[1, 2, 3]}\n",
    "]\n",
    "grid = GridSearchCV(pipe, param_grid=param_grid, cv=5, n_jobs=-1)\n",
    "grid.fit(X_train, y_train)"
   ]
  },
  {
   "cell_type": "code",
   "execution_count": 61,
   "metadata": {},
   "outputs": [
    {
     "data": {
      "text/plain": [
       "({'classifier': SVC(C=10.0, gamma=0.01),\n",
       "  'classifier__C': 10.0,\n",
       "  'classifier__gamma': 0.01,\n",
       "  'preprocessing': StandardScaler()},\n",
       " 0.9858823529411765,\n",
       " 0.9790209790209791)"
      ]
     },
     "execution_count": 61,
     "metadata": {},
     "output_type": "execute_result"
    }
   ],
   "source": [
    "grid.best_params_, grid.best_score_, grid.score(X_test, y_test)"
   ]
  },
  {
   "cell_type": "code",
   "execution_count": null,
   "metadata": {},
   "outputs": [],
   "source": []
  }
 ],
 "metadata": {
  "kernelspec": {
   "display_name": "base",
   "language": "python",
   "name": "python3"
  },
  "language_info": {
   "codemirror_mode": {
    "name": "ipython",
    "version": 3
   },
   "file_extension": ".py",
   "mimetype": "text/x-python",
   "name": "python",
   "nbconvert_exporter": "python",
   "pygments_lexer": "ipython3",
   "version": "3.9.12"
  },
  "orig_nbformat": 4,
  "vscode": {
   "interpreter": {
    "hash": "610a6f344c2137faf927ea819c63f6cee33a2c04455044b28099f39fe9722347"
   }
  }
 },
 "nbformat": 4,
 "nbformat_minor": 2
}
