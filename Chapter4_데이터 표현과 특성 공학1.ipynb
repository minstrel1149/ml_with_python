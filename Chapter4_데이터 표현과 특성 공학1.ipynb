{
 "cells": [
  {
   "cell_type": "code",
   "execution_count": 1,
   "metadata": {},
   "outputs": [
    {
     "name": "stderr",
     "output_type": "stream",
     "text": [
      "c:\\Users\\admin\\anaconda3\\lib\\site-packages\\outdated\\utils.py:14: OutdatedPackageWarning: The package pingouin is out of date. Your version is 0.5.2, the latest is 0.5.3.\n",
      "Set the environment variable OUTDATED_IGNORE=1 to disable these warnings.\n",
      "  return warn(\n"
     ]
    }
   ],
   "source": [
    "import os, sys\n",
    "import datetime\n",
    "from datetime import datetime, date, timedelta\n",
    "import numpy as np\n",
    "%matplotlib inline\n",
    "import matplotlib.pyplot as plt\n",
    "import seaborn as sns\n",
    "import pandas as pd\n",
    "from pandas.plotting import scatter_matrix\n",
    "from pandas_profiling import ProfileReport\n",
    "import mglearn\n",
    "plt.rcParams['font.family'] = 'Malgun Gothic'\n",
    "plt.rcParams['axes.unicode_minus'] = False\n",
    "%config InlineBackend.figure_format = 'svg'\n",
    "from mpl_toolkits.mplot3d import Axes3D, axes3d\n",
    "from scipy import sparse\n",
    "import scipy.stats as ss\n",
    "import scipy.cluster.hierarchy as sch\n",
    "import pingouin as pg\n",
    "import spacy, nltk\n",
    "from konlpy.tag import Okt"
   ]
  },
  {
   "cell_type": "code",
   "execution_count": null,
   "metadata": {},
   "outputs": [],
   "source": []
  },
  {
   "cell_type": "code",
   "execution_count": 33,
   "metadata": {},
   "outputs": [],
   "source": [
    "from sklearn.preprocessing import OneHotEncoder\n",
    "from sklearn.preprocessing import StandardScaler\n",
    "from sklearn.preprocessing import KBinsDiscretizer\n",
    "from sklearn.compose import ColumnTransformer, make_column_transformer\n",
    "from sklearn.model_selection import train_test_split\n",
    "from sklearn.linear_model import LogisticRegression, LinearRegression\n",
    "from sklearn.tree import DecisionTreeRegressor\n",
    "from sklearn.ensemble import RandomForestClassifier"
   ]
  },
  {
   "cell_type": "code",
   "execution_count": 3,
   "metadata": {},
   "outputs": [
    {
     "data": {
      "text/html": [
       "<div>\n",
       "<style scoped>\n",
       "    .dataframe tbody tr th:only-of-type {\n",
       "        vertical-align: middle;\n",
       "    }\n",
       "\n",
       "    .dataframe tbody tr th {\n",
       "        vertical-align: top;\n",
       "    }\n",
       "\n",
       "    .dataframe thead th {\n",
       "        text-align: right;\n",
       "    }\n",
       "</style>\n",
       "<table border=\"1\" class=\"dataframe\">\n",
       "  <thead>\n",
       "    <tr style=\"text-align: right;\">\n",
       "      <th></th>\n",
       "      <th>age</th>\n",
       "      <th>workclass</th>\n",
       "      <th>education</th>\n",
       "      <th>gender</th>\n",
       "      <th>hours-per-week</th>\n",
       "      <th>occupation</th>\n",
       "      <th>income</th>\n",
       "    </tr>\n",
       "  </thead>\n",
       "  <tbody>\n",
       "    <tr>\n",
       "      <th>0</th>\n",
       "      <td>39</td>\n",
       "      <td>State-gov</td>\n",
       "      <td>Bachelors</td>\n",
       "      <td>Male</td>\n",
       "      <td>40</td>\n",
       "      <td>Adm-clerical</td>\n",
       "      <td>&lt;=50K</td>\n",
       "    </tr>\n",
       "    <tr>\n",
       "      <th>1</th>\n",
       "      <td>50</td>\n",
       "      <td>Self-emp-not-inc</td>\n",
       "      <td>Bachelors</td>\n",
       "      <td>Male</td>\n",
       "      <td>13</td>\n",
       "      <td>Exec-managerial</td>\n",
       "      <td>&lt;=50K</td>\n",
       "    </tr>\n",
       "    <tr>\n",
       "      <th>2</th>\n",
       "      <td>38</td>\n",
       "      <td>Private</td>\n",
       "      <td>HS-grad</td>\n",
       "      <td>Male</td>\n",
       "      <td>40</td>\n",
       "      <td>Handlers-cleaners</td>\n",
       "      <td>&lt;=50K</td>\n",
       "    </tr>\n",
       "    <tr>\n",
       "      <th>3</th>\n",
       "      <td>53</td>\n",
       "      <td>Private</td>\n",
       "      <td>11th</td>\n",
       "      <td>Male</td>\n",
       "      <td>40</td>\n",
       "      <td>Handlers-cleaners</td>\n",
       "      <td>&lt;=50K</td>\n",
       "    </tr>\n",
       "    <tr>\n",
       "      <th>4</th>\n",
       "      <td>28</td>\n",
       "      <td>Private</td>\n",
       "      <td>Bachelors</td>\n",
       "      <td>Female</td>\n",
       "      <td>40</td>\n",
       "      <td>Prof-specialty</td>\n",
       "      <td>&lt;=50K</td>\n",
       "    </tr>\n",
       "  </tbody>\n",
       "</table>\n",
       "</div>"
      ],
      "text/plain": [
       "   age          workclass   education   gender  hours-per-week  \\\n",
       "0   39          State-gov   Bachelors     Male              40   \n",
       "1   50   Self-emp-not-inc   Bachelors     Male              13   \n",
       "2   38            Private     HS-grad     Male              40   \n",
       "3   53            Private        11th     Male              40   \n",
       "4   28            Private   Bachelors   Female              40   \n",
       "\n",
       "           occupation  income  \n",
       "0        Adm-clerical   <=50K  \n",
       "1     Exec-managerial   <=50K  \n",
       "2   Handlers-cleaners   <=50K  \n",
       "3   Handlers-cleaners   <=50K  \n",
       "4      Prof-specialty   <=50K  "
      ]
     },
     "execution_count": 3,
     "metadata": {},
     "output_type": "execute_result"
    }
   ],
   "source": [
    "data_df = pd.read_csv(os.path.join(mglearn.datasets.DATA_PATH, 'adult.data'), header=None, index_col=False, \n",
    "names = ['age', 'workclass', 'fnlwgt', 'education',  'education-num',\n",
    "           'marital-status', 'occupation', 'relationship', 'race', 'gender',\n",
    "           'capital-gain', 'capital-loss', 'hours-per-week', 'native-country',\n",
    "           'income'])\n",
    "data = data_df.loc[:, ['age', 'workclass', 'education', 'gender', 'hours-per-week', 'occupation', 'income']]\n",
    "data.head()"
   ]
  },
  {
   "cell_type": "code",
   "execution_count": 4,
   "metadata": {},
   "outputs": [
    {
     "data": {
      "text/html": [
       "<div>\n",
       "<style scoped>\n",
       "    .dataframe tbody tr th:only-of-type {\n",
       "        vertical-align: middle;\n",
       "    }\n",
       "\n",
       "    .dataframe tbody tr th {\n",
       "        vertical-align: top;\n",
       "    }\n",
       "\n",
       "    .dataframe thead th {\n",
       "        text-align: right;\n",
       "    }\n",
       "</style>\n",
       "<table border=\"1\" class=\"dataframe\">\n",
       "  <thead>\n",
       "    <tr style=\"text-align: right;\">\n",
       "      <th></th>\n",
       "      <th>0</th>\n",
       "      <th>1</th>\n",
       "    </tr>\n",
       "  </thead>\n",
       "  <tbody>\n",
       "    <tr>\n",
       "      <th>age</th>\n",
       "      <td>int64</td>\n",
       "      <td>73</td>\n",
       "    </tr>\n",
       "    <tr>\n",
       "      <th>workclass</th>\n",
       "      <td>object</td>\n",
       "      <td>9</td>\n",
       "    </tr>\n",
       "    <tr>\n",
       "      <th>education</th>\n",
       "      <td>object</td>\n",
       "      <td>16</td>\n",
       "    </tr>\n",
       "    <tr>\n",
       "      <th>gender</th>\n",
       "      <td>object</td>\n",
       "      <td>2</td>\n",
       "    </tr>\n",
       "    <tr>\n",
       "      <th>hours-per-week</th>\n",
       "      <td>int64</td>\n",
       "      <td>94</td>\n",
       "    </tr>\n",
       "    <tr>\n",
       "      <th>occupation</th>\n",
       "      <td>object</td>\n",
       "      <td>15</td>\n",
       "    </tr>\n",
       "    <tr>\n",
       "      <th>income</th>\n",
       "      <td>object</td>\n",
       "      <td>2</td>\n",
       "    </tr>\n",
       "  </tbody>\n",
       "</table>\n",
       "</div>"
      ],
      "text/plain": [
       "                     0   1\n",
       "age              int64  73\n",
       "workclass       object   9\n",
       "education       object  16\n",
       "gender          object   2\n",
       "hours-per-week   int64  94\n",
       "occupation      object  15\n",
       "income          object   2"
      ]
     },
     "execution_count": 4,
     "metadata": {},
     "output_type": "execute_result"
    }
   ],
   "source": [
    "pd.concat([data.dtypes, data.nunique()], axis=1)"
   ]
  },
  {
   "cell_type": "code",
   "execution_count": 5,
   "metadata": {},
   "outputs": [
    {
     "data": {
      "text/plain": [
       "(['age',\n",
       "  'workclass',\n",
       "  'education',\n",
       "  'gender',\n",
       "  'hours-per-week',\n",
       "  'occupation',\n",
       "  'income'],\n",
       " ['age',\n",
       "  'hours-per-week',\n",
       "  'workclass_ ?',\n",
       "  'workclass_ Federal-gov',\n",
       "  'workclass_ Local-gov',\n",
       "  'workclass_ Never-worked',\n",
       "  'workclass_ Private',\n",
       "  'workclass_ Self-emp-inc',\n",
       "  'workclass_ Self-emp-not-inc',\n",
       "  'workclass_ State-gov',\n",
       "  'workclass_ Without-pay',\n",
       "  'education_ 10th',\n",
       "  'education_ 11th',\n",
       "  'education_ 12th',\n",
       "  'education_ 1st-4th',\n",
       "  'education_ 5th-6th',\n",
       "  'education_ 7th-8th',\n",
       "  'education_ 9th',\n",
       "  'education_ Assoc-acdm',\n",
       "  'education_ Assoc-voc',\n",
       "  'education_ Bachelors',\n",
       "  'education_ Doctorate',\n",
       "  'education_ HS-grad',\n",
       "  'education_ Masters',\n",
       "  'education_ Preschool',\n",
       "  'education_ Prof-school',\n",
       "  'education_ Some-college',\n",
       "  'gender_ Female',\n",
       "  'gender_ Male',\n",
       "  'occupation_ ?',\n",
       "  'occupation_ Adm-clerical',\n",
       "  'occupation_ Armed-Forces',\n",
       "  'occupation_ Craft-repair',\n",
       "  'occupation_ Exec-managerial',\n",
       "  'occupation_ Farming-fishing',\n",
       "  'occupation_ Handlers-cleaners',\n",
       "  'occupation_ Machine-op-inspct',\n",
       "  'occupation_ Other-service',\n",
       "  'occupation_ Priv-house-serv',\n",
       "  'occupation_ Prof-specialty',\n",
       "  'occupation_ Protective-serv',\n",
       "  'occupation_ Sales',\n",
       "  'occupation_ Tech-support',\n",
       "  'occupation_ Transport-moving',\n",
       "  'income_ <=50K',\n",
       "  'income_ >50K'])"
      ]
     },
     "execution_count": 5,
     "metadata": {},
     "output_type": "execute_result"
    }
   ],
   "source": [
    "# dtypes에서 확인할 때 object일 경우에는 자동으로 변환\n",
    "# columns 파라미터 추가로 변환하고 싶은 열 설정 가능\n",
    "data_dummies = pd.get_dummies(data)\n",
    "list(data.columns), list(data_dummies.columns)"
   ]
  },
  {
   "cell_type": "code",
   "execution_count": 6,
   "metadata": {},
   "outputs": [
    {
     "data": {
      "text/plain": [
       "((32561, 44), (32561,))"
      ]
     },
     "execution_count": 6,
     "metadata": {},
     "output_type": "execute_result"
    }
   ],
   "source": [
    "X = data_dummies.iloc[:, :-2]\n",
    "y = data.iloc[:, -1].replace({' <=50K':0, ' >50K':1})\n",
    "X.shape, y.shape"
   ]
  },
  {
   "cell_type": "code",
   "execution_count": 7,
   "metadata": {},
   "outputs": [],
   "source": [
    "X_train, X_test, y_train, y_test = train_test_split(X, y, random_state=0)"
   ]
  },
  {
   "cell_type": "code",
   "execution_count": 8,
   "metadata": {},
   "outputs": [
    {
     "data": {
      "text/plain": [
       "(0.8138001638001638, 0.8086230192851002)"
      ]
     },
     "execution_count": 8,
     "metadata": {},
     "output_type": "execute_result"
    }
   ],
   "source": [
    "logreg = LogisticRegression(C=100, max_iter=3000).fit(X_train, y_train)\n",
    "logreg.score(X_train, y_train), logreg.score(X_test, y_test)"
   ]
  },
  {
   "cell_type": "code",
   "execution_count": 9,
   "metadata": {},
   "outputs": [
    {
     "data": {
      "text/plain": [
       "(0.8620393120393121, 0.8141505957499079)"
      ]
     },
     "execution_count": 9,
     "metadata": {},
     "output_type": "execute_result"
    }
   ],
   "source": [
    "rf_clf = RandomForestClassifier(n_estimators=100, max_depth=15, random_state=0, n_jobs=-1).fit(X_train, y_train)\n",
    "rf_clf.score(X_train, y_train), rf_clf.score(X_test, y_test)"
   ]
  },
  {
   "cell_type": "code",
   "execution_count": 11,
   "metadata": {},
   "outputs": [],
   "source": [
    "ct = ColumnTransformer(\n",
    "    [('scaling', StandardScaler(), ['age', 'hours-per-week']),\n",
    "    ('onehot', OneHotEncoder(sparse=False), ['workclass', 'education', 'gender', 'occupation'])]\n",
    ")"
   ]
  },
  {
   "cell_type": "code",
   "execution_count": 15,
   "metadata": {},
   "outputs": [],
   "source": [
    "data_features = data.drop('income', axis=1)\n",
    "X_train, X_test, y_train, y_test = train_test_split(data_features, np.where(data['income'] == ' >50K', 1, 0), random_state=0)"
   ]
  },
  {
   "cell_type": "code",
   "execution_count": 17,
   "metadata": {},
   "outputs": [
    {
     "data": {
      "text/plain": [
       "(24420, 44)"
      ]
     },
     "execution_count": 17,
     "metadata": {},
     "output_type": "execute_result"
    }
   ],
   "source": [
    "ct.fit(X_train)\n",
    "X_train_trans = ct.transform(X_train)\n",
    "X_test_trans = ct.transform(X_test)\n",
    "X_train_trans.shape"
   ]
  },
  {
   "cell_type": "code",
   "execution_count": 19,
   "metadata": {},
   "outputs": [
    {
     "data": {
      "text/plain": [
       "(0.8136773136773137, 0.808991524382754)"
      ]
     },
     "execution_count": 19,
     "metadata": {},
     "output_type": "execute_result"
    }
   ],
   "source": [
    "logreg = LogisticRegression(C=10, max_iter=1000).fit(X_train_trans, y_train)\n",
    "logreg.score(X_train_trans, y_train), logreg.score(X_test_trans, y_test)"
   ]
  },
  {
   "cell_type": "code",
   "execution_count": 20,
   "metadata": {},
   "outputs": [
    {
     "data": {
      "text/plain": [
       "{'scaling': StandardScaler(), 'onehot': OneHotEncoder(sparse=False)}"
      ]
     },
     "execution_count": 20,
     "metadata": {},
     "output_type": "execute_result"
    }
   ],
   "source": [
    "ct.named_transformers_"
   ]
  },
  {
   "cell_type": "code",
   "execution_count": 21,
   "metadata": {},
   "outputs": [],
   "source": [
    "ct = make_column_transformer(\n",
    "    (StandardScaler(), ['age', 'hours-per-week']),\n",
    "    (OneHotEncoder(sparse=False), ['workclass', 'education', 'gender', 'occupation'])\n",
    ")"
   ]
  },
  {
   "cell_type": "code",
   "execution_count": 22,
   "metadata": {},
   "outputs": [
    {
     "data": {
      "text/plain": [
       "(24420, 44)"
      ]
     },
     "execution_count": 22,
     "metadata": {},
     "output_type": "execute_result"
    }
   ],
   "source": [
    "ct.fit(X_train)\n",
    "X_train_trans = ct.transform(X_train)\n",
    "X_test_trans = ct.transform(X_test)\n",
    "X_train_trans.shape"
   ]
  },
  {
   "cell_type": "code",
   "execution_count": 23,
   "metadata": {},
   "outputs": [
    {
     "data": {
      "text/plain": [
       "(0.8136773136773137, 0.808991524382754)"
      ]
     },
     "execution_count": 23,
     "metadata": {},
     "output_type": "execute_result"
    }
   ],
   "source": [
    "logreg = LogisticRegression(C=10, max_iter=1000).fit(X_train_trans, y_train)\n",
    "logreg.score(X_train_trans, y_train), logreg.score(X_test_trans, y_test)"
   ]
  },
  {
   "cell_type": "code",
   "execution_count": 28,
   "metadata": {},
   "outputs": [],
   "source": [
    "X, y = mglearn.datasets.make_wave(n_samples=120)\n",
    "line = np.linspace(-3, 3, 1000, endpoint=False).reshape(-1, 1)"
   ]
  },
  {
   "cell_type": "code",
   "execution_count": 29,
   "metadata": {},
   "outputs": [],
   "source": [
    "dt_reg = DecisionTreeRegressor(min_samples_leaf=3).fit(X, y)\n",
    "lr_reg = LinearRegression().fit(X, y)"
   ]
  },
  {
   "cell_type": "code",
   "execution_count": 32,
   "metadata": {},
   "outputs": [
    {
     "data": {
      "image/svg+xml": "<?xml version=\"1.0\" encoding=\"utf-8\" standalone=\"no\"?>\n<!DOCTYPE svg PUBLIC \"-//W3C//DTD SVG 1.1//EN\"\n  \"http://www.w3.org/Graphics/SVG/1.1/DTD/svg11.dtd\">\n<svg xmlns:xlink=\"http://www.w3.org/1999/xlink\" width=\"365.809375pt\" height=\"248.79625pt\" viewBox=\"0 0 365.809375 248.79625\" xmlns=\"http://www.w3.org/2000/svg\" version=\"1.1\">\n <metadata>\n  <rdf:RDF xmlns:dc=\"http://purl.org/dc/elements/1.1/\" xmlns:cc=\"http://creativecommons.org/ns#\" xmlns:rdf=\"http://www.w3.org/1999/02/22-rdf-syntax-ns#\">\n   <cc:Work>\n    <dc:type rdf:resource=\"http://purl.org/dc/dcmitype/StillImage\"/>\n    <dc:date>2023-01-04T21:21:42.730484</dc:date>\n    <dc:format>image/svg+xml</dc:format>\n    <dc:creator>\n     <cc:Agent>\n      <dc:title>Matplotlib v3.5.1, https://matplotlib.org/</dc:title>\n     </cc:Agent>\n    </dc:creator>\n   </cc:Work>\n  </rdf:RDF>\n </metadata>\n <defs>\n  <style type=\"text/css\">*{stroke-linejoin: round; stroke-linecap: butt}</style>\n </defs>\n <g id=\"figure_1\">\n  <g id=\"patch_1\">\n   <path d=\"M 0 248.79625 \nL 365.809375 248.79625 \nL 365.809375 0 \nL 0 0 \nL 0 248.79625 \nz\n\" style=\"fill: none\"/>\n  </g>\n  <g id=\"axes_1\">\n   <g id=\"patch_2\">\n    <path d=\"M 23.809375 224.64 \nL 358.609375 224.64 \nL 358.609375 7.2 \nL 23.809375 7.2 \nz\n\" style=\"fill: #ffffff\"/>\n   </g>\n   <g id=\"PathCollection_1\">\n    <defs>\n     <path id=\"me678d6dfa7\" d=\"M 0 3 \nC 0.795609 3 1.55874 2.683901 2.12132 2.12132 \nC 2.683901 1.55874 3 0.795609 3 0 \nC 3 -0.795609 2.683901 -1.55874 2.12132 -2.12132 \nC 1.55874 -2.683901 0.795609 -3 0 -3 \nC -0.795609 -3 -1.55874 -2.683901 -2.12132 -2.12132 \nC -2.683901 -1.55874 -3 -0.795609 -3 0 \nC -3 0.795609 -2.683901 1.55874 -2.12132 2.12132 \nC -1.55874 2.683901 -0.795609 3 0 3 \nz\n\" style=\"stroke: #000000\"/>\n    </defs>\n    <g clip-path=\"url(#pb936cf35d3)\">\n     <use xlink:href=\"#me678d6dfa7\" x=\"153.13806\" y=\"148.140315\" style=\"stroke: #000000\"/>\n     <use xlink:href=\"#me678d6dfa7\" x=\"328.680073\" y=\"77.105525\" style=\"stroke: #000000\"/>\n     <use xlink:href=\"#me678d6dfa7\" x=\"262.04291\" y=\"102.120095\" style=\"stroke: #000000\"/>\n     <use xlink:href=\"#me678d6dfa7\" x=\"221.419822\" y=\"114.447164\" style=\"stroke: #000000\"/>\n     <use xlink:href=\"#me678d6dfa7\" x=\"86.561491\" y=\"174.460035\" style=\"stroke: #000000\"/>\n     <use xlink:href=\"#me678d6dfa7\" x=\"86.554143\" y=\"175.294639\" style=\"stroke: #000000\"/>\n     <use xlink:href=\"#me678d6dfa7\" x=\"56.723792\" y=\"151.392512\" style=\"stroke: #000000\"/>\n     <use xlink:href=\"#me678d6dfa7\" x=\"302.923975\" y=\"49.32632\" style=\"stroke: #000000\"/>\n     <use xlink:href=\"#me678d6dfa7\" x=\"222.168248\" y=\"113.981381\" style=\"stroke: #000000\"/>\n     <use xlink:href=\"#me678d6dfa7\" x=\"254.754829\" y=\"113.497096\" style=\"stroke: #000000\"/>\n     <use xlink:href=\"#me678d6dfa7\" x=\"45.299\" y=\"166.311399\" style=\"stroke: #000000\"/>\n     <use xlink:href=\"#me678d6dfa7\" x=\"334.528347\" y=\"85.115495\" style=\"stroke: #000000\"/>\n     <use xlink:href=\"#me678d6dfa7\" x=\"292.646445\" y=\"42.915467\" style=\"stroke: #000000\"/>\n     <use xlink:href=\"#me678d6dfa7\" x=\"103.720554\" y=\"155.738894\" style=\"stroke: #000000\"/>\n     <use xlink:href=\"#me678d6dfa7\" x=\"94.423861\" y=\"134.165865\" style=\"stroke: #000000\"/>\n     <use xlink:href=\"#me678d6dfa7\" x=\"94.905098\" y=\"174.561863\" style=\"stroke: #000000\"/>\n     <use xlink:href=\"#me678d6dfa7\" x=\"131.720525\" y=\"108.348865\" style=\"stroke: #000000\"/>\n     <use xlink:href=\"#me678d6dfa7\" x=\"198.904209\" y=\"95.203591\" style=\"stroke: #000000\"/>\n     <use xlink:href=\"#me678d6dfa7\" x=\"170.627513\" y=\"189.655437\" style=\"stroke: #000000\"/>\n     <use xlink:href=\"#me678d6dfa7\" x=\"127.755845\" y=\"118.038452\" style=\"stroke: #000000\"/>\n     <use xlink:href=\"#me678d6dfa7\" x=\"225.439741\" y=\"82.348964\" style=\"stroke: #000000\"/>\n     <use xlink:href=\"#me678d6dfa7\" x=\"81.526915\" y=\"119.817482\" style=\"stroke: #000000\"/>\n     <use xlink:href=\"#me678d6dfa7\" x=\"128.034772\" y=\"121.715605\" style=\"stroke: #000000\"/>\n     <use xlink:href=\"#me678d6dfa7\" x=\"150.646399\" y=\"120.695181\" style=\"stroke: #000000\"/>\n     <use xlink:href=\"#me678d6dfa7\" x=\"177.977626\" y=\"138.188503\" style=\"stroke: #000000\"/>\n     <use xlink:href=\"#me678d6dfa7\" x=\"278.245786\" y=\"84.693488\" style=\"stroke: #000000\"/>\n     <use xlink:href=\"#me678d6dfa7\" x=\"99.86183\" y=\"145.09956\" style=\"stroke: #000000\"/>\n     <use xlink:href=\"#me678d6dfa7\" x=\"195.698491\" y=\"82.357465\" style=\"stroke: #000000\"/>\n     <use xlink:href=\"#me678d6dfa7\" x=\"219.517499\" y=\"59.192996\" style=\"stroke: #000000\"/>\n     <use xlink:href=\"#me678d6dfa7\" x=\"53.179525\" y=\"173.232705\" style=\"stroke: #000000\"/>\n     <use xlink:href=\"#me678d6dfa7\" x=\"224.127217\" y=\"48.782563\" style=\"stroke: #000000\"/>\n     <use xlink:href=\"#me678d6dfa7\" x=\"90.980852\" y=\"214.756364\" style=\"stroke: #000000\"/>\n     <use xlink:href=\"#me678d6dfa7\" x=\"58.846715\" y=\"138.332426\" style=\"stroke: #000000\"/>\n     <use xlink:href=\"#me678d6dfa7\" x=\"328.122905\" y=\"17.083636\" style=\"stroke: #000000\"/>\n     <use xlink:href=\"#me678d6dfa7\" x=\"333.225031\" y=\"90.779539\" style=\"stroke: #000000\"/>\n     <use xlink:href=\"#me678d6dfa7\" x=\"285.320606\" y=\"58.235261\" style=\"stroke: #000000\"/>\n     <use xlink:href=\"#me678d6dfa7\" x=\"131.833717\" y=\"112.066683\" style=\"stroke: #000000\"/>\n     <use xlink:href=\"#me678d6dfa7\" x=\"68.785154\" y=\"174.464498\" style=\"stroke: #000000\"/>\n     <use xlink:href=\"#me678d6dfa7\" x=\"247.491673\" y=\"143.805073\" style=\"stroke: #000000\"/>\n     <use xlink:href=\"#me678d6dfa7\" x=\"173.128071\" y=\"140.89963\" style=\"stroke: #000000\"/>\n     <use xlink:href=\"#me678d6dfa7\" x=\"76.208739\" y=\"198.036336\" style=\"stroke: #000000\"/>\n     <use xlink:href=\"#me678d6dfa7\" x=\"189.892267\" y=\"102.473905\" style=\"stroke: #000000\"/>\n     <use xlink:href=\"#me678d6dfa7\" x=\"49.504649\" y=\"175.43515\" style=\"stroke: #000000\"/>\n     <use xlink:href=\"#me678d6dfa7\" x=\"316.068662\" y=\"24.024642\" style=\"stroke: #000000\"/>\n     <use xlink:href=\"#me678d6dfa7\" x=\"117.869615\" y=\"152.232027\" style=\"stroke: #000000\"/>\n     <use xlink:href=\"#me678d6dfa7\" x=\"240.877098\" y=\"111.16366\" style=\"stroke: #000000\"/>\n     <use xlink:href=\"#me678d6dfa7\" x=\"133.996042\" y=\"94.458562\" style=\"stroke: #000000\"/>\n     <use xlink:href=\"#me678d6dfa7\" x=\"197.475799\" y=\"125.767792\" style=\"stroke: #000000\"/>\n     <use xlink:href=\"#me678d6dfa7\" x=\"205.592851\" y=\"76.729123\" style=\"stroke: #000000\"/>\n     <use xlink:href=\"#me678d6dfa7\" x=\"95.34685\" y=\"147.110572\" style=\"stroke: #000000\"/>\n     <use xlink:href=\"#me678d6dfa7\" x=\"334.429262\" y=\"104.423185\" style=\"stroke: #000000\"/>\n     <use xlink:href=\"#me678d6dfa7\" x=\"275.18596\" y=\"59.033702\" style=\"stroke: #000000\"/>\n     <use xlink:href=\"#me678d6dfa7\" x=\"325.263107\" y=\"62.722308\" style=\"stroke: #000000\"/>\n     <use xlink:href=\"#me678d6dfa7\" x=\"311.653089\" y=\"36.375768\" style=\"stroke: #000000\"/>\n     <use xlink:href=\"#me678d6dfa7\" x=\"221.18873\" y=\"108.842687\" style=\"stroke: #000000\"/>\n     <use xlink:href=\"#me678d6dfa7\" x=\"319.893417\" y=\"96.813608\" style=\"stroke: #000000\"/>\n     <use xlink:href=\"#me678d6dfa7\" x=\"65.988417\" y=\"146.371984\" style=\"stroke: #000000\"/>\n     <use xlink:href=\"#me678d6dfa7\" x=\"98.737323\" y=\"167.003354\" style=\"stroke: #000000\"/>\n     <use xlink:href=\"#me678d6dfa7\" x=\"52.806878\" y=\"145.669356\" style=\"stroke: #000000\"/>\n     <use xlink:href=\"#me678d6dfa7\" x=\"138.145397\" y=\"106.36421\" style=\"stroke: #000000\"/>\n     <use xlink:href=\"#me678d6dfa7\" x=\"157.445208\" y=\"153.286651\" style=\"stroke: #000000\"/>\n     <use xlink:href=\"#me678d6dfa7\" x=\"121.699006\" y=\"120.475438\" style=\"stroke: #000000\"/>\n     <use xlink:href=\"#me678d6dfa7\" x=\"291.517609\" y=\"32.436251\" style=\"stroke: #000000\"/>\n     <use xlink:href=\"#me678d6dfa7\" x=\"147.718988\" y=\"140.90739\" style=\"stroke: #000000\"/>\n     <use xlink:href=\"#me678d6dfa7\" x=\"124.619398\" y=\"76.773581\" style=\"stroke: #000000\"/>\n     <use xlink:href=\"#me678d6dfa7\" x=\"204.369852\" y=\"72.523255\" style=\"stroke: #000000\"/>\n     <use xlink:href=\"#me678d6dfa7\" x=\"81.962702\" y=\"207.376533\" style=\"stroke: #000000\"/>\n     <use xlink:href=\"#me678d6dfa7\" x=\"283.431551\" y=\"31.7324\" style=\"stroke: #000000\"/>\n     <use xlink:href=\"#me678d6dfa7\" x=\"61.740775\" y=\"177.60024\" style=\"stroke: #000000\"/>\n     <use xlink:href=\"#me678d6dfa7\" x=\"339.700727\" y=\"40.258617\" style=\"stroke: #000000\"/>\n     <use xlink:href=\"#me678d6dfa7\" x=\"274.306061\" y=\"37.797536\" style=\"stroke: #000000\"/>\n     <use xlink:href=\"#me678d6dfa7\" x=\"99.569927\" y=\"192.40571\" style=\"stroke: #000000\"/>\n     <use xlink:href=\"#me678d6dfa7\" x=\"40.709971\" y=\"142.775229\" style=\"stroke: #000000\"/>\n     <use xlink:href=\"#me678d6dfa7\" x=\"287.472808\" y=\"32.41388\" style=\"stroke: #000000\"/>\n     <use xlink:href=\"#me678d6dfa7\" x=\"254.384585\" y=\"84.206983\" style=\"stroke: #000000\"/>\n     <use xlink:href=\"#me678d6dfa7\" x=\"261.132935\" y=\"49.190494\" style=\"stroke: #000000\"/>\n     <use xlink:href=\"#me678d6dfa7\" x=\"274.009186\" y=\"71.974211\" style=\"stroke: #000000\"/>\n     <use xlink:href=\"#me678d6dfa7\" x=\"61.586615\" y=\"172.198039\" style=\"stroke: #000000\"/>\n     <use xlink:href=\"#me678d6dfa7\" x=\"148.240703\" y=\"145.784532\" style=\"stroke: #000000\"/>\n     <use xlink:href=\"#me678d6dfa7\" x=\"74.329187\" y=\"189.6468\" style=\"stroke: #000000\"/>\n     <use xlink:href=\"#me678d6dfa7\" x=\"301.987814\" y=\"44.634034\" style=\"stroke: #000000\"/>\n     <use xlink:href=\"#me678d6dfa7\" x=\"228.92674\" y=\"80.210119\" style=\"stroke: #000000\"/>\n     <use xlink:href=\"#me678d6dfa7\" x=\"139.841697\" y=\"108.996154\" style=\"stroke: #000000\"/>\n     <use xlink:href=\"#me678d6dfa7\" x=\"58.391772\" y=\"132.373916\" style=\"stroke: #000000\"/>\n     <use xlink:href=\"#me678d6dfa7\" x=\"133.774014\" y=\"113.584307\" style=\"stroke: #000000\"/>\n     <use xlink:href=\"#me678d6dfa7\" x=\"138.100608\" y=\"79.931554\" style=\"stroke: #000000\"/>\n     <use xlink:href=\"#me678d6dfa7\" x=\"261.315434\" y=\"100.427047\" style=\"stroke: #000000\"/>\n     <use xlink:href=\"#me678d6dfa7\" x=\"233.271111\" y=\"29.536486\" style=\"stroke: #000000\"/>\n     <use xlink:href=\"#me678d6dfa7\" x=\"309.333159\" y=\"36.840863\" style=\"stroke: #000000\"/>\n     <use xlink:href=\"#me678d6dfa7\" x=\"182.896478\" y=\"149.509197\" style=\"stroke: #000000\"/>\n     <use xlink:href=\"#me678d6dfa7\" x=\"75.464133\" y=\"197.264882\" style=\"stroke: #000000\"/>\n     <use xlink:href=\"#me678d6dfa7\" x=\"256.330637\" y=\"90.214347\" style=\"stroke: #000000\"/>\n     <use xlink:href=\"#me678d6dfa7\" x=\"270.814648\" y=\"78.909\" style=\"stroke: #000000\"/>\n     <use xlink:href=\"#me678d6dfa7\" x=\"210.030929\" y=\"60.783537\" style=\"stroke: #000000\"/>\n     <use xlink:href=\"#me678d6dfa7\" x=\"273.91682\" y=\"55.042462\" style=\"stroke: #000000\"/>\n     <use xlink:href=\"#me678d6dfa7\" x=\"189.471424\" y=\"116.491673\" style=\"stroke: #000000\"/>\n     <use xlink:href=\"#me678d6dfa7\" x=\"198.287682\" y=\"114.894782\" style=\"stroke: #000000\"/>\n     <use xlink:href=\"#me678d6dfa7\" x=\"169.285754\" y=\"180.359199\" style=\"stroke: #000000\"/>\n     <use xlink:href=\"#me678d6dfa7\" x=\"46.771959\" y=\"166.886424\" style=\"stroke: #000000\"/>\n     <use xlink:href=\"#me678d6dfa7\" x=\"71.898655\" y=\"146.361212\" style=\"stroke: #000000\"/>\n     <use xlink:href=\"#me678d6dfa7\" x=\"48.603034\" y=\"149.176968\" style=\"stroke: #000000\"/>\n     <use xlink:href=\"#me678d6dfa7\" x=\"232.921638\" y=\"123.666418\" style=\"stroke: #000000\"/>\n     <use xlink:href=\"#me678d6dfa7\" x=\"134.801861\" y=\"109.694702\" style=\"stroke: #000000\"/>\n     <use xlink:href=\"#me678d6dfa7\" x=\"193.972927\" y=\"95.03445\" style=\"stroke: #000000\"/>\n     <use xlink:href=\"#me678d6dfa7\" x=\"315.534296\" y=\"81.405853\" style=\"stroke: #000000\"/>\n     <use xlink:href=\"#me678d6dfa7\" x=\"114.978998\" y=\"136.270354\" style=\"stroke: #000000\"/>\n     <use xlink:href=\"#me678d6dfa7\" x=\"164.058226\" y=\"141.721572\" style=\"stroke: #000000\"/>\n     <use xlink:href=\"#me678d6dfa7\" x=\"269.220041\" y=\"104.578544\" style=\"stroke: #000000\"/>\n     <use xlink:href=\"#me678d6dfa7\" x=\"108.735106\" y=\"145.949621\" style=\"stroke: #000000\"/>\n     <use xlink:href=\"#me678d6dfa7\" x=\"62.480895\" y=\"141.631628\" style=\"stroke: #000000\"/>\n     <use xlink:href=\"#me678d6dfa7\" x=\"127.305641\" y=\"92.041639\" style=\"stroke: #000000\"/>\n     <use xlink:href=\"#me678d6dfa7\" x=\"88.146573\" y=\"156.629499\" style=\"stroke: #000000\"/>\n     <use xlink:href=\"#me678d6dfa7\" x=\"322.276964\" y=\"100.193901\" style=\"stroke: #000000\"/>\n     <use xlink:href=\"#me678d6dfa7\" x=\"285.236223\" y=\"67.208315\" style=\"stroke: #000000\"/>\n     <use xlink:href=\"#me678d6dfa7\" x=\"232.005605\" y=\"80.37644\" style=\"stroke: #000000\"/>\n     <use xlink:href=\"#me678d6dfa7\" x=\"304.533977\" y=\"33.25632\" style=\"stroke: #000000\"/>\n     <use xlink:href=\"#me678d6dfa7\" x=\"283.880966\" y=\"34.431843\" style=\"stroke: #000000\"/>\n     <use xlink:href=\"#me678d6dfa7\" x=\"95.86954\" y=\"85.8337\" style=\"stroke: #000000\"/>\n     <use xlink:href=\"#me678d6dfa7\" x=\"310.961994\" y=\"40.434458\" style=\"stroke: #000000\"/>\n     <use xlink:href=\"#me678d6dfa7\" x=\"203.348043\" y=\"58.278488\" style=\"stroke: #000000\"/>\n    </g>\n   </g>\n   <g id=\"matplotlib.axis_1\">\n    <g id=\"xtick_1\">\n     <g id=\"line2d_1\">\n      <defs>\n       <path id=\"mf2a944aae9\" d=\"M 0 0 \nL 0 3.5 \n\" style=\"stroke: #000000; stroke-width: 0.8\"/>\n      </defs>\n      <g>\n       <use xlink:href=\"#mf2a944aae9\" x=\"39.027557\" y=\"224.64\" style=\"stroke: #000000; stroke-width: 0.8\"/>\n      </g>\n     </g>\n     <g id=\"text_1\">\n      <!-- -3 -->\n      <g transform=\"translate(34.222869 239.232187)scale(0.1 -0.1)\">\n       <defs>\n        <path id=\"MalgunGothic-2d\" d=\"M 2213 1634 \nL 463 1634 \nL 463 2031 \nL 2213 2031 \nL 2213 1634 \nz\n\" transform=\"scale(0.015625)\"/>\n        <path id=\"MalgunGothic-33\" d=\"M 416 719 \nQ 891 344 1478 344 \nQ 1959 344 2254 587 \nQ 2550 831 2550 1247 \nQ 2550 2169 1253 2169 \nL 872 2169 \nL 872 2591 \nL 1234 2591 \nQ 2388 2591 2388 3453 \nQ 2388 4250 1509 4250 \nQ 1022 4250 594 3916 \nL 594 4413 \nQ 1031 4675 1634 4675 \nQ 2184 4675 2539 4372 \nQ 2894 4069 2894 3581 \nQ 2894 2678 1972 2409 \nL 1972 2400 \nQ 2469 2356 2764 2053 \nQ 3059 1750 3059 1300 \nQ 3059 672 2604 297 \nQ 2150 -78 1450 -78 \nQ 806 -78 416 169 \nL 416 719 \nz\n\" transform=\"scale(0.015625)\"/>\n       </defs>\n       <use xlink:href=\"#MalgunGothic-2d\"/>\n       <use xlink:href=\"#MalgunGothic-33\" x=\"41.015625\"/>\n      </g>\n     </g>\n    </g>\n    <g id=\"xtick_2\">\n     <g id=\"line2d_2\">\n      <g>\n       <use xlink:href=\"#mf2a944aae9\" x=\"89.805608\" y=\"224.64\" style=\"stroke: #000000; stroke-width: 0.8\"/>\n      </g>\n     </g>\n     <g id=\"text_2\">\n      <!-- -2 -->\n      <g transform=\"translate(85.00092 239.232187)scale(0.1 -0.1)\">\n       <defs>\n        <path id=\"MalgunGothic-32\" d=\"M 2519 3372 \nQ 2519 3784 2275 4018 \nQ 2031 4253 1628 4253 \nQ 1341 4253 1053 4104 \nQ 766 3956 534 3697 \nL 534 4234 \nQ 981 4675 1691 4675 \nQ 2281 4675 2642 4334 \nQ 3003 3994 3003 3416 \nQ 3003 2919 2772 2545 \nQ 2541 2172 1984 1775 \nQ 1459 1406 1254 1215 \nQ 1050 1025 967 854 \nQ 884 684 884 450 \nL 3116 450 \nL 3116 0 \nL 356 0 \nL 356 225 \nQ 356 603 461 870 \nQ 566 1138 811 1392 \nQ 1056 1647 1597 2022 \nQ 2091 2363 2305 2670 \nQ 2519 2978 2519 3372 \nz\n\" transform=\"scale(0.015625)\"/>\n       </defs>\n       <use xlink:href=\"#MalgunGothic-2d\"/>\n       <use xlink:href=\"#MalgunGothic-32\" x=\"41.015625\"/>\n      </g>\n     </g>\n    </g>\n    <g id=\"xtick_3\">\n     <g id=\"line2d_3\">\n      <g>\n       <use xlink:href=\"#mf2a944aae9\" x=\"140.583658\" y=\"224.64\" style=\"stroke: #000000; stroke-width: 0.8\"/>\n      </g>\n     </g>\n     <g id=\"text_3\">\n      <!-- -1 -->\n      <g transform=\"translate(135.778971 239.232187)scale(0.1 -0.1)\">\n       <defs>\n        <path id=\"MalgunGothic-31\" d=\"M 2231 0 \nL 1734 0 \nL 1734 3972 \nQ 1591 3828 1266 3661 \nQ 941 3494 672 3428 \nL 672 3959 \nQ 1016 4056 1409 4275 \nQ 1803 4494 2031 4700 \nL 2231 4700 \nL 2231 0 \nz\n\" transform=\"scale(0.015625)\"/>\n       </defs>\n       <use xlink:href=\"#MalgunGothic-2d\"/>\n       <use xlink:href=\"#MalgunGothic-31\" x=\"41.015625\"/>\n      </g>\n     </g>\n    </g>\n    <g id=\"xtick_4\">\n     <g id=\"line2d_4\">\n      <g>\n       <use xlink:href=\"#mf2a944aae9\" x=\"191.361709\" y=\"224.64\" style=\"stroke: #000000; stroke-width: 0.8\"/>\n      </g>\n     </g>\n     <g id=\"text_4\">\n      <!-- 0 -->\n      <g transform=\"translate(188.607803 239.232187)scale(0.1 -0.1)\">\n       <defs>\n        <path id=\"MalgunGothic-30\" d=\"M 278 2206 \nQ 278 3425 675 4050 \nQ 1072 4675 1819 4675 \nQ 3253 4675 3253 2319 \nQ 3253 1156 2854 539 \nQ 2456 -78 1716 -78 \nQ 1016 -78 647 520 \nQ 278 1119 278 2206 \nz\nM 784 2231 \nQ 784 344 1769 344 \nQ 2747 344 2747 2259 \nQ 2747 4250 1794 4250 \nQ 784 4250 784 2231 \nz\n\" transform=\"scale(0.015625)\"/>\n       </defs>\n       <use xlink:href=\"#MalgunGothic-30\"/>\n      </g>\n     </g>\n    </g>\n    <g id=\"xtick_5\">\n     <g id=\"line2d_5\">\n      <g>\n       <use xlink:href=\"#mf2a944aae9\" x=\"242.13976\" y=\"224.64\" style=\"stroke: #000000; stroke-width: 0.8\"/>\n      </g>\n     </g>\n     <g id=\"text_5\">\n      <!-- 1 -->\n      <g transform=\"translate(239.385854 239.232187)scale(0.1 -0.1)\">\n       <use xlink:href=\"#MalgunGothic-31\"/>\n      </g>\n     </g>\n    </g>\n    <g id=\"xtick_6\">\n     <g id=\"line2d_6\">\n      <g>\n       <use xlink:href=\"#mf2a944aae9\" x=\"292.917811\" y=\"224.64\" style=\"stroke: #000000; stroke-width: 0.8\"/>\n      </g>\n     </g>\n     <g id=\"text_6\">\n      <!-- 2 -->\n      <g transform=\"translate(290.163904 239.232187)scale(0.1 -0.1)\">\n       <use xlink:href=\"#MalgunGothic-32\"/>\n      </g>\n     </g>\n    </g>\n    <g id=\"xtick_7\">\n     <g id=\"line2d_7\">\n      <g>\n       <use xlink:href=\"#mf2a944aae9\" x=\"343.695861\" y=\"224.64\" style=\"stroke: #000000; stroke-width: 0.8\"/>\n      </g>\n     </g>\n     <g id=\"text_7\">\n      <!-- 3 -->\n      <g transform=\"translate(340.941955 239.232187)scale(0.1 -0.1)\">\n       <use xlink:href=\"#MalgunGothic-33\"/>\n      </g>\n     </g>\n    </g>\n   </g>\n   <g id=\"matplotlib.axis_2\">\n    <g id=\"ytick_1\">\n     <g id=\"line2d_8\">\n      <defs>\n       <path id=\"m4d7612b90f\" d=\"M 0 0 \nL -3.5 0 \n\" style=\"stroke: #000000; stroke-width: 0.8\"/>\n      </defs>\n      <g>\n       <use xlink:href=\"#m4d7612b90f\" x=\"23.809375\" y=\"205.755544\" style=\"stroke: #000000; stroke-width: 0.8\"/>\n      </g>\n     </g>\n     <g id=\"text_8\">\n      <!-- -2 -->\n      <g transform=\"translate(7.2 209.551638)scale(0.1 -0.1)\">\n       <use xlink:href=\"#MalgunGothic-2d\"/>\n       <use xlink:href=\"#MalgunGothic-32\" x=\"41.015625\"/>\n      </g>\n     </g>\n    </g>\n    <g id=\"ytick_2\">\n     <g id=\"line2d_9\">\n      <g>\n       <use xlink:href=\"#m4d7612b90f\" x=\"23.809375\" y=\"158.041122\" style=\"stroke: #000000; stroke-width: 0.8\"/>\n      </g>\n     </g>\n     <g id=\"text_9\">\n      <!-- -1 -->\n      <g transform=\"translate(7.2 161.837215)scale(0.1 -0.1)\">\n       <use xlink:href=\"#MalgunGothic-2d\"/>\n       <use xlink:href=\"#MalgunGothic-31\" x=\"41.015625\"/>\n      </g>\n     </g>\n    </g>\n    <g id=\"ytick_3\">\n     <g id=\"line2d_10\">\n      <g>\n       <use xlink:href=\"#m4d7612b90f\" x=\"23.809375\" y=\"110.326699\" style=\"stroke: #000000; stroke-width: 0.8\"/>\n      </g>\n     </g>\n     <g id=\"text_10\">\n      <!-- 0 -->\n      <g transform=\"translate(11.301563 114.122793)scale(0.1 -0.1)\">\n       <use xlink:href=\"#MalgunGothic-30\"/>\n      </g>\n     </g>\n    </g>\n    <g id=\"ytick_4\">\n     <g id=\"line2d_11\">\n      <g>\n       <use xlink:href=\"#m4d7612b90f\" x=\"23.809375\" y=\"62.612276\" style=\"stroke: #000000; stroke-width: 0.8\"/>\n      </g>\n     </g>\n     <g id=\"text_11\">\n      <!-- 1 -->\n      <g transform=\"translate(11.301563 66.40837)scale(0.1 -0.1)\">\n       <use xlink:href=\"#MalgunGothic-31\"/>\n      </g>\n     </g>\n    </g>\n    <g id=\"ytick_5\">\n     <g id=\"line2d_12\">\n      <g>\n       <use xlink:href=\"#m4d7612b90f\" x=\"23.809375\" y=\"14.897854\" style=\"stroke: #000000; stroke-width: 0.8\"/>\n      </g>\n     </g>\n     <g id=\"text_12\">\n      <!-- 2 -->\n      <g transform=\"translate(11.301563 18.693947)scale(0.1 -0.1)\">\n       <use xlink:href=\"#MalgunGothic-32\"/>\n      </g>\n     </g>\n    </g>\n   </g>\n   <g id=\"line2d_13\">\n    <path d=\"M 39.027557 156.287505 \nL 48.776943 156.287505 \nL 49.081611 164.77907 \nL 54.870309 164.77907 \nL 55.174977 140.699618 \nL 60.04967 140.699618 \nL 60.354338 163.809969 \nL 64.010358 163.809969 \nL 64.315026 155.732565 \nL 72.845739 155.732565 \nL 73.150407 194.982673 \nL 78.634436 194.982673 \nL 78.939105 167.496218 \nL 86.555812 167.496218 \nL 86.860481 181.948633 \nL 92.649178 181.948633 \nL 92.953847 135.418 \nL 97.219203 135.418 \nL 97.523871 168.169542 \nL 101.789228 168.169542 \nL 102.093896 147.547724 \nL 119.764658 147.547724 \nL 120.069326 96.430219 \nL 127.381365 96.430219 \nL 127.686033 114.750782 \nL 133.7794 114.750782 \nL 134.084068 99.889036 \nL 143.528785 99.889036 \nL 143.833454 141.762814 \nL 160.59021 141.762814 \nL 160.894879 170.578736 \nL 171.862938 170.578736 \nL 172.167606 136.272251 \nL 189.533699 136.272251 \nL 189.838368 104.105679 \nL 198.36908 104.105679 \nL 198.673748 75.335111 \nL 204.767115 75.335111 \nL 205.071783 65.568552 \nL 220.305198 65.568552 \nL 220.609866 112.423744 \nL 223.047213 112.423744 \nL 223.351881 70.447215 \nL 230.359252 70.447215 \nL 230.66392 77.859781 \nL 237.061955 77.859781 \nL 237.366623 113.168203 \nL 255.342053 113.168203 \nL 255.646721 79.943962 \nL 261.435419 79.943962 \nL 261.740088 95.202546 \nL 272.09881 95.202546 \nL 272.403478 61.70828 \nL 280.629522 61.70828 \nL 280.934191 47.901955 \nL 286.113552 47.901955 \nL 286.41822 35.921866 \nL 297.081611 35.921866 \nL 297.386279 40.898399 \nL 311.096353 40.898399 \nL 311.401021 47.268754 \nL 317.799056 47.268754 \nL 318.103724 86.576606 \nL 326.634436 86.576606 \nL 326.939105 61.656234 \nL 333.641807 61.656234 \nL 333.946476 76.599099 \nL 343.391193 76.599099 \nL 343.391193 76.599099 \n\" clip-path=\"url(#pb936cf35d3)\" style=\"fill: none; stroke: #1f77b4; stroke-width: 1.5; stroke-linecap: square\"/>\n   </g>\n   <g id=\"line2d_14\">\n    <path d=\"M 39.027557 170.876333 \nL 343.391193 43.937854 \nL 343.391193 43.937854 \n\" clip-path=\"url(#pb936cf35d3)\" style=\"fill: none; stroke: #ff7f0e; stroke-width: 1.5; stroke-linecap: square\"/>\n   </g>\n   <g id=\"patch_3\">\n    <path d=\"M 23.809375 224.64 \nL 23.809375 7.2 \n\" style=\"fill: none; stroke: #000000; stroke-width: 0.8; stroke-linejoin: miter; stroke-linecap: square\"/>\n   </g>\n   <g id=\"patch_4\">\n    <path d=\"M 358.609375 224.64 \nL 358.609375 7.2 \n\" style=\"fill: none; stroke: #000000; stroke-width: 0.8; stroke-linejoin: miter; stroke-linecap: square\"/>\n   </g>\n   <g id=\"patch_5\">\n    <path d=\"M 23.809375 224.64 \nL 358.609375 224.64 \n\" style=\"fill: none; stroke: #000000; stroke-width: 0.8; stroke-linejoin: miter; stroke-linecap: square\"/>\n   </g>\n   <g id=\"patch_6\">\n    <path d=\"M 23.809375 7.2 \nL 358.609375 7.2 \n\" style=\"fill: none; stroke: #000000; stroke-width: 0.8; stroke-linejoin: miter; stroke-linecap: square\"/>\n   </g>\n   <g id=\"legend_1\">\n    <g id=\"patch_7\">\n     <path d=\"M 30.809375 45.1125 \nL 119.5875 45.1125 \nQ 121.5875 45.1125 121.5875 43.1125 \nL 121.5875 14.2 \nQ 121.5875 12.2 119.5875 12.2 \nL 30.809375 12.2 \nQ 28.809375 12.2 28.809375 14.2 \nL 28.809375 43.1125 \nQ 28.809375 45.1125 30.809375 45.1125 \nz\n\" style=\"fill: #ffffff; opacity: 0.8; stroke: #cccccc; stroke-linejoin: miter\"/>\n    </g>\n    <g id=\"line2d_15\">\n     <path d=\"M 32.809375 20.292187 \nL 42.809375 20.292187 \nL 52.809375 20.292187 \n\" style=\"fill: none; stroke: #1f77b4; stroke-width: 1.5; stroke-linecap: square\"/>\n    </g>\n    <g id=\"text_13\">\n     <!-- DecisionTree -->\n     <g transform=\"translate(60.809375 23.792187)scale(0.1 -0.1)\">\n      <defs>\n       <path id=\"MalgunGothic-44\" d=\"M 609 0 \nL 609 4600 \nL 1856 4600 \nQ 4281 4600 4281 2356 \nQ 4281 1288 3587 644 \nQ 2894 0 1800 0 \nL 609 0 \nz\nM 1113 4134 \nL 1113 463 \nL 1813 463 \nQ 2734 463 3243 958 \nQ 3753 1453 3753 2344 \nQ 3753 4134 1844 4134 \nL 1113 4134 \nz\n\" transform=\"scale(0.015625)\"/>\n       <path id=\"MalgunGothic-65\" d=\"M 3156 1519 \nL 828 1519 \nQ 844 950 1133 648 \nQ 1422 347 1909 347 \nQ 2472 347 2934 719 \nL 2934 244 \nQ 2494 -78 1794 -78 \nQ 1100 -78 708 376 \nQ 316 831 316 1634 \nQ 316 2381 747 2870 \nQ 1178 3359 1816 3359 \nQ 2453 3359 2804 2942 \nQ 3156 2525 3156 1788 \nL 3156 1519 \nz\nM 2644 1956 \nQ 2644 2416 2423 2675 \nQ 2203 2934 1809 2934 \nQ 1438 2934 1169 2667 \nQ 900 2400 834 1956 \nL 2644 1956 \nz\n\" transform=\"scale(0.015625)\"/>\n       <path id=\"MalgunGothic-63\" d=\"M 2763 153 \nQ 2375 -78 1872 -78 \nQ 1184 -78 750 372 \nQ 316 822 316 1566 \nQ 316 2381 777 2870 \nQ 1238 3359 2009 3359 \nQ 2434 3359 2766 3200 \nL 2766 2681 \nQ 2397 2941 1981 2941 \nQ 1478 2941 1148 2577 \nQ 819 2213 819 1609 \nQ 819 1034 1120 689 \nQ 1422 344 1947 344 \nQ 2381 344 2763 631 \nL 2763 153 \nz\n\" transform=\"scale(0.015625)\"/>\n       <path id=\"MalgunGothic-69\" d=\"M 472 4466 \nQ 472 4606 565 4701 \nQ 659 4797 794 4797 \nQ 934 4797 1029 4700 \nQ 1125 4603 1125 4466 \nQ 1125 4325 1029 4231 \nQ 934 4138 794 4138 \nQ 659 4138 565 4230 \nQ 472 4322 472 4466 \nz\nM 541 0 \nL 541 3284 \nL 1034 3284 \nL 1034 0 \nL 541 0 \nz\n\" transform=\"scale(0.015625)\"/>\n       <path id=\"MalgunGothic-73\" d=\"M 331 669 \nQ 763 350 1278 350 \nQ 1978 350 1978 822 \nQ 1978 1025 1825 1158 \nQ 1672 1291 1222 1459 \nQ 703 1666 520 1878 \nQ 338 2091 338 2416 \nQ 338 2834 700 3096 \nQ 1063 3359 1584 3359 \nQ 2003 3359 2341 3213 \nL 2341 2697 \nQ 1975 2934 1506 2934 \nQ 1200 2934 1025 2798 \nQ 850 2663 850 2459 \nQ 850 2241 979 2125 \nQ 1109 2009 1544 1838 \nQ 2131 1609 2309 1390 \nQ 2488 1172 2488 869 \nQ 2488 431 2127 176 \nQ 1766 -78 1203 -78 \nQ 694 -78 331 122 \nL 331 669 \nz\n\" transform=\"scale(0.015625)\"/>\n       <path id=\"MalgunGothic-6f\" d=\"M 316 1600 \nQ 316 2419 761 2889 \nQ 1206 3359 1978 3359 \nQ 2697 3359 3111 2907 \nQ 3525 2456 3525 1650 \nQ 3525 869 3078 395 \nQ 2631 -78 1900 -78 \nQ 1184 -78 750 384 \nQ 316 847 316 1600 \nz\nM 819 1622 \nQ 819 1041 1123 692 \nQ 1428 344 1934 344 \nQ 2459 344 2739 680 \nQ 3019 1016 3019 1634 \nQ 3019 2256 2737 2598 \nQ 2456 2941 1934 2941 \nQ 1425 2941 1122 2587 \nQ 819 2234 819 1622 \nz\n\" transform=\"scale(0.015625)\"/>\n       <path id=\"MalgunGothic-6e\" d=\"M 3238 0 \nL 2741 0 \nL 2741 1875 \nQ 2741 2941 1963 2941 \nQ 1563 2941 1298 2639 \nQ 1034 2338 1034 1872 \nL 1034 0 \nL 538 0 \nL 538 3284 \nL 1034 3284 \nL 1034 2734 \nL 1047 2734 \nQ 1416 3359 2125 3359 \nQ 2666 3359 2952 3012 \nQ 3238 2666 3238 2006 \nL 3238 0 \nz\n\" transform=\"scale(0.015625)\"/>\n       <path id=\"MalgunGothic-54\" d=\"M 3294 4134 \nL 1966 4134 \nL 1966 0 \nL 1456 0 \nL 1456 4134 \nL 134 4134 \nL 134 4600 \nL 3294 4600 \nL 3294 4134 \nz\n\" transform=\"scale(0.015625)\"/>\n       <path id=\"MalgunGothic-72\" d=\"M 2225 2775 \nQ 2084 2881 1828 2881 \nQ 1491 2881 1262 2553 \nQ 1034 2225 1034 1681 \nL 1034 0 \nL 538 0 \nL 538 3284 \nL 1034 3284 \nL 1034 2603 \nL 1047 2603 \nQ 1159 2950 1389 3145 \nQ 1619 3341 1903 3341 \nQ 2109 3341 2225 3297 \nL 2225 2775 \nz\n\" transform=\"scale(0.015625)\"/>\n      </defs>\n      <use xlink:href=\"#MalgunGothic-44\"/>\n      <use xlink:href=\"#MalgunGothic-65\" x=\"71.728516\"/>\n      <use xlink:href=\"#MalgunGothic-63\" x=\"125.244141\"/>\n      <use xlink:href=\"#MalgunGothic-69\" x=\"172.509766\"/>\n      <use xlink:href=\"#MalgunGothic-73\" x=\"197.119141\"/>\n      <use xlink:href=\"#MalgunGothic-69\" x=\"240.429688\"/>\n      <use xlink:href=\"#MalgunGothic-6f\" x=\"265.039062\"/>\n      <use xlink:href=\"#MalgunGothic-6e\" x=\"324.951172\"/>\n      <use xlink:href=\"#MalgunGothic-54\" x=\"382.763672\"/>\n      <use xlink:href=\"#MalgunGothic-72\" x=\"426.757812\"/>\n      <use xlink:href=\"#MalgunGothic-65\" x=\"460.734375\"/>\n      <use xlink:href=\"#MalgunGothic-65\" x=\"514.25\"/>\n     </g>\n    </g>\n    <g id=\"line2d_16\">\n     <path d=\"M 32.809375 35.248437 \nL 42.809375 35.248437 \nL 52.809375 35.248437 \n\" style=\"fill: none; stroke: #ff7f0e; stroke-width: 1.5; stroke-linecap: square\"/>\n    </g>\n    <g id=\"text_14\">\n     <!-- LinearModel -->\n     <g transform=\"translate(60.809375 38.748437)scale(0.1 -0.1)\">\n      <defs>\n       <path id=\"MalgunGothic-4c\" d=\"M 2972 0 \nL 609 0 \nL 609 4600 \nL 1113 4600 \nL 1113 463 \nL 2972 463 \nL 2972 0 \nz\n\" transform=\"scale(0.015625)\"/>\n       <path id=\"MalgunGothic-61\" d=\"M 616 3050 \nQ 1097 3359 1722 3359 \nQ 2866 3359 2866 2147 \nL 2866 0 \nL 2369 0 \nL 2369 516 \nL 2350 516 \nQ 2009 -78 1341 -78 \nQ 859 -78 576 180 \nQ 294 438 294 869 \nQ 294 1784 1375 1934 \nL 2366 2078 \nQ 2366 2934 1684 2934 \nQ 1084 2934 616 2525 \nL 616 3050 \nz\nM 1563 1559 \nQ 1178 1509 993 1371 \nQ 809 1234 809 903 \nQ 809 653 986 500 \nQ 1163 347 1450 347 \nQ 1847 347 2106 628 \nQ 2366 909 2366 1334 \nL 2366 1666 \nL 1563 1559 \nz\n\" transform=\"scale(0.015625)\"/>\n       <path id=\"MalgunGothic-4d\" d=\"M 4756 0 \nL 4756 3106 \nQ 4756 3466 4803 3994 \nL 4788 3994 \nQ 4713 3684 4653 3559 \nL 3050 0 \nL 2822 0 \nL 1222 3534 \nQ 1159 3669 1091 3994 \nL 1075 3994 \nQ 1100 3822 1100 3116 \nL 1100 0 \nL 609 0 \nL 609 4600 \nL 1269 4600 \nL 2706 1359 \nQ 2881 966 2922 816 \nL 2941 816 \nQ 2988 944 3166 1375 \nL 4638 4600 \nL 5259 4600 \nL 5259 0 \nL 4756 0 \nz\n\" transform=\"scale(0.015625)\"/>\n       <path id=\"MalgunGothic-64\" d=\"M 3313 0 \nL 2822 0 \nL 2822 566 \nL 2809 566 \nQ 2444 -78 1675 -78 \nQ 1056 -78 686 364 \nQ 316 806 316 1566 \nQ 316 2375 728 2867 \nQ 1141 3359 1816 3359 \nQ 2494 3359 2809 2822 \nL 2822 2822 \nL 2822 4859 \nL 3313 4859 \nL 3313 0 \nz\nM 2822 1978 \nQ 2822 2378 2550 2659 \nQ 2278 2941 1872 2941 \nQ 1384 2941 1101 2577 \nQ 819 2213 819 1591 \nQ 819 1025 1086 684 \nQ 1353 344 1813 344 \nQ 2250 344 2536 666 \nQ 2822 988 2822 1478 \nL 2822 1978 \nz\n\" transform=\"scale(0.015625)\"/>\n       <path id=\"MalgunGothic-6c\" d=\"M 541 0 \nL 541 4859 \nL 1034 4859 \nL 1034 0 \nL 541 0 \nz\n\" transform=\"scale(0.015625)\"/>\n      </defs>\n      <use xlink:href=\"#MalgunGothic-4c\"/>\n      <use xlink:href=\"#MalgunGothic-69\" x=\"47.998047\"/>\n      <use xlink:href=\"#MalgunGothic-6e\" x=\"72.607422\"/>\n      <use xlink:href=\"#MalgunGothic-65\" x=\"130.419922\"/>\n      <use xlink:href=\"#MalgunGothic-61\" x=\"183.935547\"/>\n      <use xlink:href=\"#MalgunGothic-72\" x=\"235.9375\"/>\n      <use xlink:href=\"#MalgunGothic-4d\" x=\"271.289062\"/>\n      <use xlink:href=\"#MalgunGothic-6f\" x=\"362.988281\"/>\n      <use xlink:href=\"#MalgunGothic-64\" x=\"422.900391\"/>\n      <use xlink:href=\"#MalgunGothic-65\" x=\"483.105469\"/>\n      <use xlink:href=\"#MalgunGothic-6c\" x=\"536.621094\"/>\n     </g>\n    </g>\n   </g>\n  </g>\n </g>\n <defs>\n  <clipPath id=\"pb936cf35d3\">\n   <rect x=\"23.809375\" y=\"7.2\" width=\"334.8\" height=\"217.44\"/>\n  </clipPath>\n </defs>\n</svg>\n",
      "text/plain": [
       "<Figure size 432x288 with 1 Axes>"
      ]
     },
     "metadata": {
      "needs_background": "light"
     },
     "output_type": "display_data"
    }
   ],
   "source": [
    "plt.plot(line, dt_reg.predict(line), label='DecisionTree')\n",
    "plt.plot(line, lr_reg.predict(line), label='LinearModel')\n",
    "plt.scatter(X[:, 0], y, c='black')\n",
    "plt.legend()\n",
    "plt.show()"
   ]
  },
  {
   "cell_type": "code",
   "execution_count": 34,
   "metadata": {},
   "outputs": [
    {
     "data": {
      "text/plain": [
       "array([array([-2.9668673 , -2.37804841, -1.78922951, -1.20041062, -0.61159173,\n",
       "              -0.02277284,  0.56604605,  1.15486494,  1.74368384,  2.33250273,\n",
       "               2.92132162])                                                   ],\n",
       "      dtype=object)"
      ]
     },
     "execution_count": 34,
     "metadata": {},
     "output_type": "execute_result"
    }
   ],
   "source": [
    "# strategy는 'uniform'(pd.cut), 'quantile'(pd.qcut), 'kmeans' 존재 → default='quantile'\n",
    "kb = KBinsDiscretizer(n_bins=10, strategy='uniform').fit(X)\n",
    "kb.bin_edges_"
   ]
  },
  {
   "cell_type": "code",
   "execution_count": 40,
   "metadata": {},
   "outputs": [
    {
     "data": {
      "text/plain": [
       "(array([[-0.75275929],\n",
       "        [ 2.70428584],\n",
       "        [ 1.39196365],\n",
       "        [ 0.59195091],\n",
       "        [-2.06388816],\n",
       "        [-2.06403288],\n",
       "        [-2.65149833],\n",
       "        [ 2.19705687],\n",
       "        [ 0.60669007],\n",
       "        [ 1.24843547]]),\n",
       " array([[0., 0., 0., 1., 0., 0., 0., 0., 0., 0.],\n",
       "        [0., 0., 0., 0., 0., 0., 0., 0., 0., 1.],\n",
       "        [0., 0., 0., 0., 0., 0., 0., 1., 0., 0.],\n",
       "        [0., 0., 0., 0., 0., 0., 1., 0., 0., 0.],\n",
       "        [0., 1., 0., 0., 0., 0., 0., 0., 0., 0.],\n",
       "        [0., 1., 0., 0., 0., 0., 0., 0., 0., 0.],\n",
       "        [1., 0., 0., 0., 0., 0., 0., 0., 0., 0.],\n",
       "        [0., 0., 0., 0., 0., 0., 0., 0., 1., 0.],\n",
       "        [0., 0., 0., 0., 0., 0., 1., 0., 0., 0.],\n",
       "        [0., 0., 0., 0., 0., 0., 0., 1., 0., 0.]]))"
      ]
     },
     "execution_count": 40,
     "metadata": {},
     "output_type": "execute_result"
    }
   ],
   "source": [
    "X_binned = kb.transform(X)\n",
    "X[:10], X_binned.toarray()[:10]"
   ]
  },
  {
   "cell_type": "code",
   "execution_count": 41,
   "metadata": {},
   "outputs": [
    {
     "data": {
      "text/plain": [
       "array([[0., 0., 0., 1., 0., 0., 0., 0., 0., 0.],\n",
       "       [0., 0., 0., 0., 0., 0., 0., 0., 0., 1.],\n",
       "       [0., 0., 0., 0., 0., 0., 0., 1., 0., 0.],\n",
       "       [0., 0., 0., 0., 0., 0., 1., 0., 0., 0.],\n",
       "       [0., 1., 0., 0., 0., 0., 0., 0., 0., 0.]])"
      ]
     },
     "execution_count": 41,
     "metadata": {},
     "output_type": "execute_result"
    }
   ],
   "source": [
    "kb = KBinsDiscretizer(n_bins=10, strategy='uniform', encode='onehot-dense').fit(X)\n",
    "X_binned = kb.transform(X)\n",
    "X_binned[:5]"
   ]
  },
  {
   "cell_type": "code",
   "execution_count": 42,
   "metadata": {},
   "outputs": [],
   "source": [
    "line_binned = kb.transform(line)\n",
    "dt_reg = DecisionTreeRegressor(min_samples_leaf=3).fit(X_binned, y)\n",
    "lr_reg = LinearRegression().fit(X_binned, y)"
   ]
  },
  {
   "cell_type": "code",
   "execution_count": 44,
   "metadata": {},
   "outputs": [
    {
     "data": {
      "image/svg+xml": "<?xml version=\"1.0\" encoding=\"utf-8\" standalone=\"no\"?>\n<!DOCTYPE svg PUBLIC \"-//W3C//DTD SVG 1.1//EN\"\n  \"http://www.w3.org/Graphics/SVG/1.1/DTD/svg11.dtd\">\n<svg xmlns:xlink=\"http://www.w3.org/1999/xlink\" width=\"365.809375pt\" height=\"248.79625pt\" viewBox=\"0 0 365.809375 248.79625\" xmlns=\"http://www.w3.org/2000/svg\" version=\"1.1\">\n <metadata>\n  <rdf:RDF xmlns:dc=\"http://purl.org/dc/elements/1.1/\" xmlns:cc=\"http://creativecommons.org/ns#\" xmlns:rdf=\"http://www.w3.org/1999/02/22-rdf-syntax-ns#\">\n   <cc:Work>\n    <dc:type rdf:resource=\"http://purl.org/dc/dcmitype/StillImage\"/>\n    <dc:date>2023-01-04T21:31:34.371624</dc:date>\n    <dc:format>image/svg+xml</dc:format>\n    <dc:creator>\n     <cc:Agent>\n      <dc:title>Matplotlib v3.5.1, https://matplotlib.org/</dc:title>\n     </cc:Agent>\n    </dc:creator>\n   </cc:Work>\n  </rdf:RDF>\n </metadata>\n <defs>\n  <style type=\"text/css\">*{stroke-linejoin: round; stroke-linecap: butt}</style>\n </defs>\n <g id=\"figure_1\">\n  <g id=\"patch_1\">\n   <path d=\"M 0 248.79625 \nL 365.809375 248.79625 \nL 365.809375 0 \nL 0 0 \nL 0 248.79625 \nz\n\" style=\"fill: none\"/>\n  </g>\n  <g id=\"axes_1\">\n   <g id=\"patch_2\">\n    <path d=\"M 23.809375 224.64 \nL 358.609375 224.64 \nL 358.609375 7.2 \nL 23.809375 7.2 \nz\n\" style=\"fill: #ffffff\"/>\n   </g>\n   <g id=\"PathCollection_1\">\n    <defs>\n     <path id=\"m4e58a34d74\" d=\"M 0 3 \nC 0.795609 3 1.55874 2.683901 2.12132 2.12132 \nC 2.683901 1.55874 3 0.795609 3 0 \nC 3 -0.795609 2.683901 -1.55874 2.12132 -2.12132 \nC 1.55874 -2.683901 0.795609 -3 0 -3 \nC -0.795609 -3 -1.55874 -2.683901 -2.12132 -2.12132 \nC -2.683901 -1.55874 -3 -0.795609 -3 0 \nC -3 0.795609 -2.683901 1.55874 -2.12132 2.12132 \nC -1.55874 2.683901 -0.795609 3 0 3 \nz\n\" style=\"stroke: #000000\"/>\n    </defs>\n    <g clip-path=\"url(#pf1f39b6cb3)\">\n     <use xlink:href=\"#m4e58a34d74\" x=\"153.13806\" y=\"148.140315\" style=\"stroke: #000000\"/>\n     <use xlink:href=\"#m4e58a34d74\" x=\"328.680073\" y=\"77.105525\" style=\"stroke: #000000\"/>\n     <use xlink:href=\"#m4e58a34d74\" x=\"262.04291\" y=\"102.120095\" style=\"stroke: #000000\"/>\n     <use xlink:href=\"#m4e58a34d74\" x=\"221.419822\" y=\"114.447164\" style=\"stroke: #000000\"/>\n     <use xlink:href=\"#m4e58a34d74\" x=\"86.561491\" y=\"174.460035\" style=\"stroke: #000000\"/>\n     <use xlink:href=\"#m4e58a34d74\" x=\"86.554143\" y=\"175.294639\" style=\"stroke: #000000\"/>\n     <use xlink:href=\"#m4e58a34d74\" x=\"56.723792\" y=\"151.392512\" style=\"stroke: #000000\"/>\n     <use xlink:href=\"#m4e58a34d74\" x=\"302.923975\" y=\"49.32632\" style=\"stroke: #000000\"/>\n     <use xlink:href=\"#m4e58a34d74\" x=\"222.168248\" y=\"113.981381\" style=\"stroke: #000000\"/>\n     <use xlink:href=\"#m4e58a34d74\" x=\"254.754829\" y=\"113.497096\" style=\"stroke: #000000\"/>\n     <use xlink:href=\"#m4e58a34d74\" x=\"45.299\" y=\"166.311399\" style=\"stroke: #000000\"/>\n     <use xlink:href=\"#m4e58a34d74\" x=\"334.528347\" y=\"85.115495\" style=\"stroke: #000000\"/>\n     <use xlink:href=\"#m4e58a34d74\" x=\"292.646445\" y=\"42.915467\" style=\"stroke: #000000\"/>\n     <use xlink:href=\"#m4e58a34d74\" x=\"103.720554\" y=\"155.738894\" style=\"stroke: #000000\"/>\n     <use xlink:href=\"#m4e58a34d74\" x=\"94.423861\" y=\"134.165865\" style=\"stroke: #000000\"/>\n     <use xlink:href=\"#m4e58a34d74\" x=\"94.905098\" y=\"174.561863\" style=\"stroke: #000000\"/>\n     <use xlink:href=\"#m4e58a34d74\" x=\"131.720525\" y=\"108.348865\" style=\"stroke: #000000\"/>\n     <use xlink:href=\"#m4e58a34d74\" x=\"198.904209\" y=\"95.203591\" style=\"stroke: #000000\"/>\n     <use xlink:href=\"#m4e58a34d74\" x=\"170.627513\" y=\"189.655437\" style=\"stroke: #000000\"/>\n     <use xlink:href=\"#m4e58a34d74\" x=\"127.755845\" y=\"118.038452\" style=\"stroke: #000000\"/>\n     <use xlink:href=\"#m4e58a34d74\" x=\"225.439741\" y=\"82.348964\" style=\"stroke: #000000\"/>\n     <use xlink:href=\"#m4e58a34d74\" x=\"81.526915\" y=\"119.817482\" style=\"stroke: #000000\"/>\n     <use xlink:href=\"#m4e58a34d74\" x=\"128.034772\" y=\"121.715605\" style=\"stroke: #000000\"/>\n     <use xlink:href=\"#m4e58a34d74\" x=\"150.646399\" y=\"120.695181\" style=\"stroke: #000000\"/>\n     <use xlink:href=\"#m4e58a34d74\" x=\"177.977626\" y=\"138.188503\" style=\"stroke: #000000\"/>\n     <use xlink:href=\"#m4e58a34d74\" x=\"278.245786\" y=\"84.693488\" style=\"stroke: #000000\"/>\n     <use xlink:href=\"#m4e58a34d74\" x=\"99.86183\" y=\"145.09956\" style=\"stroke: #000000\"/>\n     <use xlink:href=\"#m4e58a34d74\" x=\"195.698491\" y=\"82.357465\" style=\"stroke: #000000\"/>\n     <use xlink:href=\"#m4e58a34d74\" x=\"219.517499\" y=\"59.192996\" style=\"stroke: #000000\"/>\n     <use xlink:href=\"#m4e58a34d74\" x=\"53.179525\" y=\"173.232705\" style=\"stroke: #000000\"/>\n     <use xlink:href=\"#m4e58a34d74\" x=\"224.127217\" y=\"48.782563\" style=\"stroke: #000000\"/>\n     <use xlink:href=\"#m4e58a34d74\" x=\"90.980852\" y=\"214.756364\" style=\"stroke: #000000\"/>\n     <use xlink:href=\"#m4e58a34d74\" x=\"58.846715\" y=\"138.332426\" style=\"stroke: #000000\"/>\n     <use xlink:href=\"#m4e58a34d74\" x=\"328.122905\" y=\"17.083636\" style=\"stroke: #000000\"/>\n     <use xlink:href=\"#m4e58a34d74\" x=\"333.225031\" y=\"90.779539\" style=\"stroke: #000000\"/>\n     <use xlink:href=\"#m4e58a34d74\" x=\"285.320606\" y=\"58.235261\" style=\"stroke: #000000\"/>\n     <use xlink:href=\"#m4e58a34d74\" x=\"131.833717\" y=\"112.066683\" style=\"stroke: #000000\"/>\n     <use xlink:href=\"#m4e58a34d74\" x=\"68.785154\" y=\"174.464498\" style=\"stroke: #000000\"/>\n     <use xlink:href=\"#m4e58a34d74\" x=\"247.491673\" y=\"143.805073\" style=\"stroke: #000000\"/>\n     <use xlink:href=\"#m4e58a34d74\" x=\"173.128071\" y=\"140.89963\" style=\"stroke: #000000\"/>\n     <use xlink:href=\"#m4e58a34d74\" x=\"76.208739\" y=\"198.036336\" style=\"stroke: #000000\"/>\n     <use xlink:href=\"#m4e58a34d74\" x=\"189.892267\" y=\"102.473905\" style=\"stroke: #000000\"/>\n     <use xlink:href=\"#m4e58a34d74\" x=\"49.504649\" y=\"175.43515\" style=\"stroke: #000000\"/>\n     <use xlink:href=\"#m4e58a34d74\" x=\"316.068662\" y=\"24.024642\" style=\"stroke: #000000\"/>\n     <use xlink:href=\"#m4e58a34d74\" x=\"117.869615\" y=\"152.232027\" style=\"stroke: #000000\"/>\n     <use xlink:href=\"#m4e58a34d74\" x=\"240.877098\" y=\"111.16366\" style=\"stroke: #000000\"/>\n     <use xlink:href=\"#m4e58a34d74\" x=\"133.996042\" y=\"94.458562\" style=\"stroke: #000000\"/>\n     <use xlink:href=\"#m4e58a34d74\" x=\"197.475799\" y=\"125.767792\" style=\"stroke: #000000\"/>\n     <use xlink:href=\"#m4e58a34d74\" x=\"205.592851\" y=\"76.729123\" style=\"stroke: #000000\"/>\n     <use xlink:href=\"#m4e58a34d74\" x=\"95.34685\" y=\"147.110572\" style=\"stroke: #000000\"/>\n     <use xlink:href=\"#m4e58a34d74\" x=\"334.429262\" y=\"104.423185\" style=\"stroke: #000000\"/>\n     <use xlink:href=\"#m4e58a34d74\" x=\"275.18596\" y=\"59.033702\" style=\"stroke: #000000\"/>\n     <use xlink:href=\"#m4e58a34d74\" x=\"325.263107\" y=\"62.722308\" style=\"stroke: #000000\"/>\n     <use xlink:href=\"#m4e58a34d74\" x=\"311.653089\" y=\"36.375768\" style=\"stroke: #000000\"/>\n     <use xlink:href=\"#m4e58a34d74\" x=\"221.18873\" y=\"108.842687\" style=\"stroke: #000000\"/>\n     <use xlink:href=\"#m4e58a34d74\" x=\"319.893417\" y=\"96.813608\" style=\"stroke: #000000\"/>\n     <use xlink:href=\"#m4e58a34d74\" x=\"65.988417\" y=\"146.371984\" style=\"stroke: #000000\"/>\n     <use xlink:href=\"#m4e58a34d74\" x=\"98.737323\" y=\"167.003354\" style=\"stroke: #000000\"/>\n     <use xlink:href=\"#m4e58a34d74\" x=\"52.806878\" y=\"145.669356\" style=\"stroke: #000000\"/>\n     <use xlink:href=\"#m4e58a34d74\" x=\"138.145397\" y=\"106.36421\" style=\"stroke: #000000\"/>\n     <use xlink:href=\"#m4e58a34d74\" x=\"157.445208\" y=\"153.286651\" style=\"stroke: #000000\"/>\n     <use xlink:href=\"#m4e58a34d74\" x=\"121.699006\" y=\"120.475438\" style=\"stroke: #000000\"/>\n     <use xlink:href=\"#m4e58a34d74\" x=\"291.517609\" y=\"32.436251\" style=\"stroke: #000000\"/>\n     <use xlink:href=\"#m4e58a34d74\" x=\"147.718988\" y=\"140.90739\" style=\"stroke: #000000\"/>\n     <use xlink:href=\"#m4e58a34d74\" x=\"124.619398\" y=\"76.773581\" style=\"stroke: #000000\"/>\n     <use xlink:href=\"#m4e58a34d74\" x=\"204.369852\" y=\"72.523255\" style=\"stroke: #000000\"/>\n     <use xlink:href=\"#m4e58a34d74\" x=\"81.962702\" y=\"207.376533\" style=\"stroke: #000000\"/>\n     <use xlink:href=\"#m4e58a34d74\" x=\"283.431551\" y=\"31.7324\" style=\"stroke: #000000\"/>\n     <use xlink:href=\"#m4e58a34d74\" x=\"61.740775\" y=\"177.60024\" style=\"stroke: #000000\"/>\n     <use xlink:href=\"#m4e58a34d74\" x=\"339.700727\" y=\"40.258617\" style=\"stroke: #000000\"/>\n     <use xlink:href=\"#m4e58a34d74\" x=\"274.306061\" y=\"37.797536\" style=\"stroke: #000000\"/>\n     <use xlink:href=\"#m4e58a34d74\" x=\"99.569927\" y=\"192.40571\" style=\"stroke: #000000\"/>\n     <use xlink:href=\"#m4e58a34d74\" x=\"40.709971\" y=\"142.775229\" style=\"stroke: #000000\"/>\n     <use xlink:href=\"#m4e58a34d74\" x=\"287.472808\" y=\"32.41388\" style=\"stroke: #000000\"/>\n     <use xlink:href=\"#m4e58a34d74\" x=\"254.384585\" y=\"84.206983\" style=\"stroke: #000000\"/>\n     <use xlink:href=\"#m4e58a34d74\" x=\"261.132935\" y=\"49.190494\" style=\"stroke: #000000\"/>\n     <use xlink:href=\"#m4e58a34d74\" x=\"274.009186\" y=\"71.974211\" style=\"stroke: #000000\"/>\n     <use xlink:href=\"#m4e58a34d74\" x=\"61.586615\" y=\"172.198039\" style=\"stroke: #000000\"/>\n     <use xlink:href=\"#m4e58a34d74\" x=\"148.240703\" y=\"145.784532\" style=\"stroke: #000000\"/>\n     <use xlink:href=\"#m4e58a34d74\" x=\"74.329187\" y=\"189.6468\" style=\"stroke: #000000\"/>\n     <use xlink:href=\"#m4e58a34d74\" x=\"301.987814\" y=\"44.634034\" style=\"stroke: #000000\"/>\n     <use xlink:href=\"#m4e58a34d74\" x=\"228.92674\" y=\"80.210119\" style=\"stroke: #000000\"/>\n     <use xlink:href=\"#m4e58a34d74\" x=\"139.841697\" y=\"108.996154\" style=\"stroke: #000000\"/>\n     <use xlink:href=\"#m4e58a34d74\" x=\"58.391772\" y=\"132.373916\" style=\"stroke: #000000\"/>\n     <use xlink:href=\"#m4e58a34d74\" x=\"133.774014\" y=\"113.584307\" style=\"stroke: #000000\"/>\n     <use xlink:href=\"#m4e58a34d74\" x=\"138.100608\" y=\"79.931554\" style=\"stroke: #000000\"/>\n     <use xlink:href=\"#m4e58a34d74\" x=\"261.315434\" y=\"100.427047\" style=\"stroke: #000000\"/>\n     <use xlink:href=\"#m4e58a34d74\" x=\"233.271111\" y=\"29.536486\" style=\"stroke: #000000\"/>\n     <use xlink:href=\"#m4e58a34d74\" x=\"309.333159\" y=\"36.840863\" style=\"stroke: #000000\"/>\n     <use xlink:href=\"#m4e58a34d74\" x=\"182.896478\" y=\"149.509197\" style=\"stroke: #000000\"/>\n     <use xlink:href=\"#m4e58a34d74\" x=\"75.464133\" y=\"197.264882\" style=\"stroke: #000000\"/>\n     <use xlink:href=\"#m4e58a34d74\" x=\"256.330637\" y=\"90.214347\" style=\"stroke: #000000\"/>\n     <use xlink:href=\"#m4e58a34d74\" x=\"270.814648\" y=\"78.909\" style=\"stroke: #000000\"/>\n     <use xlink:href=\"#m4e58a34d74\" x=\"210.030929\" y=\"60.783537\" style=\"stroke: #000000\"/>\n     <use xlink:href=\"#m4e58a34d74\" x=\"273.91682\" y=\"55.042462\" style=\"stroke: #000000\"/>\n     <use xlink:href=\"#m4e58a34d74\" x=\"189.471424\" y=\"116.491673\" style=\"stroke: #000000\"/>\n     <use xlink:href=\"#m4e58a34d74\" x=\"198.287682\" y=\"114.894782\" style=\"stroke: #000000\"/>\n     <use xlink:href=\"#m4e58a34d74\" x=\"169.285754\" y=\"180.359199\" style=\"stroke: #000000\"/>\n     <use xlink:href=\"#m4e58a34d74\" x=\"46.771959\" y=\"166.886424\" style=\"stroke: #000000\"/>\n     <use xlink:href=\"#m4e58a34d74\" x=\"71.898655\" y=\"146.361212\" style=\"stroke: #000000\"/>\n     <use xlink:href=\"#m4e58a34d74\" x=\"48.603034\" y=\"149.176968\" style=\"stroke: #000000\"/>\n     <use xlink:href=\"#m4e58a34d74\" x=\"232.921638\" y=\"123.666418\" style=\"stroke: #000000\"/>\n     <use xlink:href=\"#m4e58a34d74\" x=\"134.801861\" y=\"109.694702\" style=\"stroke: #000000\"/>\n     <use xlink:href=\"#m4e58a34d74\" x=\"193.972927\" y=\"95.03445\" style=\"stroke: #000000\"/>\n     <use xlink:href=\"#m4e58a34d74\" x=\"315.534296\" y=\"81.405853\" style=\"stroke: #000000\"/>\n     <use xlink:href=\"#m4e58a34d74\" x=\"114.978998\" y=\"136.270354\" style=\"stroke: #000000\"/>\n     <use xlink:href=\"#m4e58a34d74\" x=\"164.058226\" y=\"141.721572\" style=\"stroke: #000000\"/>\n     <use xlink:href=\"#m4e58a34d74\" x=\"269.220041\" y=\"104.578544\" style=\"stroke: #000000\"/>\n     <use xlink:href=\"#m4e58a34d74\" x=\"108.735106\" y=\"145.949621\" style=\"stroke: #000000\"/>\n     <use xlink:href=\"#m4e58a34d74\" x=\"62.480895\" y=\"141.631628\" style=\"stroke: #000000\"/>\n     <use xlink:href=\"#m4e58a34d74\" x=\"127.305641\" y=\"92.041639\" style=\"stroke: #000000\"/>\n     <use xlink:href=\"#m4e58a34d74\" x=\"88.146573\" y=\"156.629499\" style=\"stroke: #000000\"/>\n     <use xlink:href=\"#m4e58a34d74\" x=\"322.276964\" y=\"100.193901\" style=\"stroke: #000000\"/>\n     <use xlink:href=\"#m4e58a34d74\" x=\"285.236223\" y=\"67.208315\" style=\"stroke: #000000\"/>\n     <use xlink:href=\"#m4e58a34d74\" x=\"232.005605\" y=\"80.37644\" style=\"stroke: #000000\"/>\n     <use xlink:href=\"#m4e58a34d74\" x=\"304.533977\" y=\"33.25632\" style=\"stroke: #000000\"/>\n     <use xlink:href=\"#m4e58a34d74\" x=\"283.880966\" y=\"34.431843\" style=\"stroke: #000000\"/>\n     <use xlink:href=\"#m4e58a34d74\" x=\"95.86954\" y=\"85.8337\" style=\"stroke: #000000\"/>\n     <use xlink:href=\"#m4e58a34d74\" x=\"310.961994\" y=\"40.434458\" style=\"stroke: #000000\"/>\n     <use xlink:href=\"#m4e58a34d74\" x=\"203.348043\" y=\"58.278488\" style=\"stroke: #000000\"/>\n    </g>\n   </g>\n   <g id=\"matplotlib.axis_1\">\n    <g id=\"xtick_1\">\n     <g id=\"line2d_1\">\n      <defs>\n       <path id=\"m1f7bd8a533\" d=\"M 0 0 \nL 0 3.5 \n\" style=\"stroke: #000000; stroke-width: 0.8\"/>\n      </defs>\n      <g>\n       <use xlink:href=\"#m1f7bd8a533\" x=\"39.027557\" y=\"224.64\" style=\"stroke: #000000; stroke-width: 0.8\"/>\n      </g>\n     </g>\n     <g id=\"text_1\">\n      <!-- -3 -->\n      <g transform=\"translate(34.222869 239.232187)scale(0.1 -0.1)\">\n       <defs>\n        <path id=\"MalgunGothic-2d\" d=\"M 2213 1634 \nL 463 1634 \nL 463 2031 \nL 2213 2031 \nL 2213 1634 \nz\n\" transform=\"scale(0.015625)\"/>\n        <path id=\"MalgunGothic-33\" d=\"M 416 719 \nQ 891 344 1478 344 \nQ 1959 344 2254 587 \nQ 2550 831 2550 1247 \nQ 2550 2169 1253 2169 \nL 872 2169 \nL 872 2591 \nL 1234 2591 \nQ 2388 2591 2388 3453 \nQ 2388 4250 1509 4250 \nQ 1022 4250 594 3916 \nL 594 4413 \nQ 1031 4675 1634 4675 \nQ 2184 4675 2539 4372 \nQ 2894 4069 2894 3581 \nQ 2894 2678 1972 2409 \nL 1972 2400 \nQ 2469 2356 2764 2053 \nQ 3059 1750 3059 1300 \nQ 3059 672 2604 297 \nQ 2150 -78 1450 -78 \nQ 806 -78 416 169 \nL 416 719 \nz\n\" transform=\"scale(0.015625)\"/>\n       </defs>\n       <use xlink:href=\"#MalgunGothic-2d\"/>\n       <use xlink:href=\"#MalgunGothic-33\" x=\"41.015625\"/>\n      </g>\n     </g>\n    </g>\n    <g id=\"xtick_2\">\n     <g id=\"line2d_2\">\n      <g>\n       <use xlink:href=\"#m1f7bd8a533\" x=\"89.805608\" y=\"224.64\" style=\"stroke: #000000; stroke-width: 0.8\"/>\n      </g>\n     </g>\n     <g id=\"text_2\">\n      <!-- -2 -->\n      <g transform=\"translate(85.00092 239.232187)scale(0.1 -0.1)\">\n       <defs>\n        <path id=\"MalgunGothic-32\" d=\"M 2519 3372 \nQ 2519 3784 2275 4018 \nQ 2031 4253 1628 4253 \nQ 1341 4253 1053 4104 \nQ 766 3956 534 3697 \nL 534 4234 \nQ 981 4675 1691 4675 \nQ 2281 4675 2642 4334 \nQ 3003 3994 3003 3416 \nQ 3003 2919 2772 2545 \nQ 2541 2172 1984 1775 \nQ 1459 1406 1254 1215 \nQ 1050 1025 967 854 \nQ 884 684 884 450 \nL 3116 450 \nL 3116 0 \nL 356 0 \nL 356 225 \nQ 356 603 461 870 \nQ 566 1138 811 1392 \nQ 1056 1647 1597 2022 \nQ 2091 2363 2305 2670 \nQ 2519 2978 2519 3372 \nz\n\" transform=\"scale(0.015625)\"/>\n       </defs>\n       <use xlink:href=\"#MalgunGothic-2d\"/>\n       <use xlink:href=\"#MalgunGothic-32\" x=\"41.015625\"/>\n      </g>\n     </g>\n    </g>\n    <g id=\"xtick_3\">\n     <g id=\"line2d_3\">\n      <g>\n       <use xlink:href=\"#m1f7bd8a533\" x=\"140.583658\" y=\"224.64\" style=\"stroke: #000000; stroke-width: 0.8\"/>\n      </g>\n     </g>\n     <g id=\"text_3\">\n      <!-- -1 -->\n      <g transform=\"translate(135.778971 239.232187)scale(0.1 -0.1)\">\n       <defs>\n        <path id=\"MalgunGothic-31\" d=\"M 2231 0 \nL 1734 0 \nL 1734 3972 \nQ 1591 3828 1266 3661 \nQ 941 3494 672 3428 \nL 672 3959 \nQ 1016 4056 1409 4275 \nQ 1803 4494 2031 4700 \nL 2231 4700 \nL 2231 0 \nz\n\" transform=\"scale(0.015625)\"/>\n       </defs>\n       <use xlink:href=\"#MalgunGothic-2d\"/>\n       <use xlink:href=\"#MalgunGothic-31\" x=\"41.015625\"/>\n      </g>\n     </g>\n    </g>\n    <g id=\"xtick_4\">\n     <g id=\"line2d_4\">\n      <g>\n       <use xlink:href=\"#m1f7bd8a533\" x=\"191.361709\" y=\"224.64\" style=\"stroke: #000000; stroke-width: 0.8\"/>\n      </g>\n     </g>\n     <g id=\"text_4\">\n      <!-- 0 -->\n      <g transform=\"translate(188.607803 239.232187)scale(0.1 -0.1)\">\n       <defs>\n        <path id=\"MalgunGothic-30\" d=\"M 278 2206 \nQ 278 3425 675 4050 \nQ 1072 4675 1819 4675 \nQ 3253 4675 3253 2319 \nQ 3253 1156 2854 539 \nQ 2456 -78 1716 -78 \nQ 1016 -78 647 520 \nQ 278 1119 278 2206 \nz\nM 784 2231 \nQ 784 344 1769 344 \nQ 2747 344 2747 2259 \nQ 2747 4250 1794 4250 \nQ 784 4250 784 2231 \nz\n\" transform=\"scale(0.015625)\"/>\n       </defs>\n       <use xlink:href=\"#MalgunGothic-30\"/>\n      </g>\n     </g>\n    </g>\n    <g id=\"xtick_5\">\n     <g id=\"line2d_5\">\n      <g>\n       <use xlink:href=\"#m1f7bd8a533\" x=\"242.13976\" y=\"224.64\" style=\"stroke: #000000; stroke-width: 0.8\"/>\n      </g>\n     </g>\n     <g id=\"text_5\">\n      <!-- 1 -->\n      <g transform=\"translate(239.385854 239.232187)scale(0.1 -0.1)\">\n       <use xlink:href=\"#MalgunGothic-31\"/>\n      </g>\n     </g>\n    </g>\n    <g id=\"xtick_6\">\n     <g id=\"line2d_6\">\n      <g>\n       <use xlink:href=\"#m1f7bd8a533\" x=\"292.917811\" y=\"224.64\" style=\"stroke: #000000; stroke-width: 0.8\"/>\n      </g>\n     </g>\n     <g id=\"text_6\">\n      <!-- 2 -->\n      <g transform=\"translate(290.163904 239.232187)scale(0.1 -0.1)\">\n       <use xlink:href=\"#MalgunGothic-32\"/>\n      </g>\n     </g>\n    </g>\n    <g id=\"xtick_7\">\n     <g id=\"line2d_7\">\n      <g>\n       <use xlink:href=\"#m1f7bd8a533\" x=\"343.695861\" y=\"224.64\" style=\"stroke: #000000; stroke-width: 0.8\"/>\n      </g>\n     </g>\n     <g id=\"text_7\">\n      <!-- 3 -->\n      <g transform=\"translate(340.941955 239.232187)scale(0.1 -0.1)\">\n       <use xlink:href=\"#MalgunGothic-33\"/>\n      </g>\n     </g>\n    </g>\n   </g>\n   <g id=\"matplotlib.axis_2\">\n    <g id=\"ytick_1\">\n     <g id=\"line2d_8\">\n      <defs>\n       <path id=\"m9676a917e6\" d=\"M 0 0 \nL -3.5 0 \n\" style=\"stroke: #000000; stroke-width: 0.8\"/>\n      </defs>\n      <g>\n       <use xlink:href=\"#m9676a917e6\" x=\"23.809375\" y=\"205.755544\" style=\"stroke: #000000; stroke-width: 0.8\"/>\n      </g>\n     </g>\n     <g id=\"text_8\">\n      <!-- -2 -->\n      <g transform=\"translate(7.2 209.551638)scale(0.1 -0.1)\">\n       <use xlink:href=\"#MalgunGothic-2d\"/>\n       <use xlink:href=\"#MalgunGothic-32\" x=\"41.015625\"/>\n      </g>\n     </g>\n    </g>\n    <g id=\"ytick_2\">\n     <g id=\"line2d_9\">\n      <g>\n       <use xlink:href=\"#m9676a917e6\" x=\"23.809375\" y=\"158.041122\" style=\"stroke: #000000; stroke-width: 0.8\"/>\n      </g>\n     </g>\n     <g id=\"text_9\">\n      <!-- -1 -->\n      <g transform=\"translate(7.2 161.837215)scale(0.1 -0.1)\">\n       <use xlink:href=\"#MalgunGothic-2d\"/>\n       <use xlink:href=\"#MalgunGothic-31\" x=\"41.015625\"/>\n      </g>\n     </g>\n    </g>\n    <g id=\"ytick_3\">\n     <g id=\"line2d_10\">\n      <g>\n       <use xlink:href=\"#m9676a917e6\" x=\"23.809375\" y=\"110.326699\" style=\"stroke: #000000; stroke-width: 0.8\"/>\n      </g>\n     </g>\n     <g id=\"text_10\">\n      <!-- 0 -->\n      <g transform=\"translate(11.301563 114.122793)scale(0.1 -0.1)\">\n       <use xlink:href=\"#MalgunGothic-30\"/>\n      </g>\n     </g>\n    </g>\n    <g id=\"ytick_4\">\n     <g id=\"line2d_11\">\n      <g>\n       <use xlink:href=\"#m9676a917e6\" x=\"23.809375\" y=\"62.612276\" style=\"stroke: #000000; stroke-width: 0.8\"/>\n      </g>\n     </g>\n     <g id=\"text_11\">\n      <!-- 1 -->\n      <g transform=\"translate(11.301563 66.40837)scale(0.1 -0.1)\">\n       <use xlink:href=\"#MalgunGothic-31\"/>\n      </g>\n     </g>\n    </g>\n    <g id=\"ytick_5\">\n     <g id=\"line2d_12\">\n      <g>\n       <use xlink:href=\"#m9676a917e6\" x=\"23.809375\" y=\"14.897854\" style=\"stroke: #000000; stroke-width: 0.8\"/>\n      </g>\n     </g>\n     <g id=\"text_12\">\n      <!-- 2 -->\n      <g transform=\"translate(11.301563 18.693947)scale(0.1 -0.1)\">\n       <use xlink:href=\"#MalgunGothic-32\"/>\n      </g>\n     </g>\n    </g>\n   </g>\n   <g id=\"line2d_13\">\n    <path d=\"M 39.027557 156.923498 \nL 70.408392 156.923498 \nL 70.713061 166.224965 \nL 100.265886 166.224965 \nL 100.570554 124.359512 \nL 130.12338 124.359512 \nL 130.428048 118.635316 \nL 160.285542 118.635316 \nL 160.59021 144.91239 \nL 190.143036 144.91239 \nL 190.447704 84.076548 \nL 220.00053 84.076548 \nL 220.305198 94.28736 \nL 249.858024 94.28736 \nL 250.162692 79.360385 \nL 279.715518 79.360385 \nL 280.020186 42.130087 \nL 309.573011 42.130087 \nL 309.87768 65.902811 \nL 343.391193 65.902811 \nL 343.391193 65.902811 \n\" clip-path=\"url(#pf1f39b6cb3)\" style=\"fill: none; stroke: #1f77b4; stroke-width: 1.5; stroke-linecap: square\"/>\n   </g>\n   <g id=\"line2d_14\">\n    <path d=\"M 39.027557 156.923498 \nL 70.408392 156.923498 \nL 70.713061 166.224965 \nL 100.265886 166.224965 \nL 100.570554 124.359512 \nL 130.12338 124.359512 \nL 130.428048 118.635316 \nL 160.285542 118.635316 \nL 160.59021 144.91239 \nL 190.143036 144.91239 \nL 190.447704 84.076548 \nL 220.00053 84.076548 \nL 220.305198 94.28736 \nL 249.858024 94.28736 \nL 250.162692 79.360385 \nL 279.715518 79.360385 \nL 280.020186 42.130087 \nL 309.573011 42.130087 \nL 309.87768 65.902811 \nL 343.391193 65.902811 \nL 343.391193 65.902811 \n\" clip-path=\"url(#pf1f39b6cb3)\" style=\"fill: none; stroke: #ff7f0e; stroke-width: 1.5; stroke-linecap: square\"/>\n   </g>\n   <g id=\"patch_3\">\n    <path d=\"M 23.809375 224.64 \nL 23.809375 7.2 \n\" style=\"fill: none; stroke: #000000; stroke-width: 0.8; stroke-linejoin: miter; stroke-linecap: square\"/>\n   </g>\n   <g id=\"patch_4\">\n    <path d=\"M 358.609375 224.64 \nL 358.609375 7.2 \n\" style=\"fill: none; stroke: #000000; stroke-width: 0.8; stroke-linejoin: miter; stroke-linecap: square\"/>\n   </g>\n   <g id=\"patch_5\">\n    <path d=\"M 23.809375 224.64 \nL 358.609375 224.64 \n\" style=\"fill: none; stroke: #000000; stroke-width: 0.8; stroke-linejoin: miter; stroke-linecap: square\"/>\n   </g>\n   <g id=\"patch_6\">\n    <path d=\"M 23.809375 7.2 \nL 358.609375 7.2 \n\" style=\"fill: none; stroke: #000000; stroke-width: 0.8; stroke-linejoin: miter; stroke-linecap: square\"/>\n   </g>\n   <g id=\"legend_1\">\n    <g id=\"patch_7\">\n     <path d=\"M 30.809375 45.1125 \nL 119.5875 45.1125 \nQ 121.5875 45.1125 121.5875 43.1125 \nL 121.5875 14.2 \nQ 121.5875 12.2 119.5875 12.2 \nL 30.809375 12.2 \nQ 28.809375 12.2 28.809375 14.2 \nL 28.809375 43.1125 \nQ 28.809375 45.1125 30.809375 45.1125 \nz\n\" style=\"fill: #ffffff; opacity: 0.8; stroke: #cccccc; stroke-linejoin: miter\"/>\n    </g>\n    <g id=\"line2d_15\">\n     <path d=\"M 32.809375 20.292187 \nL 42.809375 20.292187 \nL 52.809375 20.292187 \n\" style=\"fill: none; stroke: #1f77b4; stroke-width: 1.5; stroke-linecap: square\"/>\n    </g>\n    <g id=\"text_13\">\n     <!-- DecisionTree -->\n     <g transform=\"translate(60.809375 23.792187)scale(0.1 -0.1)\">\n      <defs>\n       <path id=\"MalgunGothic-44\" d=\"M 609 0 \nL 609 4600 \nL 1856 4600 \nQ 4281 4600 4281 2356 \nQ 4281 1288 3587 644 \nQ 2894 0 1800 0 \nL 609 0 \nz\nM 1113 4134 \nL 1113 463 \nL 1813 463 \nQ 2734 463 3243 958 \nQ 3753 1453 3753 2344 \nQ 3753 4134 1844 4134 \nL 1113 4134 \nz\n\" transform=\"scale(0.015625)\"/>\n       <path id=\"MalgunGothic-65\" d=\"M 3156 1519 \nL 828 1519 \nQ 844 950 1133 648 \nQ 1422 347 1909 347 \nQ 2472 347 2934 719 \nL 2934 244 \nQ 2494 -78 1794 -78 \nQ 1100 -78 708 376 \nQ 316 831 316 1634 \nQ 316 2381 747 2870 \nQ 1178 3359 1816 3359 \nQ 2453 3359 2804 2942 \nQ 3156 2525 3156 1788 \nL 3156 1519 \nz\nM 2644 1956 \nQ 2644 2416 2423 2675 \nQ 2203 2934 1809 2934 \nQ 1438 2934 1169 2667 \nQ 900 2400 834 1956 \nL 2644 1956 \nz\n\" transform=\"scale(0.015625)\"/>\n       <path id=\"MalgunGothic-63\" d=\"M 2763 153 \nQ 2375 -78 1872 -78 \nQ 1184 -78 750 372 \nQ 316 822 316 1566 \nQ 316 2381 777 2870 \nQ 1238 3359 2009 3359 \nQ 2434 3359 2766 3200 \nL 2766 2681 \nQ 2397 2941 1981 2941 \nQ 1478 2941 1148 2577 \nQ 819 2213 819 1609 \nQ 819 1034 1120 689 \nQ 1422 344 1947 344 \nQ 2381 344 2763 631 \nL 2763 153 \nz\n\" transform=\"scale(0.015625)\"/>\n       <path id=\"MalgunGothic-69\" d=\"M 472 4466 \nQ 472 4606 565 4701 \nQ 659 4797 794 4797 \nQ 934 4797 1029 4700 \nQ 1125 4603 1125 4466 \nQ 1125 4325 1029 4231 \nQ 934 4138 794 4138 \nQ 659 4138 565 4230 \nQ 472 4322 472 4466 \nz\nM 541 0 \nL 541 3284 \nL 1034 3284 \nL 1034 0 \nL 541 0 \nz\n\" transform=\"scale(0.015625)\"/>\n       <path id=\"MalgunGothic-73\" d=\"M 331 669 \nQ 763 350 1278 350 \nQ 1978 350 1978 822 \nQ 1978 1025 1825 1158 \nQ 1672 1291 1222 1459 \nQ 703 1666 520 1878 \nQ 338 2091 338 2416 \nQ 338 2834 700 3096 \nQ 1063 3359 1584 3359 \nQ 2003 3359 2341 3213 \nL 2341 2697 \nQ 1975 2934 1506 2934 \nQ 1200 2934 1025 2798 \nQ 850 2663 850 2459 \nQ 850 2241 979 2125 \nQ 1109 2009 1544 1838 \nQ 2131 1609 2309 1390 \nQ 2488 1172 2488 869 \nQ 2488 431 2127 176 \nQ 1766 -78 1203 -78 \nQ 694 -78 331 122 \nL 331 669 \nz\n\" transform=\"scale(0.015625)\"/>\n       <path id=\"MalgunGothic-6f\" d=\"M 316 1600 \nQ 316 2419 761 2889 \nQ 1206 3359 1978 3359 \nQ 2697 3359 3111 2907 \nQ 3525 2456 3525 1650 \nQ 3525 869 3078 395 \nQ 2631 -78 1900 -78 \nQ 1184 -78 750 384 \nQ 316 847 316 1600 \nz\nM 819 1622 \nQ 819 1041 1123 692 \nQ 1428 344 1934 344 \nQ 2459 344 2739 680 \nQ 3019 1016 3019 1634 \nQ 3019 2256 2737 2598 \nQ 2456 2941 1934 2941 \nQ 1425 2941 1122 2587 \nQ 819 2234 819 1622 \nz\n\" transform=\"scale(0.015625)\"/>\n       <path id=\"MalgunGothic-6e\" d=\"M 3238 0 \nL 2741 0 \nL 2741 1875 \nQ 2741 2941 1963 2941 \nQ 1563 2941 1298 2639 \nQ 1034 2338 1034 1872 \nL 1034 0 \nL 538 0 \nL 538 3284 \nL 1034 3284 \nL 1034 2734 \nL 1047 2734 \nQ 1416 3359 2125 3359 \nQ 2666 3359 2952 3012 \nQ 3238 2666 3238 2006 \nL 3238 0 \nz\n\" transform=\"scale(0.015625)\"/>\n       <path id=\"MalgunGothic-54\" d=\"M 3294 4134 \nL 1966 4134 \nL 1966 0 \nL 1456 0 \nL 1456 4134 \nL 134 4134 \nL 134 4600 \nL 3294 4600 \nL 3294 4134 \nz\n\" transform=\"scale(0.015625)\"/>\n       <path id=\"MalgunGothic-72\" d=\"M 2225 2775 \nQ 2084 2881 1828 2881 \nQ 1491 2881 1262 2553 \nQ 1034 2225 1034 1681 \nL 1034 0 \nL 538 0 \nL 538 3284 \nL 1034 3284 \nL 1034 2603 \nL 1047 2603 \nQ 1159 2950 1389 3145 \nQ 1619 3341 1903 3341 \nQ 2109 3341 2225 3297 \nL 2225 2775 \nz\n\" transform=\"scale(0.015625)\"/>\n      </defs>\n      <use xlink:href=\"#MalgunGothic-44\"/>\n      <use xlink:href=\"#MalgunGothic-65\" x=\"71.728516\"/>\n      <use xlink:href=\"#MalgunGothic-63\" x=\"125.244141\"/>\n      <use xlink:href=\"#MalgunGothic-69\" x=\"172.509766\"/>\n      <use xlink:href=\"#MalgunGothic-73\" x=\"197.119141\"/>\n      <use xlink:href=\"#MalgunGothic-69\" x=\"240.429688\"/>\n      <use xlink:href=\"#MalgunGothic-6f\" x=\"265.039062\"/>\n      <use xlink:href=\"#MalgunGothic-6e\" x=\"324.951172\"/>\n      <use xlink:href=\"#MalgunGothic-54\" x=\"382.763672\"/>\n      <use xlink:href=\"#MalgunGothic-72\" x=\"426.757812\"/>\n      <use xlink:href=\"#MalgunGothic-65\" x=\"460.734375\"/>\n      <use xlink:href=\"#MalgunGothic-65\" x=\"514.25\"/>\n     </g>\n    </g>\n    <g id=\"line2d_16\">\n     <path d=\"M 32.809375 35.248437 \nL 42.809375 35.248437 \nL 52.809375 35.248437 \n\" style=\"fill: none; stroke: #ff7f0e; stroke-width: 1.5; stroke-linecap: square\"/>\n    </g>\n    <g id=\"text_14\">\n     <!-- LinearModel -->\n     <g transform=\"translate(60.809375 38.748437)scale(0.1 -0.1)\">\n      <defs>\n       <path id=\"MalgunGothic-4c\" d=\"M 2972 0 \nL 609 0 \nL 609 4600 \nL 1113 4600 \nL 1113 463 \nL 2972 463 \nL 2972 0 \nz\n\" transform=\"scale(0.015625)\"/>\n       <path id=\"MalgunGothic-61\" d=\"M 616 3050 \nQ 1097 3359 1722 3359 \nQ 2866 3359 2866 2147 \nL 2866 0 \nL 2369 0 \nL 2369 516 \nL 2350 516 \nQ 2009 -78 1341 -78 \nQ 859 -78 576 180 \nQ 294 438 294 869 \nQ 294 1784 1375 1934 \nL 2366 2078 \nQ 2366 2934 1684 2934 \nQ 1084 2934 616 2525 \nL 616 3050 \nz\nM 1563 1559 \nQ 1178 1509 993 1371 \nQ 809 1234 809 903 \nQ 809 653 986 500 \nQ 1163 347 1450 347 \nQ 1847 347 2106 628 \nQ 2366 909 2366 1334 \nL 2366 1666 \nL 1563 1559 \nz\n\" transform=\"scale(0.015625)\"/>\n       <path id=\"MalgunGothic-4d\" d=\"M 4756 0 \nL 4756 3106 \nQ 4756 3466 4803 3994 \nL 4788 3994 \nQ 4713 3684 4653 3559 \nL 3050 0 \nL 2822 0 \nL 1222 3534 \nQ 1159 3669 1091 3994 \nL 1075 3994 \nQ 1100 3822 1100 3116 \nL 1100 0 \nL 609 0 \nL 609 4600 \nL 1269 4600 \nL 2706 1359 \nQ 2881 966 2922 816 \nL 2941 816 \nQ 2988 944 3166 1375 \nL 4638 4600 \nL 5259 4600 \nL 5259 0 \nL 4756 0 \nz\n\" transform=\"scale(0.015625)\"/>\n       <path id=\"MalgunGothic-64\" d=\"M 3313 0 \nL 2822 0 \nL 2822 566 \nL 2809 566 \nQ 2444 -78 1675 -78 \nQ 1056 -78 686 364 \nQ 316 806 316 1566 \nQ 316 2375 728 2867 \nQ 1141 3359 1816 3359 \nQ 2494 3359 2809 2822 \nL 2822 2822 \nL 2822 4859 \nL 3313 4859 \nL 3313 0 \nz\nM 2822 1978 \nQ 2822 2378 2550 2659 \nQ 2278 2941 1872 2941 \nQ 1384 2941 1101 2577 \nQ 819 2213 819 1591 \nQ 819 1025 1086 684 \nQ 1353 344 1813 344 \nQ 2250 344 2536 666 \nQ 2822 988 2822 1478 \nL 2822 1978 \nz\n\" transform=\"scale(0.015625)\"/>\n       <path id=\"MalgunGothic-6c\" d=\"M 541 0 \nL 541 4859 \nL 1034 4859 \nL 1034 0 \nL 541 0 \nz\n\" transform=\"scale(0.015625)\"/>\n      </defs>\n      <use xlink:href=\"#MalgunGothic-4c\"/>\n      <use xlink:href=\"#MalgunGothic-69\" x=\"47.998047\"/>\n      <use xlink:href=\"#MalgunGothic-6e\" x=\"72.607422\"/>\n      <use xlink:href=\"#MalgunGothic-65\" x=\"130.419922\"/>\n      <use xlink:href=\"#MalgunGothic-61\" x=\"183.935547\"/>\n      <use xlink:href=\"#MalgunGothic-72\" x=\"235.9375\"/>\n      <use xlink:href=\"#MalgunGothic-4d\" x=\"271.289062\"/>\n      <use xlink:href=\"#MalgunGothic-6f\" x=\"362.988281\"/>\n      <use xlink:href=\"#MalgunGothic-64\" x=\"422.900391\"/>\n      <use xlink:href=\"#MalgunGothic-65\" x=\"483.105469\"/>\n      <use xlink:href=\"#MalgunGothic-6c\" x=\"536.621094\"/>\n     </g>\n    </g>\n   </g>\n  </g>\n </g>\n <defs>\n  <clipPath id=\"pf1f39b6cb3\">\n   <rect x=\"23.809375\" y=\"7.2\" width=\"334.8\" height=\"217.44\"/>\n  </clipPath>\n </defs>\n</svg>\n",
      "text/plain": [
       "<Figure size 432x288 with 1 Axes>"
      ]
     },
     "metadata": {
      "needs_background": "light"
     },
     "output_type": "display_data"
    }
   ],
   "source": [
    "# 선형모델은 유연해졌지만 결정트리는 덜 유연 → 트리모델은 구간화가 득이 되지 않음\n",
    "plt.plot(line, dt_reg.predict(line_binned), label='DecisionTree')\n",
    "plt.plot(line, lr_reg.predict(line_binned), label='LinearModel')\n",
    "plt.scatter(X[:, 0], y, c='black')\n",
    "plt.legend()\n",
    "plt.show()"
   ]
  },
  {
   "cell_type": "code",
   "execution_count": 48,
   "metadata": {},
   "outputs": [],
   "source": [
    "X_combined = np.hstack([X, X_binned])\n",
    "line_combined = np.hstack([line, line_binned])\n",
    "dt_reg = DecisionTreeRegressor(min_samples_leaf=3).fit(X_combined, y)\n",
    "lr_reg = LinearRegression().fit(X_combined, y)"
   ]
  },
  {
   "cell_type": "code",
   "execution_count": 47,
   "metadata": {},
   "outputs": [
    {
     "data": {
      "image/svg+xml": "<?xml version=\"1.0\" encoding=\"utf-8\" standalone=\"no\"?>\n<!DOCTYPE svg PUBLIC \"-//W3C//DTD SVG 1.1//EN\"\n  \"http://www.w3.org/Graphics/SVG/1.1/DTD/svg11.dtd\">\n<svg xmlns:xlink=\"http://www.w3.org/1999/xlink\" width=\"365.809375pt\" height=\"248.79625pt\" viewBox=\"0 0 365.809375 248.79625\" xmlns=\"http://www.w3.org/2000/svg\" version=\"1.1\">\n <metadata>\n  <rdf:RDF xmlns:dc=\"http://purl.org/dc/elements/1.1/\" xmlns:cc=\"http://creativecommons.org/ns#\" xmlns:rdf=\"http://www.w3.org/1999/02/22-rdf-syntax-ns#\">\n   <cc:Work>\n    <dc:type rdf:resource=\"http://purl.org/dc/dcmitype/StillImage\"/>\n    <dc:date>2023-01-04T21:35:57.049989</dc:date>\n    <dc:format>image/svg+xml</dc:format>\n    <dc:creator>\n     <cc:Agent>\n      <dc:title>Matplotlib v3.5.1, https://matplotlib.org/</dc:title>\n     </cc:Agent>\n    </dc:creator>\n   </cc:Work>\n  </rdf:RDF>\n </metadata>\n <defs>\n  <style type=\"text/css\">*{stroke-linejoin: round; stroke-linecap: butt}</style>\n </defs>\n <g id=\"figure_1\">\n  <g id=\"patch_1\">\n   <path d=\"M 0 248.79625 \nL 365.809375 248.79625 \nL 365.809375 0 \nL 0 0 \nL 0 248.79625 \nz\n\" style=\"fill: none\"/>\n  </g>\n  <g id=\"axes_1\">\n   <g id=\"patch_2\">\n    <path d=\"M 23.809375 224.64 \nL 358.609375 224.64 \nL 358.609375 7.2 \nL 23.809375 7.2 \nz\n\" style=\"fill: #ffffff\"/>\n   </g>\n   <g id=\"PathCollection_1\">\n    <defs>\n     <path id=\"maf0044ae25\" d=\"M 0 3 \nC 0.795609 3 1.55874 2.683901 2.12132 2.12132 \nC 2.683901 1.55874 3 0.795609 3 0 \nC 3 -0.795609 2.683901 -1.55874 2.12132 -2.12132 \nC 1.55874 -2.683901 0.795609 -3 0 -3 \nC -0.795609 -3 -1.55874 -2.683901 -2.12132 -2.12132 \nC -2.683901 -1.55874 -3 -0.795609 -3 0 \nC -3 0.795609 -2.683901 1.55874 -2.12132 2.12132 \nC -1.55874 2.683901 -0.795609 3 0 3 \nz\n\" style=\"stroke: #000000\"/>\n    </defs>\n    <g clip-path=\"url(#p250343549b)\">\n     <use xlink:href=\"#maf0044ae25\" x=\"153.13806\" y=\"148.140315\" style=\"stroke: #000000\"/>\n     <use xlink:href=\"#maf0044ae25\" x=\"328.680073\" y=\"77.105525\" style=\"stroke: #000000\"/>\n     <use xlink:href=\"#maf0044ae25\" x=\"262.04291\" y=\"102.120095\" style=\"stroke: #000000\"/>\n     <use xlink:href=\"#maf0044ae25\" x=\"221.419822\" y=\"114.447164\" style=\"stroke: #000000\"/>\n     <use xlink:href=\"#maf0044ae25\" x=\"86.561491\" y=\"174.460035\" style=\"stroke: #000000\"/>\n     <use xlink:href=\"#maf0044ae25\" x=\"86.554143\" y=\"175.294639\" style=\"stroke: #000000\"/>\n     <use xlink:href=\"#maf0044ae25\" x=\"56.723792\" y=\"151.392512\" style=\"stroke: #000000\"/>\n     <use xlink:href=\"#maf0044ae25\" x=\"302.923975\" y=\"49.32632\" style=\"stroke: #000000\"/>\n     <use xlink:href=\"#maf0044ae25\" x=\"222.168248\" y=\"113.981381\" style=\"stroke: #000000\"/>\n     <use xlink:href=\"#maf0044ae25\" x=\"254.754829\" y=\"113.497096\" style=\"stroke: #000000\"/>\n     <use xlink:href=\"#maf0044ae25\" x=\"45.299\" y=\"166.311399\" style=\"stroke: #000000\"/>\n     <use xlink:href=\"#maf0044ae25\" x=\"334.528347\" y=\"85.115495\" style=\"stroke: #000000\"/>\n     <use xlink:href=\"#maf0044ae25\" x=\"292.646445\" y=\"42.915467\" style=\"stroke: #000000\"/>\n     <use xlink:href=\"#maf0044ae25\" x=\"103.720554\" y=\"155.738894\" style=\"stroke: #000000\"/>\n     <use xlink:href=\"#maf0044ae25\" x=\"94.423861\" y=\"134.165865\" style=\"stroke: #000000\"/>\n     <use xlink:href=\"#maf0044ae25\" x=\"94.905098\" y=\"174.561863\" style=\"stroke: #000000\"/>\n     <use xlink:href=\"#maf0044ae25\" x=\"131.720525\" y=\"108.348865\" style=\"stroke: #000000\"/>\n     <use xlink:href=\"#maf0044ae25\" x=\"198.904209\" y=\"95.203591\" style=\"stroke: #000000\"/>\n     <use xlink:href=\"#maf0044ae25\" x=\"170.627513\" y=\"189.655437\" style=\"stroke: #000000\"/>\n     <use xlink:href=\"#maf0044ae25\" x=\"127.755845\" y=\"118.038452\" style=\"stroke: #000000\"/>\n     <use xlink:href=\"#maf0044ae25\" x=\"225.439741\" y=\"82.348964\" style=\"stroke: #000000\"/>\n     <use xlink:href=\"#maf0044ae25\" x=\"81.526915\" y=\"119.817482\" style=\"stroke: #000000\"/>\n     <use xlink:href=\"#maf0044ae25\" x=\"128.034772\" y=\"121.715605\" style=\"stroke: #000000\"/>\n     <use xlink:href=\"#maf0044ae25\" x=\"150.646399\" y=\"120.695181\" style=\"stroke: #000000\"/>\n     <use xlink:href=\"#maf0044ae25\" x=\"177.977626\" y=\"138.188503\" style=\"stroke: #000000\"/>\n     <use xlink:href=\"#maf0044ae25\" x=\"278.245786\" y=\"84.693488\" style=\"stroke: #000000\"/>\n     <use xlink:href=\"#maf0044ae25\" x=\"99.86183\" y=\"145.09956\" style=\"stroke: #000000\"/>\n     <use xlink:href=\"#maf0044ae25\" x=\"195.698491\" y=\"82.357465\" style=\"stroke: #000000\"/>\n     <use xlink:href=\"#maf0044ae25\" x=\"219.517499\" y=\"59.192996\" style=\"stroke: #000000\"/>\n     <use xlink:href=\"#maf0044ae25\" x=\"53.179525\" y=\"173.232705\" style=\"stroke: #000000\"/>\n     <use xlink:href=\"#maf0044ae25\" x=\"224.127217\" y=\"48.782563\" style=\"stroke: #000000\"/>\n     <use xlink:href=\"#maf0044ae25\" x=\"90.980852\" y=\"214.756364\" style=\"stroke: #000000\"/>\n     <use xlink:href=\"#maf0044ae25\" x=\"58.846715\" y=\"138.332426\" style=\"stroke: #000000\"/>\n     <use xlink:href=\"#maf0044ae25\" x=\"328.122905\" y=\"17.083636\" style=\"stroke: #000000\"/>\n     <use xlink:href=\"#maf0044ae25\" x=\"333.225031\" y=\"90.779539\" style=\"stroke: #000000\"/>\n     <use xlink:href=\"#maf0044ae25\" x=\"285.320606\" y=\"58.235261\" style=\"stroke: #000000\"/>\n     <use xlink:href=\"#maf0044ae25\" x=\"131.833717\" y=\"112.066683\" style=\"stroke: #000000\"/>\n     <use xlink:href=\"#maf0044ae25\" x=\"68.785154\" y=\"174.464498\" style=\"stroke: #000000\"/>\n     <use xlink:href=\"#maf0044ae25\" x=\"247.491673\" y=\"143.805073\" style=\"stroke: #000000\"/>\n     <use xlink:href=\"#maf0044ae25\" x=\"173.128071\" y=\"140.89963\" style=\"stroke: #000000\"/>\n     <use xlink:href=\"#maf0044ae25\" x=\"76.208739\" y=\"198.036336\" style=\"stroke: #000000\"/>\n     <use xlink:href=\"#maf0044ae25\" x=\"189.892267\" y=\"102.473905\" style=\"stroke: #000000\"/>\n     <use xlink:href=\"#maf0044ae25\" x=\"49.504649\" y=\"175.43515\" style=\"stroke: #000000\"/>\n     <use xlink:href=\"#maf0044ae25\" x=\"316.068662\" y=\"24.024642\" style=\"stroke: #000000\"/>\n     <use xlink:href=\"#maf0044ae25\" x=\"117.869615\" y=\"152.232027\" style=\"stroke: #000000\"/>\n     <use xlink:href=\"#maf0044ae25\" x=\"240.877098\" y=\"111.16366\" style=\"stroke: #000000\"/>\n     <use xlink:href=\"#maf0044ae25\" x=\"133.996042\" y=\"94.458562\" style=\"stroke: #000000\"/>\n     <use xlink:href=\"#maf0044ae25\" x=\"197.475799\" y=\"125.767792\" style=\"stroke: #000000\"/>\n     <use xlink:href=\"#maf0044ae25\" x=\"205.592851\" y=\"76.729123\" style=\"stroke: #000000\"/>\n     <use xlink:href=\"#maf0044ae25\" x=\"95.34685\" y=\"147.110572\" style=\"stroke: #000000\"/>\n     <use xlink:href=\"#maf0044ae25\" x=\"334.429262\" y=\"104.423185\" style=\"stroke: #000000\"/>\n     <use xlink:href=\"#maf0044ae25\" x=\"275.18596\" y=\"59.033702\" style=\"stroke: #000000\"/>\n     <use xlink:href=\"#maf0044ae25\" x=\"325.263107\" y=\"62.722308\" style=\"stroke: #000000\"/>\n     <use xlink:href=\"#maf0044ae25\" x=\"311.653089\" y=\"36.375768\" style=\"stroke: #000000\"/>\n     <use xlink:href=\"#maf0044ae25\" x=\"221.18873\" y=\"108.842687\" style=\"stroke: #000000\"/>\n     <use xlink:href=\"#maf0044ae25\" x=\"319.893417\" y=\"96.813608\" style=\"stroke: #000000\"/>\n     <use xlink:href=\"#maf0044ae25\" x=\"65.988417\" y=\"146.371984\" style=\"stroke: #000000\"/>\n     <use xlink:href=\"#maf0044ae25\" x=\"98.737323\" y=\"167.003354\" style=\"stroke: #000000\"/>\n     <use xlink:href=\"#maf0044ae25\" x=\"52.806878\" y=\"145.669356\" style=\"stroke: #000000\"/>\n     <use xlink:href=\"#maf0044ae25\" x=\"138.145397\" y=\"106.36421\" style=\"stroke: #000000\"/>\n     <use xlink:href=\"#maf0044ae25\" x=\"157.445208\" y=\"153.286651\" style=\"stroke: #000000\"/>\n     <use xlink:href=\"#maf0044ae25\" x=\"121.699006\" y=\"120.475438\" style=\"stroke: #000000\"/>\n     <use xlink:href=\"#maf0044ae25\" x=\"291.517609\" y=\"32.436251\" style=\"stroke: #000000\"/>\n     <use xlink:href=\"#maf0044ae25\" x=\"147.718988\" y=\"140.90739\" style=\"stroke: #000000\"/>\n     <use xlink:href=\"#maf0044ae25\" x=\"124.619398\" y=\"76.773581\" style=\"stroke: #000000\"/>\n     <use xlink:href=\"#maf0044ae25\" x=\"204.369852\" y=\"72.523255\" style=\"stroke: #000000\"/>\n     <use xlink:href=\"#maf0044ae25\" x=\"81.962702\" y=\"207.376533\" style=\"stroke: #000000\"/>\n     <use xlink:href=\"#maf0044ae25\" x=\"283.431551\" y=\"31.7324\" style=\"stroke: #000000\"/>\n     <use xlink:href=\"#maf0044ae25\" x=\"61.740775\" y=\"177.60024\" style=\"stroke: #000000\"/>\n     <use xlink:href=\"#maf0044ae25\" x=\"339.700727\" y=\"40.258617\" style=\"stroke: #000000\"/>\n     <use xlink:href=\"#maf0044ae25\" x=\"274.306061\" y=\"37.797536\" style=\"stroke: #000000\"/>\n     <use xlink:href=\"#maf0044ae25\" x=\"99.569927\" y=\"192.40571\" style=\"stroke: #000000\"/>\n     <use xlink:href=\"#maf0044ae25\" x=\"40.709971\" y=\"142.775229\" style=\"stroke: #000000\"/>\n     <use xlink:href=\"#maf0044ae25\" x=\"287.472808\" y=\"32.41388\" style=\"stroke: #000000\"/>\n     <use xlink:href=\"#maf0044ae25\" x=\"254.384585\" y=\"84.206983\" style=\"stroke: #000000\"/>\n     <use xlink:href=\"#maf0044ae25\" x=\"261.132935\" y=\"49.190494\" style=\"stroke: #000000\"/>\n     <use xlink:href=\"#maf0044ae25\" x=\"274.009186\" y=\"71.974211\" style=\"stroke: #000000\"/>\n     <use xlink:href=\"#maf0044ae25\" x=\"61.586615\" y=\"172.198039\" style=\"stroke: #000000\"/>\n     <use xlink:href=\"#maf0044ae25\" x=\"148.240703\" y=\"145.784532\" style=\"stroke: #000000\"/>\n     <use xlink:href=\"#maf0044ae25\" x=\"74.329187\" y=\"189.6468\" style=\"stroke: #000000\"/>\n     <use xlink:href=\"#maf0044ae25\" x=\"301.987814\" y=\"44.634034\" style=\"stroke: #000000\"/>\n     <use xlink:href=\"#maf0044ae25\" x=\"228.92674\" y=\"80.210119\" style=\"stroke: #000000\"/>\n     <use xlink:href=\"#maf0044ae25\" x=\"139.841697\" y=\"108.996154\" style=\"stroke: #000000\"/>\n     <use xlink:href=\"#maf0044ae25\" x=\"58.391772\" y=\"132.373916\" style=\"stroke: #000000\"/>\n     <use xlink:href=\"#maf0044ae25\" x=\"133.774014\" y=\"113.584307\" style=\"stroke: #000000\"/>\n     <use xlink:href=\"#maf0044ae25\" x=\"138.100608\" y=\"79.931554\" style=\"stroke: #000000\"/>\n     <use xlink:href=\"#maf0044ae25\" x=\"261.315434\" y=\"100.427047\" style=\"stroke: #000000\"/>\n     <use xlink:href=\"#maf0044ae25\" x=\"233.271111\" y=\"29.536486\" style=\"stroke: #000000\"/>\n     <use xlink:href=\"#maf0044ae25\" x=\"309.333159\" y=\"36.840863\" style=\"stroke: #000000\"/>\n     <use xlink:href=\"#maf0044ae25\" x=\"182.896478\" y=\"149.509197\" style=\"stroke: #000000\"/>\n     <use xlink:href=\"#maf0044ae25\" x=\"75.464133\" y=\"197.264882\" style=\"stroke: #000000\"/>\n     <use xlink:href=\"#maf0044ae25\" x=\"256.330637\" y=\"90.214347\" style=\"stroke: #000000\"/>\n     <use xlink:href=\"#maf0044ae25\" x=\"270.814648\" y=\"78.909\" style=\"stroke: #000000\"/>\n     <use xlink:href=\"#maf0044ae25\" x=\"210.030929\" y=\"60.783537\" style=\"stroke: #000000\"/>\n     <use xlink:href=\"#maf0044ae25\" x=\"273.91682\" y=\"55.042462\" style=\"stroke: #000000\"/>\n     <use xlink:href=\"#maf0044ae25\" x=\"189.471424\" y=\"116.491673\" style=\"stroke: #000000\"/>\n     <use xlink:href=\"#maf0044ae25\" x=\"198.287682\" y=\"114.894782\" style=\"stroke: #000000\"/>\n     <use xlink:href=\"#maf0044ae25\" x=\"169.285754\" y=\"180.359199\" style=\"stroke: #000000\"/>\n     <use xlink:href=\"#maf0044ae25\" x=\"46.771959\" y=\"166.886424\" style=\"stroke: #000000\"/>\n     <use xlink:href=\"#maf0044ae25\" x=\"71.898655\" y=\"146.361212\" style=\"stroke: #000000\"/>\n     <use xlink:href=\"#maf0044ae25\" x=\"48.603034\" y=\"149.176968\" style=\"stroke: #000000\"/>\n     <use xlink:href=\"#maf0044ae25\" x=\"232.921638\" y=\"123.666418\" style=\"stroke: #000000\"/>\n     <use xlink:href=\"#maf0044ae25\" x=\"134.801861\" y=\"109.694702\" style=\"stroke: #000000\"/>\n     <use xlink:href=\"#maf0044ae25\" x=\"193.972927\" y=\"95.03445\" style=\"stroke: #000000\"/>\n     <use xlink:href=\"#maf0044ae25\" x=\"315.534296\" y=\"81.405853\" style=\"stroke: #000000\"/>\n     <use xlink:href=\"#maf0044ae25\" x=\"114.978998\" y=\"136.270354\" style=\"stroke: #000000\"/>\n     <use xlink:href=\"#maf0044ae25\" x=\"164.058226\" y=\"141.721572\" style=\"stroke: #000000\"/>\n     <use xlink:href=\"#maf0044ae25\" x=\"269.220041\" y=\"104.578544\" style=\"stroke: #000000\"/>\n     <use xlink:href=\"#maf0044ae25\" x=\"108.735106\" y=\"145.949621\" style=\"stroke: #000000\"/>\n     <use xlink:href=\"#maf0044ae25\" x=\"62.480895\" y=\"141.631628\" style=\"stroke: #000000\"/>\n     <use xlink:href=\"#maf0044ae25\" x=\"127.305641\" y=\"92.041639\" style=\"stroke: #000000\"/>\n     <use xlink:href=\"#maf0044ae25\" x=\"88.146573\" y=\"156.629499\" style=\"stroke: #000000\"/>\n     <use xlink:href=\"#maf0044ae25\" x=\"322.276964\" y=\"100.193901\" style=\"stroke: #000000\"/>\n     <use xlink:href=\"#maf0044ae25\" x=\"285.236223\" y=\"67.208315\" style=\"stroke: #000000\"/>\n     <use xlink:href=\"#maf0044ae25\" x=\"232.005605\" y=\"80.37644\" style=\"stroke: #000000\"/>\n     <use xlink:href=\"#maf0044ae25\" x=\"304.533977\" y=\"33.25632\" style=\"stroke: #000000\"/>\n     <use xlink:href=\"#maf0044ae25\" x=\"283.880966\" y=\"34.431843\" style=\"stroke: #000000\"/>\n     <use xlink:href=\"#maf0044ae25\" x=\"95.86954\" y=\"85.8337\" style=\"stroke: #000000\"/>\n     <use xlink:href=\"#maf0044ae25\" x=\"310.961994\" y=\"40.434458\" style=\"stroke: #000000\"/>\n     <use xlink:href=\"#maf0044ae25\" x=\"203.348043\" y=\"58.278488\" style=\"stroke: #000000\"/>\n    </g>\n   </g>\n   <g id=\"matplotlib.axis_1\">\n    <g id=\"xtick_1\">\n     <g id=\"line2d_1\">\n      <defs>\n       <path id=\"mdd87331afc\" d=\"M 0 0 \nL 0 3.5 \n\" style=\"stroke: #000000; stroke-width: 0.8\"/>\n      </defs>\n      <g>\n       <use xlink:href=\"#mdd87331afc\" x=\"39.027557\" y=\"224.64\" style=\"stroke: #000000; stroke-width: 0.8\"/>\n      </g>\n     </g>\n     <g id=\"text_1\">\n      <!-- -3 -->\n      <g transform=\"translate(34.222869 239.232187)scale(0.1 -0.1)\">\n       <defs>\n        <path id=\"MalgunGothic-2d\" d=\"M 2213 1634 \nL 463 1634 \nL 463 2031 \nL 2213 2031 \nL 2213 1634 \nz\n\" transform=\"scale(0.015625)\"/>\n        <path id=\"MalgunGothic-33\" d=\"M 416 719 \nQ 891 344 1478 344 \nQ 1959 344 2254 587 \nQ 2550 831 2550 1247 \nQ 2550 2169 1253 2169 \nL 872 2169 \nL 872 2591 \nL 1234 2591 \nQ 2388 2591 2388 3453 \nQ 2388 4250 1509 4250 \nQ 1022 4250 594 3916 \nL 594 4413 \nQ 1031 4675 1634 4675 \nQ 2184 4675 2539 4372 \nQ 2894 4069 2894 3581 \nQ 2894 2678 1972 2409 \nL 1972 2400 \nQ 2469 2356 2764 2053 \nQ 3059 1750 3059 1300 \nQ 3059 672 2604 297 \nQ 2150 -78 1450 -78 \nQ 806 -78 416 169 \nL 416 719 \nz\n\" transform=\"scale(0.015625)\"/>\n       </defs>\n       <use xlink:href=\"#MalgunGothic-2d\"/>\n       <use xlink:href=\"#MalgunGothic-33\" x=\"41.015625\"/>\n      </g>\n     </g>\n    </g>\n    <g id=\"xtick_2\">\n     <g id=\"line2d_2\">\n      <g>\n       <use xlink:href=\"#mdd87331afc\" x=\"89.805608\" y=\"224.64\" style=\"stroke: #000000; stroke-width: 0.8\"/>\n      </g>\n     </g>\n     <g id=\"text_2\">\n      <!-- -2 -->\n      <g transform=\"translate(85.00092 239.232187)scale(0.1 -0.1)\">\n       <defs>\n        <path id=\"MalgunGothic-32\" d=\"M 2519 3372 \nQ 2519 3784 2275 4018 \nQ 2031 4253 1628 4253 \nQ 1341 4253 1053 4104 \nQ 766 3956 534 3697 \nL 534 4234 \nQ 981 4675 1691 4675 \nQ 2281 4675 2642 4334 \nQ 3003 3994 3003 3416 \nQ 3003 2919 2772 2545 \nQ 2541 2172 1984 1775 \nQ 1459 1406 1254 1215 \nQ 1050 1025 967 854 \nQ 884 684 884 450 \nL 3116 450 \nL 3116 0 \nL 356 0 \nL 356 225 \nQ 356 603 461 870 \nQ 566 1138 811 1392 \nQ 1056 1647 1597 2022 \nQ 2091 2363 2305 2670 \nQ 2519 2978 2519 3372 \nz\n\" transform=\"scale(0.015625)\"/>\n       </defs>\n       <use xlink:href=\"#MalgunGothic-2d\"/>\n       <use xlink:href=\"#MalgunGothic-32\" x=\"41.015625\"/>\n      </g>\n     </g>\n    </g>\n    <g id=\"xtick_3\">\n     <g id=\"line2d_3\">\n      <g>\n       <use xlink:href=\"#mdd87331afc\" x=\"140.583658\" y=\"224.64\" style=\"stroke: #000000; stroke-width: 0.8\"/>\n      </g>\n     </g>\n     <g id=\"text_3\">\n      <!-- -1 -->\n      <g transform=\"translate(135.778971 239.232187)scale(0.1 -0.1)\">\n       <defs>\n        <path id=\"MalgunGothic-31\" d=\"M 2231 0 \nL 1734 0 \nL 1734 3972 \nQ 1591 3828 1266 3661 \nQ 941 3494 672 3428 \nL 672 3959 \nQ 1016 4056 1409 4275 \nQ 1803 4494 2031 4700 \nL 2231 4700 \nL 2231 0 \nz\n\" transform=\"scale(0.015625)\"/>\n       </defs>\n       <use xlink:href=\"#MalgunGothic-2d\"/>\n       <use xlink:href=\"#MalgunGothic-31\" x=\"41.015625\"/>\n      </g>\n     </g>\n    </g>\n    <g id=\"xtick_4\">\n     <g id=\"line2d_4\">\n      <g>\n       <use xlink:href=\"#mdd87331afc\" x=\"191.361709\" y=\"224.64\" style=\"stroke: #000000; stroke-width: 0.8\"/>\n      </g>\n     </g>\n     <g id=\"text_4\">\n      <!-- 0 -->\n      <g transform=\"translate(188.607803 239.232187)scale(0.1 -0.1)\">\n       <defs>\n        <path id=\"MalgunGothic-30\" d=\"M 278 2206 \nQ 278 3425 675 4050 \nQ 1072 4675 1819 4675 \nQ 3253 4675 3253 2319 \nQ 3253 1156 2854 539 \nQ 2456 -78 1716 -78 \nQ 1016 -78 647 520 \nQ 278 1119 278 2206 \nz\nM 784 2231 \nQ 784 344 1769 344 \nQ 2747 344 2747 2259 \nQ 2747 4250 1794 4250 \nQ 784 4250 784 2231 \nz\n\" transform=\"scale(0.015625)\"/>\n       </defs>\n       <use xlink:href=\"#MalgunGothic-30\"/>\n      </g>\n     </g>\n    </g>\n    <g id=\"xtick_5\">\n     <g id=\"line2d_5\">\n      <g>\n       <use xlink:href=\"#mdd87331afc\" x=\"242.13976\" y=\"224.64\" style=\"stroke: #000000; stroke-width: 0.8\"/>\n      </g>\n     </g>\n     <g id=\"text_5\">\n      <!-- 1 -->\n      <g transform=\"translate(239.385854 239.232187)scale(0.1 -0.1)\">\n       <use xlink:href=\"#MalgunGothic-31\"/>\n      </g>\n     </g>\n    </g>\n    <g id=\"xtick_6\">\n     <g id=\"line2d_6\">\n      <g>\n       <use xlink:href=\"#mdd87331afc\" x=\"292.917811\" y=\"224.64\" style=\"stroke: #000000; stroke-width: 0.8\"/>\n      </g>\n     </g>\n     <g id=\"text_6\">\n      <!-- 2 -->\n      <g transform=\"translate(290.163904 239.232187)scale(0.1 -0.1)\">\n       <use xlink:href=\"#MalgunGothic-32\"/>\n      </g>\n     </g>\n    </g>\n    <g id=\"xtick_7\">\n     <g id=\"line2d_7\">\n      <g>\n       <use xlink:href=\"#mdd87331afc\" x=\"343.695861\" y=\"224.64\" style=\"stroke: #000000; stroke-width: 0.8\"/>\n      </g>\n     </g>\n     <g id=\"text_7\">\n      <!-- 3 -->\n      <g transform=\"translate(340.941955 239.232187)scale(0.1 -0.1)\">\n       <use xlink:href=\"#MalgunGothic-33\"/>\n      </g>\n     </g>\n    </g>\n   </g>\n   <g id=\"matplotlib.axis_2\">\n    <g id=\"ytick_1\">\n     <g id=\"line2d_8\">\n      <defs>\n       <path id=\"mc947a4be8c\" d=\"M 0 0 \nL -3.5 0 \n\" style=\"stroke: #000000; stroke-width: 0.8\"/>\n      </defs>\n      <g>\n       <use xlink:href=\"#mc947a4be8c\" x=\"23.809375\" y=\"205.755544\" style=\"stroke: #000000; stroke-width: 0.8\"/>\n      </g>\n     </g>\n     <g id=\"text_8\">\n      <!-- -2 -->\n      <g transform=\"translate(7.2 209.551638)scale(0.1 -0.1)\">\n       <use xlink:href=\"#MalgunGothic-2d\"/>\n       <use xlink:href=\"#MalgunGothic-32\" x=\"41.015625\"/>\n      </g>\n     </g>\n    </g>\n    <g id=\"ytick_2\">\n     <g id=\"line2d_9\">\n      <g>\n       <use xlink:href=\"#mc947a4be8c\" x=\"23.809375\" y=\"158.041122\" style=\"stroke: #000000; stroke-width: 0.8\"/>\n      </g>\n     </g>\n     <g id=\"text_9\">\n      <!-- -1 -->\n      <g transform=\"translate(7.2 161.837215)scale(0.1 -0.1)\">\n       <use xlink:href=\"#MalgunGothic-2d\"/>\n       <use xlink:href=\"#MalgunGothic-31\" x=\"41.015625\"/>\n      </g>\n     </g>\n    </g>\n    <g id=\"ytick_3\">\n     <g id=\"line2d_10\">\n      <g>\n       <use xlink:href=\"#mc947a4be8c\" x=\"23.809375\" y=\"110.326699\" style=\"stroke: #000000; stroke-width: 0.8\"/>\n      </g>\n     </g>\n     <g id=\"text_10\">\n      <!-- 0 -->\n      <g transform=\"translate(11.301563 114.122793)scale(0.1 -0.1)\">\n       <use xlink:href=\"#MalgunGothic-30\"/>\n      </g>\n     </g>\n    </g>\n    <g id=\"ytick_4\">\n     <g id=\"line2d_11\">\n      <g>\n       <use xlink:href=\"#mc947a4be8c\" x=\"23.809375\" y=\"62.612276\" style=\"stroke: #000000; stroke-width: 0.8\"/>\n      </g>\n     </g>\n     <g id=\"text_11\">\n      <!-- 1 -->\n      <g transform=\"translate(11.301563 66.40837)scale(0.1 -0.1)\">\n       <use xlink:href=\"#MalgunGothic-31\"/>\n      </g>\n     </g>\n    </g>\n    <g id=\"ytick_5\">\n     <g id=\"line2d_12\">\n      <g>\n       <use xlink:href=\"#mc947a4be8c\" x=\"23.809375\" y=\"14.897854\" style=\"stroke: #000000; stroke-width: 0.8\"/>\n      </g>\n     </g>\n     <g id=\"text_12\">\n      <!-- 2 -->\n      <g transform=\"translate(11.301563 18.693947)scale(0.1 -0.1)\">\n       <use xlink:href=\"#MalgunGothic-32\"/>\n      </g>\n     </g>\n    </g>\n   </g>\n   <g id=\"line2d_13\">\n    <path d=\"M 39.027557 156.287505 \nL 48.776943 156.287505 \nL 49.081611 164.77907 \nL 54.870309 164.77907 \nL 55.174977 140.699618 \nL 60.04967 140.699618 \nL 60.354338 163.809969 \nL 64.010358 163.809969 \nL 64.315026 155.732565 \nL 72.845739 155.732565 \nL 73.150407 194.982673 \nL 78.634436 194.982673 \nL 78.939105 167.496218 \nL 86.555812 167.496218 \nL 86.860481 181.948633 \nL 92.649178 181.948633 \nL 92.953847 135.418 \nL 97.219203 135.418 \nL 97.523871 168.169542 \nL 101.789228 168.169542 \nL 102.093896 147.547724 \nL 119.764658 147.547724 \nL 120.069326 96.430219 \nL 127.381365 96.430219 \nL 127.686033 114.750782 \nL 133.7794 114.750782 \nL 134.084068 99.889036 \nL 143.528785 99.889036 \nL 143.833454 141.762814 \nL 160.285542 141.762814 \nL 160.59021 170.578736 \nL 171.862938 170.578736 \nL 172.167606 136.272251 \nL 189.533699 136.272251 \nL 189.838368 104.105679 \nL 198.36908 104.105679 \nL 198.673748 75.335111 \nL 204.767115 75.335111 \nL 205.071783 65.568552 \nL 220.305198 65.568552 \nL 220.609866 112.423744 \nL 223.047213 112.423744 \nL 223.351881 70.447215 \nL 230.359252 70.447215 \nL 230.66392 77.859781 \nL 237.061955 77.859781 \nL 237.366623 113.168203 \nL 255.342053 113.168203 \nL 255.646721 79.943962 \nL 261.435419 79.943962 \nL 261.740088 95.202546 \nL 272.09881 95.202546 \nL 272.403478 61.70828 \nL 280.629522 61.70828 \nL 280.934191 47.901955 \nL 286.113552 47.901955 \nL 286.41822 35.921866 \nL 297.081611 35.921866 \nL 297.386279 40.898399 \nL 311.096353 40.898399 \nL 311.401021 47.268754 \nL 317.799056 47.268754 \nL 318.103724 86.576606 \nL 326.634436 86.576606 \nL 326.939105 61.656234 \nL 333.641807 61.656234 \nL 333.946476 76.599099 \nL 343.391193 76.599099 \nL 343.391193 76.599099 \n\" clip-path=\"url(#p250343549b)\" style=\"fill: none; stroke: #1f77b4; stroke-width: 1.5; stroke-linecap: square\"/>\n   </g>\n   <g id=\"line2d_14\">\n    <path d=\"M 39.027557 162.762845 \nL 70.408392 151.58972 \nL 70.713061 172.303477 \nL 100.265886 161.781213 \nL 100.570554 131.068429 \nL 130.12338 120.546165 \nL 130.428048 122.574826 \nL 160.285542 111.944086 \nL 160.59021 150.814605 \nL 190.143036 140.292341 \nL 190.447704 88.446029 \nL 220.00053 77.923766 \nL 220.305198 97.733931 \nL 249.858024 87.211668 \nL 250.162692 85.209038 \nL 279.715518 74.686775 \nL 280.020186 46.92261 \nL 309.573011 36.400347 \nL 309.87768 71.159414 \nL 343.391193 59.22695 \nL 343.391193 59.22695 \n\" clip-path=\"url(#p250343549b)\" style=\"fill: none; stroke: #ff7f0e; stroke-width: 1.5; stroke-linecap: square\"/>\n   </g>\n   <g id=\"patch_3\">\n    <path d=\"M 23.809375 224.64 \nL 23.809375 7.2 \n\" style=\"fill: none; stroke: #000000; stroke-width: 0.8; stroke-linejoin: miter; stroke-linecap: square\"/>\n   </g>\n   <g id=\"patch_4\">\n    <path d=\"M 358.609375 224.64 \nL 358.609375 7.2 \n\" style=\"fill: none; stroke: #000000; stroke-width: 0.8; stroke-linejoin: miter; stroke-linecap: square\"/>\n   </g>\n   <g id=\"patch_5\">\n    <path d=\"M 23.809375 224.64 \nL 358.609375 224.64 \n\" style=\"fill: none; stroke: #000000; stroke-width: 0.8; stroke-linejoin: miter; stroke-linecap: square\"/>\n   </g>\n   <g id=\"patch_6\">\n    <path d=\"M 23.809375 7.2 \nL 358.609375 7.2 \n\" style=\"fill: none; stroke: #000000; stroke-width: 0.8; stroke-linejoin: miter; stroke-linecap: square\"/>\n   </g>\n   <g id=\"legend_1\">\n    <g id=\"patch_7\">\n     <path d=\"M 30.809375 45.1125 \nL 119.5875 45.1125 \nQ 121.5875 45.1125 121.5875 43.1125 \nL 121.5875 14.2 \nQ 121.5875 12.2 119.5875 12.2 \nL 30.809375 12.2 \nQ 28.809375 12.2 28.809375 14.2 \nL 28.809375 43.1125 \nQ 28.809375 45.1125 30.809375 45.1125 \nz\n\" style=\"fill: #ffffff; opacity: 0.8; stroke: #cccccc; stroke-linejoin: miter\"/>\n    </g>\n    <g id=\"line2d_15\">\n     <path d=\"M 32.809375 20.292187 \nL 42.809375 20.292187 \nL 52.809375 20.292187 \n\" style=\"fill: none; stroke: #1f77b4; stroke-width: 1.5; stroke-linecap: square\"/>\n    </g>\n    <g id=\"text_13\">\n     <!-- DecisionTree -->\n     <g transform=\"translate(60.809375 23.792187)scale(0.1 -0.1)\">\n      <defs>\n       <path id=\"MalgunGothic-44\" d=\"M 609 0 \nL 609 4600 \nL 1856 4600 \nQ 4281 4600 4281 2356 \nQ 4281 1288 3587 644 \nQ 2894 0 1800 0 \nL 609 0 \nz\nM 1113 4134 \nL 1113 463 \nL 1813 463 \nQ 2734 463 3243 958 \nQ 3753 1453 3753 2344 \nQ 3753 4134 1844 4134 \nL 1113 4134 \nz\n\" transform=\"scale(0.015625)\"/>\n       <path id=\"MalgunGothic-65\" d=\"M 3156 1519 \nL 828 1519 \nQ 844 950 1133 648 \nQ 1422 347 1909 347 \nQ 2472 347 2934 719 \nL 2934 244 \nQ 2494 -78 1794 -78 \nQ 1100 -78 708 376 \nQ 316 831 316 1634 \nQ 316 2381 747 2870 \nQ 1178 3359 1816 3359 \nQ 2453 3359 2804 2942 \nQ 3156 2525 3156 1788 \nL 3156 1519 \nz\nM 2644 1956 \nQ 2644 2416 2423 2675 \nQ 2203 2934 1809 2934 \nQ 1438 2934 1169 2667 \nQ 900 2400 834 1956 \nL 2644 1956 \nz\n\" transform=\"scale(0.015625)\"/>\n       <path id=\"MalgunGothic-63\" d=\"M 2763 153 \nQ 2375 -78 1872 -78 \nQ 1184 -78 750 372 \nQ 316 822 316 1566 \nQ 316 2381 777 2870 \nQ 1238 3359 2009 3359 \nQ 2434 3359 2766 3200 \nL 2766 2681 \nQ 2397 2941 1981 2941 \nQ 1478 2941 1148 2577 \nQ 819 2213 819 1609 \nQ 819 1034 1120 689 \nQ 1422 344 1947 344 \nQ 2381 344 2763 631 \nL 2763 153 \nz\n\" transform=\"scale(0.015625)\"/>\n       <path id=\"MalgunGothic-69\" d=\"M 472 4466 \nQ 472 4606 565 4701 \nQ 659 4797 794 4797 \nQ 934 4797 1029 4700 \nQ 1125 4603 1125 4466 \nQ 1125 4325 1029 4231 \nQ 934 4138 794 4138 \nQ 659 4138 565 4230 \nQ 472 4322 472 4466 \nz\nM 541 0 \nL 541 3284 \nL 1034 3284 \nL 1034 0 \nL 541 0 \nz\n\" transform=\"scale(0.015625)\"/>\n       <path id=\"MalgunGothic-73\" d=\"M 331 669 \nQ 763 350 1278 350 \nQ 1978 350 1978 822 \nQ 1978 1025 1825 1158 \nQ 1672 1291 1222 1459 \nQ 703 1666 520 1878 \nQ 338 2091 338 2416 \nQ 338 2834 700 3096 \nQ 1063 3359 1584 3359 \nQ 2003 3359 2341 3213 \nL 2341 2697 \nQ 1975 2934 1506 2934 \nQ 1200 2934 1025 2798 \nQ 850 2663 850 2459 \nQ 850 2241 979 2125 \nQ 1109 2009 1544 1838 \nQ 2131 1609 2309 1390 \nQ 2488 1172 2488 869 \nQ 2488 431 2127 176 \nQ 1766 -78 1203 -78 \nQ 694 -78 331 122 \nL 331 669 \nz\n\" transform=\"scale(0.015625)\"/>\n       <path id=\"MalgunGothic-6f\" d=\"M 316 1600 \nQ 316 2419 761 2889 \nQ 1206 3359 1978 3359 \nQ 2697 3359 3111 2907 \nQ 3525 2456 3525 1650 \nQ 3525 869 3078 395 \nQ 2631 -78 1900 -78 \nQ 1184 -78 750 384 \nQ 316 847 316 1600 \nz\nM 819 1622 \nQ 819 1041 1123 692 \nQ 1428 344 1934 344 \nQ 2459 344 2739 680 \nQ 3019 1016 3019 1634 \nQ 3019 2256 2737 2598 \nQ 2456 2941 1934 2941 \nQ 1425 2941 1122 2587 \nQ 819 2234 819 1622 \nz\n\" transform=\"scale(0.015625)\"/>\n       <path id=\"MalgunGothic-6e\" d=\"M 3238 0 \nL 2741 0 \nL 2741 1875 \nQ 2741 2941 1963 2941 \nQ 1563 2941 1298 2639 \nQ 1034 2338 1034 1872 \nL 1034 0 \nL 538 0 \nL 538 3284 \nL 1034 3284 \nL 1034 2734 \nL 1047 2734 \nQ 1416 3359 2125 3359 \nQ 2666 3359 2952 3012 \nQ 3238 2666 3238 2006 \nL 3238 0 \nz\n\" transform=\"scale(0.015625)\"/>\n       <path id=\"MalgunGothic-54\" d=\"M 3294 4134 \nL 1966 4134 \nL 1966 0 \nL 1456 0 \nL 1456 4134 \nL 134 4134 \nL 134 4600 \nL 3294 4600 \nL 3294 4134 \nz\n\" transform=\"scale(0.015625)\"/>\n       <path id=\"MalgunGothic-72\" d=\"M 2225 2775 \nQ 2084 2881 1828 2881 \nQ 1491 2881 1262 2553 \nQ 1034 2225 1034 1681 \nL 1034 0 \nL 538 0 \nL 538 3284 \nL 1034 3284 \nL 1034 2603 \nL 1047 2603 \nQ 1159 2950 1389 3145 \nQ 1619 3341 1903 3341 \nQ 2109 3341 2225 3297 \nL 2225 2775 \nz\n\" transform=\"scale(0.015625)\"/>\n      </defs>\n      <use xlink:href=\"#MalgunGothic-44\"/>\n      <use xlink:href=\"#MalgunGothic-65\" x=\"71.728516\"/>\n      <use xlink:href=\"#MalgunGothic-63\" x=\"125.244141\"/>\n      <use xlink:href=\"#MalgunGothic-69\" x=\"172.509766\"/>\n      <use xlink:href=\"#MalgunGothic-73\" x=\"197.119141\"/>\n      <use xlink:href=\"#MalgunGothic-69\" x=\"240.429688\"/>\n      <use xlink:href=\"#MalgunGothic-6f\" x=\"265.039062\"/>\n      <use xlink:href=\"#MalgunGothic-6e\" x=\"324.951172\"/>\n      <use xlink:href=\"#MalgunGothic-54\" x=\"382.763672\"/>\n      <use xlink:href=\"#MalgunGothic-72\" x=\"426.757812\"/>\n      <use xlink:href=\"#MalgunGothic-65\" x=\"460.734375\"/>\n      <use xlink:href=\"#MalgunGothic-65\" x=\"514.25\"/>\n     </g>\n    </g>\n    <g id=\"line2d_16\">\n     <path d=\"M 32.809375 35.248437 \nL 42.809375 35.248437 \nL 52.809375 35.248437 \n\" style=\"fill: none; stroke: #ff7f0e; stroke-width: 1.5; stroke-linecap: square\"/>\n    </g>\n    <g id=\"text_14\">\n     <!-- LinearModel -->\n     <g transform=\"translate(60.809375 38.748437)scale(0.1 -0.1)\">\n      <defs>\n       <path id=\"MalgunGothic-4c\" d=\"M 2972 0 \nL 609 0 \nL 609 4600 \nL 1113 4600 \nL 1113 463 \nL 2972 463 \nL 2972 0 \nz\n\" transform=\"scale(0.015625)\"/>\n       <path id=\"MalgunGothic-61\" d=\"M 616 3050 \nQ 1097 3359 1722 3359 \nQ 2866 3359 2866 2147 \nL 2866 0 \nL 2369 0 \nL 2369 516 \nL 2350 516 \nQ 2009 -78 1341 -78 \nQ 859 -78 576 180 \nQ 294 438 294 869 \nQ 294 1784 1375 1934 \nL 2366 2078 \nQ 2366 2934 1684 2934 \nQ 1084 2934 616 2525 \nL 616 3050 \nz\nM 1563 1559 \nQ 1178 1509 993 1371 \nQ 809 1234 809 903 \nQ 809 653 986 500 \nQ 1163 347 1450 347 \nQ 1847 347 2106 628 \nQ 2366 909 2366 1334 \nL 2366 1666 \nL 1563 1559 \nz\n\" transform=\"scale(0.015625)\"/>\n       <path id=\"MalgunGothic-4d\" d=\"M 4756 0 \nL 4756 3106 \nQ 4756 3466 4803 3994 \nL 4788 3994 \nQ 4713 3684 4653 3559 \nL 3050 0 \nL 2822 0 \nL 1222 3534 \nQ 1159 3669 1091 3994 \nL 1075 3994 \nQ 1100 3822 1100 3116 \nL 1100 0 \nL 609 0 \nL 609 4600 \nL 1269 4600 \nL 2706 1359 \nQ 2881 966 2922 816 \nL 2941 816 \nQ 2988 944 3166 1375 \nL 4638 4600 \nL 5259 4600 \nL 5259 0 \nL 4756 0 \nz\n\" transform=\"scale(0.015625)\"/>\n       <path id=\"MalgunGothic-64\" d=\"M 3313 0 \nL 2822 0 \nL 2822 566 \nL 2809 566 \nQ 2444 -78 1675 -78 \nQ 1056 -78 686 364 \nQ 316 806 316 1566 \nQ 316 2375 728 2867 \nQ 1141 3359 1816 3359 \nQ 2494 3359 2809 2822 \nL 2822 2822 \nL 2822 4859 \nL 3313 4859 \nL 3313 0 \nz\nM 2822 1978 \nQ 2822 2378 2550 2659 \nQ 2278 2941 1872 2941 \nQ 1384 2941 1101 2577 \nQ 819 2213 819 1591 \nQ 819 1025 1086 684 \nQ 1353 344 1813 344 \nQ 2250 344 2536 666 \nQ 2822 988 2822 1478 \nL 2822 1978 \nz\n\" transform=\"scale(0.015625)\"/>\n       <path id=\"MalgunGothic-6c\" d=\"M 541 0 \nL 541 4859 \nL 1034 4859 \nL 1034 0 \nL 541 0 \nz\n\" transform=\"scale(0.015625)\"/>\n      </defs>\n      <use xlink:href=\"#MalgunGothic-4c\"/>\n      <use xlink:href=\"#MalgunGothic-69\" x=\"47.998047\"/>\n      <use xlink:href=\"#MalgunGothic-6e\" x=\"72.607422\"/>\n      <use xlink:href=\"#MalgunGothic-65\" x=\"130.419922\"/>\n      <use xlink:href=\"#MalgunGothic-61\" x=\"183.935547\"/>\n      <use xlink:href=\"#MalgunGothic-72\" x=\"235.9375\"/>\n      <use xlink:href=\"#MalgunGothic-4d\" x=\"271.289062\"/>\n      <use xlink:href=\"#MalgunGothic-6f\" x=\"362.988281\"/>\n      <use xlink:href=\"#MalgunGothic-64\" x=\"422.900391\"/>\n      <use xlink:href=\"#MalgunGothic-65\" x=\"483.105469\"/>\n      <use xlink:href=\"#MalgunGothic-6c\" x=\"536.621094\"/>\n     </g>\n    </g>\n   </g>\n  </g>\n </g>\n <defs>\n  <clipPath id=\"p250343549b\">\n   <rect x=\"23.809375\" y=\"7.2\" width=\"334.8\" height=\"217.44\"/>\n  </clipPath>\n </defs>\n</svg>\n",
      "text/plain": [
       "<Figure size 432x288 with 1 Axes>"
      ]
     },
     "metadata": {
      "needs_background": "light"
     },
     "output_type": "display_data"
    }
   ],
   "source": [
    "# 선형모델은 유연해졌지만 결정트리는 덜 유연 → 트리모델은 구간화가 득이 되지 않음\n",
    "plt.plot(line, dt_reg.predict(line_combined), label='DecisionTree')\n",
    "plt.plot(line, lr_reg.predict(line_combined), label='LinearModel')\n",
    "plt.scatter(X[:, 0], y, c='black')\n",
    "plt.legend()\n",
    "plt.show()"
   ]
  },
  {
   "cell_type": "code",
   "execution_count": 53,
   "metadata": {},
   "outputs": [],
   "source": [
    "X_product = np.hstack([X * X_binned, X_binned])\n",
    "line_product = np.hstack([line * line_binned, line_binned])\n",
    "dt_reg = DecisionTreeRegressor(min_samples_leaf=3).fit(X_product, y)\n",
    "lr_reg = LinearRegression().fit(X_product, y)"
   ]
  },
  {
   "cell_type": "code",
   "execution_count": 54,
   "metadata": {},
   "outputs": [
    {
     "data": {
      "image/svg+xml": "<?xml version=\"1.0\" encoding=\"utf-8\" standalone=\"no\"?>\n<!DOCTYPE svg PUBLIC \"-//W3C//DTD SVG 1.1//EN\"\n  \"http://www.w3.org/Graphics/SVG/1.1/DTD/svg11.dtd\">\n<svg xmlns:xlink=\"http://www.w3.org/1999/xlink\" width=\"365.809375pt\" height=\"248.79625pt\" viewBox=\"0 0 365.809375 248.79625\" xmlns=\"http://www.w3.org/2000/svg\" version=\"1.1\">\n <metadata>\n  <rdf:RDF xmlns:dc=\"http://purl.org/dc/elements/1.1/\" xmlns:cc=\"http://creativecommons.org/ns#\" xmlns:rdf=\"http://www.w3.org/1999/02/22-rdf-syntax-ns#\">\n   <cc:Work>\n    <dc:type rdf:resource=\"http://purl.org/dc/dcmitype/StillImage\"/>\n    <dc:date>2023-01-04T21:40:06.390061</dc:date>\n    <dc:format>image/svg+xml</dc:format>\n    <dc:creator>\n     <cc:Agent>\n      <dc:title>Matplotlib v3.5.1, https://matplotlib.org/</dc:title>\n     </cc:Agent>\n    </dc:creator>\n   </cc:Work>\n  </rdf:RDF>\n </metadata>\n <defs>\n  <style type=\"text/css\">*{stroke-linejoin: round; stroke-linecap: butt}</style>\n </defs>\n <g id=\"figure_1\">\n  <g id=\"patch_1\">\n   <path d=\"M 0 248.79625 \nL 365.809375 248.79625 \nL 365.809375 0 \nL 0 0 \nL 0 248.79625 \nz\n\" style=\"fill: none\"/>\n  </g>\n  <g id=\"axes_1\">\n   <g id=\"patch_2\">\n    <path d=\"M 23.809375 224.64 \nL 358.609375 224.64 \nL 358.609375 7.2 \nL 23.809375 7.2 \nz\n\" style=\"fill: #ffffff\"/>\n   </g>\n   <g id=\"PathCollection_1\">\n    <defs>\n     <path id=\"m2b8194baff\" d=\"M 0 3 \nC 0.795609 3 1.55874 2.683901 2.12132 2.12132 \nC 2.683901 1.55874 3 0.795609 3 0 \nC 3 -0.795609 2.683901 -1.55874 2.12132 -2.12132 \nC 1.55874 -2.683901 0.795609 -3 0 -3 \nC -0.795609 -3 -1.55874 -2.683901 -2.12132 -2.12132 \nC -2.683901 -1.55874 -3 -0.795609 -3 0 \nC -3 0.795609 -2.683901 1.55874 -2.12132 2.12132 \nC -1.55874 2.683901 -0.795609 3 0 3 \nz\n\" style=\"stroke: #000000\"/>\n    </defs>\n    <g clip-path=\"url(#ped583404de)\">\n     <use xlink:href=\"#m2b8194baff\" x=\"153.13806\" y=\"148.140315\" style=\"stroke: #000000\"/>\n     <use xlink:href=\"#m2b8194baff\" x=\"328.680073\" y=\"77.105525\" style=\"stroke: #000000\"/>\n     <use xlink:href=\"#m2b8194baff\" x=\"262.04291\" y=\"102.120095\" style=\"stroke: #000000\"/>\n     <use xlink:href=\"#m2b8194baff\" x=\"221.419822\" y=\"114.447164\" style=\"stroke: #000000\"/>\n     <use xlink:href=\"#m2b8194baff\" x=\"86.561491\" y=\"174.460035\" style=\"stroke: #000000\"/>\n     <use xlink:href=\"#m2b8194baff\" x=\"86.554143\" y=\"175.294639\" style=\"stroke: #000000\"/>\n     <use xlink:href=\"#m2b8194baff\" x=\"56.723792\" y=\"151.392512\" style=\"stroke: #000000\"/>\n     <use xlink:href=\"#m2b8194baff\" x=\"302.923975\" y=\"49.32632\" style=\"stroke: #000000\"/>\n     <use xlink:href=\"#m2b8194baff\" x=\"222.168248\" y=\"113.981381\" style=\"stroke: #000000\"/>\n     <use xlink:href=\"#m2b8194baff\" x=\"254.754829\" y=\"113.497096\" style=\"stroke: #000000\"/>\n     <use xlink:href=\"#m2b8194baff\" x=\"45.299\" y=\"166.311399\" style=\"stroke: #000000\"/>\n     <use xlink:href=\"#m2b8194baff\" x=\"334.528347\" y=\"85.115495\" style=\"stroke: #000000\"/>\n     <use xlink:href=\"#m2b8194baff\" x=\"292.646445\" y=\"42.915467\" style=\"stroke: #000000\"/>\n     <use xlink:href=\"#m2b8194baff\" x=\"103.720554\" y=\"155.738894\" style=\"stroke: #000000\"/>\n     <use xlink:href=\"#m2b8194baff\" x=\"94.423861\" y=\"134.165865\" style=\"stroke: #000000\"/>\n     <use xlink:href=\"#m2b8194baff\" x=\"94.905098\" y=\"174.561863\" style=\"stroke: #000000\"/>\n     <use xlink:href=\"#m2b8194baff\" x=\"131.720525\" y=\"108.348865\" style=\"stroke: #000000\"/>\n     <use xlink:href=\"#m2b8194baff\" x=\"198.904209\" y=\"95.203591\" style=\"stroke: #000000\"/>\n     <use xlink:href=\"#m2b8194baff\" x=\"170.627513\" y=\"189.655437\" style=\"stroke: #000000\"/>\n     <use xlink:href=\"#m2b8194baff\" x=\"127.755845\" y=\"118.038452\" style=\"stroke: #000000\"/>\n     <use xlink:href=\"#m2b8194baff\" x=\"225.439741\" y=\"82.348964\" style=\"stroke: #000000\"/>\n     <use xlink:href=\"#m2b8194baff\" x=\"81.526915\" y=\"119.817482\" style=\"stroke: #000000\"/>\n     <use xlink:href=\"#m2b8194baff\" x=\"128.034772\" y=\"121.715605\" style=\"stroke: #000000\"/>\n     <use xlink:href=\"#m2b8194baff\" x=\"150.646399\" y=\"120.695181\" style=\"stroke: #000000\"/>\n     <use xlink:href=\"#m2b8194baff\" x=\"177.977626\" y=\"138.188503\" style=\"stroke: #000000\"/>\n     <use xlink:href=\"#m2b8194baff\" x=\"278.245786\" y=\"84.693488\" style=\"stroke: #000000\"/>\n     <use xlink:href=\"#m2b8194baff\" x=\"99.86183\" y=\"145.09956\" style=\"stroke: #000000\"/>\n     <use xlink:href=\"#m2b8194baff\" x=\"195.698491\" y=\"82.357465\" style=\"stroke: #000000\"/>\n     <use xlink:href=\"#m2b8194baff\" x=\"219.517499\" y=\"59.192996\" style=\"stroke: #000000\"/>\n     <use xlink:href=\"#m2b8194baff\" x=\"53.179525\" y=\"173.232705\" style=\"stroke: #000000\"/>\n     <use xlink:href=\"#m2b8194baff\" x=\"224.127217\" y=\"48.782563\" style=\"stroke: #000000\"/>\n     <use xlink:href=\"#m2b8194baff\" x=\"90.980852\" y=\"214.756364\" style=\"stroke: #000000\"/>\n     <use xlink:href=\"#m2b8194baff\" x=\"58.846715\" y=\"138.332426\" style=\"stroke: #000000\"/>\n     <use xlink:href=\"#m2b8194baff\" x=\"328.122905\" y=\"17.083636\" style=\"stroke: #000000\"/>\n     <use xlink:href=\"#m2b8194baff\" x=\"333.225031\" y=\"90.779539\" style=\"stroke: #000000\"/>\n     <use xlink:href=\"#m2b8194baff\" x=\"285.320606\" y=\"58.235261\" style=\"stroke: #000000\"/>\n     <use xlink:href=\"#m2b8194baff\" x=\"131.833717\" y=\"112.066683\" style=\"stroke: #000000\"/>\n     <use xlink:href=\"#m2b8194baff\" x=\"68.785154\" y=\"174.464498\" style=\"stroke: #000000\"/>\n     <use xlink:href=\"#m2b8194baff\" x=\"247.491673\" y=\"143.805073\" style=\"stroke: #000000\"/>\n     <use xlink:href=\"#m2b8194baff\" x=\"173.128071\" y=\"140.89963\" style=\"stroke: #000000\"/>\n     <use xlink:href=\"#m2b8194baff\" x=\"76.208739\" y=\"198.036336\" style=\"stroke: #000000\"/>\n     <use xlink:href=\"#m2b8194baff\" x=\"189.892267\" y=\"102.473905\" style=\"stroke: #000000\"/>\n     <use xlink:href=\"#m2b8194baff\" x=\"49.504649\" y=\"175.43515\" style=\"stroke: #000000\"/>\n     <use xlink:href=\"#m2b8194baff\" x=\"316.068662\" y=\"24.024642\" style=\"stroke: #000000\"/>\n     <use xlink:href=\"#m2b8194baff\" x=\"117.869615\" y=\"152.232027\" style=\"stroke: #000000\"/>\n     <use xlink:href=\"#m2b8194baff\" x=\"240.877098\" y=\"111.16366\" style=\"stroke: #000000\"/>\n     <use xlink:href=\"#m2b8194baff\" x=\"133.996042\" y=\"94.458562\" style=\"stroke: #000000\"/>\n     <use xlink:href=\"#m2b8194baff\" x=\"197.475799\" y=\"125.767792\" style=\"stroke: #000000\"/>\n     <use xlink:href=\"#m2b8194baff\" x=\"205.592851\" y=\"76.729123\" style=\"stroke: #000000\"/>\n     <use xlink:href=\"#m2b8194baff\" x=\"95.34685\" y=\"147.110572\" style=\"stroke: #000000\"/>\n     <use xlink:href=\"#m2b8194baff\" x=\"334.429262\" y=\"104.423185\" style=\"stroke: #000000\"/>\n     <use xlink:href=\"#m2b8194baff\" x=\"275.18596\" y=\"59.033702\" style=\"stroke: #000000\"/>\n     <use xlink:href=\"#m2b8194baff\" x=\"325.263107\" y=\"62.722308\" style=\"stroke: #000000\"/>\n     <use xlink:href=\"#m2b8194baff\" x=\"311.653089\" y=\"36.375768\" style=\"stroke: #000000\"/>\n     <use xlink:href=\"#m2b8194baff\" x=\"221.18873\" y=\"108.842687\" style=\"stroke: #000000\"/>\n     <use xlink:href=\"#m2b8194baff\" x=\"319.893417\" y=\"96.813608\" style=\"stroke: #000000\"/>\n     <use xlink:href=\"#m2b8194baff\" x=\"65.988417\" y=\"146.371984\" style=\"stroke: #000000\"/>\n     <use xlink:href=\"#m2b8194baff\" x=\"98.737323\" y=\"167.003354\" style=\"stroke: #000000\"/>\n     <use xlink:href=\"#m2b8194baff\" x=\"52.806878\" y=\"145.669356\" style=\"stroke: #000000\"/>\n     <use xlink:href=\"#m2b8194baff\" x=\"138.145397\" y=\"106.36421\" style=\"stroke: #000000\"/>\n     <use xlink:href=\"#m2b8194baff\" x=\"157.445208\" y=\"153.286651\" style=\"stroke: #000000\"/>\n     <use xlink:href=\"#m2b8194baff\" x=\"121.699006\" y=\"120.475438\" style=\"stroke: #000000\"/>\n     <use xlink:href=\"#m2b8194baff\" x=\"291.517609\" y=\"32.436251\" style=\"stroke: #000000\"/>\n     <use xlink:href=\"#m2b8194baff\" x=\"147.718988\" y=\"140.90739\" style=\"stroke: #000000\"/>\n     <use xlink:href=\"#m2b8194baff\" x=\"124.619398\" y=\"76.773581\" style=\"stroke: #000000\"/>\n     <use xlink:href=\"#m2b8194baff\" x=\"204.369852\" y=\"72.523255\" style=\"stroke: #000000\"/>\n     <use xlink:href=\"#m2b8194baff\" x=\"81.962702\" y=\"207.376533\" style=\"stroke: #000000\"/>\n     <use xlink:href=\"#m2b8194baff\" x=\"283.431551\" y=\"31.7324\" style=\"stroke: #000000\"/>\n     <use xlink:href=\"#m2b8194baff\" x=\"61.740775\" y=\"177.60024\" style=\"stroke: #000000\"/>\n     <use xlink:href=\"#m2b8194baff\" x=\"339.700727\" y=\"40.258617\" style=\"stroke: #000000\"/>\n     <use xlink:href=\"#m2b8194baff\" x=\"274.306061\" y=\"37.797536\" style=\"stroke: #000000\"/>\n     <use xlink:href=\"#m2b8194baff\" x=\"99.569927\" y=\"192.40571\" style=\"stroke: #000000\"/>\n     <use xlink:href=\"#m2b8194baff\" x=\"40.709971\" y=\"142.775229\" style=\"stroke: #000000\"/>\n     <use xlink:href=\"#m2b8194baff\" x=\"287.472808\" y=\"32.41388\" style=\"stroke: #000000\"/>\n     <use xlink:href=\"#m2b8194baff\" x=\"254.384585\" y=\"84.206983\" style=\"stroke: #000000\"/>\n     <use xlink:href=\"#m2b8194baff\" x=\"261.132935\" y=\"49.190494\" style=\"stroke: #000000\"/>\n     <use xlink:href=\"#m2b8194baff\" x=\"274.009186\" y=\"71.974211\" style=\"stroke: #000000\"/>\n     <use xlink:href=\"#m2b8194baff\" x=\"61.586615\" y=\"172.198039\" style=\"stroke: #000000\"/>\n     <use xlink:href=\"#m2b8194baff\" x=\"148.240703\" y=\"145.784532\" style=\"stroke: #000000\"/>\n     <use xlink:href=\"#m2b8194baff\" x=\"74.329187\" y=\"189.6468\" style=\"stroke: #000000\"/>\n     <use xlink:href=\"#m2b8194baff\" x=\"301.987814\" y=\"44.634034\" style=\"stroke: #000000\"/>\n     <use xlink:href=\"#m2b8194baff\" x=\"228.92674\" y=\"80.210119\" style=\"stroke: #000000\"/>\n     <use xlink:href=\"#m2b8194baff\" x=\"139.841697\" y=\"108.996154\" style=\"stroke: #000000\"/>\n     <use xlink:href=\"#m2b8194baff\" x=\"58.391772\" y=\"132.373916\" style=\"stroke: #000000\"/>\n     <use xlink:href=\"#m2b8194baff\" x=\"133.774014\" y=\"113.584307\" style=\"stroke: #000000\"/>\n     <use xlink:href=\"#m2b8194baff\" x=\"138.100608\" y=\"79.931554\" style=\"stroke: #000000\"/>\n     <use xlink:href=\"#m2b8194baff\" x=\"261.315434\" y=\"100.427047\" style=\"stroke: #000000\"/>\n     <use xlink:href=\"#m2b8194baff\" x=\"233.271111\" y=\"29.536486\" style=\"stroke: #000000\"/>\n     <use xlink:href=\"#m2b8194baff\" x=\"309.333159\" y=\"36.840863\" style=\"stroke: #000000\"/>\n     <use xlink:href=\"#m2b8194baff\" x=\"182.896478\" y=\"149.509197\" style=\"stroke: #000000\"/>\n     <use xlink:href=\"#m2b8194baff\" x=\"75.464133\" y=\"197.264882\" style=\"stroke: #000000\"/>\n     <use xlink:href=\"#m2b8194baff\" x=\"256.330637\" y=\"90.214347\" style=\"stroke: #000000\"/>\n     <use xlink:href=\"#m2b8194baff\" x=\"270.814648\" y=\"78.909\" style=\"stroke: #000000\"/>\n     <use xlink:href=\"#m2b8194baff\" x=\"210.030929\" y=\"60.783537\" style=\"stroke: #000000\"/>\n     <use xlink:href=\"#m2b8194baff\" x=\"273.91682\" y=\"55.042462\" style=\"stroke: #000000\"/>\n     <use xlink:href=\"#m2b8194baff\" x=\"189.471424\" y=\"116.491673\" style=\"stroke: #000000\"/>\n     <use xlink:href=\"#m2b8194baff\" x=\"198.287682\" y=\"114.894782\" style=\"stroke: #000000\"/>\n     <use xlink:href=\"#m2b8194baff\" x=\"169.285754\" y=\"180.359199\" style=\"stroke: #000000\"/>\n     <use xlink:href=\"#m2b8194baff\" x=\"46.771959\" y=\"166.886424\" style=\"stroke: #000000\"/>\n     <use xlink:href=\"#m2b8194baff\" x=\"71.898655\" y=\"146.361212\" style=\"stroke: #000000\"/>\n     <use xlink:href=\"#m2b8194baff\" x=\"48.603034\" y=\"149.176968\" style=\"stroke: #000000\"/>\n     <use xlink:href=\"#m2b8194baff\" x=\"232.921638\" y=\"123.666418\" style=\"stroke: #000000\"/>\n     <use xlink:href=\"#m2b8194baff\" x=\"134.801861\" y=\"109.694702\" style=\"stroke: #000000\"/>\n     <use xlink:href=\"#m2b8194baff\" x=\"193.972927\" y=\"95.03445\" style=\"stroke: #000000\"/>\n     <use xlink:href=\"#m2b8194baff\" x=\"315.534296\" y=\"81.405853\" style=\"stroke: #000000\"/>\n     <use xlink:href=\"#m2b8194baff\" x=\"114.978998\" y=\"136.270354\" style=\"stroke: #000000\"/>\n     <use xlink:href=\"#m2b8194baff\" x=\"164.058226\" y=\"141.721572\" style=\"stroke: #000000\"/>\n     <use xlink:href=\"#m2b8194baff\" x=\"269.220041\" y=\"104.578544\" style=\"stroke: #000000\"/>\n     <use xlink:href=\"#m2b8194baff\" x=\"108.735106\" y=\"145.949621\" style=\"stroke: #000000\"/>\n     <use xlink:href=\"#m2b8194baff\" x=\"62.480895\" y=\"141.631628\" style=\"stroke: #000000\"/>\n     <use xlink:href=\"#m2b8194baff\" x=\"127.305641\" y=\"92.041639\" style=\"stroke: #000000\"/>\n     <use xlink:href=\"#m2b8194baff\" x=\"88.146573\" y=\"156.629499\" style=\"stroke: #000000\"/>\n     <use xlink:href=\"#m2b8194baff\" x=\"322.276964\" y=\"100.193901\" style=\"stroke: #000000\"/>\n     <use xlink:href=\"#m2b8194baff\" x=\"285.236223\" y=\"67.208315\" style=\"stroke: #000000\"/>\n     <use xlink:href=\"#m2b8194baff\" x=\"232.005605\" y=\"80.37644\" style=\"stroke: #000000\"/>\n     <use xlink:href=\"#m2b8194baff\" x=\"304.533977\" y=\"33.25632\" style=\"stroke: #000000\"/>\n     <use xlink:href=\"#m2b8194baff\" x=\"283.880966\" y=\"34.431843\" style=\"stroke: #000000\"/>\n     <use xlink:href=\"#m2b8194baff\" x=\"95.86954\" y=\"85.8337\" style=\"stroke: #000000\"/>\n     <use xlink:href=\"#m2b8194baff\" x=\"310.961994\" y=\"40.434458\" style=\"stroke: #000000\"/>\n     <use xlink:href=\"#m2b8194baff\" x=\"203.348043\" y=\"58.278488\" style=\"stroke: #000000\"/>\n    </g>\n   </g>\n   <g id=\"matplotlib.axis_1\">\n    <g id=\"xtick_1\">\n     <g id=\"line2d_1\">\n      <defs>\n       <path id=\"m3fac838375\" d=\"M 0 0 \nL 0 3.5 \n\" style=\"stroke: #000000; stroke-width: 0.8\"/>\n      </defs>\n      <g>\n       <use xlink:href=\"#m3fac838375\" x=\"39.027557\" y=\"224.64\" style=\"stroke: #000000; stroke-width: 0.8\"/>\n      </g>\n     </g>\n     <g id=\"text_1\">\n      <!-- -3 -->\n      <g transform=\"translate(34.222869 239.232187)scale(0.1 -0.1)\">\n       <defs>\n        <path id=\"MalgunGothic-2d\" d=\"M 2213 1634 \nL 463 1634 \nL 463 2031 \nL 2213 2031 \nL 2213 1634 \nz\n\" transform=\"scale(0.015625)\"/>\n        <path id=\"MalgunGothic-33\" d=\"M 416 719 \nQ 891 344 1478 344 \nQ 1959 344 2254 587 \nQ 2550 831 2550 1247 \nQ 2550 2169 1253 2169 \nL 872 2169 \nL 872 2591 \nL 1234 2591 \nQ 2388 2591 2388 3453 \nQ 2388 4250 1509 4250 \nQ 1022 4250 594 3916 \nL 594 4413 \nQ 1031 4675 1634 4675 \nQ 2184 4675 2539 4372 \nQ 2894 4069 2894 3581 \nQ 2894 2678 1972 2409 \nL 1972 2400 \nQ 2469 2356 2764 2053 \nQ 3059 1750 3059 1300 \nQ 3059 672 2604 297 \nQ 2150 -78 1450 -78 \nQ 806 -78 416 169 \nL 416 719 \nz\n\" transform=\"scale(0.015625)\"/>\n       </defs>\n       <use xlink:href=\"#MalgunGothic-2d\"/>\n       <use xlink:href=\"#MalgunGothic-33\" x=\"41.015625\"/>\n      </g>\n     </g>\n    </g>\n    <g id=\"xtick_2\">\n     <g id=\"line2d_2\">\n      <g>\n       <use xlink:href=\"#m3fac838375\" x=\"89.805608\" y=\"224.64\" style=\"stroke: #000000; stroke-width: 0.8\"/>\n      </g>\n     </g>\n     <g id=\"text_2\">\n      <!-- -2 -->\n      <g transform=\"translate(85.00092 239.232187)scale(0.1 -0.1)\">\n       <defs>\n        <path id=\"MalgunGothic-32\" d=\"M 2519 3372 \nQ 2519 3784 2275 4018 \nQ 2031 4253 1628 4253 \nQ 1341 4253 1053 4104 \nQ 766 3956 534 3697 \nL 534 4234 \nQ 981 4675 1691 4675 \nQ 2281 4675 2642 4334 \nQ 3003 3994 3003 3416 \nQ 3003 2919 2772 2545 \nQ 2541 2172 1984 1775 \nQ 1459 1406 1254 1215 \nQ 1050 1025 967 854 \nQ 884 684 884 450 \nL 3116 450 \nL 3116 0 \nL 356 0 \nL 356 225 \nQ 356 603 461 870 \nQ 566 1138 811 1392 \nQ 1056 1647 1597 2022 \nQ 2091 2363 2305 2670 \nQ 2519 2978 2519 3372 \nz\n\" transform=\"scale(0.015625)\"/>\n       </defs>\n       <use xlink:href=\"#MalgunGothic-2d\"/>\n       <use xlink:href=\"#MalgunGothic-32\" x=\"41.015625\"/>\n      </g>\n     </g>\n    </g>\n    <g id=\"xtick_3\">\n     <g id=\"line2d_3\">\n      <g>\n       <use xlink:href=\"#m3fac838375\" x=\"140.583658\" y=\"224.64\" style=\"stroke: #000000; stroke-width: 0.8\"/>\n      </g>\n     </g>\n     <g id=\"text_3\">\n      <!-- -1 -->\n      <g transform=\"translate(135.778971 239.232187)scale(0.1 -0.1)\">\n       <defs>\n        <path id=\"MalgunGothic-31\" d=\"M 2231 0 \nL 1734 0 \nL 1734 3972 \nQ 1591 3828 1266 3661 \nQ 941 3494 672 3428 \nL 672 3959 \nQ 1016 4056 1409 4275 \nQ 1803 4494 2031 4700 \nL 2231 4700 \nL 2231 0 \nz\n\" transform=\"scale(0.015625)\"/>\n       </defs>\n       <use xlink:href=\"#MalgunGothic-2d\"/>\n       <use xlink:href=\"#MalgunGothic-31\" x=\"41.015625\"/>\n      </g>\n     </g>\n    </g>\n    <g id=\"xtick_4\">\n     <g id=\"line2d_4\">\n      <g>\n       <use xlink:href=\"#m3fac838375\" x=\"191.361709\" y=\"224.64\" style=\"stroke: #000000; stroke-width: 0.8\"/>\n      </g>\n     </g>\n     <g id=\"text_4\">\n      <!-- 0 -->\n      <g transform=\"translate(188.607803 239.232187)scale(0.1 -0.1)\">\n       <defs>\n        <path id=\"MalgunGothic-30\" d=\"M 278 2206 \nQ 278 3425 675 4050 \nQ 1072 4675 1819 4675 \nQ 3253 4675 3253 2319 \nQ 3253 1156 2854 539 \nQ 2456 -78 1716 -78 \nQ 1016 -78 647 520 \nQ 278 1119 278 2206 \nz\nM 784 2231 \nQ 784 344 1769 344 \nQ 2747 344 2747 2259 \nQ 2747 4250 1794 4250 \nQ 784 4250 784 2231 \nz\n\" transform=\"scale(0.015625)\"/>\n       </defs>\n       <use xlink:href=\"#MalgunGothic-30\"/>\n      </g>\n     </g>\n    </g>\n    <g id=\"xtick_5\">\n     <g id=\"line2d_5\">\n      <g>\n       <use xlink:href=\"#m3fac838375\" x=\"242.13976\" y=\"224.64\" style=\"stroke: #000000; stroke-width: 0.8\"/>\n      </g>\n     </g>\n     <g id=\"text_5\">\n      <!-- 1 -->\n      <g transform=\"translate(239.385854 239.232187)scale(0.1 -0.1)\">\n       <use xlink:href=\"#MalgunGothic-31\"/>\n      </g>\n     </g>\n    </g>\n    <g id=\"xtick_6\">\n     <g id=\"line2d_6\">\n      <g>\n       <use xlink:href=\"#m3fac838375\" x=\"292.917811\" y=\"224.64\" style=\"stroke: #000000; stroke-width: 0.8\"/>\n      </g>\n     </g>\n     <g id=\"text_6\">\n      <!-- 2 -->\n      <g transform=\"translate(290.163904 239.232187)scale(0.1 -0.1)\">\n       <use xlink:href=\"#MalgunGothic-32\"/>\n      </g>\n     </g>\n    </g>\n    <g id=\"xtick_7\">\n     <g id=\"line2d_7\">\n      <g>\n       <use xlink:href=\"#m3fac838375\" x=\"343.695861\" y=\"224.64\" style=\"stroke: #000000; stroke-width: 0.8\"/>\n      </g>\n     </g>\n     <g id=\"text_7\">\n      <!-- 3 -->\n      <g transform=\"translate(340.941955 239.232187)scale(0.1 -0.1)\">\n       <use xlink:href=\"#MalgunGothic-33\"/>\n      </g>\n     </g>\n    </g>\n   </g>\n   <g id=\"matplotlib.axis_2\">\n    <g id=\"ytick_1\">\n     <g id=\"line2d_8\">\n      <defs>\n       <path id=\"m3893ef7a19\" d=\"M 0 0 \nL -3.5 0 \n\" style=\"stroke: #000000; stroke-width: 0.8\"/>\n      </defs>\n      <g>\n       <use xlink:href=\"#m3893ef7a19\" x=\"23.809375\" y=\"205.755544\" style=\"stroke: #000000; stroke-width: 0.8\"/>\n      </g>\n     </g>\n     <g id=\"text_8\">\n      <!-- -2 -->\n      <g transform=\"translate(7.2 209.551638)scale(0.1 -0.1)\">\n       <use xlink:href=\"#MalgunGothic-2d\"/>\n       <use xlink:href=\"#MalgunGothic-32\" x=\"41.015625\"/>\n      </g>\n     </g>\n    </g>\n    <g id=\"ytick_2\">\n     <g id=\"line2d_9\">\n      <g>\n       <use xlink:href=\"#m3893ef7a19\" x=\"23.809375\" y=\"158.041122\" style=\"stroke: #000000; stroke-width: 0.8\"/>\n      </g>\n     </g>\n     <g id=\"text_9\">\n      <!-- -1 -->\n      <g transform=\"translate(7.2 161.837215)scale(0.1 -0.1)\">\n       <use xlink:href=\"#MalgunGothic-2d\"/>\n       <use xlink:href=\"#MalgunGothic-31\" x=\"41.015625\"/>\n      </g>\n     </g>\n    </g>\n    <g id=\"ytick_3\">\n     <g id=\"line2d_10\">\n      <g>\n       <use xlink:href=\"#m3893ef7a19\" x=\"23.809375\" y=\"110.326699\" style=\"stroke: #000000; stroke-width: 0.8\"/>\n      </g>\n     </g>\n     <g id=\"text_10\">\n      <!-- 0 -->\n      <g transform=\"translate(11.301563 114.122793)scale(0.1 -0.1)\">\n       <use xlink:href=\"#MalgunGothic-30\"/>\n      </g>\n     </g>\n    </g>\n    <g id=\"ytick_4\">\n     <g id=\"line2d_11\">\n      <g>\n       <use xlink:href=\"#m3893ef7a19\" x=\"23.809375\" y=\"62.612276\" style=\"stroke: #000000; stroke-width: 0.8\"/>\n      </g>\n     </g>\n     <g id=\"text_11\">\n      <!-- 1 -->\n      <g transform=\"translate(11.301563 66.40837)scale(0.1 -0.1)\">\n       <use xlink:href=\"#MalgunGothic-31\"/>\n      </g>\n     </g>\n    </g>\n    <g id=\"ytick_5\">\n     <g id=\"line2d_12\">\n      <g>\n       <use xlink:href=\"#m3893ef7a19\" x=\"23.809375\" y=\"14.897854\" style=\"stroke: #000000; stroke-width: 0.8\"/>\n      </g>\n     </g>\n     <g id=\"text_12\">\n      <!-- 2 -->\n      <g transform=\"translate(11.301563 18.693947)scale(0.1 -0.1)\">\n       <use xlink:href=\"#MalgunGothic-32\"/>\n      </g>\n     </g>\n    </g>\n   </g>\n   <g id=\"line2d_13\">\n    <path d=\"M 39.027557 156.287505 \nL 48.776943 156.287505 \nL 49.081611 164.77907 \nL 54.870309 164.77907 \nL 55.174977 140.699618 \nL 60.04967 140.699618 \nL 60.354338 162.453278 \nL 70.408392 162.453278 \nL 70.713061 170.225343 \nL 81.681119 170.225343 \nL 81.985788 185.703414 \nL 92.649178 185.703414 \nL 92.953847 135.418 \nL 97.219203 135.418 \nL 97.523871 168.169542 \nL 100.265886 168.169542 \nL 100.570554 142.133267 \nL 123.116009 142.133267 \nL 123.420677 95.617891 \nL 127.686033 95.617891 \nL 127.990702 107.677053 \nL 130.12338 107.677053 \nL 130.428048 111.333285 \nL 133.7794 111.333285 \nL 134.084068 99.889036 \nL 143.528785 99.889036 \nL 143.833454 141.762814 \nL 160.285542 141.762814 \nL 160.59021 170.578736 \nL 171.862938 170.578736 \nL 172.167606 142.865776 \nL 186.182348 142.865776 \nL 186.487016 107.677053 \nL 192.580382 107.677053 \nL 192.885051 102.651616 \nL 201.111095 102.651616 \nL 201.415763 65.50148 \nL 220.00053 65.50148 \nL 220.305198 112.423744 \nL 223.047213 112.423744 \nL 223.351881 72.929521 \nL 232.187262 72.929521 \nL 232.49193 102.042909 \nL 249.858024 102.042909 \nL 250.162692 107.677053 \nL 255.342053 107.677053 \nL 255.646721 79.943962 \nL 261.435419 79.943962 \nL 261.740088 95.202546 \nL 272.09881 95.202546 \nL 272.403478 61.70828 \nL 279.715518 61.70828 \nL 280.020186 47.901955 \nL 286.113552 47.901955 \nL 286.41822 35.921866 \nL 297.081611 35.921866 \nL 297.386279 41.014384 \nL 309.573011 41.014384 \nL 309.87768 45.56018 \nL 317.799056 45.56018 \nL 318.103724 86.576606 \nL 326.634436 86.576606 \nL 326.939105 61.656234 \nL 333.641807 61.656234 \nL 333.946476 76.599099 \nL 343.391193 76.599099 \nL 343.391193 76.599099 \n\" clip-path=\"url(#ped583404de)\" style=\"fill: none; stroke: #1f77b4; stroke-width: 1.5; stroke-linecap: square\"/>\n   </g>\n   <g id=\"line2d_14\">\n    <path d=\"M 39.027557 155.878603 \nL 70.408392 157.877927 \nL 70.713061 183.624934 \nL 100.265886 153.504557 \nL 100.570554 167.030101 \nL 130.12338 100.105557 \nL 130.428048 96.46511 \nL 160.285542 156.291254 \nL 160.59021 180.73706 \nL 190.143036 116.870086 \nL 190.447704 109.932428 \nL 220.00053 47.668202 \nL 220.305198 83.788545 \nL 249.858024 115.841059 \nL 250.162692 102.372949 \nL 279.715518 60.971238 \nL 280.020186 44.748239 \nL 309.573011 38.999934 \nL 309.87768 52.16258 \nL 343.391193 83.352834 \nL 343.391193 83.352834 \n\" clip-path=\"url(#ped583404de)\" style=\"fill: none; stroke: #ff7f0e; stroke-width: 1.5; stroke-linecap: square\"/>\n   </g>\n   <g id=\"patch_3\">\n    <path d=\"M 23.809375 224.64 \nL 23.809375 7.2 \n\" style=\"fill: none; stroke: #000000; stroke-width: 0.8; stroke-linejoin: miter; stroke-linecap: square\"/>\n   </g>\n   <g id=\"patch_4\">\n    <path d=\"M 358.609375 224.64 \nL 358.609375 7.2 \n\" style=\"fill: none; stroke: #000000; stroke-width: 0.8; stroke-linejoin: miter; stroke-linecap: square\"/>\n   </g>\n   <g id=\"patch_5\">\n    <path d=\"M 23.809375 224.64 \nL 358.609375 224.64 \n\" style=\"fill: none; stroke: #000000; stroke-width: 0.8; stroke-linejoin: miter; stroke-linecap: square\"/>\n   </g>\n   <g id=\"patch_6\">\n    <path d=\"M 23.809375 7.2 \nL 358.609375 7.2 \n\" style=\"fill: none; stroke: #000000; stroke-width: 0.8; stroke-linejoin: miter; stroke-linecap: square\"/>\n   </g>\n   <g id=\"legend_1\">\n    <g id=\"patch_7\">\n     <path d=\"M 30.809375 45.1125 \nL 119.5875 45.1125 \nQ 121.5875 45.1125 121.5875 43.1125 \nL 121.5875 14.2 \nQ 121.5875 12.2 119.5875 12.2 \nL 30.809375 12.2 \nQ 28.809375 12.2 28.809375 14.2 \nL 28.809375 43.1125 \nQ 28.809375 45.1125 30.809375 45.1125 \nz\n\" style=\"fill: #ffffff; opacity: 0.8; stroke: #cccccc; stroke-linejoin: miter\"/>\n    </g>\n    <g id=\"line2d_15\">\n     <path d=\"M 32.809375 20.292187 \nL 42.809375 20.292187 \nL 52.809375 20.292187 \n\" style=\"fill: none; stroke: #1f77b4; stroke-width: 1.5; stroke-linecap: square\"/>\n    </g>\n    <g id=\"text_13\">\n     <!-- DecisionTree -->\n     <g transform=\"translate(60.809375 23.792187)scale(0.1 -0.1)\">\n      <defs>\n       <path id=\"MalgunGothic-44\" d=\"M 609 0 \nL 609 4600 \nL 1856 4600 \nQ 4281 4600 4281 2356 \nQ 4281 1288 3587 644 \nQ 2894 0 1800 0 \nL 609 0 \nz\nM 1113 4134 \nL 1113 463 \nL 1813 463 \nQ 2734 463 3243 958 \nQ 3753 1453 3753 2344 \nQ 3753 4134 1844 4134 \nL 1113 4134 \nz\n\" transform=\"scale(0.015625)\"/>\n       <path id=\"MalgunGothic-65\" d=\"M 3156 1519 \nL 828 1519 \nQ 844 950 1133 648 \nQ 1422 347 1909 347 \nQ 2472 347 2934 719 \nL 2934 244 \nQ 2494 -78 1794 -78 \nQ 1100 -78 708 376 \nQ 316 831 316 1634 \nQ 316 2381 747 2870 \nQ 1178 3359 1816 3359 \nQ 2453 3359 2804 2942 \nQ 3156 2525 3156 1788 \nL 3156 1519 \nz\nM 2644 1956 \nQ 2644 2416 2423 2675 \nQ 2203 2934 1809 2934 \nQ 1438 2934 1169 2667 \nQ 900 2400 834 1956 \nL 2644 1956 \nz\n\" transform=\"scale(0.015625)\"/>\n       <path id=\"MalgunGothic-63\" d=\"M 2763 153 \nQ 2375 -78 1872 -78 \nQ 1184 -78 750 372 \nQ 316 822 316 1566 \nQ 316 2381 777 2870 \nQ 1238 3359 2009 3359 \nQ 2434 3359 2766 3200 \nL 2766 2681 \nQ 2397 2941 1981 2941 \nQ 1478 2941 1148 2577 \nQ 819 2213 819 1609 \nQ 819 1034 1120 689 \nQ 1422 344 1947 344 \nQ 2381 344 2763 631 \nL 2763 153 \nz\n\" transform=\"scale(0.015625)\"/>\n       <path id=\"MalgunGothic-69\" d=\"M 472 4466 \nQ 472 4606 565 4701 \nQ 659 4797 794 4797 \nQ 934 4797 1029 4700 \nQ 1125 4603 1125 4466 \nQ 1125 4325 1029 4231 \nQ 934 4138 794 4138 \nQ 659 4138 565 4230 \nQ 472 4322 472 4466 \nz\nM 541 0 \nL 541 3284 \nL 1034 3284 \nL 1034 0 \nL 541 0 \nz\n\" transform=\"scale(0.015625)\"/>\n       <path id=\"MalgunGothic-73\" d=\"M 331 669 \nQ 763 350 1278 350 \nQ 1978 350 1978 822 \nQ 1978 1025 1825 1158 \nQ 1672 1291 1222 1459 \nQ 703 1666 520 1878 \nQ 338 2091 338 2416 \nQ 338 2834 700 3096 \nQ 1063 3359 1584 3359 \nQ 2003 3359 2341 3213 \nL 2341 2697 \nQ 1975 2934 1506 2934 \nQ 1200 2934 1025 2798 \nQ 850 2663 850 2459 \nQ 850 2241 979 2125 \nQ 1109 2009 1544 1838 \nQ 2131 1609 2309 1390 \nQ 2488 1172 2488 869 \nQ 2488 431 2127 176 \nQ 1766 -78 1203 -78 \nQ 694 -78 331 122 \nL 331 669 \nz\n\" transform=\"scale(0.015625)\"/>\n       <path id=\"MalgunGothic-6f\" d=\"M 316 1600 \nQ 316 2419 761 2889 \nQ 1206 3359 1978 3359 \nQ 2697 3359 3111 2907 \nQ 3525 2456 3525 1650 \nQ 3525 869 3078 395 \nQ 2631 -78 1900 -78 \nQ 1184 -78 750 384 \nQ 316 847 316 1600 \nz\nM 819 1622 \nQ 819 1041 1123 692 \nQ 1428 344 1934 344 \nQ 2459 344 2739 680 \nQ 3019 1016 3019 1634 \nQ 3019 2256 2737 2598 \nQ 2456 2941 1934 2941 \nQ 1425 2941 1122 2587 \nQ 819 2234 819 1622 \nz\n\" transform=\"scale(0.015625)\"/>\n       <path id=\"MalgunGothic-6e\" d=\"M 3238 0 \nL 2741 0 \nL 2741 1875 \nQ 2741 2941 1963 2941 \nQ 1563 2941 1298 2639 \nQ 1034 2338 1034 1872 \nL 1034 0 \nL 538 0 \nL 538 3284 \nL 1034 3284 \nL 1034 2734 \nL 1047 2734 \nQ 1416 3359 2125 3359 \nQ 2666 3359 2952 3012 \nQ 3238 2666 3238 2006 \nL 3238 0 \nz\n\" transform=\"scale(0.015625)\"/>\n       <path id=\"MalgunGothic-54\" d=\"M 3294 4134 \nL 1966 4134 \nL 1966 0 \nL 1456 0 \nL 1456 4134 \nL 134 4134 \nL 134 4600 \nL 3294 4600 \nL 3294 4134 \nz\n\" transform=\"scale(0.015625)\"/>\n       <path id=\"MalgunGothic-72\" d=\"M 2225 2775 \nQ 2084 2881 1828 2881 \nQ 1491 2881 1262 2553 \nQ 1034 2225 1034 1681 \nL 1034 0 \nL 538 0 \nL 538 3284 \nL 1034 3284 \nL 1034 2603 \nL 1047 2603 \nQ 1159 2950 1389 3145 \nQ 1619 3341 1903 3341 \nQ 2109 3341 2225 3297 \nL 2225 2775 \nz\n\" transform=\"scale(0.015625)\"/>\n      </defs>\n      <use xlink:href=\"#MalgunGothic-44\"/>\n      <use xlink:href=\"#MalgunGothic-65\" x=\"71.728516\"/>\n      <use xlink:href=\"#MalgunGothic-63\" x=\"125.244141\"/>\n      <use xlink:href=\"#MalgunGothic-69\" x=\"172.509766\"/>\n      <use xlink:href=\"#MalgunGothic-73\" x=\"197.119141\"/>\n      <use xlink:href=\"#MalgunGothic-69\" x=\"240.429688\"/>\n      <use xlink:href=\"#MalgunGothic-6f\" x=\"265.039062\"/>\n      <use xlink:href=\"#MalgunGothic-6e\" x=\"324.951172\"/>\n      <use xlink:href=\"#MalgunGothic-54\" x=\"382.763672\"/>\n      <use xlink:href=\"#MalgunGothic-72\" x=\"426.757812\"/>\n      <use xlink:href=\"#MalgunGothic-65\" x=\"460.734375\"/>\n      <use xlink:href=\"#MalgunGothic-65\" x=\"514.25\"/>\n     </g>\n    </g>\n    <g id=\"line2d_16\">\n     <path d=\"M 32.809375 35.248437 \nL 42.809375 35.248437 \nL 52.809375 35.248437 \n\" style=\"fill: none; stroke: #ff7f0e; stroke-width: 1.5; stroke-linecap: square\"/>\n    </g>\n    <g id=\"text_14\">\n     <!-- LinearModel -->\n     <g transform=\"translate(60.809375 38.748437)scale(0.1 -0.1)\">\n      <defs>\n       <path id=\"MalgunGothic-4c\" d=\"M 2972 0 \nL 609 0 \nL 609 4600 \nL 1113 4600 \nL 1113 463 \nL 2972 463 \nL 2972 0 \nz\n\" transform=\"scale(0.015625)\"/>\n       <path id=\"MalgunGothic-61\" d=\"M 616 3050 \nQ 1097 3359 1722 3359 \nQ 2866 3359 2866 2147 \nL 2866 0 \nL 2369 0 \nL 2369 516 \nL 2350 516 \nQ 2009 -78 1341 -78 \nQ 859 -78 576 180 \nQ 294 438 294 869 \nQ 294 1784 1375 1934 \nL 2366 2078 \nQ 2366 2934 1684 2934 \nQ 1084 2934 616 2525 \nL 616 3050 \nz\nM 1563 1559 \nQ 1178 1509 993 1371 \nQ 809 1234 809 903 \nQ 809 653 986 500 \nQ 1163 347 1450 347 \nQ 1847 347 2106 628 \nQ 2366 909 2366 1334 \nL 2366 1666 \nL 1563 1559 \nz\n\" transform=\"scale(0.015625)\"/>\n       <path id=\"MalgunGothic-4d\" d=\"M 4756 0 \nL 4756 3106 \nQ 4756 3466 4803 3994 \nL 4788 3994 \nQ 4713 3684 4653 3559 \nL 3050 0 \nL 2822 0 \nL 1222 3534 \nQ 1159 3669 1091 3994 \nL 1075 3994 \nQ 1100 3822 1100 3116 \nL 1100 0 \nL 609 0 \nL 609 4600 \nL 1269 4600 \nL 2706 1359 \nQ 2881 966 2922 816 \nL 2941 816 \nQ 2988 944 3166 1375 \nL 4638 4600 \nL 5259 4600 \nL 5259 0 \nL 4756 0 \nz\n\" transform=\"scale(0.015625)\"/>\n       <path id=\"MalgunGothic-64\" d=\"M 3313 0 \nL 2822 0 \nL 2822 566 \nL 2809 566 \nQ 2444 -78 1675 -78 \nQ 1056 -78 686 364 \nQ 316 806 316 1566 \nQ 316 2375 728 2867 \nQ 1141 3359 1816 3359 \nQ 2494 3359 2809 2822 \nL 2822 2822 \nL 2822 4859 \nL 3313 4859 \nL 3313 0 \nz\nM 2822 1978 \nQ 2822 2378 2550 2659 \nQ 2278 2941 1872 2941 \nQ 1384 2941 1101 2577 \nQ 819 2213 819 1591 \nQ 819 1025 1086 684 \nQ 1353 344 1813 344 \nQ 2250 344 2536 666 \nQ 2822 988 2822 1478 \nL 2822 1978 \nz\n\" transform=\"scale(0.015625)\"/>\n       <path id=\"MalgunGothic-6c\" d=\"M 541 0 \nL 541 4859 \nL 1034 4859 \nL 1034 0 \nL 541 0 \nz\n\" transform=\"scale(0.015625)\"/>\n      </defs>\n      <use xlink:href=\"#MalgunGothic-4c\"/>\n      <use xlink:href=\"#MalgunGothic-69\" x=\"47.998047\"/>\n      <use xlink:href=\"#MalgunGothic-6e\" x=\"72.607422\"/>\n      <use xlink:href=\"#MalgunGothic-65\" x=\"130.419922\"/>\n      <use xlink:href=\"#MalgunGothic-61\" x=\"183.935547\"/>\n      <use xlink:href=\"#MalgunGothic-72\" x=\"235.9375\"/>\n      <use xlink:href=\"#MalgunGothic-4d\" x=\"271.289062\"/>\n      <use xlink:href=\"#MalgunGothic-6f\" x=\"362.988281\"/>\n      <use xlink:href=\"#MalgunGothic-64\" x=\"422.900391\"/>\n      <use xlink:href=\"#MalgunGothic-65\" x=\"483.105469\"/>\n      <use xlink:href=\"#MalgunGothic-6c\" x=\"536.621094\"/>\n     </g>\n    </g>\n   </g>\n  </g>\n </g>\n <defs>\n  <clipPath id=\"ped583404de\">\n   <rect x=\"23.809375\" y=\"7.2\" width=\"334.8\" height=\"217.44\"/>\n  </clipPath>\n </defs>\n</svg>\n",
      "text/plain": [
       "<Figure size 432x288 with 1 Axes>"
      ]
     },
     "metadata": {
      "needs_background": "light"
     },
     "output_type": "display_data"
    }
   ],
   "source": [
    "# 선형모델은 유연해졌지만 결정트리는 덜 유연 → 트리모델은 구간화가 득이 되지 않음\n",
    "plt.plot(line, dt_reg.predict(line_product), label='DecisionTree')\n",
    "plt.plot(line, lr_reg.predict(line_product), label='LinearModel')\n",
    "plt.scatter(X[:, 0], y, c='black')\n",
    "plt.legend()\n",
    "plt.show()"
   ]
  },
  {
   "cell_type": "code",
   "execution_count": null,
   "metadata": {},
   "outputs": [],
   "source": []
  }
 ],
 "metadata": {
  "kernelspec": {
   "display_name": "base",
   "language": "python",
   "name": "python3"
  },
  "language_info": {
   "codemirror_mode": {
    "name": "ipython",
    "version": 3
   },
   "file_extension": ".py",
   "mimetype": "text/x-python",
   "name": "python",
   "nbconvert_exporter": "python",
   "pygments_lexer": "ipython3",
   "version": "3.9.12"
  },
  "orig_nbformat": 4,
  "vscode": {
   "interpreter": {
    "hash": "610a6f344c2137faf927ea819c63f6cee33a2c04455044b28099f39fe9722347"
   }
  }
 },
 "nbformat": 4,
 "nbformat_minor": 2
}
