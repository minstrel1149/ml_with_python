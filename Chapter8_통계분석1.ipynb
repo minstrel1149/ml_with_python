{
 "cells": [
  {
   "cell_type": "code",
   "execution_count": 1,
   "metadata": {},
   "outputs": [
    {
     "name": "stderr",
     "output_type": "stream",
     "text": [
      "c:\\Users\\admin\\anaconda3\\lib\\site-packages\\outdated\\utils.py:14: OutdatedPackageWarning: The package pingouin is out of date. Your version is 0.5.2, the latest is 0.5.3.\n",
      "Set the environment variable OUTDATED_IGNORE=1 to disable these warnings.\n",
      "  return warn(\n"
     ]
    }
   ],
   "source": [
    "import os, sys\n",
    "import datetime\n",
    "from datetime import datetime, date, timedelta\n",
    "import numpy as np\n",
    "%matplotlib inline\n",
    "import matplotlib.pyplot as plt\n",
    "import seaborn as sns\n",
    "import pandas as pd\n",
    "from pandas.plotting import scatter_matrix\n",
    "from pandas_profiling import ProfileReport\n",
    "import mglearn\n",
    "plt.rcParams['font.family'] = 'Malgun Gothic'\n",
    "plt.rcParams['axes.unicode_minus'] = False\n",
    "%config InlineBackend.figure_format = 'svg'\n",
    "from mpl_toolkits.mplot3d import Axes3D, axes3d\n",
    "from scipy import sparse\n",
    "import scipy.stats as ss\n",
    "import scipy.cluster.hierarchy as sch\n",
    "import pingouin as pg\n",
    "import spacy, nltk\n",
    "from konlpy.tag import Okt"
   ]
  },
  {
   "cell_type": "code",
   "execution_count": null,
   "metadata": {},
   "outputs": [],
   "source": []
  },
  {
   "cell_type": "code",
   "execution_count": 4,
   "metadata": {},
   "outputs": [
    {
     "data": {
      "text/html": [
       "<div>\n",
       "<style scoped>\n",
       "    .dataframe tbody tr th:only-of-type {\n",
       "        vertical-align: middle;\n",
       "    }\n",
       "\n",
       "    .dataframe tbody tr th {\n",
       "        vertical-align: top;\n",
       "    }\n",
       "\n",
       "    .dataframe thead th {\n",
       "        text-align: right;\n",
       "    }\n",
       "</style>\n",
       "<table border=\"1\" class=\"dataframe\">\n",
       "  <thead>\n",
       "    <tr style=\"text-align: right;\">\n",
       "      <th></th>\n",
       "      <th>Sex</th>\n",
       "      <th>Bwt</th>\n",
       "      <th>Hwt</th>\n",
       "    </tr>\n",
       "  </thead>\n",
       "  <tbody>\n",
       "    <tr>\n",
       "      <th>0</th>\n",
       "      <td>F</td>\n",
       "      <td>2.0</td>\n",
       "      <td>7.0</td>\n",
       "    </tr>\n",
       "    <tr>\n",
       "      <th>1</th>\n",
       "      <td>F</td>\n",
       "      <td>2.0</td>\n",
       "      <td>7.4</td>\n",
       "    </tr>\n",
       "    <tr>\n",
       "      <th>2</th>\n",
       "      <td>F</td>\n",
       "      <td>2.0</td>\n",
       "      <td>9.5</td>\n",
       "    </tr>\n",
       "    <tr>\n",
       "      <th>3</th>\n",
       "      <td>F</td>\n",
       "      <td>2.1</td>\n",
       "      <td>7.2</td>\n",
       "    </tr>\n",
       "    <tr>\n",
       "      <th>4</th>\n",
       "      <td>F</td>\n",
       "      <td>2.1</td>\n",
       "      <td>7.3</td>\n",
       "    </tr>\n",
       "  </tbody>\n",
       "</table>\n",
       "</div>"
      ],
      "text/plain": [
       "  Sex  Bwt  Hwt\n",
       "0   F  2.0  7.0\n",
       "1   F  2.0  7.4\n",
       "2   F  2.0  9.5\n",
       "3   F  2.1  7.2\n",
       "4   F  2.1  7.3"
      ]
     },
     "execution_count": 4,
     "metadata": {},
     "output_type": "execute_result"
    }
   ],
   "source": [
    "cats = pd.read_csv('data_ba/cats.csv')\n",
    "cats.head()"
   ]
  },
  {
   "cell_type": "code",
   "execution_count": 11,
   "metadata": {},
   "outputs": [
    {
     "data": {
      "text/plain": [
       "(           0   1\n",
       " Sex   object   2\n",
       " Bwt  float64  20\n",
       " Hwt  float64  73,\n",
       " (144, 3))"
      ]
     },
     "execution_count": 11,
     "metadata": {},
     "output_type": "execute_result"
    }
   ],
   "source": [
    "pd.concat([cats.dtypes, cats.nunique()], axis=1), cats.shape"
   ]
  },
  {
   "cell_type": "code",
   "execution_count": 8,
   "metadata": {},
   "outputs": [
    {
     "data": {
      "text/plain": [
       "ShapiroResult(statistic=0.9518786668777466, pvalue=6.730248423991725e-05)"
      ]
     },
     "execution_count": 8,
     "metadata": {},
     "output_type": "execute_result"
    }
   ],
   "source": [
    "# 귀무가설: 정규성을 가진다 / 대립가설: 정규성을 가지지 않는다\n",
    "ss.shapiro(cats['Bwt'])"
   ]
  },
  {
   "cell_type": "code",
   "execution_count": 9,
   "metadata": {},
   "outputs": [
    {
     "data": {
      "text/plain": [
       "WilcoxonResult(statistic=3573.0, pvalue=0.02524520294814093)"
      ]
     },
     "execution_count": 9,
     "metadata": {},
     "output_type": "execute_result"
    }
   ],
   "source": [
    "mu = 2.6\n",
    "ss.wilcoxon(cats['Bwt'] - mu, alternative='two-sided')"
   ]
  },
  {
   "cell_type": "code",
   "execution_count": 10,
   "metadata": {},
   "outputs": [
    {
     "data": {
      "text/plain": [
       "Ttest_1sampResult(statistic=3.0564867998078107, pvalue=0.0026730362561723613)"
      ]
     },
     "execution_count": 10,
     "metadata": {},
     "output_type": "execute_result"
    }
   ],
   "source": [
    "ss.ttest_1samp(cats['Bwt'], popmean=mu, alternative='two-sided')"
   ]
  },
  {
   "cell_type": "code",
   "execution_count": 14,
   "metadata": {},
   "outputs": [
    {
     "data": {
      "text/plain": [
       "<AxesSubplot:ylabel='Frequency'>"
      ]
     },
     "execution_count": 14,
     "metadata": {},
     "output_type": "execute_result"
    },
    {
     "data": {
      "image/svg+xml": "<?xml version=\"1.0\" encoding=\"utf-8\" standalone=\"no\"?>\n<!DOCTYPE svg PUBLIC \"-//W3C//DTD SVG 1.1//EN\"\n  \"http://www.w3.org/Graphics/SVG/1.1/DTD/svg11.dtd\">\n<svg xmlns:xlink=\"http://www.w3.org/1999/xlink\" width=\"381.171875pt\" height=\"248.79625pt\" viewBox=\"0 0 381.171875 248.79625\" xmlns=\"http://www.w3.org/2000/svg\" version=\"1.1\">\n <metadata>\n  <rdf:RDF xmlns:dc=\"http://purl.org/dc/elements/1.1/\" xmlns:cc=\"http://creativecommons.org/ns#\" xmlns:rdf=\"http://www.w3.org/1999/02/22-rdf-syntax-ns#\">\n   <cc:Work>\n    <dc:type rdf:resource=\"http://purl.org/dc/dcmitype/StillImage\"/>\n    <dc:date>2023-01-07T23:46:08.866961</dc:date>\n    <dc:format>image/svg+xml</dc:format>\n    <dc:creator>\n     <cc:Agent>\n      <dc:title>Matplotlib v3.5.1, https://matplotlib.org/</dc:title>\n     </cc:Agent>\n    </dc:creator>\n   </cc:Work>\n  </rdf:RDF>\n </metadata>\n <defs>\n  <style type=\"text/css\">*{stroke-linejoin: round; stroke-linecap: butt}</style>\n </defs>\n <g id=\"figure_1\">\n  <g id=\"patch_1\">\n   <path d=\"M 0 248.79625 \nL 381.171875 248.79625 \nL 381.171875 0 \nL 0 0 \nL 0 248.79625 \nz\n\" style=\"fill: none\"/>\n  </g>\n  <g id=\"axes_1\">\n   <g id=\"patch_2\">\n    <path d=\"M 39.171875 224.64 \nL 373.971875 224.64 \nL 373.971875 7.2 \nL 39.171875 7.2 \nz\n\" style=\"fill: #ffffff\"/>\n   </g>\n   <g id=\"patch_3\">\n    <path d=\"M 54.390057 224.64 \nL 69.608239 224.64 \nL 69.608239 150.680816 \nL 54.390057 150.680816 \nz\n\" clip-path=\"url(#pe7b2e0e4d4)\" style=\"fill: #1f77b4\"/>\n   </g>\n   <g id=\"patch_4\">\n    <path d=\"M 69.608239 224.64 \nL 84.82642 224.64 \nL 84.82642 76.721633 \nL 69.608239 76.721633 \nz\n\" clip-path=\"url(#pe7b2e0e4d4)\" style=\"fill: #1f77b4\"/>\n   </g>\n   <g id=\"patch_5\">\n    <path d=\"M 84.82642 224.64 \nL 100.044602 224.64 \nL 100.044602 17.554286 \nL 84.82642 17.554286 \nz\n\" clip-path=\"url(#pe7b2e0e4d4)\" style=\"fill: #1f77b4\"/>\n   </g>\n   <g id=\"patch_6\">\n    <path d=\"M 100.044602 224.64 \nL 115.262784 224.64 \nL 115.262784 32.346122 \nL 100.044602 32.346122 \nz\n\" clip-path=\"url(#pe7b2e0e4d4)\" style=\"fill: #1f77b4\"/>\n   </g>\n   <g id=\"patch_7\">\n    <path d=\"M 115.262784 224.64 \nL 130.480966 224.64 \nL 130.480966 91.513469 \nL 115.262784 91.513469 \nz\n\" clip-path=\"url(#pe7b2e0e4d4)\" style=\"fill: #1f77b4\"/>\n   </g>\n   <g id=\"patch_8\">\n    <path d=\"M 130.480966 224.64 \nL 145.699148 224.64 \nL 145.699148 76.721633 \nL 130.480966 76.721633 \nz\n\" clip-path=\"url(#pe7b2e0e4d4)\" style=\"fill: #1f77b4\"/>\n   </g>\n   <g id=\"patch_9\">\n    <path d=\"M 145.699148 224.64 \nL 160.91733 224.64 \nL 160.91733 91.513469 \nL 145.699148 91.513469 \nz\n\" clip-path=\"url(#pe7b2e0e4d4)\" style=\"fill: #1f77b4\"/>\n   </g>\n   <g id=\"patch_10\">\n    <path d=\"M 160.91733 224.64 \nL 176.135511 224.64 \nL 176.135511 47.137959 \nL 160.91733 47.137959 \nz\n\" clip-path=\"url(#pe7b2e0e4d4)\" style=\"fill: #1f77b4\"/>\n   </g>\n   <g id=\"patch_11\">\n    <path d=\"M 176.135511 224.64 \nL 191.353693 224.64 \nL 191.353693 121.097143 \nL 176.135511 121.097143 \nz\n\" clip-path=\"url(#pe7b2e0e4d4)\" style=\"fill: #1f77b4\"/>\n   </g>\n   <g id=\"patch_12\">\n    <path d=\"M 191.353693 224.64 \nL 206.571875 224.64 \nL 206.571875 106.305306 \nL 191.353693 106.305306 \nz\n\" clip-path=\"url(#pe7b2e0e4d4)\" style=\"fill: #1f77b4\"/>\n   </g>\n   <g id=\"patch_13\">\n    <path d=\"M 206.571875 224.64 \nL 221.790057 224.64 \nL 221.790057 61.929796 \nL 206.571875 61.929796 \nz\n\" clip-path=\"url(#pe7b2e0e4d4)\" style=\"fill: #1f77b4\"/>\n   </g>\n   <g id=\"patch_14\">\n    <path d=\"M 221.790057 224.64 \nL 237.008239 224.64 \nL 237.008239 135.88898 \nL 221.790057 135.88898 \nz\n\" clip-path=\"url(#pe7b2e0e4d4)\" style=\"fill: #1f77b4\"/>\n   </g>\n   <g id=\"patch_15\">\n    <path d=\"M 237.008239 224.64 \nL 252.22642 224.64 \nL 252.22642 135.88898 \nL 237.008239 135.88898 \nz\n\" clip-path=\"url(#pe7b2e0e4d4)\" style=\"fill: #1f77b4\"/>\n   </g>\n   <g id=\"patch_16\">\n    <path d=\"M 252.22642 224.64 \nL 267.444602 224.64 \nL 267.444602 150.680816 \nL 252.22642 150.680816 \nz\n\" clip-path=\"url(#pe7b2e0e4d4)\" style=\"fill: #1f77b4\"/>\n   </g>\n   <g id=\"patch_17\">\n    <path d=\"M 267.444602 224.64 \nL 282.662784 224.64 \nL 282.662784 150.680816 \nL 267.444602 150.680816 \nz\n\" clip-path=\"url(#pe7b2e0e4d4)\" style=\"fill: #1f77b4\"/>\n   </g>\n   <g id=\"patch_18\">\n    <path d=\"M 282.662784 224.64 \nL 297.880966 224.64 \nL 297.880966 150.680816 \nL 282.662784 150.680816 \nz\n\" clip-path=\"url(#pe7b2e0e4d4)\" style=\"fill: #1f77b4\"/>\n   </g>\n   <g id=\"patch_19\">\n    <path d=\"M 297.880966 224.64 \nL 313.099148 224.64 \nL 313.099148 165.472653 \nL 297.880966 165.472653 \nz\n\" clip-path=\"url(#pe7b2e0e4d4)\" style=\"fill: #1f77b4\"/>\n   </g>\n   <g id=\"patch_20\">\n    <path d=\"M 313.099148 224.64 \nL 328.31733 224.64 \nL 328.31733 209.848163 \nL 313.099148 209.848163 \nz\n\" clip-path=\"url(#pe7b2e0e4d4)\" style=\"fill: #1f77b4\"/>\n   </g>\n   <g id=\"patch_21\">\n    <path d=\"M 328.31733 224.64 \nL 343.535511 224.64 \nL 343.535511 195.056327 \nL 328.31733 195.056327 \nz\n\" clip-path=\"url(#pe7b2e0e4d4)\" style=\"fill: #1f77b4\"/>\n   </g>\n   <g id=\"patch_22\">\n    <path d=\"M 343.535511 224.64 \nL 358.753693 224.64 \nL 358.753693 195.056327 \nL 343.535511 195.056327 \nz\n\" clip-path=\"url(#pe7b2e0e4d4)\" style=\"fill: #1f77b4\"/>\n   </g>\n   <g id=\"matplotlib.axis_1\">\n    <g id=\"xtick_1\">\n     <g id=\"line2d_1\">\n      <defs>\n       <path id=\"m9f14fd01db\" d=\"M 0 0 \nL 0 3.5 \n\" style=\"stroke: #000000; stroke-width: 0.8\"/>\n      </defs>\n      <g>\n       <use xlink:href=\"#m9f14fd01db\" x=\"54.390057\" y=\"224.64\" style=\"stroke: #000000; stroke-width: 0.8\"/>\n      </g>\n     </g>\n     <g id=\"text_1\">\n      <!-- 2.00 -->\n      <g transform=\"translate(45.034588 239.232187)scale(0.1 -0.1)\">\n       <defs>\n        <path id=\"MalgunGothic-32\" d=\"M 2519 3372 \nQ 2519 3784 2275 4018 \nQ 2031 4253 1628 4253 \nQ 1341 4253 1053 4104 \nQ 766 3956 534 3697 \nL 534 4234 \nQ 981 4675 1691 4675 \nQ 2281 4675 2642 4334 \nQ 3003 3994 3003 3416 \nQ 3003 2919 2772 2545 \nQ 2541 2172 1984 1775 \nQ 1459 1406 1254 1215 \nQ 1050 1025 967 854 \nQ 884 684 884 450 \nL 3116 450 \nL 3116 0 \nL 356 0 \nL 356 225 \nQ 356 603 461 870 \nQ 566 1138 811 1392 \nQ 1056 1647 1597 2022 \nQ 2091 2363 2305 2670 \nQ 2519 2978 2519 3372 \nz\n\" transform=\"scale(0.015625)\"/>\n        <path id=\"MalgunGothic-2e\" d=\"M 356 275 \nQ 356 422 459 523 \nQ 563 625 700 625 \nQ 838 625 941 523 \nQ 1044 422 1044 275 \nQ 1044 138 942 33 \nQ 841 -72 700 -72 \nQ 559 -72 457 29 \nQ 356 131 356 275 \nz\n\" transform=\"scale(0.015625)\"/>\n        <path id=\"MalgunGothic-30\" d=\"M 278 2206 \nQ 278 3425 675 4050 \nQ 1072 4675 1819 4675 \nQ 3253 4675 3253 2319 \nQ 3253 1156 2854 539 \nQ 2456 -78 1716 -78 \nQ 1016 -78 647 520 \nQ 278 1119 278 2206 \nz\nM 784 2231 \nQ 784 344 1769 344 \nQ 2747 344 2747 2259 \nQ 2747 4250 1794 4250 \nQ 784 4250 784 2231 \nz\n\" transform=\"scale(0.015625)\"/>\n       </defs>\n       <use xlink:href=\"#MalgunGothic-32\"/>\n       <use xlink:href=\"#MalgunGothic-2e\" x=\"55.078125\"/>\n       <use xlink:href=\"#MalgunGothic-30\" x=\"76.953125\"/>\n       <use xlink:href=\"#MalgunGothic-30\" x=\"132.03125\"/>\n      </g>\n     </g>\n    </g>\n    <g id=\"xtick_2\">\n     <g id=\"line2d_2\">\n      <g>\n       <use xlink:href=\"#m9f14fd01db\" x=\"94.437904\" y=\"224.64\" style=\"stroke: #000000; stroke-width: 0.8\"/>\n      </g>\n     </g>\n     <g id=\"text_2\">\n      <!-- 2.25 -->\n      <g transform=\"translate(85.082435 239.232187)scale(0.1 -0.1)\">\n       <defs>\n        <path id=\"MalgunGothic-35\" d=\"M 3072 1403 \nQ 3072 722 2636 322 \nQ 2200 -78 1469 -78 \nQ 828 -78 516 113 \nL 516 650 \nQ 994 344 1475 344 \nQ 1969 344 2270 630 \nQ 2572 916 2572 1372 \nQ 2572 1838 2265 2092 \nQ 1959 2347 1381 2347 \nQ 994 2347 603 2300 \nL 759 4600 \nL 2869 4600 \nL 2869 4147 \nL 1206 4147 \nL 1106 2763 \nQ 1347 2784 1547 2784 \nQ 2263 2784 2667 2414 \nQ 3072 2044 3072 1403 \nz\n\" transform=\"scale(0.015625)\"/>\n       </defs>\n       <use xlink:href=\"#MalgunGothic-32\"/>\n       <use xlink:href=\"#MalgunGothic-2e\" x=\"55.078125\"/>\n       <use xlink:href=\"#MalgunGothic-32\" x=\"76.953125\"/>\n       <use xlink:href=\"#MalgunGothic-35\" x=\"132.03125\"/>\n      </g>\n     </g>\n    </g>\n    <g id=\"xtick_3\">\n     <g id=\"line2d_3\">\n      <g>\n       <use xlink:href=\"#m9f14fd01db\" x=\"134.485751\" y=\"224.64\" style=\"stroke: #000000; stroke-width: 0.8\"/>\n      </g>\n     </g>\n     <g id=\"text_3\">\n      <!-- 2.50 -->\n      <g transform=\"translate(125.130282 239.232187)scale(0.1 -0.1)\">\n       <use xlink:href=\"#MalgunGothic-32\"/>\n       <use xlink:href=\"#MalgunGothic-2e\" x=\"55.078125\"/>\n       <use xlink:href=\"#MalgunGothic-35\" x=\"76.953125\"/>\n       <use xlink:href=\"#MalgunGothic-30\" x=\"132.03125\"/>\n      </g>\n     </g>\n    </g>\n    <g id=\"xtick_4\">\n     <g id=\"line2d_4\">\n      <g>\n       <use xlink:href=\"#m9f14fd01db\" x=\"174.533597\" y=\"224.64\" style=\"stroke: #000000; stroke-width: 0.8\"/>\n      </g>\n     </g>\n     <g id=\"text_4\">\n      <!-- 2.75 -->\n      <g transform=\"translate(165.178129 239.232187)scale(0.1 -0.1)\">\n       <defs>\n        <path id=\"MalgunGothic-37\" d=\"M 3213 4297 \nQ 2478 3006 2064 1918 \nQ 1650 831 1550 0 \nL 1009 0 \nQ 1084 531 1290 1176 \nQ 1497 1822 1815 2537 \nQ 2134 3253 2631 4147 \nL 291 4147 \nL 291 4600 \nL 3213 4600 \nL 3213 4297 \nz\n\" transform=\"scale(0.015625)\"/>\n       </defs>\n       <use xlink:href=\"#MalgunGothic-32\"/>\n       <use xlink:href=\"#MalgunGothic-2e\" x=\"55.078125\"/>\n       <use xlink:href=\"#MalgunGothic-37\" x=\"76.953125\"/>\n       <use xlink:href=\"#MalgunGothic-35\" x=\"132.03125\"/>\n      </g>\n     </g>\n    </g>\n    <g id=\"xtick_5\">\n     <g id=\"line2d_5\">\n      <g>\n       <use xlink:href=\"#m9f14fd01db\" x=\"214.581444\" y=\"224.64\" style=\"stroke: #000000; stroke-width: 0.8\"/>\n      </g>\n     </g>\n     <g id=\"text_5\">\n      <!-- 3.00 -->\n      <g transform=\"translate(205.225976 239.232187)scale(0.1 -0.1)\">\n       <defs>\n        <path id=\"MalgunGothic-33\" d=\"M 416 719 \nQ 891 344 1478 344 \nQ 1959 344 2254 587 \nQ 2550 831 2550 1247 \nQ 2550 2169 1253 2169 \nL 872 2169 \nL 872 2591 \nL 1234 2591 \nQ 2388 2591 2388 3453 \nQ 2388 4250 1509 4250 \nQ 1022 4250 594 3916 \nL 594 4413 \nQ 1031 4675 1634 4675 \nQ 2184 4675 2539 4372 \nQ 2894 4069 2894 3581 \nQ 2894 2678 1972 2409 \nL 1972 2400 \nQ 2469 2356 2764 2053 \nQ 3059 1750 3059 1300 \nQ 3059 672 2604 297 \nQ 2150 -78 1450 -78 \nQ 806 -78 416 169 \nL 416 719 \nz\n\" transform=\"scale(0.015625)\"/>\n       </defs>\n       <use xlink:href=\"#MalgunGothic-33\"/>\n       <use xlink:href=\"#MalgunGothic-2e\" x=\"55.078125\"/>\n       <use xlink:href=\"#MalgunGothic-30\" x=\"76.953125\"/>\n       <use xlink:href=\"#MalgunGothic-30\" x=\"132.03125\"/>\n      </g>\n     </g>\n    </g>\n    <g id=\"xtick_6\">\n     <g id=\"line2d_6\">\n      <g>\n       <use xlink:href=\"#m9f14fd01db\" x=\"254.629291\" y=\"224.64\" style=\"stroke: #000000; stroke-width: 0.8\"/>\n      </g>\n     </g>\n     <g id=\"text_6\">\n      <!-- 3.25 -->\n      <g transform=\"translate(245.273823 239.232187)scale(0.1 -0.1)\">\n       <use xlink:href=\"#MalgunGothic-33\"/>\n       <use xlink:href=\"#MalgunGothic-2e\" x=\"55.078125\"/>\n       <use xlink:href=\"#MalgunGothic-32\" x=\"76.953125\"/>\n       <use xlink:href=\"#MalgunGothic-35\" x=\"132.03125\"/>\n      </g>\n     </g>\n    </g>\n    <g id=\"xtick_7\">\n     <g id=\"line2d_7\">\n      <g>\n       <use xlink:href=\"#m9f14fd01db\" x=\"294.677138\" y=\"224.64\" style=\"stroke: #000000; stroke-width: 0.8\"/>\n      </g>\n     </g>\n     <g id=\"text_7\">\n      <!-- 3.50 -->\n      <g transform=\"translate(285.321669 239.232187)scale(0.1 -0.1)\">\n       <use xlink:href=\"#MalgunGothic-33\"/>\n       <use xlink:href=\"#MalgunGothic-2e\" x=\"55.078125\"/>\n       <use xlink:href=\"#MalgunGothic-35\" x=\"76.953125\"/>\n       <use xlink:href=\"#MalgunGothic-30\" x=\"132.03125\"/>\n      </g>\n     </g>\n    </g>\n    <g id=\"xtick_8\">\n     <g id=\"line2d_8\">\n      <g>\n       <use xlink:href=\"#m9f14fd01db\" x=\"334.724985\" y=\"224.64\" style=\"stroke: #000000; stroke-width: 0.8\"/>\n      </g>\n     </g>\n     <g id=\"text_8\">\n      <!-- 3.75 -->\n      <g transform=\"translate(325.369516 239.232187)scale(0.1 -0.1)\">\n       <use xlink:href=\"#MalgunGothic-33\"/>\n       <use xlink:href=\"#MalgunGothic-2e\" x=\"55.078125\"/>\n       <use xlink:href=\"#MalgunGothic-37\" x=\"76.953125\"/>\n       <use xlink:href=\"#MalgunGothic-35\" x=\"132.03125\"/>\n      </g>\n     </g>\n    </g>\n   </g>\n   <g id=\"matplotlib.axis_2\">\n    <g id=\"ytick_1\">\n     <g id=\"line2d_9\">\n      <defs>\n       <path id=\"m61d512ab7f\" d=\"M 0 0 \nL -3.5 0 \n\" style=\"stroke: #000000; stroke-width: 0.8\"/>\n      </defs>\n      <g>\n       <use xlink:href=\"#m61d512ab7f\" x=\"39.171875\" y=\"224.64\" style=\"stroke: #000000; stroke-width: 0.8\"/>\n      </g>\n     </g>\n     <g id=\"text_9\">\n      <!-- 0 -->\n      <g transform=\"translate(26.664062 228.436094)scale(0.1 -0.1)\">\n       <use xlink:href=\"#MalgunGothic-30\"/>\n      </g>\n     </g>\n    </g>\n    <g id=\"ytick_2\">\n     <g id=\"line2d_10\">\n      <g>\n       <use xlink:href=\"#m61d512ab7f\" x=\"39.171875\" y=\"195.056327\" style=\"stroke: #000000; stroke-width: 0.8\"/>\n      </g>\n     </g>\n     <g id=\"text_10\">\n      <!-- 2 -->\n      <g transform=\"translate(26.664062 198.85242)scale(0.1 -0.1)\">\n       <use xlink:href=\"#MalgunGothic-32\"/>\n      </g>\n     </g>\n    </g>\n    <g id=\"ytick_3\">\n     <g id=\"line2d_11\">\n      <g>\n       <use xlink:href=\"#m61d512ab7f\" x=\"39.171875\" y=\"165.472653\" style=\"stroke: #000000; stroke-width: 0.8\"/>\n      </g>\n     </g>\n     <g id=\"text_11\">\n      <!-- 4 -->\n      <g transform=\"translate(26.664062 169.268747)scale(0.1 -0.1)\">\n       <defs>\n        <path id=\"MalgunGothic-34\" d=\"M 2703 4600 \nL 2703 1563 \nL 3309 1563 \nL 3309 1113 \nL 2703 1113 \nL 2703 0 \nL 2213 0 \nL 2213 1113 \nL 50 1113 \nL 50 1534 \nQ 728 2297 1295 3109 \nQ 1863 3922 2172 4600 \nL 2703 4600 \nz\nM 625 1563 \nL 2213 1563 \nL 2213 3831 \nQ 1613 2788 959 1981 \nL 625 1563 \nz\n\" transform=\"scale(0.015625)\"/>\n       </defs>\n       <use xlink:href=\"#MalgunGothic-34\"/>\n      </g>\n     </g>\n    </g>\n    <g id=\"ytick_4\">\n     <g id=\"line2d_12\">\n      <g>\n       <use xlink:href=\"#m61d512ab7f\" x=\"39.171875\" y=\"135.88898\" style=\"stroke: #000000; stroke-width: 0.8\"/>\n      </g>\n     </g>\n     <g id=\"text_12\">\n      <!-- 6 -->\n      <g transform=\"translate(26.664062 139.685073)scale(0.1 -0.1)\">\n       <defs>\n        <path id=\"MalgunGothic-36\" d=\"M 2981 4069 \nQ 2619 4250 2228 4250 \nQ 1591 4250 1228 3689 \nQ 866 3128 869 2213 \nL 884 2213 \nQ 1203 2872 1938 2872 \nQ 2547 2872 2903 2478 \nQ 3259 2084 3259 1450 \nQ 3259 797 2857 359 \nQ 2456 -78 1825 -78 \nQ 1116 -78 736 478 \nQ 356 1034 356 2019 \nQ 356 3181 847 3928 \nQ 1338 4675 2222 4675 \nQ 2700 4675 2981 4544 \nL 2981 4069 \nz\nM 906 1506 \nQ 906 1022 1165 683 \nQ 1425 344 1844 344 \nQ 2247 344 2498 645 \nQ 2750 947 2750 1388 \nQ 2750 1888 2509 2167 \nQ 2269 2447 1838 2447 \nQ 1444 2447 1175 2173 \nQ 906 1900 906 1506 \nz\n\" transform=\"scale(0.015625)\"/>\n       </defs>\n       <use xlink:href=\"#MalgunGothic-36\"/>\n      </g>\n     </g>\n    </g>\n    <g id=\"ytick_5\">\n     <g id=\"line2d_13\">\n      <g>\n       <use xlink:href=\"#m61d512ab7f\" x=\"39.171875\" y=\"106.305306\" style=\"stroke: #000000; stroke-width: 0.8\"/>\n      </g>\n     </g>\n     <g id=\"text_13\">\n      <!-- 8 -->\n      <g transform=\"translate(26.664062 110.1014)scale(0.1 -0.1)\">\n       <defs>\n        <path id=\"MalgunGothic-38\" d=\"M 303 1281 \nQ 303 1669 539 2011 \nQ 775 2353 1153 2494 \nQ 856 2647 675 2915 \nQ 494 3184 494 3500 \nQ 494 3828 659 4098 \nQ 825 4369 1122 4522 \nQ 1419 4675 1778 4675 \nQ 2334 4675 2700 4342 \nQ 3066 4009 3066 3500 \nQ 3066 3181 2881 2914 \nQ 2697 2647 2413 2494 \nQ 2788 2350 3022 2009 \nQ 3256 1669 3256 1281 \nQ 3256 672 2843 297 \nQ 2431 -78 1778 -78 \nQ 1131 -78 717 301 \nQ 303 681 303 1281 \nz\nM 809 1328 \nQ 809 878 1081 611 \nQ 1353 344 1781 344 \nQ 2206 344 2482 619 \nQ 2759 894 2759 1328 \nQ 2759 1731 2482 2011 \nQ 2206 2291 1781 2291 \nQ 1372 2291 1090 2020 \nQ 809 1750 809 1328 \nz\nM 1003 3459 \nQ 1003 3125 1234 2900 \nQ 1466 2675 1781 2675 \nQ 2097 2675 2330 2900 \nQ 2563 3125 2563 3459 \nQ 2563 3803 2341 4026 \nQ 2119 4250 1781 4250 \nQ 1450 4250 1226 4029 \nQ 1003 3809 1003 3459 \nz\n\" transform=\"scale(0.015625)\"/>\n       </defs>\n       <use xlink:href=\"#MalgunGothic-38\"/>\n      </g>\n     </g>\n    </g>\n    <g id=\"ytick_6\">\n     <g id=\"line2d_14\">\n      <g>\n       <use xlink:href=\"#m61d512ab7f\" x=\"39.171875\" y=\"76.721633\" style=\"stroke: #000000; stroke-width: 0.8\"/>\n      </g>\n     </g>\n     <g id=\"text_14\">\n      <!-- 10 -->\n      <g transform=\"translate(21.15625 80.517726)scale(0.1 -0.1)\">\n       <defs>\n        <path id=\"MalgunGothic-31\" d=\"M 2231 0 \nL 1734 0 \nL 1734 3972 \nQ 1591 3828 1266 3661 \nQ 941 3494 672 3428 \nL 672 3959 \nQ 1016 4056 1409 4275 \nQ 1803 4494 2031 4700 \nL 2231 4700 \nL 2231 0 \nz\n\" transform=\"scale(0.015625)\"/>\n       </defs>\n       <use xlink:href=\"#MalgunGothic-31\"/>\n       <use xlink:href=\"#MalgunGothic-30\" x=\"55.078125\"/>\n      </g>\n     </g>\n    </g>\n    <g id=\"ytick_7\">\n     <g id=\"line2d_15\">\n      <g>\n       <use xlink:href=\"#m61d512ab7f\" x=\"39.171875\" y=\"47.137959\" style=\"stroke: #000000; stroke-width: 0.8\"/>\n      </g>\n     </g>\n     <g id=\"text_15\">\n      <!-- 12 -->\n      <g transform=\"translate(21.15625 50.934053)scale(0.1 -0.1)\">\n       <use xlink:href=\"#MalgunGothic-31\"/>\n       <use xlink:href=\"#MalgunGothic-32\" x=\"55.078125\"/>\n      </g>\n     </g>\n    </g>\n    <g id=\"ytick_8\">\n     <g id=\"line2d_16\">\n      <g>\n       <use xlink:href=\"#m61d512ab7f\" x=\"39.171875\" y=\"17.554286\" style=\"stroke: #000000; stroke-width: 0.8\"/>\n      </g>\n     </g>\n     <g id=\"text_16\">\n      <!-- 14 -->\n      <g transform=\"translate(21.15625 21.350379)scale(0.1 -0.1)\">\n       <use xlink:href=\"#MalgunGothic-31\"/>\n       <use xlink:href=\"#MalgunGothic-34\" x=\"55.078125\"/>\n      </g>\n     </g>\n    </g>\n    <g id=\"text_17\">\n     <!-- Frequency -->\n     <g transform=\"translate(14.739062 139.081719)rotate(-90)scale(0.1 -0.1)\">\n      <defs>\n       <path id=\"MalgunGothic-46\" d=\"M 2922 4134 \nL 1113 4134 \nL 1113 2516 \nL 2788 2516 \nL 2788 2050 \nL 1113 2050 \nL 1113 0 \nL 609 0 \nL 609 4600 \nL 2922 4600 \nL 2922 4134 \nz\n\" transform=\"scale(0.015625)\"/>\n       <path id=\"MalgunGothic-72\" d=\"M 2225 2775 \nQ 2084 2881 1828 2881 \nQ 1491 2881 1262 2553 \nQ 1034 2225 1034 1681 \nL 1034 0 \nL 538 0 \nL 538 3284 \nL 1034 3284 \nL 1034 2603 \nL 1047 2603 \nQ 1159 2950 1389 3145 \nQ 1619 3341 1903 3341 \nQ 2109 3341 2225 3297 \nL 2225 2775 \nz\n\" transform=\"scale(0.015625)\"/>\n       <path id=\"MalgunGothic-65\" d=\"M 3156 1519 \nL 828 1519 \nQ 844 950 1133 648 \nQ 1422 347 1909 347 \nQ 2472 347 2934 719 \nL 2934 244 \nQ 2494 -78 1794 -78 \nQ 1100 -78 708 376 \nQ 316 831 316 1634 \nQ 316 2381 747 2870 \nQ 1178 3359 1816 3359 \nQ 2453 3359 2804 2942 \nQ 3156 2525 3156 1788 \nL 3156 1519 \nz\nM 2644 1956 \nQ 2644 2416 2423 2675 \nQ 2203 2934 1809 2934 \nQ 1438 2934 1169 2667 \nQ 900 2400 834 1956 \nL 2644 1956 \nz\n\" transform=\"scale(0.015625)\"/>\n       <path id=\"MalgunGothic-71\" d=\"M 3313 -1513 \nL 2822 -1513 \nL 2822 569 \nL 2809 569 \nQ 2466 -78 1681 -78 \nQ 1056 -78 686 361 \nQ 316 800 316 1566 \nQ 316 2384 725 2871 \nQ 1134 3359 1825 3359 \nQ 2503 3359 2809 2822 \nL 2822 2822 \nL 2822 3284 \nL 3313 3284 \nL 3313 -1513 \nz\nM 2822 1966 \nQ 2822 2363 2555 2652 \nQ 2288 2941 1869 2941 \nQ 1384 2941 1101 2583 \nQ 819 2225 819 1575 \nQ 819 1003 1089 673 \nQ 1359 344 1791 344 \nQ 2272 344 2547 672 \nQ 2822 1000 2822 1472 \nL 2822 1966 \nz\n\" transform=\"scale(0.015625)\"/>\n       <path id=\"MalgunGothic-75\" d=\"M 3166 0 \nL 2669 0 \nL 2669 519 \nL 2656 519 \nQ 2331 -78 1644 -78 \nQ 469 -78 469 1322 \nL 469 3284 \nL 959 3284 \nL 959 1403 \nQ 959 344 1766 344 \nQ 2159 344 2414 636 \nQ 2669 928 2669 1394 \nL 2669 3284 \nL 3166 3284 \nL 3166 0 \nz\n\" transform=\"scale(0.015625)\"/>\n       <path id=\"MalgunGothic-6e\" d=\"M 3238 0 \nL 2741 0 \nL 2741 1875 \nQ 2741 2941 1963 2941 \nQ 1563 2941 1298 2639 \nQ 1034 2338 1034 1872 \nL 1034 0 \nL 538 0 \nL 538 3284 \nL 1034 3284 \nL 1034 2734 \nL 1047 2734 \nQ 1416 3359 2125 3359 \nQ 2666 3359 2952 3012 \nQ 3238 2666 3238 2006 \nL 3238 0 \nz\n\" transform=\"scale(0.015625)\"/>\n       <path id=\"MalgunGothic-63\" d=\"M 2763 153 \nQ 2375 -78 1872 -78 \nQ 1184 -78 750 372 \nQ 316 822 316 1566 \nQ 316 2381 777 2870 \nQ 1238 3359 2009 3359 \nQ 2434 3359 2766 3200 \nL 2766 2681 \nQ 2397 2941 1981 2941 \nQ 1478 2941 1148 2577 \nQ 819 2213 819 1609 \nQ 819 1034 1120 689 \nQ 1422 344 1947 344 \nQ 2381 344 2763 631 \nL 2763 153 \nz\n\" transform=\"scale(0.015625)\"/>\n       <path id=\"MalgunGothic-79\" d=\"M 3119 3284 \nL 1597 -544 \nQ 1197 -1547 481 -1547 \nQ 313 -1547 156 -1509 \nL 156 -1056 \nQ 316 -1109 459 -1109 \nQ 859 -1109 1059 -628 \nL 1328 6 \nL 47 3284 \nL 597 3284 \nL 1503 722 \nQ 1513 697 1572 488 \nL 1588 488 \nL 1650 716 \nL 2603 3284 \nL 3119 3284 \nz\n\" transform=\"scale(0.015625)\"/>\n      </defs>\n      <use xlink:href=\"#MalgunGothic-46\"/>\n      <use xlink:href=\"#MalgunGothic-72\" x=\"49.853516\"/>\n      <use xlink:href=\"#MalgunGothic-65\" x=\"83.830078\"/>\n      <use xlink:href=\"#MalgunGothic-71\" x=\"137.345703\"/>\n      <use xlink:href=\"#MalgunGothic-75\" x=\"197.550781\"/>\n      <use xlink:href=\"#MalgunGothic-65\" x=\"255.363281\"/>\n      <use xlink:href=\"#MalgunGothic-6e\" x=\"308.878906\"/>\n      <use xlink:href=\"#MalgunGothic-63\" x=\"366.691406\"/>\n      <use xlink:href=\"#MalgunGothic-79\" x=\"413.957031\"/>\n     </g>\n    </g>\n   </g>\n   <g id=\"patch_23\">\n    <path d=\"M 39.171875 224.64 \nL 39.171875 7.2 \n\" style=\"fill: none; stroke: #000000; stroke-width: 0.8; stroke-linejoin: miter; stroke-linecap: square\"/>\n   </g>\n   <g id=\"patch_24\">\n    <path d=\"M 373.971875 224.64 \nL 373.971875 7.2 \n\" style=\"fill: none; stroke: #000000; stroke-width: 0.8; stroke-linejoin: miter; stroke-linecap: square\"/>\n   </g>\n   <g id=\"patch_25\">\n    <path d=\"M 39.171875 224.64 \nL 373.971875 224.64 \n\" style=\"fill: none; stroke: #000000; stroke-width: 0.8; stroke-linejoin: miter; stroke-linecap: square\"/>\n   </g>\n   <g id=\"patch_26\">\n    <path d=\"M 39.171875 7.2 \nL 373.971875 7.2 \n\" style=\"fill: none; stroke: #000000; stroke-width: 0.8; stroke-linejoin: miter; stroke-linecap: square\"/>\n   </g>\n  </g>\n </g>\n <defs>\n  <clipPath id=\"pe7b2e0e4d4\">\n   <rect x=\"39.171875\" y=\"7.2\" width=\"334.8\" height=\"217.44\"/>\n  </clipPath>\n </defs>\n</svg>\n",
      "text/plain": [
       "<Figure size 432x288 with 1 Axes>"
      ]
     },
     "metadata": {
      "needs_background": "light"
     },
     "output_type": "display_data"
    }
   ],
   "source": [
    "cats['Bwt'].plot.hist(bins=20)"
   ]
  },
  {
   "cell_type": "code",
   "execution_count": null,
   "metadata": {},
   "outputs": [],
   "source": []
  }
 ],
 "metadata": {
  "kernelspec": {
   "display_name": "base",
   "language": "python",
   "name": "python3"
  },
  "language_info": {
   "codemirror_mode": {
    "name": "ipython",
    "version": 3
   },
   "file_extension": ".py",
   "mimetype": "text/x-python",
   "name": "python",
   "nbconvert_exporter": "python",
   "pygments_lexer": "ipython3",
   "version": "3.9.12"
  },
  "orig_nbformat": 4,
  "vscode": {
   "interpreter": {
    "hash": "610a6f344c2137faf927ea819c63f6cee33a2c04455044b28099f39fe9722347"
   }
  }
 },
 "nbformat": 4,
 "nbformat_minor": 2
}
