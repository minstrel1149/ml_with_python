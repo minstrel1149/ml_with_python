{
 "cells": [
  {
   "cell_type": "code",
   "execution_count": 1,
   "metadata": {},
   "outputs": [
    {
     "name": "stderr",
     "output_type": "stream",
     "text": [
      "c:\\Users\\admin\\anaconda3\\lib\\site-packages\\outdated\\utils.py:14: OutdatedPackageWarning: The package pingouin is out of date. Your version is 0.5.2, the latest is 0.5.3.\n",
      "Set the environment variable OUTDATED_IGNORE=1 to disable these warnings.\n",
      "  return warn(\n"
     ]
    }
   ],
   "source": [
    "import os, sys\n",
    "import datetime\n",
    "from datetime import datetime, date, timedelta\n",
    "import numpy as np\n",
    "%matplotlib inline\n",
    "import matplotlib.pyplot as plt\n",
    "import seaborn as sns\n",
    "import pandas as pd\n",
    "from pandas.plotting import scatter_matrix\n",
    "from pandas_profiling import ProfileReport\n",
    "import mglearn\n",
    "plt.rcParams['font.family'] = 'Malgun Gothic'\n",
    "plt.rcParams['axes.unicode_minus'] = False\n",
    "%config InlineBackend.figure_format = 'svg'\n",
    "from mpl_toolkits.mplot3d import Axes3D, axes3d\n",
    "from scipy import sparse\n",
    "import scipy.stats as ss\n",
    "import scipy.cluster.hierarchy as sch\n",
    "import pingouin as pg\n",
    "import spacy, nltk\n",
    "from konlpy.tag import Okt"
   ]
  },
  {
   "cell_type": "code",
   "execution_count": 43,
   "metadata": {},
   "outputs": [],
   "source": [
    "from statsmodels.stats.multicomp import pairwise_tukeyhsd, MultiComparison\n",
    "from statsmodels.stats.anova import anova_lm\n",
    "import statsmodels.formula.api as smfa"
   ]
  },
  {
   "cell_type": "code",
   "execution_count": 4,
   "metadata": {},
   "outputs": [
    {
     "data": {
      "text/html": [
       "<div>\n",
       "<style scoped>\n",
       "    .dataframe tbody tr th:only-of-type {\n",
       "        vertical-align: middle;\n",
       "    }\n",
       "\n",
       "    .dataframe tbody tr th {\n",
       "        vertical-align: top;\n",
       "    }\n",
       "\n",
       "    .dataframe thead th {\n",
       "        text-align: right;\n",
       "    }\n",
       "</style>\n",
       "<table border=\"1\" class=\"dataframe\">\n",
       "  <thead>\n",
       "    <tr style=\"text-align: right;\">\n",
       "      <th></th>\n",
       "      <th>Sex</th>\n",
       "      <th>Bwt</th>\n",
       "      <th>Hwt</th>\n",
       "    </tr>\n",
       "  </thead>\n",
       "  <tbody>\n",
       "    <tr>\n",
       "      <th>0</th>\n",
       "      <td>F</td>\n",
       "      <td>2.0</td>\n",
       "      <td>7.0</td>\n",
       "    </tr>\n",
       "    <tr>\n",
       "      <th>1</th>\n",
       "      <td>F</td>\n",
       "      <td>2.0</td>\n",
       "      <td>7.4</td>\n",
       "    </tr>\n",
       "    <tr>\n",
       "      <th>2</th>\n",
       "      <td>F</td>\n",
       "      <td>2.0</td>\n",
       "      <td>9.5</td>\n",
       "    </tr>\n",
       "    <tr>\n",
       "      <th>3</th>\n",
       "      <td>F</td>\n",
       "      <td>2.1</td>\n",
       "      <td>7.2</td>\n",
       "    </tr>\n",
       "    <tr>\n",
       "      <th>4</th>\n",
       "      <td>F</td>\n",
       "      <td>2.1</td>\n",
       "      <td>7.3</td>\n",
       "    </tr>\n",
       "  </tbody>\n",
       "</table>\n",
       "</div>"
      ],
      "text/plain": [
       "  Sex  Bwt  Hwt\n",
       "0   F  2.0  7.0\n",
       "1   F  2.0  7.4\n",
       "2   F  2.0  9.5\n",
       "3   F  2.1  7.2\n",
       "4   F  2.1  7.3"
      ]
     },
     "execution_count": 4,
     "metadata": {},
     "output_type": "execute_result"
    }
   ],
   "source": [
    "cats = pd.read_csv('data_ba/cats.csv')\n",
    "cats.head()"
   ]
  },
  {
   "cell_type": "code",
   "execution_count": 11,
   "metadata": {},
   "outputs": [
    {
     "data": {
      "text/plain": [
       "(           0   1\n",
       " Sex   object   2\n",
       " Bwt  float64  20\n",
       " Hwt  float64  73,\n",
       " (144, 3))"
      ]
     },
     "execution_count": 11,
     "metadata": {},
     "output_type": "execute_result"
    }
   ],
   "source": [
    "pd.concat([cats.dtypes, cats.nunique()], axis=1), cats.shape"
   ]
  },
  {
   "cell_type": "code",
   "execution_count": 8,
   "metadata": {},
   "outputs": [
    {
     "data": {
      "text/plain": [
       "ShapiroResult(statistic=0.9518786668777466, pvalue=6.730248423991725e-05)"
      ]
     },
     "execution_count": 8,
     "metadata": {},
     "output_type": "execute_result"
    }
   ],
   "source": [
    "# 귀무가설: 정규성을 가진다 / 대립가설: 정규성을 가지지 않는다\n",
    "ss.shapiro(cats['Bwt'])"
   ]
  },
  {
   "cell_type": "code",
   "execution_count": 9,
   "metadata": {},
   "outputs": [
    {
     "data": {
      "text/plain": [
       "WilcoxonResult(statistic=3573.0, pvalue=0.02524520294814093)"
      ]
     },
     "execution_count": 9,
     "metadata": {},
     "output_type": "execute_result"
    }
   ],
   "source": [
    "mu = 2.6\n",
    "ss.wilcoxon(cats['Bwt'] - mu, alternative='two-sided')"
   ]
  },
  {
   "cell_type": "code",
   "execution_count": 10,
   "metadata": {},
   "outputs": [
    {
     "data": {
      "text/plain": [
       "Ttest_1sampResult(statistic=3.0564867998078107, pvalue=0.0026730362561723613)"
      ]
     },
     "execution_count": 10,
     "metadata": {},
     "output_type": "execute_result"
    }
   ],
   "source": [
    "ss.ttest_1samp(cats['Bwt'], popmean=mu, alternative='two-sided')"
   ]
  },
  {
   "cell_type": "code",
   "execution_count": 14,
   "metadata": {},
   "outputs": [
    {
     "data": {
      "text/plain": [
       "<AxesSubplot:ylabel='Frequency'>"
      ]
     },
     "execution_count": 14,
     "metadata": {},
     "output_type": "execute_result"
    },
    {
     "data": {
      "image/svg+xml": "<?xml version=\"1.0\" encoding=\"utf-8\" standalone=\"no\"?>\n<!DOCTYPE svg PUBLIC \"-//W3C//DTD SVG 1.1//EN\"\n  \"http://www.w3.org/Graphics/SVG/1.1/DTD/svg11.dtd\">\n<svg xmlns:xlink=\"http://www.w3.org/1999/xlink\" width=\"381.171875pt\" height=\"248.79625pt\" viewBox=\"0 0 381.171875 248.79625\" xmlns=\"http://www.w3.org/2000/svg\" version=\"1.1\">\n <metadata>\n  <rdf:RDF xmlns:dc=\"http://purl.org/dc/elements/1.1/\" xmlns:cc=\"http://creativecommons.org/ns#\" xmlns:rdf=\"http://www.w3.org/1999/02/22-rdf-syntax-ns#\">\n   <cc:Work>\n    <dc:type rdf:resource=\"http://purl.org/dc/dcmitype/StillImage\"/>\n    <dc:date>2023-01-07T23:46:08.866961</dc:date>\n    <dc:format>image/svg+xml</dc:format>\n    <dc:creator>\n     <cc:Agent>\n      <dc:title>Matplotlib v3.5.1, https://matplotlib.org/</dc:title>\n     </cc:Agent>\n    </dc:creator>\n   </cc:Work>\n  </rdf:RDF>\n </metadata>\n <defs>\n  <style type=\"text/css\">*{stroke-linejoin: round; stroke-linecap: butt}</style>\n </defs>\n <g id=\"figure_1\">\n  <g id=\"patch_1\">\n   <path d=\"M 0 248.79625 \nL 381.171875 248.79625 \nL 381.171875 0 \nL 0 0 \nL 0 248.79625 \nz\n\" style=\"fill: none\"/>\n  </g>\n  <g id=\"axes_1\">\n   <g id=\"patch_2\">\n    <path d=\"M 39.171875 224.64 \nL 373.971875 224.64 \nL 373.971875 7.2 \nL 39.171875 7.2 \nz\n\" style=\"fill: #ffffff\"/>\n   </g>\n   <g id=\"patch_3\">\n    <path d=\"M 54.390057 224.64 \nL 69.608239 224.64 \nL 69.608239 150.680816 \nL 54.390057 150.680816 \nz\n\" clip-path=\"url(#pe7b2e0e4d4)\" style=\"fill: #1f77b4\"/>\n   </g>\n   <g id=\"patch_4\">\n    <path d=\"M 69.608239 224.64 \nL 84.82642 224.64 \nL 84.82642 76.721633 \nL 69.608239 76.721633 \nz\n\" clip-path=\"url(#pe7b2e0e4d4)\" style=\"fill: #1f77b4\"/>\n   </g>\n   <g id=\"patch_5\">\n    <path d=\"M 84.82642 224.64 \nL 100.044602 224.64 \nL 100.044602 17.554286 \nL 84.82642 17.554286 \nz\n\" clip-path=\"url(#pe7b2e0e4d4)\" style=\"fill: #1f77b4\"/>\n   </g>\n   <g id=\"patch_6\">\n    <path d=\"M 100.044602 224.64 \nL 115.262784 224.64 \nL 115.262784 32.346122 \nL 100.044602 32.346122 \nz\n\" clip-path=\"url(#pe7b2e0e4d4)\" style=\"fill: #1f77b4\"/>\n   </g>\n   <g id=\"patch_7\">\n    <path d=\"M 115.262784 224.64 \nL 130.480966 224.64 \nL 130.480966 91.513469 \nL 115.262784 91.513469 \nz\n\" clip-path=\"url(#pe7b2e0e4d4)\" style=\"fill: #1f77b4\"/>\n   </g>\n   <g id=\"patch_8\">\n    <path d=\"M 130.480966 224.64 \nL 145.699148 224.64 \nL 145.699148 76.721633 \nL 130.480966 76.721633 \nz\n\" clip-path=\"url(#pe7b2e0e4d4)\" style=\"fill: #1f77b4\"/>\n   </g>\n   <g id=\"patch_9\">\n    <path d=\"M 145.699148 224.64 \nL 160.91733 224.64 \nL 160.91733 91.513469 \nL 145.699148 91.513469 \nz\n\" clip-path=\"url(#pe7b2e0e4d4)\" style=\"fill: #1f77b4\"/>\n   </g>\n   <g id=\"patch_10\">\n    <path d=\"M 160.91733 224.64 \nL 176.135511 224.64 \nL 176.135511 47.137959 \nL 160.91733 47.137959 \nz\n\" clip-path=\"url(#pe7b2e0e4d4)\" style=\"fill: #1f77b4\"/>\n   </g>\n   <g id=\"patch_11\">\n    <path d=\"M 176.135511 224.64 \nL 191.353693 224.64 \nL 191.353693 121.097143 \nL 176.135511 121.097143 \nz\n\" clip-path=\"url(#pe7b2e0e4d4)\" style=\"fill: #1f77b4\"/>\n   </g>\n   <g id=\"patch_12\">\n    <path d=\"M 191.353693 224.64 \nL 206.571875 224.64 \nL 206.571875 106.305306 \nL 191.353693 106.305306 \nz\n\" clip-path=\"url(#pe7b2e0e4d4)\" style=\"fill: #1f77b4\"/>\n   </g>\n   <g id=\"patch_13\">\n    <path d=\"M 206.571875 224.64 \nL 221.790057 224.64 \nL 221.790057 61.929796 \nL 206.571875 61.929796 \nz\n\" clip-path=\"url(#pe7b2e0e4d4)\" style=\"fill: #1f77b4\"/>\n   </g>\n   <g id=\"patch_14\">\n    <path d=\"M 221.790057 224.64 \nL 237.008239 224.64 \nL 237.008239 135.88898 \nL 221.790057 135.88898 \nz\n\" clip-path=\"url(#pe7b2e0e4d4)\" style=\"fill: #1f77b4\"/>\n   </g>\n   <g id=\"patch_15\">\n    <path d=\"M 237.008239 224.64 \nL 252.22642 224.64 \nL 252.22642 135.88898 \nL 237.008239 135.88898 \nz\n\" clip-path=\"url(#pe7b2e0e4d4)\" style=\"fill: #1f77b4\"/>\n   </g>\n   <g id=\"patch_16\">\n    <path d=\"M 252.22642 224.64 \nL 267.444602 224.64 \nL 267.444602 150.680816 \nL 252.22642 150.680816 \nz\n\" clip-path=\"url(#pe7b2e0e4d4)\" style=\"fill: #1f77b4\"/>\n   </g>\n   <g id=\"patch_17\">\n    <path d=\"M 267.444602 224.64 \nL 282.662784 224.64 \nL 282.662784 150.680816 \nL 267.444602 150.680816 \nz\n\" clip-path=\"url(#pe7b2e0e4d4)\" style=\"fill: #1f77b4\"/>\n   </g>\n   <g id=\"patch_18\">\n    <path d=\"M 282.662784 224.64 \nL 297.880966 224.64 \nL 297.880966 150.680816 \nL 282.662784 150.680816 \nz\n\" clip-path=\"url(#pe7b2e0e4d4)\" style=\"fill: #1f77b4\"/>\n   </g>\n   <g id=\"patch_19\">\n    <path d=\"M 297.880966 224.64 \nL 313.099148 224.64 \nL 313.099148 165.472653 \nL 297.880966 165.472653 \nz\n\" clip-path=\"url(#pe7b2e0e4d4)\" style=\"fill: #1f77b4\"/>\n   </g>\n   <g id=\"patch_20\">\n    <path d=\"M 313.099148 224.64 \nL 328.31733 224.64 \nL 328.31733 209.848163 \nL 313.099148 209.848163 \nz\n\" clip-path=\"url(#pe7b2e0e4d4)\" style=\"fill: #1f77b4\"/>\n   </g>\n   <g id=\"patch_21\">\n    <path d=\"M 328.31733 224.64 \nL 343.535511 224.64 \nL 343.535511 195.056327 \nL 328.31733 195.056327 \nz\n\" clip-path=\"url(#pe7b2e0e4d4)\" style=\"fill: #1f77b4\"/>\n   </g>\n   <g id=\"patch_22\">\n    <path d=\"M 343.535511 224.64 \nL 358.753693 224.64 \nL 358.753693 195.056327 \nL 343.535511 195.056327 \nz\n\" clip-path=\"url(#pe7b2e0e4d4)\" style=\"fill: #1f77b4\"/>\n   </g>\n   <g id=\"matplotlib.axis_1\">\n    <g id=\"xtick_1\">\n     <g id=\"line2d_1\">\n      <defs>\n       <path id=\"m9f14fd01db\" d=\"M 0 0 \nL 0 3.5 \n\" style=\"stroke: #000000; stroke-width: 0.8\"/>\n      </defs>\n      <g>\n       <use xlink:href=\"#m9f14fd01db\" x=\"54.390057\" y=\"224.64\" style=\"stroke: #000000; stroke-width: 0.8\"/>\n      </g>\n     </g>\n     <g id=\"text_1\">\n      <!-- 2.00 -->\n      <g transform=\"translate(45.034588 239.232187)scale(0.1 -0.1)\">\n       <defs>\n        <path id=\"MalgunGothic-32\" d=\"M 2519 3372 \nQ 2519 3784 2275 4018 \nQ 2031 4253 1628 4253 \nQ 1341 4253 1053 4104 \nQ 766 3956 534 3697 \nL 534 4234 \nQ 981 4675 1691 4675 \nQ 2281 4675 2642 4334 \nQ 3003 3994 3003 3416 \nQ 3003 2919 2772 2545 \nQ 2541 2172 1984 1775 \nQ 1459 1406 1254 1215 \nQ 1050 1025 967 854 \nQ 884 684 884 450 \nL 3116 450 \nL 3116 0 \nL 356 0 \nL 356 225 \nQ 356 603 461 870 \nQ 566 1138 811 1392 \nQ 1056 1647 1597 2022 \nQ 2091 2363 2305 2670 \nQ 2519 2978 2519 3372 \nz\n\" transform=\"scale(0.015625)\"/>\n        <path id=\"MalgunGothic-2e\" d=\"M 356 275 \nQ 356 422 459 523 \nQ 563 625 700 625 \nQ 838 625 941 523 \nQ 1044 422 1044 275 \nQ 1044 138 942 33 \nQ 841 -72 700 -72 \nQ 559 -72 457 29 \nQ 356 131 356 275 \nz\n\" transform=\"scale(0.015625)\"/>\n        <path id=\"MalgunGothic-30\" d=\"M 278 2206 \nQ 278 3425 675 4050 \nQ 1072 4675 1819 4675 \nQ 3253 4675 3253 2319 \nQ 3253 1156 2854 539 \nQ 2456 -78 1716 -78 \nQ 1016 -78 647 520 \nQ 278 1119 278 2206 \nz\nM 784 2231 \nQ 784 344 1769 344 \nQ 2747 344 2747 2259 \nQ 2747 4250 1794 4250 \nQ 784 4250 784 2231 \nz\n\" transform=\"scale(0.015625)\"/>\n       </defs>\n       <use xlink:href=\"#MalgunGothic-32\"/>\n       <use xlink:href=\"#MalgunGothic-2e\" x=\"55.078125\"/>\n       <use xlink:href=\"#MalgunGothic-30\" x=\"76.953125\"/>\n       <use xlink:href=\"#MalgunGothic-30\" x=\"132.03125\"/>\n      </g>\n     </g>\n    </g>\n    <g id=\"xtick_2\">\n     <g id=\"line2d_2\">\n      <g>\n       <use xlink:href=\"#m9f14fd01db\" x=\"94.437904\" y=\"224.64\" style=\"stroke: #000000; stroke-width: 0.8\"/>\n      </g>\n     </g>\n     <g id=\"text_2\">\n      <!-- 2.25 -->\n      <g transform=\"translate(85.082435 239.232187)scale(0.1 -0.1)\">\n       <defs>\n        <path id=\"MalgunGothic-35\" d=\"M 3072 1403 \nQ 3072 722 2636 322 \nQ 2200 -78 1469 -78 \nQ 828 -78 516 113 \nL 516 650 \nQ 994 344 1475 344 \nQ 1969 344 2270 630 \nQ 2572 916 2572 1372 \nQ 2572 1838 2265 2092 \nQ 1959 2347 1381 2347 \nQ 994 2347 603 2300 \nL 759 4600 \nL 2869 4600 \nL 2869 4147 \nL 1206 4147 \nL 1106 2763 \nQ 1347 2784 1547 2784 \nQ 2263 2784 2667 2414 \nQ 3072 2044 3072 1403 \nz\n\" transform=\"scale(0.015625)\"/>\n       </defs>\n       <use xlink:href=\"#MalgunGothic-32\"/>\n       <use xlink:href=\"#MalgunGothic-2e\" x=\"55.078125\"/>\n       <use xlink:href=\"#MalgunGothic-32\" x=\"76.953125\"/>\n       <use xlink:href=\"#MalgunGothic-35\" x=\"132.03125\"/>\n      </g>\n     </g>\n    </g>\n    <g id=\"xtick_3\">\n     <g id=\"line2d_3\">\n      <g>\n       <use xlink:href=\"#m9f14fd01db\" x=\"134.485751\" y=\"224.64\" style=\"stroke: #000000; stroke-width: 0.8\"/>\n      </g>\n     </g>\n     <g id=\"text_3\">\n      <!-- 2.50 -->\n      <g transform=\"translate(125.130282 239.232187)scale(0.1 -0.1)\">\n       <use xlink:href=\"#MalgunGothic-32\"/>\n       <use xlink:href=\"#MalgunGothic-2e\" x=\"55.078125\"/>\n       <use xlink:href=\"#MalgunGothic-35\" x=\"76.953125\"/>\n       <use xlink:href=\"#MalgunGothic-30\" x=\"132.03125\"/>\n      </g>\n     </g>\n    </g>\n    <g id=\"xtick_4\">\n     <g id=\"line2d_4\">\n      <g>\n       <use xlink:href=\"#m9f14fd01db\" x=\"174.533597\" y=\"224.64\" style=\"stroke: #000000; stroke-width: 0.8\"/>\n      </g>\n     </g>\n     <g id=\"text_4\">\n      <!-- 2.75 -->\n      <g transform=\"translate(165.178129 239.232187)scale(0.1 -0.1)\">\n       <defs>\n        <path id=\"MalgunGothic-37\" d=\"M 3213 4297 \nQ 2478 3006 2064 1918 \nQ 1650 831 1550 0 \nL 1009 0 \nQ 1084 531 1290 1176 \nQ 1497 1822 1815 2537 \nQ 2134 3253 2631 4147 \nL 291 4147 \nL 291 4600 \nL 3213 4600 \nL 3213 4297 \nz\n\" transform=\"scale(0.015625)\"/>\n       </defs>\n       <use xlink:href=\"#MalgunGothic-32\"/>\n       <use xlink:href=\"#MalgunGothic-2e\" x=\"55.078125\"/>\n       <use xlink:href=\"#MalgunGothic-37\" x=\"76.953125\"/>\n       <use xlink:href=\"#MalgunGothic-35\" x=\"132.03125\"/>\n      </g>\n     </g>\n    </g>\n    <g id=\"xtick_5\">\n     <g id=\"line2d_5\">\n      <g>\n       <use xlink:href=\"#m9f14fd01db\" x=\"214.581444\" y=\"224.64\" style=\"stroke: #000000; stroke-width: 0.8\"/>\n      </g>\n     </g>\n     <g id=\"text_5\">\n      <!-- 3.00 -->\n      <g transform=\"translate(205.225976 239.232187)scale(0.1 -0.1)\">\n       <defs>\n        <path id=\"MalgunGothic-33\" d=\"M 416 719 \nQ 891 344 1478 344 \nQ 1959 344 2254 587 \nQ 2550 831 2550 1247 \nQ 2550 2169 1253 2169 \nL 872 2169 \nL 872 2591 \nL 1234 2591 \nQ 2388 2591 2388 3453 \nQ 2388 4250 1509 4250 \nQ 1022 4250 594 3916 \nL 594 4413 \nQ 1031 4675 1634 4675 \nQ 2184 4675 2539 4372 \nQ 2894 4069 2894 3581 \nQ 2894 2678 1972 2409 \nL 1972 2400 \nQ 2469 2356 2764 2053 \nQ 3059 1750 3059 1300 \nQ 3059 672 2604 297 \nQ 2150 -78 1450 -78 \nQ 806 -78 416 169 \nL 416 719 \nz\n\" transform=\"scale(0.015625)\"/>\n       </defs>\n       <use xlink:href=\"#MalgunGothic-33\"/>\n       <use xlink:href=\"#MalgunGothic-2e\" x=\"55.078125\"/>\n       <use xlink:href=\"#MalgunGothic-30\" x=\"76.953125\"/>\n       <use xlink:href=\"#MalgunGothic-30\" x=\"132.03125\"/>\n      </g>\n     </g>\n    </g>\n    <g id=\"xtick_6\">\n     <g id=\"line2d_6\">\n      <g>\n       <use xlink:href=\"#m9f14fd01db\" x=\"254.629291\" y=\"224.64\" style=\"stroke: #000000; stroke-width: 0.8\"/>\n      </g>\n     </g>\n     <g id=\"text_6\">\n      <!-- 3.25 -->\n      <g transform=\"translate(245.273823 239.232187)scale(0.1 -0.1)\">\n       <use xlink:href=\"#MalgunGothic-33\"/>\n       <use xlink:href=\"#MalgunGothic-2e\" x=\"55.078125\"/>\n       <use xlink:href=\"#MalgunGothic-32\" x=\"76.953125\"/>\n       <use xlink:href=\"#MalgunGothic-35\" x=\"132.03125\"/>\n      </g>\n     </g>\n    </g>\n    <g id=\"xtick_7\">\n     <g id=\"line2d_7\">\n      <g>\n       <use xlink:href=\"#m9f14fd01db\" x=\"294.677138\" y=\"224.64\" style=\"stroke: #000000; stroke-width: 0.8\"/>\n      </g>\n     </g>\n     <g id=\"text_7\">\n      <!-- 3.50 -->\n      <g transform=\"translate(285.321669 239.232187)scale(0.1 -0.1)\">\n       <use xlink:href=\"#MalgunGothic-33\"/>\n       <use xlink:href=\"#MalgunGothic-2e\" x=\"55.078125\"/>\n       <use xlink:href=\"#MalgunGothic-35\" x=\"76.953125\"/>\n       <use xlink:href=\"#MalgunGothic-30\" x=\"132.03125\"/>\n      </g>\n     </g>\n    </g>\n    <g id=\"xtick_8\">\n     <g id=\"line2d_8\">\n      <g>\n       <use xlink:href=\"#m9f14fd01db\" x=\"334.724985\" y=\"224.64\" style=\"stroke: #000000; stroke-width: 0.8\"/>\n      </g>\n     </g>\n     <g id=\"text_8\">\n      <!-- 3.75 -->\n      <g transform=\"translate(325.369516 239.232187)scale(0.1 -0.1)\">\n       <use xlink:href=\"#MalgunGothic-33\"/>\n       <use xlink:href=\"#MalgunGothic-2e\" x=\"55.078125\"/>\n       <use xlink:href=\"#MalgunGothic-37\" x=\"76.953125\"/>\n       <use xlink:href=\"#MalgunGothic-35\" x=\"132.03125\"/>\n      </g>\n     </g>\n    </g>\n   </g>\n   <g id=\"matplotlib.axis_2\">\n    <g id=\"ytick_1\">\n     <g id=\"line2d_9\">\n      <defs>\n       <path id=\"m61d512ab7f\" d=\"M 0 0 \nL -3.5 0 \n\" style=\"stroke: #000000; stroke-width: 0.8\"/>\n      </defs>\n      <g>\n       <use xlink:href=\"#m61d512ab7f\" x=\"39.171875\" y=\"224.64\" style=\"stroke: #000000; stroke-width: 0.8\"/>\n      </g>\n     </g>\n     <g id=\"text_9\">\n      <!-- 0 -->\n      <g transform=\"translate(26.664062 228.436094)scale(0.1 -0.1)\">\n       <use xlink:href=\"#MalgunGothic-30\"/>\n      </g>\n     </g>\n    </g>\n    <g id=\"ytick_2\">\n     <g id=\"line2d_10\">\n      <g>\n       <use xlink:href=\"#m61d512ab7f\" x=\"39.171875\" y=\"195.056327\" style=\"stroke: #000000; stroke-width: 0.8\"/>\n      </g>\n     </g>\n     <g id=\"text_10\">\n      <!-- 2 -->\n      <g transform=\"translate(26.664062 198.85242)scale(0.1 -0.1)\">\n       <use xlink:href=\"#MalgunGothic-32\"/>\n      </g>\n     </g>\n    </g>\n    <g id=\"ytick_3\">\n     <g id=\"line2d_11\">\n      <g>\n       <use xlink:href=\"#m61d512ab7f\" x=\"39.171875\" y=\"165.472653\" style=\"stroke: #000000; stroke-width: 0.8\"/>\n      </g>\n     </g>\n     <g id=\"text_11\">\n      <!-- 4 -->\n      <g transform=\"translate(26.664062 169.268747)scale(0.1 -0.1)\">\n       <defs>\n        <path id=\"MalgunGothic-34\" d=\"M 2703 4600 \nL 2703 1563 \nL 3309 1563 \nL 3309 1113 \nL 2703 1113 \nL 2703 0 \nL 2213 0 \nL 2213 1113 \nL 50 1113 \nL 50 1534 \nQ 728 2297 1295 3109 \nQ 1863 3922 2172 4600 \nL 2703 4600 \nz\nM 625 1563 \nL 2213 1563 \nL 2213 3831 \nQ 1613 2788 959 1981 \nL 625 1563 \nz\n\" transform=\"scale(0.015625)\"/>\n       </defs>\n       <use xlink:href=\"#MalgunGothic-34\"/>\n      </g>\n     </g>\n    </g>\n    <g id=\"ytick_4\">\n     <g id=\"line2d_12\">\n      <g>\n       <use xlink:href=\"#m61d512ab7f\" x=\"39.171875\" y=\"135.88898\" style=\"stroke: #000000; stroke-width: 0.8\"/>\n      </g>\n     </g>\n     <g id=\"text_12\">\n      <!-- 6 -->\n      <g transform=\"translate(26.664062 139.685073)scale(0.1 -0.1)\">\n       <defs>\n        <path id=\"MalgunGothic-36\" d=\"M 2981 4069 \nQ 2619 4250 2228 4250 \nQ 1591 4250 1228 3689 \nQ 866 3128 869 2213 \nL 884 2213 \nQ 1203 2872 1938 2872 \nQ 2547 2872 2903 2478 \nQ 3259 2084 3259 1450 \nQ 3259 797 2857 359 \nQ 2456 -78 1825 -78 \nQ 1116 -78 736 478 \nQ 356 1034 356 2019 \nQ 356 3181 847 3928 \nQ 1338 4675 2222 4675 \nQ 2700 4675 2981 4544 \nL 2981 4069 \nz\nM 906 1506 \nQ 906 1022 1165 683 \nQ 1425 344 1844 344 \nQ 2247 344 2498 645 \nQ 2750 947 2750 1388 \nQ 2750 1888 2509 2167 \nQ 2269 2447 1838 2447 \nQ 1444 2447 1175 2173 \nQ 906 1900 906 1506 \nz\n\" transform=\"scale(0.015625)\"/>\n       </defs>\n       <use xlink:href=\"#MalgunGothic-36\"/>\n      </g>\n     </g>\n    </g>\n    <g id=\"ytick_5\">\n     <g id=\"line2d_13\">\n      <g>\n       <use xlink:href=\"#m61d512ab7f\" x=\"39.171875\" y=\"106.305306\" style=\"stroke: #000000; stroke-width: 0.8\"/>\n      </g>\n     </g>\n     <g id=\"text_13\">\n      <!-- 8 -->\n      <g transform=\"translate(26.664062 110.1014)scale(0.1 -0.1)\">\n       <defs>\n        <path id=\"MalgunGothic-38\" d=\"M 303 1281 \nQ 303 1669 539 2011 \nQ 775 2353 1153 2494 \nQ 856 2647 675 2915 \nQ 494 3184 494 3500 \nQ 494 3828 659 4098 \nQ 825 4369 1122 4522 \nQ 1419 4675 1778 4675 \nQ 2334 4675 2700 4342 \nQ 3066 4009 3066 3500 \nQ 3066 3181 2881 2914 \nQ 2697 2647 2413 2494 \nQ 2788 2350 3022 2009 \nQ 3256 1669 3256 1281 \nQ 3256 672 2843 297 \nQ 2431 -78 1778 -78 \nQ 1131 -78 717 301 \nQ 303 681 303 1281 \nz\nM 809 1328 \nQ 809 878 1081 611 \nQ 1353 344 1781 344 \nQ 2206 344 2482 619 \nQ 2759 894 2759 1328 \nQ 2759 1731 2482 2011 \nQ 2206 2291 1781 2291 \nQ 1372 2291 1090 2020 \nQ 809 1750 809 1328 \nz\nM 1003 3459 \nQ 1003 3125 1234 2900 \nQ 1466 2675 1781 2675 \nQ 2097 2675 2330 2900 \nQ 2563 3125 2563 3459 \nQ 2563 3803 2341 4026 \nQ 2119 4250 1781 4250 \nQ 1450 4250 1226 4029 \nQ 1003 3809 1003 3459 \nz\n\" transform=\"scale(0.015625)\"/>\n       </defs>\n       <use xlink:href=\"#MalgunGothic-38\"/>\n      </g>\n     </g>\n    </g>\n    <g id=\"ytick_6\">\n     <g id=\"line2d_14\">\n      <g>\n       <use xlink:href=\"#m61d512ab7f\" x=\"39.171875\" y=\"76.721633\" style=\"stroke: #000000; stroke-width: 0.8\"/>\n      </g>\n     </g>\n     <g id=\"text_14\">\n      <!-- 10 -->\n      <g transform=\"translate(21.15625 80.517726)scale(0.1 -0.1)\">\n       <defs>\n        <path id=\"MalgunGothic-31\" d=\"M 2231 0 \nL 1734 0 \nL 1734 3972 \nQ 1591 3828 1266 3661 \nQ 941 3494 672 3428 \nL 672 3959 \nQ 1016 4056 1409 4275 \nQ 1803 4494 2031 4700 \nL 2231 4700 \nL 2231 0 \nz\n\" transform=\"scale(0.015625)\"/>\n       </defs>\n       <use xlink:href=\"#MalgunGothic-31\"/>\n       <use xlink:href=\"#MalgunGothic-30\" x=\"55.078125\"/>\n      </g>\n     </g>\n    </g>\n    <g id=\"ytick_7\">\n     <g id=\"line2d_15\">\n      <g>\n       <use xlink:href=\"#m61d512ab7f\" x=\"39.171875\" y=\"47.137959\" style=\"stroke: #000000; stroke-width: 0.8\"/>\n      </g>\n     </g>\n     <g id=\"text_15\">\n      <!-- 12 -->\n      <g transform=\"translate(21.15625 50.934053)scale(0.1 -0.1)\">\n       <use xlink:href=\"#MalgunGothic-31\"/>\n       <use xlink:href=\"#MalgunGothic-32\" x=\"55.078125\"/>\n      </g>\n     </g>\n    </g>\n    <g id=\"ytick_8\">\n     <g id=\"line2d_16\">\n      <g>\n       <use xlink:href=\"#m61d512ab7f\" x=\"39.171875\" y=\"17.554286\" style=\"stroke: #000000; stroke-width: 0.8\"/>\n      </g>\n     </g>\n     <g id=\"text_16\">\n      <!-- 14 -->\n      <g transform=\"translate(21.15625 21.350379)scale(0.1 -0.1)\">\n       <use xlink:href=\"#MalgunGothic-31\"/>\n       <use xlink:href=\"#MalgunGothic-34\" x=\"55.078125\"/>\n      </g>\n     </g>\n    </g>\n    <g id=\"text_17\">\n     <!-- Frequency -->\n     <g transform=\"translate(14.739062 139.081719)rotate(-90)scale(0.1 -0.1)\">\n      <defs>\n       <path id=\"MalgunGothic-46\" d=\"M 2922 4134 \nL 1113 4134 \nL 1113 2516 \nL 2788 2516 \nL 2788 2050 \nL 1113 2050 \nL 1113 0 \nL 609 0 \nL 609 4600 \nL 2922 4600 \nL 2922 4134 \nz\n\" transform=\"scale(0.015625)\"/>\n       <path id=\"MalgunGothic-72\" d=\"M 2225 2775 \nQ 2084 2881 1828 2881 \nQ 1491 2881 1262 2553 \nQ 1034 2225 1034 1681 \nL 1034 0 \nL 538 0 \nL 538 3284 \nL 1034 3284 \nL 1034 2603 \nL 1047 2603 \nQ 1159 2950 1389 3145 \nQ 1619 3341 1903 3341 \nQ 2109 3341 2225 3297 \nL 2225 2775 \nz\n\" transform=\"scale(0.015625)\"/>\n       <path id=\"MalgunGothic-65\" d=\"M 3156 1519 \nL 828 1519 \nQ 844 950 1133 648 \nQ 1422 347 1909 347 \nQ 2472 347 2934 719 \nL 2934 244 \nQ 2494 -78 1794 -78 \nQ 1100 -78 708 376 \nQ 316 831 316 1634 \nQ 316 2381 747 2870 \nQ 1178 3359 1816 3359 \nQ 2453 3359 2804 2942 \nQ 3156 2525 3156 1788 \nL 3156 1519 \nz\nM 2644 1956 \nQ 2644 2416 2423 2675 \nQ 2203 2934 1809 2934 \nQ 1438 2934 1169 2667 \nQ 900 2400 834 1956 \nL 2644 1956 \nz\n\" transform=\"scale(0.015625)\"/>\n       <path id=\"MalgunGothic-71\" d=\"M 3313 -1513 \nL 2822 -1513 \nL 2822 569 \nL 2809 569 \nQ 2466 -78 1681 -78 \nQ 1056 -78 686 361 \nQ 316 800 316 1566 \nQ 316 2384 725 2871 \nQ 1134 3359 1825 3359 \nQ 2503 3359 2809 2822 \nL 2822 2822 \nL 2822 3284 \nL 3313 3284 \nL 3313 -1513 \nz\nM 2822 1966 \nQ 2822 2363 2555 2652 \nQ 2288 2941 1869 2941 \nQ 1384 2941 1101 2583 \nQ 819 2225 819 1575 \nQ 819 1003 1089 673 \nQ 1359 344 1791 344 \nQ 2272 344 2547 672 \nQ 2822 1000 2822 1472 \nL 2822 1966 \nz\n\" transform=\"scale(0.015625)\"/>\n       <path id=\"MalgunGothic-75\" d=\"M 3166 0 \nL 2669 0 \nL 2669 519 \nL 2656 519 \nQ 2331 -78 1644 -78 \nQ 469 -78 469 1322 \nL 469 3284 \nL 959 3284 \nL 959 1403 \nQ 959 344 1766 344 \nQ 2159 344 2414 636 \nQ 2669 928 2669 1394 \nL 2669 3284 \nL 3166 3284 \nL 3166 0 \nz\n\" transform=\"scale(0.015625)\"/>\n       <path id=\"MalgunGothic-6e\" d=\"M 3238 0 \nL 2741 0 \nL 2741 1875 \nQ 2741 2941 1963 2941 \nQ 1563 2941 1298 2639 \nQ 1034 2338 1034 1872 \nL 1034 0 \nL 538 0 \nL 538 3284 \nL 1034 3284 \nL 1034 2734 \nL 1047 2734 \nQ 1416 3359 2125 3359 \nQ 2666 3359 2952 3012 \nQ 3238 2666 3238 2006 \nL 3238 0 \nz\n\" transform=\"scale(0.015625)\"/>\n       <path id=\"MalgunGothic-63\" d=\"M 2763 153 \nQ 2375 -78 1872 -78 \nQ 1184 -78 750 372 \nQ 316 822 316 1566 \nQ 316 2381 777 2870 \nQ 1238 3359 2009 3359 \nQ 2434 3359 2766 3200 \nL 2766 2681 \nQ 2397 2941 1981 2941 \nQ 1478 2941 1148 2577 \nQ 819 2213 819 1609 \nQ 819 1034 1120 689 \nQ 1422 344 1947 344 \nQ 2381 344 2763 631 \nL 2763 153 \nz\n\" transform=\"scale(0.015625)\"/>\n       <path id=\"MalgunGothic-79\" d=\"M 3119 3284 \nL 1597 -544 \nQ 1197 -1547 481 -1547 \nQ 313 -1547 156 -1509 \nL 156 -1056 \nQ 316 -1109 459 -1109 \nQ 859 -1109 1059 -628 \nL 1328 6 \nL 47 3284 \nL 597 3284 \nL 1503 722 \nQ 1513 697 1572 488 \nL 1588 488 \nL 1650 716 \nL 2603 3284 \nL 3119 3284 \nz\n\" transform=\"scale(0.015625)\"/>\n      </defs>\n      <use xlink:href=\"#MalgunGothic-46\"/>\n      <use xlink:href=\"#MalgunGothic-72\" x=\"49.853516\"/>\n      <use xlink:href=\"#MalgunGothic-65\" x=\"83.830078\"/>\n      <use xlink:href=\"#MalgunGothic-71\" x=\"137.345703\"/>\n      <use xlink:href=\"#MalgunGothic-75\" x=\"197.550781\"/>\n      <use xlink:href=\"#MalgunGothic-65\" x=\"255.363281\"/>\n      <use xlink:href=\"#MalgunGothic-6e\" x=\"308.878906\"/>\n      <use xlink:href=\"#MalgunGothic-63\" x=\"366.691406\"/>\n      <use xlink:href=\"#MalgunGothic-79\" x=\"413.957031\"/>\n     </g>\n    </g>\n   </g>\n   <g id=\"patch_23\">\n    <path d=\"M 39.171875 224.64 \nL 39.171875 7.2 \n\" style=\"fill: none; stroke: #000000; stroke-width: 0.8; stroke-linejoin: miter; stroke-linecap: square\"/>\n   </g>\n   <g id=\"patch_24\">\n    <path d=\"M 373.971875 224.64 \nL 373.971875 7.2 \n\" style=\"fill: none; stroke: #000000; stroke-width: 0.8; stroke-linejoin: miter; stroke-linecap: square\"/>\n   </g>\n   <g id=\"patch_25\">\n    <path d=\"M 39.171875 224.64 \nL 373.971875 224.64 \n\" style=\"fill: none; stroke: #000000; stroke-width: 0.8; stroke-linejoin: miter; stroke-linecap: square\"/>\n   </g>\n   <g id=\"patch_26\">\n    <path d=\"M 39.171875 7.2 \nL 373.971875 7.2 \n\" style=\"fill: none; stroke: #000000; stroke-width: 0.8; stroke-linejoin: miter; stroke-linecap: square\"/>\n   </g>\n  </g>\n </g>\n <defs>\n  <clipPath id=\"pe7b2e0e4d4\">\n   <rect x=\"39.171875\" y=\"7.2\" width=\"334.8\" height=\"217.44\"/>\n  </clipPath>\n </defs>\n</svg>\n",
      "text/plain": [
       "<Figure size 432x288 with 1 Axes>"
      ]
     },
     "metadata": {
      "needs_background": "light"
     },
     "output_type": "display_data"
    }
   ],
   "source": [
    "cats['Bwt'].plot.hist(bins=20)"
   ]
  },
  {
   "cell_type": "code",
   "execution_count": 15,
   "metadata": {},
   "outputs": [
    {
     "data": {
      "text/html": [
       "<div>\n",
       "<style scoped>\n",
       "    .dataframe tbody tr th:only-of-type {\n",
       "        vertical-align: middle;\n",
       "    }\n",
       "\n",
       "    .dataframe tbody tr th {\n",
       "        vertical-align: top;\n",
       "    }\n",
       "\n",
       "    .dataframe thead th {\n",
       "        text-align: right;\n",
       "    }\n",
       "</style>\n",
       "<table border=\"1\" class=\"dataframe\">\n",
       "  <thead>\n",
       "    <tr style=\"text-align: right;\">\n",
       "      <th></th>\n",
       "      <th>before</th>\n",
       "      <th>after</th>\n",
       "    </tr>\n",
       "  </thead>\n",
       "  <tbody>\n",
       "    <tr>\n",
       "      <th>0</th>\n",
       "      <td>7</td>\n",
       "      <td>8</td>\n",
       "    </tr>\n",
       "    <tr>\n",
       "      <th>1</th>\n",
       "      <td>3</td>\n",
       "      <td>4</td>\n",
       "    </tr>\n",
       "    <tr>\n",
       "      <th>2</th>\n",
       "      <td>4</td>\n",
       "      <td>5</td>\n",
       "    </tr>\n",
       "    <tr>\n",
       "      <th>3</th>\n",
       "      <td>5</td>\n",
       "      <td>6</td>\n",
       "    </tr>\n",
       "    <tr>\n",
       "      <th>4</th>\n",
       "      <td>2</td>\n",
       "      <td>2</td>\n",
       "    </tr>\n",
       "  </tbody>\n",
       "</table>\n",
       "</div>"
      ],
      "text/plain": [
       "   before  after\n",
       "0       7      8\n",
       "1       3      4\n",
       "2       4      5\n",
       "3       5      6\n",
       "4       2      2"
      ]
     },
     "execution_count": 15,
     "metadata": {},
     "output_type": "execute_result"
    }
   ],
   "source": [
    "data = {'before':[7,3,4,5,2,1,6,6,5,4],\n",
    "       'after':[8,4,5,6,2,3,6,8,6,5]}\n",
    "data = pd.DataFrame(data)\n",
    "data.head()"
   ]
  },
  {
   "cell_type": "code",
   "execution_count": 16,
   "metadata": {},
   "outputs": [
    {
     "data": {
      "text/plain": [
       "Ttest_relResult(statistic=4.743416490252569, pvalue=0.0010538712570165528)"
      ]
     },
     "execution_count": 16,
     "metadata": {},
     "output_type": "execute_result"
    }
   ],
   "source": [
    "ss.ttest_rel(data['after'], data['before'], alternative='two-sided')"
   ]
  },
  {
   "cell_type": "code",
   "execution_count": 17,
   "metadata": {},
   "outputs": [
    {
     "data": {
      "text/html": [
       "<div>\n",
       "<style scoped>\n",
       "    .dataframe tbody tr th:only-of-type {\n",
       "        vertical-align: middle;\n",
       "    }\n",
       "\n",
       "    .dataframe tbody tr th {\n",
       "        vertical-align: top;\n",
       "    }\n",
       "\n",
       "    .dataframe thead th {\n",
       "        text-align: right;\n",
       "    }\n",
       "</style>\n",
       "<table border=\"1\" class=\"dataframe\">\n",
       "  <thead>\n",
       "    <tr style=\"text-align: right;\">\n",
       "      <th></th>\n",
       "      <th>Sex</th>\n",
       "      <th>Bwt</th>\n",
       "      <th>Hwt</th>\n",
       "    </tr>\n",
       "  </thead>\n",
       "  <tbody>\n",
       "    <tr>\n",
       "      <th>0</th>\n",
       "      <td>F</td>\n",
       "      <td>2.0</td>\n",
       "      <td>7.0</td>\n",
       "    </tr>\n",
       "    <tr>\n",
       "      <th>1</th>\n",
       "      <td>F</td>\n",
       "      <td>2.0</td>\n",
       "      <td>7.4</td>\n",
       "    </tr>\n",
       "    <tr>\n",
       "      <th>2</th>\n",
       "      <td>F</td>\n",
       "      <td>2.0</td>\n",
       "      <td>9.5</td>\n",
       "    </tr>\n",
       "    <tr>\n",
       "      <th>3</th>\n",
       "      <td>F</td>\n",
       "      <td>2.1</td>\n",
       "      <td>7.2</td>\n",
       "    </tr>\n",
       "    <tr>\n",
       "      <th>4</th>\n",
       "      <td>F</td>\n",
       "      <td>2.1</td>\n",
       "      <td>7.3</td>\n",
       "    </tr>\n",
       "  </tbody>\n",
       "</table>\n",
       "</div>"
      ],
      "text/plain": [
       "  Sex  Bwt  Hwt\n",
       "0   F  2.0  7.0\n",
       "1   F  2.0  7.4\n",
       "2   F  2.0  9.5\n",
       "3   F  2.1  7.2\n",
       "4   F  2.1  7.3"
      ]
     },
     "execution_count": 17,
     "metadata": {},
     "output_type": "execute_result"
    }
   ],
   "source": [
    "cats.head()"
   ]
  },
  {
   "cell_type": "code",
   "execution_count": 19,
   "metadata": {},
   "outputs": [
    {
     "data": {
      "text/plain": [
       "((47,), (97,))"
      ]
     },
     "execution_count": 19,
     "metadata": {},
     "output_type": "execute_result"
    }
   ],
   "source": [
    "female = cats.loc[cats['Sex'] == 'F', 'Bwt']\n",
    "male = cats.loc[cats['Sex'] == 'M', 'Bwt']\n",
    "female.shape, male.shape"
   ]
  },
  {
   "cell_type": "code",
   "execution_count": 20,
   "metadata": {},
   "outputs": [
    {
     "data": {
      "text/plain": [
       "LeveneResult(statistic=19.43101190877999, pvalue=2.0435285255189404e-05)"
      ]
     },
     "execution_count": 20,
     "metadata": {},
     "output_type": "execute_result"
    }
   ],
   "source": [
    "# 귀무가설: 등분산성을 만족한다 / 대립가설: 등분산성을 만족하지 않는다\n",
    "ss.levene(female, male)"
   ]
  },
  {
   "cell_type": "code",
   "execution_count": 21,
   "metadata": {},
   "outputs": [
    {
     "data": {
      "text/plain": [
       "Ttest_indResult(statistic=-8.70948849909559, pvalue=8.831034455859356e-15)"
      ]
     },
     "execution_count": 21,
     "metadata": {},
     "output_type": "execute_result"
    }
   ],
   "source": [
    "ss.ttest_ind(female, male, equal_var=False, alternative='two-sided')"
   ]
  },
  {
   "cell_type": "code",
   "execution_count": 22,
   "metadata": {},
   "outputs": [
    {
     "data": {
      "text/html": [
       "<div>\n",
       "<style scoped>\n",
       "    .dataframe tbody tr th:only-of-type {\n",
       "        vertical-align: middle;\n",
       "    }\n",
       "\n",
       "    .dataframe tbody tr th {\n",
       "        vertical-align: top;\n",
       "    }\n",
       "\n",
       "    .dataframe thead th {\n",
       "        text-align: right;\n",
       "    }\n",
       "</style>\n",
       "<table border=\"1\" class=\"dataframe\">\n",
       "  <thead>\n",
       "    <tr style=\"text-align: right;\">\n",
       "      <th></th>\n",
       "      <th>sepal length</th>\n",
       "      <th>sepal width</th>\n",
       "      <th>petal length</th>\n",
       "      <th>petal width</th>\n",
       "      <th>target</th>\n",
       "    </tr>\n",
       "  </thead>\n",
       "  <tbody>\n",
       "    <tr>\n",
       "      <th>0</th>\n",
       "      <td>5.1</td>\n",
       "      <td>3.5</td>\n",
       "      <td>1.4</td>\n",
       "      <td>0.2</td>\n",
       "      <td>Iris-setosa</td>\n",
       "    </tr>\n",
       "    <tr>\n",
       "      <th>1</th>\n",
       "      <td>4.9</td>\n",
       "      <td>3.0</td>\n",
       "      <td>1.4</td>\n",
       "      <td>0.2</td>\n",
       "      <td>Iris-setosa</td>\n",
       "    </tr>\n",
       "    <tr>\n",
       "      <th>2</th>\n",
       "      <td>4.7</td>\n",
       "      <td>3.2</td>\n",
       "      <td>1.3</td>\n",
       "      <td>0.2</td>\n",
       "      <td>Iris-setosa</td>\n",
       "    </tr>\n",
       "    <tr>\n",
       "      <th>3</th>\n",
       "      <td>4.6</td>\n",
       "      <td>3.1</td>\n",
       "      <td>1.5</td>\n",
       "      <td>0.2</td>\n",
       "      <td>Iris-setosa</td>\n",
       "    </tr>\n",
       "    <tr>\n",
       "      <th>4</th>\n",
       "      <td>5.0</td>\n",
       "      <td>3.6</td>\n",
       "      <td>1.4</td>\n",
       "      <td>0.2</td>\n",
       "      <td>Iris-setosa</td>\n",
       "    </tr>\n",
       "  </tbody>\n",
       "</table>\n",
       "</div>"
      ],
      "text/plain": [
       "   sepal length  sepal width  petal length  petal width       target\n",
       "0           5.1          3.5           1.4          0.2  Iris-setosa\n",
       "1           4.9          3.0           1.4          0.2  Iris-setosa\n",
       "2           4.7          3.2           1.3          0.2  Iris-setosa\n",
       "3           4.6          3.1           1.5          0.2  Iris-setosa\n",
       "4           5.0          3.6           1.4          0.2  Iris-setosa"
      ]
     },
     "execution_count": 22,
     "metadata": {},
     "output_type": "execute_result"
    }
   ],
   "source": [
    "iris = pd.read_csv('data_ba/iris.csv')\n",
    "iris.head()"
   ]
  },
  {
   "cell_type": "code",
   "execution_count": 27,
   "metadata": {},
   "outputs": [],
   "source": [
    "target_list = iris['target'].unique()\n",
    "setosa = iris.loc[iris['target'] == target_list[0], 'sepal width']\n",
    "versicolor = iris.loc[iris['target'] == target_list[1], 'sepal width']\n",
    "virginica = iris.loc[iris['target'] == target_list[2], 'sepal width']"
   ]
  },
  {
   "cell_type": "code",
   "execution_count": 31,
   "metadata": {},
   "outputs": [
    {
     "data": {
      "text/plain": [
       "<AxesSubplot:xlabel='target', ylabel='sepal width'>"
      ]
     },
     "execution_count": 31,
     "metadata": {},
     "output_type": "execute_result"
    },
    {
     "data": {
      "image/svg+xml": "<?xml version=\"1.0\" encoding=\"utf-8\" standalone=\"no\"?>\n<!DOCTYPE svg PUBLIC \"-//W3C//DTD SVG 1.1//EN\"\n  \"http://www.w3.org/Graphics/SVG/1.1/DTD/svg11.dtd\">\n<svg xmlns:xlink=\"http://www.w3.org/1999/xlink\" width=\"395.397443pt\" height=\"264.901321pt\" viewBox=\"0 0 395.397443 264.901321\" xmlns=\"http://www.w3.org/2000/svg\" version=\"1.1\">\n <metadata>\n  <rdf:RDF xmlns:dc=\"http://purl.org/dc/elements/1.1/\" xmlns:cc=\"http://creativecommons.org/ns#\" xmlns:rdf=\"http://www.w3.org/1999/02/22-rdf-syntax-ns#\">\n   <cc:Work>\n    <dc:type rdf:resource=\"http://purl.org/dc/dcmitype/StillImage\"/>\n    <dc:date>2023-01-08T00:44:59.289422</dc:date>\n    <dc:format>image/svg+xml</dc:format>\n    <dc:creator>\n     <cc:Agent>\n      <dc:title>Matplotlib v3.5.1, https://matplotlib.org/</dc:title>\n     </cc:Agent>\n    </dc:creator>\n   </cc:Work>\n  </rdf:RDF>\n </metadata>\n <defs>\n  <style type=\"text/css\">*{stroke-linejoin: round; stroke-linecap: butt}</style>\n </defs>\n <g id=\"figure_1\">\n  <g id=\"patch_1\">\n   <path d=\"M 0 264.901321 \nL 395.397443 264.901321 \nL 395.397443 -0 \nL 0 -0 \nL 0 264.901321 \nz\n\" style=\"fill: none\"/>\n  </g>\n  <g id=\"axes_1\">\n   <g id=\"patch_2\">\n    <path d=\"M 41.359375 226.788821 \nL 376.159375 226.788821 \nL 376.159375 9.348821 \nL 41.359375 9.348821 \nz\n\" style=\"fill: #ffffff\"/>\n   </g>\n   <g id=\"PathCollection_1\">\n    <defs>\n     <path id=\"C0_0_950e706e03\" d=\"M 0 3 \nC 0.795609 3 1.55874 2.683901 2.12132 2.12132 \nC 2.683901 1.55874 3 0.795609 3 -0 \nC 3 -0.795609 2.683901 -1.55874 2.12132 -2.12132 \nC 1.55874 -2.683901 0.795609 -3 0 -3 \nC -0.795609 -3 -1.55874 -2.683901 -2.12132 -2.12132 \nC -2.683901 -1.55874 -3 -0.795609 -3 0 \nC -3 0.795609 -2.683901 1.55874 -2.12132 2.12132 \nC -1.55874 2.683901 -0.795609 3 0 3 \nz\n\"/>\n    </defs>\n    <g clip-path=\"url(#p4d3e9d961a)\">\n     <use xlink:href=\"#C0_0_950e706e03\" x=\"56.577557\" y=\"93.35973\" style=\"fill: #1f77b4; stroke: #ffffff; stroke-width: 0.48\"/>\n    </g>\n    <g clip-path=\"url(#p4d3e9d961a)\">\n     <use xlink:href=\"#C0_0_950e706e03\" x=\"56.577557\" y=\"134.541548\" style=\"fill: #1f77b4; stroke: #ffffff; stroke-width: 0.48\"/>\n    </g>\n    <g clip-path=\"url(#p4d3e9d961a)\">\n     <use xlink:href=\"#C0_0_950e706e03\" x=\"56.577557\" y=\"118.068821\" style=\"fill: #1f77b4; stroke: #ffffff; stroke-width: 0.48\"/>\n    </g>\n    <g clip-path=\"url(#p4d3e9d961a)\">\n     <use xlink:href=\"#C0_0_950e706e03\" x=\"56.577557\" y=\"126.305185\" style=\"fill: #1f77b4; stroke: #ffffff; stroke-width: 0.48\"/>\n    </g>\n    <g clip-path=\"url(#p4d3e9d961a)\">\n     <use xlink:href=\"#C0_0_950e706e03\" x=\"56.577557\" y=\"85.123366\" style=\"fill: #1f77b4; stroke: #ffffff; stroke-width: 0.48\"/>\n    </g>\n    <g clip-path=\"url(#p4d3e9d961a)\">\n     <use xlink:href=\"#C0_0_950e706e03\" x=\"56.577557\" y=\"60.414276\" style=\"fill: #1f77b4; stroke: #ffffff; stroke-width: 0.48\"/>\n    </g>\n    <g clip-path=\"url(#p4d3e9d961a)\">\n     <use xlink:href=\"#C0_0_950e706e03\" x=\"56.577557\" y=\"101.596094\" style=\"fill: #1f77b4; stroke: #ffffff; stroke-width: 0.48\"/>\n    </g>\n    <g clip-path=\"url(#p4d3e9d961a)\">\n     <use xlink:href=\"#C0_0_950e706e03\" x=\"56.577557\" y=\"101.596094\" style=\"fill: #1f77b4; stroke: #ffffff; stroke-width: 0.48\"/>\n    </g>\n    <g clip-path=\"url(#p4d3e9d961a)\">\n     <use xlink:href=\"#C0_0_950e706e03\" x=\"56.577557\" y=\"142.777912\" style=\"fill: #1f77b4; stroke: #ffffff; stroke-width: 0.48\"/>\n    </g>\n    <g clip-path=\"url(#p4d3e9d961a)\">\n     <use xlink:href=\"#C0_0_950e706e03\" x=\"56.577557\" y=\"126.305185\" style=\"fill: #1f77b4; stroke: #ffffff; stroke-width: 0.48\"/>\n    </g>\n    <g clip-path=\"url(#p4d3e9d961a)\">\n     <use xlink:href=\"#C0_0_950e706e03\" x=\"56.577557\" y=\"76.887003\" style=\"fill: #1f77b4; stroke: #ffffff; stroke-width: 0.48\"/>\n    </g>\n    <g clip-path=\"url(#p4d3e9d961a)\">\n     <use xlink:href=\"#C0_0_950e706e03\" x=\"56.577557\" y=\"101.596094\" style=\"fill: #1f77b4; stroke: #ffffff; stroke-width: 0.48\"/>\n    </g>\n    <g clip-path=\"url(#p4d3e9d961a)\">\n     <use xlink:href=\"#C0_0_950e706e03\" x=\"56.577557\" y=\"134.541548\" style=\"fill: #1f77b4; stroke: #ffffff; stroke-width: 0.48\"/>\n    </g>\n    <g clip-path=\"url(#p4d3e9d961a)\">\n     <use xlink:href=\"#C0_0_950e706e03\" x=\"56.577557\" y=\"134.541548\" style=\"fill: #1f77b4; stroke: #ffffff; stroke-width: 0.48\"/>\n    </g>\n    <g clip-path=\"url(#p4d3e9d961a)\">\n     <use xlink:href=\"#C0_0_950e706e03\" x=\"56.577557\" y=\"52.177912\" style=\"fill: #1f77b4; stroke: #ffffff; stroke-width: 0.48\"/>\n    </g>\n    <g clip-path=\"url(#p4d3e9d961a)\">\n     <use xlink:href=\"#C0_0_950e706e03\" x=\"56.577557\" y=\"19.232457\" style=\"fill: #1f77b4; stroke: #ffffff; stroke-width: 0.48\"/>\n    </g>\n    <g clip-path=\"url(#p4d3e9d961a)\">\n     <use xlink:href=\"#C0_0_950e706e03\" x=\"56.577557\" y=\"60.414276\" style=\"fill: #1f77b4; stroke: #ffffff; stroke-width: 0.48\"/>\n    </g>\n    <g clip-path=\"url(#p4d3e9d961a)\">\n     <use xlink:href=\"#C0_0_950e706e03\" x=\"56.577557\" y=\"93.35973\" style=\"fill: #1f77b4; stroke: #ffffff; stroke-width: 0.48\"/>\n    </g>\n    <g clip-path=\"url(#p4d3e9d961a)\">\n     <use xlink:href=\"#C0_0_950e706e03\" x=\"56.577557\" y=\"68.650639\" style=\"fill: #1f77b4; stroke: #ffffff; stroke-width: 0.48\"/>\n    </g>\n    <g clip-path=\"url(#p4d3e9d961a)\">\n     <use xlink:href=\"#C0_0_950e706e03\" x=\"56.577557\" y=\"68.650639\" style=\"fill: #1f77b4; stroke: #ffffff; stroke-width: 0.48\"/>\n    </g>\n    <g clip-path=\"url(#p4d3e9d961a)\">\n     <use xlink:href=\"#C0_0_950e706e03\" x=\"56.577557\" y=\"101.596094\" style=\"fill: #1f77b4; stroke: #ffffff; stroke-width: 0.48\"/>\n    </g>\n    <g clip-path=\"url(#p4d3e9d961a)\">\n     <use xlink:href=\"#C0_0_950e706e03\" x=\"56.577557\" y=\"76.887003\" style=\"fill: #1f77b4; stroke: #ffffff; stroke-width: 0.48\"/>\n    </g>\n    <g clip-path=\"url(#p4d3e9d961a)\">\n     <use xlink:href=\"#C0_0_950e706e03\" x=\"56.577557\" y=\"85.123366\" style=\"fill: #1f77b4; stroke: #ffffff; stroke-width: 0.48\"/>\n    </g>\n    <g clip-path=\"url(#p4d3e9d961a)\">\n     <use xlink:href=\"#C0_0_950e706e03\" x=\"56.577557\" y=\"109.832457\" style=\"fill: #1f77b4; stroke: #ffffff; stroke-width: 0.48\"/>\n    </g>\n    <g clip-path=\"url(#p4d3e9d961a)\">\n     <use xlink:href=\"#C0_0_950e706e03\" x=\"56.577557\" y=\"101.596094\" style=\"fill: #1f77b4; stroke: #ffffff; stroke-width: 0.48\"/>\n    </g>\n    <g clip-path=\"url(#p4d3e9d961a)\">\n     <use xlink:href=\"#C0_0_950e706e03\" x=\"56.577557\" y=\"134.541548\" style=\"fill: #1f77b4; stroke: #ffffff; stroke-width: 0.48\"/>\n    </g>\n    <g clip-path=\"url(#p4d3e9d961a)\">\n     <use xlink:href=\"#C0_0_950e706e03\" x=\"56.577557\" y=\"101.596094\" style=\"fill: #1f77b4; stroke: #ffffff; stroke-width: 0.48\"/>\n    </g>\n    <g clip-path=\"url(#p4d3e9d961a)\">\n     <use xlink:href=\"#C0_0_950e706e03\" x=\"56.577557\" y=\"93.35973\" style=\"fill: #1f77b4; stroke: #ffffff; stroke-width: 0.48\"/>\n    </g>\n    <g clip-path=\"url(#p4d3e9d961a)\">\n     <use xlink:href=\"#C0_0_950e706e03\" x=\"56.577557\" y=\"101.596094\" style=\"fill: #1f77b4; stroke: #ffffff; stroke-width: 0.48\"/>\n    </g>\n    <g clip-path=\"url(#p4d3e9d961a)\">\n     <use xlink:href=\"#C0_0_950e706e03\" x=\"56.577557\" y=\"118.068821\" style=\"fill: #1f77b4; stroke: #ffffff; stroke-width: 0.48\"/>\n    </g>\n    <g clip-path=\"url(#p4d3e9d961a)\">\n     <use xlink:href=\"#C0_0_950e706e03\" x=\"56.577557\" y=\"126.305185\" style=\"fill: #1f77b4; stroke: #ffffff; stroke-width: 0.48\"/>\n    </g>\n    <g clip-path=\"url(#p4d3e9d961a)\">\n     <use xlink:href=\"#C0_0_950e706e03\" x=\"56.577557\" y=\"101.596094\" style=\"fill: #1f77b4; stroke: #ffffff; stroke-width: 0.48\"/>\n    </g>\n    <g clip-path=\"url(#p4d3e9d961a)\">\n     <use xlink:href=\"#C0_0_950e706e03\" x=\"56.577557\" y=\"43.941548\" style=\"fill: #1f77b4; stroke: #ffffff; stroke-width: 0.48\"/>\n    </g>\n    <g clip-path=\"url(#p4d3e9d961a)\">\n     <use xlink:href=\"#C0_0_950e706e03\" x=\"56.577557\" y=\"35.705185\" style=\"fill: #1f77b4; stroke: #ffffff; stroke-width: 0.48\"/>\n    </g>\n    <g clip-path=\"url(#p4d3e9d961a)\">\n     <use xlink:href=\"#C0_0_950e706e03\" x=\"56.577557\" y=\"126.305185\" style=\"fill: #1f77b4; stroke: #ffffff; stroke-width: 0.48\"/>\n    </g>\n    <g clip-path=\"url(#p4d3e9d961a)\">\n     <use xlink:href=\"#C0_0_950e706e03\" x=\"56.577557\" y=\"118.068821\" style=\"fill: #1f77b4; stroke: #ffffff; stroke-width: 0.48\"/>\n    </g>\n    <g clip-path=\"url(#p4d3e9d961a)\">\n     <use xlink:href=\"#C0_0_950e706e03\" x=\"56.577557\" y=\"93.35973\" style=\"fill: #1f77b4; stroke: #ffffff; stroke-width: 0.48\"/>\n    </g>\n    <g clip-path=\"url(#p4d3e9d961a)\">\n     <use xlink:href=\"#C0_0_950e706e03\" x=\"56.577557\" y=\"126.305185\" style=\"fill: #1f77b4; stroke: #ffffff; stroke-width: 0.48\"/>\n    </g>\n    <g clip-path=\"url(#p4d3e9d961a)\">\n     <use xlink:href=\"#C0_0_950e706e03\" x=\"56.577557\" y=\"134.541548\" style=\"fill: #1f77b4; stroke: #ffffff; stroke-width: 0.48\"/>\n    </g>\n    <g clip-path=\"url(#p4d3e9d961a)\">\n     <use xlink:href=\"#C0_0_950e706e03\" x=\"56.577557\" y=\"101.596094\" style=\"fill: #1f77b4; stroke: #ffffff; stroke-width: 0.48\"/>\n    </g>\n    <g clip-path=\"url(#p4d3e9d961a)\">\n     <use xlink:href=\"#C0_0_950e706e03\" x=\"56.577557\" y=\"93.35973\" style=\"fill: #1f77b4; stroke: #ffffff; stroke-width: 0.48\"/>\n    </g>\n    <g clip-path=\"url(#p4d3e9d961a)\">\n     <use xlink:href=\"#C0_0_950e706e03\" x=\"56.577557\" y=\"192.196094\" style=\"fill: #1f77b4; stroke: #ffffff; stroke-width: 0.48\"/>\n    </g>\n    <g clip-path=\"url(#p4d3e9d961a)\">\n     <use xlink:href=\"#C0_0_950e706e03\" x=\"56.577557\" y=\"118.068821\" style=\"fill: #1f77b4; stroke: #ffffff; stroke-width: 0.48\"/>\n    </g>\n    <g clip-path=\"url(#p4d3e9d961a)\">\n     <use xlink:href=\"#C0_0_950e706e03\" x=\"56.577557\" y=\"93.35973\" style=\"fill: #1f77b4; stroke: #ffffff; stroke-width: 0.48\"/>\n    </g>\n    <g clip-path=\"url(#p4d3e9d961a)\">\n     <use xlink:href=\"#C0_0_950e706e03\" x=\"56.577557\" y=\"68.650639\" style=\"fill: #1f77b4; stroke: #ffffff; stroke-width: 0.48\"/>\n    </g>\n    <g clip-path=\"url(#p4d3e9d961a)\">\n     <use xlink:href=\"#C0_0_950e706e03\" x=\"56.577557\" y=\"134.541548\" style=\"fill: #1f77b4; stroke: #ffffff; stroke-width: 0.48\"/>\n    </g>\n    <g clip-path=\"url(#p4d3e9d961a)\">\n     <use xlink:href=\"#C0_0_950e706e03\" x=\"56.577557\" y=\"68.650639\" style=\"fill: #1f77b4; stroke: #ffffff; stroke-width: 0.48\"/>\n    </g>\n    <g clip-path=\"url(#p4d3e9d961a)\">\n     <use xlink:href=\"#C0_0_950e706e03\" x=\"56.577557\" y=\"118.068821\" style=\"fill: #1f77b4; stroke: #ffffff; stroke-width: 0.48\"/>\n    </g>\n    <g clip-path=\"url(#p4d3e9d961a)\">\n     <use xlink:href=\"#C0_0_950e706e03\" x=\"56.577557\" y=\"76.887003\" style=\"fill: #1f77b4; stroke: #ffffff; stroke-width: 0.48\"/>\n    </g>\n    <g clip-path=\"url(#p4d3e9d961a)\">\n     <use xlink:href=\"#C0_0_950e706e03\" x=\"56.577557\" y=\"109.832457\" style=\"fill: #1f77b4; stroke: #ffffff; stroke-width: 0.48\"/>\n    </g>\n    <g clip-path=\"url(#p4d3e9d961a)\">\n     <use xlink:href=\"#C0_0_950e706e03\" x=\"208.759375\" y=\"118.068821\" style=\"fill: #ff7f0e; stroke: #ffffff; stroke-width: 0.48\"/>\n    </g>\n    <g clip-path=\"url(#p4d3e9d961a)\">\n     <use xlink:href=\"#C0_0_950e706e03\" x=\"208.759375\" y=\"118.068821\" style=\"fill: #ff7f0e; stroke: #ffffff; stroke-width: 0.48\"/>\n    </g>\n    <g clip-path=\"url(#p4d3e9d961a)\">\n     <use xlink:href=\"#C0_0_950e706e03\" x=\"208.759375\" y=\"126.305185\" style=\"fill: #ff7f0e; stroke: #ffffff; stroke-width: 0.48\"/>\n    </g>\n    <g clip-path=\"url(#p4d3e9d961a)\">\n     <use xlink:href=\"#C0_0_950e706e03\" x=\"208.759375\" y=\"192.196094\" style=\"fill: #ff7f0e; stroke: #ffffff; stroke-width: 0.48\"/>\n    </g>\n    <g clip-path=\"url(#p4d3e9d961a)\">\n     <use xlink:href=\"#C0_0_950e706e03\" x=\"208.759375\" y=\"151.014276\" style=\"fill: #ff7f0e; stroke: #ffffff; stroke-width: 0.48\"/>\n    </g>\n    <g clip-path=\"url(#p4d3e9d961a)\">\n     <use xlink:href=\"#C0_0_950e706e03\" x=\"208.759375\" y=\"151.014276\" style=\"fill: #ff7f0e; stroke: #ffffff; stroke-width: 0.48\"/>\n    </g>\n    <g clip-path=\"url(#p4d3e9d961a)\">\n     <use xlink:href=\"#C0_0_950e706e03\" x=\"208.759375\" y=\"109.832457\" style=\"fill: #ff7f0e; stroke: #ffffff; stroke-width: 0.48\"/>\n    </g>\n    <g clip-path=\"url(#p4d3e9d961a)\">\n     <use xlink:href=\"#C0_0_950e706e03\" x=\"208.759375\" y=\"183.95973\" style=\"fill: #ff7f0e; stroke: #ffffff; stroke-width: 0.48\"/>\n    </g>\n    <g clip-path=\"url(#p4d3e9d961a)\">\n     <use xlink:href=\"#C0_0_950e706e03\" x=\"208.759375\" y=\"142.777912\" style=\"fill: #ff7f0e; stroke: #ffffff; stroke-width: 0.48\"/>\n    </g>\n    <g clip-path=\"url(#p4d3e9d961a)\">\n     <use xlink:href=\"#C0_0_950e706e03\" x=\"208.759375\" y=\"159.250639\" style=\"fill: #ff7f0e; stroke: #ffffff; stroke-width: 0.48\"/>\n    </g>\n    <g clip-path=\"url(#p4d3e9d961a)\">\n     <use xlink:href=\"#C0_0_950e706e03\" x=\"208.759375\" y=\"216.905185\" style=\"fill: #ff7f0e; stroke: #ffffff; stroke-width: 0.48\"/>\n    </g>\n    <g clip-path=\"url(#p4d3e9d961a)\">\n     <use xlink:href=\"#C0_0_950e706e03\" x=\"208.759375\" y=\"134.541548\" style=\"fill: #ff7f0e; stroke: #ffffff; stroke-width: 0.48\"/>\n    </g>\n    <g clip-path=\"url(#p4d3e9d961a)\">\n     <use xlink:href=\"#C0_0_950e706e03\" x=\"208.759375\" y=\"200.432457\" style=\"fill: #ff7f0e; stroke: #ffffff; stroke-width: 0.48\"/>\n    </g>\n    <g clip-path=\"url(#p4d3e9d961a)\">\n     <use xlink:href=\"#C0_0_950e706e03\" x=\"208.759375\" y=\"142.777912\" style=\"fill: #ff7f0e; stroke: #ffffff; stroke-width: 0.48\"/>\n    </g>\n    <g clip-path=\"url(#p4d3e9d961a)\">\n     <use xlink:href=\"#C0_0_950e706e03\" x=\"208.759375\" y=\"142.777912\" style=\"fill: #ff7f0e; stroke: #ffffff; stroke-width: 0.48\"/>\n    </g>\n    <g clip-path=\"url(#p4d3e9d961a)\">\n     <use xlink:href=\"#C0_0_950e706e03\" x=\"208.759375\" y=\"126.305185\" style=\"fill: #ff7f0e; stroke: #ffffff; stroke-width: 0.48\"/>\n    </g>\n    <g clip-path=\"url(#p4d3e9d961a)\">\n     <use xlink:href=\"#C0_0_950e706e03\" x=\"208.759375\" y=\"134.541548\" style=\"fill: #ff7f0e; stroke: #ffffff; stroke-width: 0.48\"/>\n    </g>\n    <g clip-path=\"url(#p4d3e9d961a)\">\n     <use xlink:href=\"#C0_0_950e706e03\" x=\"208.759375\" y=\"159.250639\" style=\"fill: #ff7f0e; stroke: #ffffff; stroke-width: 0.48\"/>\n    </g>\n    <g clip-path=\"url(#p4d3e9d961a)\">\n     <use xlink:href=\"#C0_0_950e706e03\" x=\"208.759375\" y=\"200.432457\" style=\"fill: #ff7f0e; stroke: #ffffff; stroke-width: 0.48\"/>\n    </g>\n    <g clip-path=\"url(#p4d3e9d961a)\">\n     <use xlink:href=\"#C0_0_950e706e03\" x=\"208.759375\" y=\"175.723366\" style=\"fill: #ff7f0e; stroke: #ffffff; stroke-width: 0.48\"/>\n    </g>\n    <g clip-path=\"url(#p4d3e9d961a)\">\n     <use xlink:href=\"#C0_0_950e706e03\" x=\"208.759375\" y=\"118.068821\" style=\"fill: #ff7f0e; stroke: #ffffff; stroke-width: 0.48\"/>\n    </g>\n    <g clip-path=\"url(#p4d3e9d961a)\">\n     <use xlink:href=\"#C0_0_950e706e03\" x=\"208.759375\" y=\"151.014276\" style=\"fill: #ff7f0e; stroke: #ffffff; stroke-width: 0.48\"/>\n    </g>\n    <g clip-path=\"url(#p4d3e9d961a)\">\n     <use xlink:href=\"#C0_0_950e706e03\" x=\"208.759375\" y=\"175.723366\" style=\"fill: #ff7f0e; stroke: #ffffff; stroke-width: 0.48\"/>\n    </g>\n    <g clip-path=\"url(#p4d3e9d961a)\">\n     <use xlink:href=\"#C0_0_950e706e03\" x=\"208.759375\" y=\"151.014276\" style=\"fill: #ff7f0e; stroke: #ffffff; stroke-width: 0.48\"/>\n    </g>\n    <g clip-path=\"url(#p4d3e9d961a)\">\n     <use xlink:href=\"#C0_0_950e706e03\" x=\"208.759375\" y=\"142.777912\" style=\"fill: #ff7f0e; stroke: #ffffff; stroke-width: 0.48\"/>\n    </g>\n    <g clip-path=\"url(#p4d3e9d961a)\">\n     <use xlink:href=\"#C0_0_950e706e03\" x=\"208.759375\" y=\"134.541548\" style=\"fill: #ff7f0e; stroke: #ffffff; stroke-width: 0.48\"/>\n    </g>\n    <g clip-path=\"url(#p4d3e9d961a)\">\n     <use xlink:href=\"#C0_0_950e706e03\" x=\"208.759375\" y=\"151.014276\" style=\"fill: #ff7f0e; stroke: #ffffff; stroke-width: 0.48\"/>\n    </g>\n    <g clip-path=\"url(#p4d3e9d961a)\">\n     <use xlink:href=\"#C0_0_950e706e03\" x=\"208.759375\" y=\"134.541548\" style=\"fill: #ff7f0e; stroke: #ffffff; stroke-width: 0.48\"/>\n    </g>\n    <g clip-path=\"url(#p4d3e9d961a)\">\n     <use xlink:href=\"#C0_0_950e706e03\" x=\"208.759375\" y=\"142.777912\" style=\"fill: #ff7f0e; stroke: #ffffff; stroke-width: 0.48\"/>\n    </g>\n    <g clip-path=\"url(#p4d3e9d961a)\">\n     <use xlink:href=\"#C0_0_950e706e03\" x=\"208.759375\" y=\"167.487003\" style=\"fill: #ff7f0e; stroke: #ffffff; stroke-width: 0.48\"/>\n    </g>\n    <g clip-path=\"url(#p4d3e9d961a)\">\n     <use xlink:href=\"#C0_0_950e706e03\" x=\"208.759375\" y=\"183.95973\" style=\"fill: #ff7f0e; stroke: #ffffff; stroke-width: 0.48\"/>\n    </g>\n    <g clip-path=\"url(#p4d3e9d961a)\">\n     <use xlink:href=\"#C0_0_950e706e03\" x=\"208.759375\" y=\"183.95973\" style=\"fill: #ff7f0e; stroke: #ffffff; stroke-width: 0.48\"/>\n    </g>\n    <g clip-path=\"url(#p4d3e9d961a)\">\n     <use xlink:href=\"#C0_0_950e706e03\" x=\"208.759375\" y=\"159.250639\" style=\"fill: #ff7f0e; stroke: #ffffff; stroke-width: 0.48\"/>\n    </g>\n    <g clip-path=\"url(#p4d3e9d961a)\">\n     <use xlink:href=\"#C0_0_950e706e03\" x=\"208.759375\" y=\"159.250639\" style=\"fill: #ff7f0e; stroke: #ffffff; stroke-width: 0.48\"/>\n    </g>\n    <g clip-path=\"url(#p4d3e9d961a)\">\n     <use xlink:href=\"#C0_0_950e706e03\" x=\"208.759375\" y=\"134.541548\" style=\"fill: #ff7f0e; stroke: #ffffff; stroke-width: 0.48\"/>\n    </g>\n    <g clip-path=\"url(#p4d3e9d961a)\">\n     <use xlink:href=\"#C0_0_950e706e03\" x=\"208.759375\" y=\"101.596094\" style=\"fill: #ff7f0e; stroke: #ffffff; stroke-width: 0.48\"/>\n    </g>\n    <g clip-path=\"url(#p4d3e9d961a)\">\n     <use xlink:href=\"#C0_0_950e706e03\" x=\"208.759375\" y=\"126.305185\" style=\"fill: #ff7f0e; stroke: #ffffff; stroke-width: 0.48\"/>\n    </g>\n    <g clip-path=\"url(#p4d3e9d961a)\">\n     <use xlink:href=\"#C0_0_950e706e03\" x=\"208.759375\" y=\"192.196094\" style=\"fill: #ff7f0e; stroke: #ffffff; stroke-width: 0.48\"/>\n    </g>\n    <g clip-path=\"url(#p4d3e9d961a)\">\n     <use xlink:href=\"#C0_0_950e706e03\" x=\"208.759375\" y=\"134.541548\" style=\"fill: #ff7f0e; stroke: #ffffff; stroke-width: 0.48\"/>\n    </g>\n    <g clip-path=\"url(#p4d3e9d961a)\">\n     <use xlink:href=\"#C0_0_950e706e03\" x=\"208.759375\" y=\"175.723366\" style=\"fill: #ff7f0e; stroke: #ffffff; stroke-width: 0.48\"/>\n    </g>\n    <g clip-path=\"url(#p4d3e9d961a)\">\n     <use xlink:href=\"#C0_0_950e706e03\" x=\"208.759375\" y=\"167.487003\" style=\"fill: #ff7f0e; stroke: #ffffff; stroke-width: 0.48\"/>\n    </g>\n    <g clip-path=\"url(#p4d3e9d961a)\">\n     <use xlink:href=\"#C0_0_950e706e03\" x=\"208.759375\" y=\"134.541548\" style=\"fill: #ff7f0e; stroke: #ffffff; stroke-width: 0.48\"/>\n    </g>\n    <g clip-path=\"url(#p4d3e9d961a)\">\n     <use xlink:href=\"#C0_0_950e706e03\" x=\"208.759375\" y=\"167.487003\" style=\"fill: #ff7f0e; stroke: #ffffff; stroke-width: 0.48\"/>\n    </g>\n    <g clip-path=\"url(#p4d3e9d961a)\">\n     <use xlink:href=\"#C0_0_950e706e03\" x=\"208.759375\" y=\"192.196094\" style=\"fill: #ff7f0e; stroke: #ffffff; stroke-width: 0.48\"/>\n    </g>\n    <g clip-path=\"url(#p4d3e9d961a)\">\n     <use xlink:href=\"#C0_0_950e706e03\" x=\"208.759375\" y=\"159.250639\" style=\"fill: #ff7f0e; stroke: #ffffff; stroke-width: 0.48\"/>\n    </g>\n    <g clip-path=\"url(#p4d3e9d961a)\">\n     <use xlink:href=\"#C0_0_950e706e03\" x=\"208.759375\" y=\"134.541548\" style=\"fill: #ff7f0e; stroke: #ffffff; stroke-width: 0.48\"/>\n    </g>\n    <g clip-path=\"url(#p4d3e9d961a)\">\n     <use xlink:href=\"#C0_0_950e706e03\" x=\"208.759375\" y=\"142.777912\" style=\"fill: #ff7f0e; stroke: #ffffff; stroke-width: 0.48\"/>\n    </g>\n    <g clip-path=\"url(#p4d3e9d961a)\">\n     <use xlink:href=\"#C0_0_950e706e03\" x=\"208.759375\" y=\"142.777912\" style=\"fill: #ff7f0e; stroke: #ffffff; stroke-width: 0.48\"/>\n    </g>\n    <g clip-path=\"url(#p4d3e9d961a)\">\n     <use xlink:href=\"#C0_0_950e706e03\" x=\"208.759375\" y=\"175.723366\" style=\"fill: #ff7f0e; stroke: #ffffff; stroke-width: 0.48\"/>\n    </g>\n    <g clip-path=\"url(#p4d3e9d961a)\">\n     <use xlink:href=\"#C0_0_950e706e03\" x=\"208.759375\" y=\"151.014276\" style=\"fill: #ff7f0e; stroke: #ffffff; stroke-width: 0.48\"/>\n    </g>\n    <g clip-path=\"url(#p4d3e9d961a)\">\n     <use xlink:href=\"#C0_0_950e706e03\" x=\"360.941193\" y=\"109.832457\" style=\"fill: #2ca02c; stroke: #ffffff; stroke-width: 0.48\"/>\n    </g>\n    <g clip-path=\"url(#p4d3e9d961a)\">\n     <use xlink:href=\"#C0_0_950e706e03\" x=\"360.941193\" y=\"159.250639\" style=\"fill: #2ca02c; stroke: #ffffff; stroke-width: 0.48\"/>\n    </g>\n    <g clip-path=\"url(#p4d3e9d961a)\">\n     <use xlink:href=\"#C0_0_950e706e03\" x=\"360.941193\" y=\"134.541548\" style=\"fill: #2ca02c; stroke: #ffffff; stroke-width: 0.48\"/>\n    </g>\n    <g clip-path=\"url(#p4d3e9d961a)\">\n     <use xlink:href=\"#C0_0_950e706e03\" x=\"360.941193\" y=\"142.777912\" style=\"fill: #2ca02c; stroke: #ffffff; stroke-width: 0.48\"/>\n    </g>\n    <g clip-path=\"url(#p4d3e9d961a)\">\n     <use xlink:href=\"#C0_0_950e706e03\" x=\"360.941193\" y=\"134.541548\" style=\"fill: #2ca02c; stroke: #ffffff; stroke-width: 0.48\"/>\n    </g>\n    <g clip-path=\"url(#p4d3e9d961a)\">\n     <use xlink:href=\"#C0_0_950e706e03\" x=\"360.941193\" y=\"134.541548\" style=\"fill: #2ca02c; stroke: #ffffff; stroke-width: 0.48\"/>\n    </g>\n    <g clip-path=\"url(#p4d3e9d961a)\">\n     <use xlink:href=\"#C0_0_950e706e03\" x=\"360.941193\" y=\"175.723366\" style=\"fill: #2ca02c; stroke: #ffffff; stroke-width: 0.48\"/>\n    </g>\n    <g clip-path=\"url(#p4d3e9d961a)\">\n     <use xlink:href=\"#C0_0_950e706e03\" x=\"360.941193\" y=\"142.777912\" style=\"fill: #2ca02c; stroke: #ffffff; stroke-width: 0.48\"/>\n    </g>\n    <g clip-path=\"url(#p4d3e9d961a)\">\n     <use xlink:href=\"#C0_0_950e706e03\" x=\"360.941193\" y=\"175.723366\" style=\"fill: #2ca02c; stroke: #ffffff; stroke-width: 0.48\"/>\n    </g>\n    <g clip-path=\"url(#p4d3e9d961a)\">\n     <use xlink:href=\"#C0_0_950e706e03\" x=\"360.941193\" y=\"85.123366\" style=\"fill: #2ca02c; stroke: #ffffff; stroke-width: 0.48\"/>\n    </g>\n    <g clip-path=\"url(#p4d3e9d961a)\">\n     <use xlink:href=\"#C0_0_950e706e03\" x=\"360.941193\" y=\"118.068821\" style=\"fill: #2ca02c; stroke: #ffffff; stroke-width: 0.48\"/>\n    </g>\n    <g clip-path=\"url(#p4d3e9d961a)\">\n     <use xlink:href=\"#C0_0_950e706e03\" x=\"360.941193\" y=\"159.250639\" style=\"fill: #2ca02c; stroke: #ffffff; stroke-width: 0.48\"/>\n    </g>\n    <g clip-path=\"url(#p4d3e9d961a)\">\n     <use xlink:href=\"#C0_0_950e706e03\" x=\"360.941193\" y=\"134.541548\" style=\"fill: #2ca02c; stroke: #ffffff; stroke-width: 0.48\"/>\n    </g>\n    <g clip-path=\"url(#p4d3e9d961a)\">\n     <use xlink:href=\"#C0_0_950e706e03\" x=\"360.941193\" y=\"175.723366\" style=\"fill: #2ca02c; stroke: #ffffff; stroke-width: 0.48\"/>\n    </g>\n    <g clip-path=\"url(#p4d3e9d961a)\">\n     <use xlink:href=\"#C0_0_950e706e03\" x=\"360.941193\" y=\"151.014276\" style=\"fill: #2ca02c; stroke: #ffffff; stroke-width: 0.48\"/>\n    </g>\n    <g clip-path=\"url(#p4d3e9d961a)\">\n     <use xlink:href=\"#C0_0_950e706e03\" x=\"360.941193\" y=\"118.068821\" style=\"fill: #2ca02c; stroke: #ffffff; stroke-width: 0.48\"/>\n    </g>\n    <g clip-path=\"url(#p4d3e9d961a)\">\n     <use xlink:href=\"#C0_0_950e706e03\" x=\"360.941193\" y=\"134.541548\" style=\"fill: #2ca02c; stroke: #ffffff; stroke-width: 0.48\"/>\n    </g>\n    <g clip-path=\"url(#p4d3e9d961a)\">\n     <use xlink:href=\"#C0_0_950e706e03\" x=\"360.941193\" y=\"68.650639\" style=\"fill: #2ca02c; stroke: #ffffff; stroke-width: 0.48\"/>\n    </g>\n    <g clip-path=\"url(#p4d3e9d961a)\">\n     <use xlink:href=\"#C0_0_950e706e03\" x=\"360.941193\" y=\"167.487003\" style=\"fill: #2ca02c; stroke: #ffffff; stroke-width: 0.48\"/>\n    </g>\n    <g clip-path=\"url(#p4d3e9d961a)\">\n     <use xlink:href=\"#C0_0_950e706e03\" x=\"360.941193\" y=\"200.432457\" style=\"fill: #2ca02c; stroke: #ffffff; stroke-width: 0.48\"/>\n    </g>\n    <g clip-path=\"url(#p4d3e9d961a)\">\n     <use xlink:href=\"#C0_0_950e706e03\" x=\"360.941193\" y=\"118.068821\" style=\"fill: #2ca02c; stroke: #ffffff; stroke-width: 0.48\"/>\n    </g>\n    <g clip-path=\"url(#p4d3e9d961a)\">\n     <use xlink:href=\"#C0_0_950e706e03\" x=\"360.941193\" y=\"151.014276\" style=\"fill: #2ca02c; stroke: #ffffff; stroke-width: 0.48\"/>\n    </g>\n    <g clip-path=\"url(#p4d3e9d961a)\">\n     <use xlink:href=\"#C0_0_950e706e03\" x=\"360.941193\" y=\"151.014276\" style=\"fill: #2ca02c; stroke: #ffffff; stroke-width: 0.48\"/>\n    </g>\n    <g clip-path=\"url(#p4d3e9d961a)\">\n     <use xlink:href=\"#C0_0_950e706e03\" x=\"360.941193\" y=\"159.250639\" style=\"fill: #2ca02c; stroke: #ffffff; stroke-width: 0.48\"/>\n    </g>\n    <g clip-path=\"url(#p4d3e9d961a)\">\n     <use xlink:href=\"#C0_0_950e706e03\" x=\"360.941193\" y=\"109.832457\" style=\"fill: #2ca02c; stroke: #ffffff; stroke-width: 0.48\"/>\n    </g>\n    <g clip-path=\"url(#p4d3e9d961a)\">\n     <use xlink:href=\"#C0_0_950e706e03\" x=\"360.941193\" y=\"118.068821\" style=\"fill: #2ca02c; stroke: #ffffff; stroke-width: 0.48\"/>\n    </g>\n    <g clip-path=\"url(#p4d3e9d961a)\">\n     <use xlink:href=\"#C0_0_950e706e03\" x=\"360.941193\" y=\"151.014276\" style=\"fill: #2ca02c; stroke: #ffffff; stroke-width: 0.48\"/>\n    </g>\n    <g clip-path=\"url(#p4d3e9d961a)\">\n     <use xlink:href=\"#C0_0_950e706e03\" x=\"360.941193\" y=\"134.541548\" style=\"fill: #2ca02c; stroke: #ffffff; stroke-width: 0.48\"/>\n    </g>\n    <g clip-path=\"url(#p4d3e9d961a)\">\n     <use xlink:href=\"#C0_0_950e706e03\" x=\"360.941193\" y=\"151.014276\" style=\"fill: #2ca02c; stroke: #ffffff; stroke-width: 0.48\"/>\n    </g>\n    <g clip-path=\"url(#p4d3e9d961a)\">\n     <use xlink:href=\"#C0_0_950e706e03\" x=\"360.941193\" y=\"134.541548\" style=\"fill: #2ca02c; stroke: #ffffff; stroke-width: 0.48\"/>\n    </g>\n    <g clip-path=\"url(#p4d3e9d961a)\">\n     <use xlink:href=\"#C0_0_950e706e03\" x=\"360.941193\" y=\"151.014276\" style=\"fill: #2ca02c; stroke: #ffffff; stroke-width: 0.48\"/>\n    </g>\n    <g clip-path=\"url(#p4d3e9d961a)\">\n     <use xlink:href=\"#C0_0_950e706e03\" x=\"360.941193\" y=\"68.650639\" style=\"fill: #2ca02c; stroke: #ffffff; stroke-width: 0.48\"/>\n    </g>\n    <g clip-path=\"url(#p4d3e9d961a)\">\n     <use xlink:href=\"#C0_0_950e706e03\" x=\"360.941193\" y=\"151.014276\" style=\"fill: #2ca02c; stroke: #ffffff; stroke-width: 0.48\"/>\n    </g>\n    <g clip-path=\"url(#p4d3e9d961a)\">\n     <use xlink:href=\"#C0_0_950e706e03\" x=\"360.941193\" y=\"151.014276\" style=\"fill: #2ca02c; stroke: #ffffff; stroke-width: 0.48\"/>\n    </g>\n    <g clip-path=\"url(#p4d3e9d961a)\">\n     <use xlink:href=\"#C0_0_950e706e03\" x=\"360.941193\" y=\"167.487003\" style=\"fill: #2ca02c; stroke: #ffffff; stroke-width: 0.48\"/>\n    </g>\n    <g clip-path=\"url(#p4d3e9d961a)\">\n     <use xlink:href=\"#C0_0_950e706e03\" x=\"360.941193\" y=\"134.541548\" style=\"fill: #2ca02c; stroke: #ffffff; stroke-width: 0.48\"/>\n    </g>\n    <g clip-path=\"url(#p4d3e9d961a)\">\n     <use xlink:href=\"#C0_0_950e706e03\" x=\"360.941193\" y=\"101.596094\" style=\"fill: #2ca02c; stroke: #ffffff; stroke-width: 0.48\"/>\n    </g>\n    <g clip-path=\"url(#p4d3e9d961a)\">\n     <use xlink:href=\"#C0_0_950e706e03\" x=\"360.941193\" y=\"126.305185\" style=\"fill: #2ca02c; stroke: #ffffff; stroke-width: 0.48\"/>\n    </g>\n    <g clip-path=\"url(#p4d3e9d961a)\">\n     <use xlink:href=\"#C0_0_950e706e03\" x=\"360.941193\" y=\"134.541548\" style=\"fill: #2ca02c; stroke: #ffffff; stroke-width: 0.48\"/>\n    </g>\n    <g clip-path=\"url(#p4d3e9d961a)\">\n     <use xlink:href=\"#C0_0_950e706e03\" x=\"360.941193\" y=\"126.305185\" style=\"fill: #2ca02c; stroke: #ffffff; stroke-width: 0.48\"/>\n    </g>\n    <g clip-path=\"url(#p4d3e9d961a)\">\n     <use xlink:href=\"#C0_0_950e706e03\" x=\"360.941193\" y=\"126.305185\" style=\"fill: #2ca02c; stroke: #ffffff; stroke-width: 0.48\"/>\n    </g>\n    <g clip-path=\"url(#p4d3e9d961a)\">\n     <use xlink:href=\"#C0_0_950e706e03\" x=\"360.941193\" y=\"126.305185\" style=\"fill: #2ca02c; stroke: #ffffff; stroke-width: 0.48\"/>\n    </g>\n    <g clip-path=\"url(#p4d3e9d961a)\">\n     <use xlink:href=\"#C0_0_950e706e03\" x=\"360.941193\" y=\"159.250639\" style=\"fill: #2ca02c; stroke: #ffffff; stroke-width: 0.48\"/>\n    </g>\n    <g clip-path=\"url(#p4d3e9d961a)\">\n     <use xlink:href=\"#C0_0_950e706e03\" x=\"360.941193\" y=\"118.068821\" style=\"fill: #2ca02c; stroke: #ffffff; stroke-width: 0.48\"/>\n    </g>\n    <g clip-path=\"url(#p4d3e9d961a)\">\n     <use xlink:href=\"#C0_0_950e706e03\" x=\"360.941193\" y=\"109.832457\" style=\"fill: #2ca02c; stroke: #ffffff; stroke-width: 0.48\"/>\n    </g>\n    <g clip-path=\"url(#p4d3e9d961a)\">\n     <use xlink:href=\"#C0_0_950e706e03\" x=\"360.941193\" y=\"134.541548\" style=\"fill: #2ca02c; stroke: #ffffff; stroke-width: 0.48\"/>\n    </g>\n    <g clip-path=\"url(#p4d3e9d961a)\">\n     <use xlink:href=\"#C0_0_950e706e03\" x=\"360.941193\" y=\"175.723366\" style=\"fill: #2ca02c; stroke: #ffffff; stroke-width: 0.48\"/>\n    </g>\n    <g clip-path=\"url(#p4d3e9d961a)\">\n     <use xlink:href=\"#C0_0_950e706e03\" x=\"360.941193\" y=\"134.541548\" style=\"fill: #2ca02c; stroke: #ffffff; stroke-width: 0.48\"/>\n    </g>\n    <g clip-path=\"url(#p4d3e9d961a)\">\n     <use xlink:href=\"#C0_0_950e706e03\" x=\"360.941193\" y=\"101.596094\" style=\"fill: #2ca02c; stroke: #ffffff; stroke-width: 0.48\"/>\n    </g>\n    <g clip-path=\"url(#p4d3e9d961a)\">\n     <use xlink:href=\"#C0_0_950e706e03\" x=\"360.941193\" y=\"134.541548\" style=\"fill: #2ca02c; stroke: #ffffff; stroke-width: 0.48\"/>\n    </g>\n   </g>\n   <g id=\"PathCollection_2\"/>\n   <g id=\"PathCollection_3\"/>\n   <g id=\"PathCollection_4\"/>\n   <g id=\"matplotlib.axis_1\">\n    <g id=\"xtick_1\">\n     <g id=\"line2d_1\">\n      <defs>\n       <path id=\"mbba52a5040\" d=\"M 0 0 \nL 0 3.5 \n\" style=\"stroke: #000000; stroke-width: 0.8\"/>\n      </defs>\n      <g>\n       <use xlink:href=\"#mbba52a5040\" x=\"56.577557\" y=\"226.788821\" style=\"stroke: #000000; stroke-width: 0.8\"/>\n      </g>\n     </g>\n     <g id=\"text_1\">\n      <!-- Iris-setosa -->\n      <g transform=\"translate(33.730682 241.381009)scale(0.1 -0.1)\">\n       <defs>\n        <path id=\"MalgunGothic-49\" d=\"M 1116 0 \nL 613 0 \nL 613 4600 \nL 1116 4600 \nL 1116 0 \nz\n\" transform=\"scale(0.015625)\"/>\n        <path id=\"MalgunGothic-72\" d=\"M 2225 2775 \nQ 2084 2881 1828 2881 \nQ 1491 2881 1262 2553 \nQ 1034 2225 1034 1681 \nL 1034 0 \nL 538 0 \nL 538 3284 \nL 1034 3284 \nL 1034 2603 \nL 1047 2603 \nQ 1159 2950 1389 3145 \nQ 1619 3341 1903 3341 \nQ 2109 3341 2225 3297 \nL 2225 2775 \nz\n\" transform=\"scale(0.015625)\"/>\n        <path id=\"MalgunGothic-69\" d=\"M 472 4466 \nQ 472 4606 565 4701 \nQ 659 4797 794 4797 \nQ 934 4797 1029 4700 \nQ 1125 4603 1125 4466 \nQ 1125 4325 1029 4231 \nQ 934 4138 794 4138 \nQ 659 4138 565 4230 \nQ 472 4322 472 4466 \nz\nM 541 0 \nL 541 3284 \nL 1034 3284 \nL 1034 0 \nL 541 0 \nz\n\" transform=\"scale(0.015625)\"/>\n        <path id=\"MalgunGothic-73\" d=\"M 331 669 \nQ 763 350 1278 350 \nQ 1978 350 1978 822 \nQ 1978 1025 1825 1158 \nQ 1672 1291 1222 1459 \nQ 703 1666 520 1878 \nQ 338 2091 338 2416 \nQ 338 2834 700 3096 \nQ 1063 3359 1584 3359 \nQ 2003 3359 2341 3213 \nL 2341 2697 \nQ 1975 2934 1506 2934 \nQ 1200 2934 1025 2798 \nQ 850 2663 850 2459 \nQ 850 2241 979 2125 \nQ 1109 2009 1544 1838 \nQ 2131 1609 2309 1390 \nQ 2488 1172 2488 869 \nQ 2488 431 2127 176 \nQ 1766 -78 1203 -78 \nQ 694 -78 331 122 \nL 331 669 \nz\n\" transform=\"scale(0.015625)\"/>\n        <path id=\"MalgunGothic-2d\" d=\"M 2213 1634 \nL 463 1634 \nL 463 2031 \nL 2213 2031 \nL 2213 1634 \nz\n\" transform=\"scale(0.015625)\"/>\n        <path id=\"MalgunGothic-65\" d=\"M 3156 1519 \nL 828 1519 \nQ 844 950 1133 648 \nQ 1422 347 1909 347 \nQ 2472 347 2934 719 \nL 2934 244 \nQ 2494 -78 1794 -78 \nQ 1100 -78 708 376 \nQ 316 831 316 1634 \nQ 316 2381 747 2870 \nQ 1178 3359 1816 3359 \nQ 2453 3359 2804 2942 \nQ 3156 2525 3156 1788 \nL 3156 1519 \nz\nM 2644 1956 \nQ 2644 2416 2423 2675 \nQ 2203 2934 1809 2934 \nQ 1438 2934 1169 2667 \nQ 900 2400 834 1956 \nL 2644 1956 \nz\n\" transform=\"scale(0.015625)\"/>\n        <path id=\"MalgunGothic-74\" d=\"M 2031 31 \nQ 1844 -72 1553 -72 \nQ 706 -72 706 881 \nL 706 2856 \nL 138 2856 \nL 138 3284 \nL 706 3284 \nL 706 4091 \nL 1200 4250 \nL 1200 3284 \nL 2031 3284 \nL 2031 2856 \nL 1200 2856 \nL 1200 972 \nQ 1200 625 1315 487 \nQ 1431 350 1691 350 \nQ 1888 350 2031 459 \nL 2031 31 \nz\n\" transform=\"scale(0.015625)\"/>\n        <path id=\"MalgunGothic-6f\" d=\"M 316 1600 \nQ 316 2419 761 2889 \nQ 1206 3359 1978 3359 \nQ 2697 3359 3111 2907 \nQ 3525 2456 3525 1650 \nQ 3525 869 3078 395 \nQ 2631 -78 1900 -78 \nQ 1184 -78 750 384 \nQ 316 847 316 1600 \nz\nM 819 1622 \nQ 819 1041 1123 692 \nQ 1428 344 1934 344 \nQ 2459 344 2739 680 \nQ 3019 1016 3019 1634 \nQ 3019 2256 2737 2598 \nQ 2456 2941 1934 2941 \nQ 1425 2941 1122 2587 \nQ 819 2234 819 1622 \nz\n\" transform=\"scale(0.015625)\"/>\n        <path id=\"MalgunGothic-61\" d=\"M 616 3050 \nQ 1097 3359 1722 3359 \nQ 2866 3359 2866 2147 \nL 2866 0 \nL 2369 0 \nL 2369 516 \nL 2350 516 \nQ 2009 -78 1341 -78 \nQ 859 -78 576 180 \nQ 294 438 294 869 \nQ 294 1784 1375 1934 \nL 2366 2078 \nQ 2366 2934 1684 2934 \nQ 1084 2934 616 2525 \nL 616 3050 \nz\nM 1563 1559 \nQ 1178 1509 993 1371 \nQ 809 1234 809 903 \nQ 809 653 986 500 \nQ 1163 347 1450 347 \nQ 1847 347 2106 628 \nQ 2366 909 2366 1334 \nL 2366 1666 \nL 1563 1559 \nz\n\" transform=\"scale(0.015625)\"/>\n       </defs>\n       <use xlink:href=\"#MalgunGothic-49\"/>\n       <use xlink:href=\"#MalgunGothic-72\" x=\"27.001953\"/>\n       <use xlink:href=\"#MalgunGothic-69\" x=\"62.353516\"/>\n       <use xlink:href=\"#MalgunGothic-73\" x=\"86.962891\"/>\n       <use xlink:href=\"#MalgunGothic-2d\" x=\"130.273438\"/>\n       <use xlink:href=\"#MalgunGothic-73\" x=\"171.289062\"/>\n       <use xlink:href=\"#MalgunGothic-65\" x=\"214.599609\"/>\n       <use xlink:href=\"#MalgunGothic-74\" x=\"268.115234\"/>\n       <use xlink:href=\"#MalgunGothic-6f\" x=\"301.712891\"/>\n       <use xlink:href=\"#MalgunGothic-73\" x=\"361.625\"/>\n       <use xlink:href=\"#MalgunGothic-61\" x=\"404.935547\"/>\n      </g>\n     </g>\n    </g>\n    <g id=\"xtick_2\">\n     <g id=\"line2d_2\">\n      <g>\n       <use xlink:href=\"#mbba52a5040\" x=\"208.759375\" y=\"226.788821\" style=\"stroke: #000000; stroke-width: 0.8\"/>\n      </g>\n     </g>\n     <g id=\"text_2\">\n      <!-- Iris-versicolor -->\n      <g transform=\"translate(178.559375 241.381009)scale(0.1 -0.1)\">\n       <defs>\n        <path id=\"MalgunGothic-76\" d=\"M 3084 3284 \nL 1769 0 \nL 1294 0 \nL 47 3284 \nL 594 3284 \nL 1441 872 \nQ 1531 609 1556 425 \nL 1572 425 \nQ 1603 669 1672 863 \nL 2563 3284 \nL 3084 3284 \nz\n\" transform=\"scale(0.015625)\"/>\n        <path id=\"MalgunGothic-63\" d=\"M 2763 153 \nQ 2375 -78 1872 -78 \nQ 1184 -78 750 372 \nQ 316 822 316 1566 \nQ 316 2381 777 2870 \nQ 1238 3359 2009 3359 \nQ 2434 3359 2766 3200 \nL 2766 2681 \nQ 2397 2941 1981 2941 \nQ 1478 2941 1148 2577 \nQ 819 2213 819 1609 \nQ 819 1034 1120 689 \nQ 1422 344 1947 344 \nQ 2381 344 2763 631 \nL 2763 153 \nz\n\" transform=\"scale(0.015625)\"/>\n        <path id=\"MalgunGothic-6c\" d=\"M 541 0 \nL 541 4859 \nL 1034 4859 \nL 1034 0 \nL 541 0 \nz\n\" transform=\"scale(0.015625)\"/>\n       </defs>\n       <use xlink:href=\"#MalgunGothic-49\"/>\n       <use xlink:href=\"#MalgunGothic-72\" x=\"27.001953\"/>\n       <use xlink:href=\"#MalgunGothic-69\" x=\"62.353516\"/>\n       <use xlink:href=\"#MalgunGothic-73\" x=\"86.962891\"/>\n       <use xlink:href=\"#MalgunGothic-2d\" x=\"130.273438\"/>\n       <use xlink:href=\"#MalgunGothic-76\" x=\"171.289062\"/>\n       <use xlink:href=\"#MalgunGothic-65\" x=\"219.394531\"/>\n       <use xlink:href=\"#MalgunGothic-72\" x=\"272.910156\"/>\n       <use xlink:href=\"#MalgunGothic-73\" x=\"309.011719\"/>\n       <use xlink:href=\"#MalgunGothic-69\" x=\"352.322266\"/>\n       <use xlink:href=\"#MalgunGothic-63\" x=\"376.931641\"/>\n       <use xlink:href=\"#MalgunGothic-6f\" x=\"424.197266\"/>\n       <use xlink:href=\"#MalgunGothic-6c\" x=\"484.109375\"/>\n       <use xlink:href=\"#MalgunGothic-6f\" x=\"508.71875\"/>\n       <use xlink:href=\"#MalgunGothic-72\" x=\"568.630859\"/>\n      </g>\n     </g>\n    </g>\n    <g id=\"xtick_3\">\n     <g id=\"line2d_3\">\n      <g>\n       <use xlink:href=\"#mbba52a5040\" x=\"360.941193\" y=\"226.788821\" style=\"stroke: #000000; stroke-width: 0.8\"/>\n      </g>\n     </g>\n     <g id=\"text_3\">\n      <!-- Iris-virginica -->\n      <g transform=\"translate(333.684943 241.327884)scale(0.1 -0.1)\">\n       <defs>\n        <path id=\"MalgunGothic-67\" d=\"M 3313 259 \nQ 3313 -1547 1603 -1547 \nQ 1003 -1547 538 -1313 \nL 538 -806 \nQ 1088 -1116 1600 -1116 \nQ 2822 -1116 2822 194 \nL 2822 559 \nL 2809 559 \nQ 2422 -78 1675 -78 \nQ 1066 -78 691 362 \nQ 316 803 316 1534 \nQ 316 2375 722 2867 \nQ 1128 3359 1816 3359 \nQ 2484 3359 2809 2822 \nL 2822 2822 \nL 2822 3284 \nL 3313 3284 \nL 3313 259 \nz\nM 2822 1978 \nQ 2822 2378 2547 2659 \nQ 2272 2941 1878 2941 \nQ 1384 2941 1101 2577 \nQ 819 2213 819 1572 \nQ 819 1016 1092 680 \nQ 1366 344 1803 344 \nQ 2247 344 2534 666 \nQ 2822 988 2822 1478 \nL 2822 1978 \nz\n\" transform=\"scale(0.015625)\"/>\n        <path id=\"MalgunGothic-6e\" d=\"M 3238 0 \nL 2741 0 \nL 2741 1875 \nQ 2741 2941 1963 2941 \nQ 1563 2941 1298 2639 \nQ 1034 2338 1034 1872 \nL 1034 0 \nL 538 0 \nL 538 3284 \nL 1034 3284 \nL 1034 2734 \nL 1047 2734 \nQ 1416 3359 2125 3359 \nQ 2666 3359 2952 3012 \nQ 3238 2666 3238 2006 \nL 3238 0 \nz\n\" transform=\"scale(0.015625)\"/>\n       </defs>\n       <use xlink:href=\"#MalgunGothic-49\"/>\n       <use xlink:href=\"#MalgunGothic-72\" x=\"27.001953\"/>\n       <use xlink:href=\"#MalgunGothic-69\" x=\"62.353516\"/>\n       <use xlink:href=\"#MalgunGothic-73\" x=\"86.962891\"/>\n       <use xlink:href=\"#MalgunGothic-2d\" x=\"130.273438\"/>\n       <use xlink:href=\"#MalgunGothic-76\" x=\"171.289062\"/>\n       <use xlink:href=\"#MalgunGothic-69\" x=\"220.019531\"/>\n       <use xlink:href=\"#MalgunGothic-72\" x=\"244.628906\"/>\n       <use xlink:href=\"#MalgunGothic-67\" x=\"278.605469\"/>\n       <use xlink:href=\"#MalgunGothic-69\" x=\"338.810547\"/>\n       <use xlink:href=\"#MalgunGothic-6e\" x=\"363.419922\"/>\n       <use xlink:href=\"#MalgunGothic-69\" x=\"421.232422\"/>\n       <use xlink:href=\"#MalgunGothic-63\" x=\"445.841797\"/>\n       <use xlink:href=\"#MalgunGothic-61\" x=\"493.107422\"/>\n      </g>\n     </g>\n    </g>\n    <g id=\"text_4\">\n     <!-- target -->\n     <g transform=\"translate(195.327344 255.284134)scale(0.1 -0.1)\">\n      <use xlink:href=\"#MalgunGothic-74\"/>\n      <use xlink:href=\"#MalgunGothic-61\" x=\"34.472656\"/>\n      <use xlink:href=\"#MalgunGothic-72\" x=\"86.474609\"/>\n      <use xlink:href=\"#MalgunGothic-67\" x=\"120.451172\"/>\n      <use xlink:href=\"#MalgunGothic-65\" x=\"180.65625\"/>\n      <use xlink:href=\"#MalgunGothic-74\" x=\"234.171875\"/>\n     </g>\n    </g>\n   </g>\n   <g id=\"matplotlib.axis_2\">\n    <g id=\"ytick_1\">\n     <g id=\"line2d_4\">\n      <defs>\n       <path id=\"me15b2f2b3f\" d=\"M 0 0 \nL -3.5 0 \n\" style=\"stroke: #000000; stroke-width: 0.8\"/>\n      </defs>\n      <g>\n       <use xlink:href=\"#me15b2f2b3f\" x=\"41.359375\" y=\"216.905185\" style=\"stroke: #000000; stroke-width: 0.8\"/>\n      </g>\n     </g>\n     <g id=\"text_5\">\n      <!-- 2.0 -->\n      <g transform=\"translate(21.15625 220.701278)scale(0.1 -0.1)\">\n       <defs>\n        <path id=\"MalgunGothic-32\" d=\"M 2519 3372 \nQ 2519 3784 2275 4018 \nQ 2031 4253 1628 4253 \nQ 1341 4253 1053 4104 \nQ 766 3956 534 3697 \nL 534 4234 \nQ 981 4675 1691 4675 \nQ 2281 4675 2642 4334 \nQ 3003 3994 3003 3416 \nQ 3003 2919 2772 2545 \nQ 2541 2172 1984 1775 \nQ 1459 1406 1254 1215 \nQ 1050 1025 967 854 \nQ 884 684 884 450 \nL 3116 450 \nL 3116 0 \nL 356 0 \nL 356 225 \nQ 356 603 461 870 \nQ 566 1138 811 1392 \nQ 1056 1647 1597 2022 \nQ 2091 2363 2305 2670 \nQ 2519 2978 2519 3372 \nz\n\" transform=\"scale(0.015625)\"/>\n        <path id=\"MalgunGothic-2e\" d=\"M 356 275 \nQ 356 422 459 523 \nQ 563 625 700 625 \nQ 838 625 941 523 \nQ 1044 422 1044 275 \nQ 1044 138 942 33 \nQ 841 -72 700 -72 \nQ 559 -72 457 29 \nQ 356 131 356 275 \nz\n\" transform=\"scale(0.015625)\"/>\n        <path id=\"MalgunGothic-30\" d=\"M 278 2206 \nQ 278 3425 675 4050 \nQ 1072 4675 1819 4675 \nQ 3253 4675 3253 2319 \nQ 3253 1156 2854 539 \nQ 2456 -78 1716 -78 \nQ 1016 -78 647 520 \nQ 278 1119 278 2206 \nz\nM 784 2231 \nQ 784 344 1769 344 \nQ 2747 344 2747 2259 \nQ 2747 4250 1794 4250 \nQ 784 4250 784 2231 \nz\n\" transform=\"scale(0.015625)\"/>\n       </defs>\n       <use xlink:href=\"#MalgunGothic-32\"/>\n       <use xlink:href=\"#MalgunGothic-2e\" x=\"55.078125\"/>\n       <use xlink:href=\"#MalgunGothic-30\" x=\"76.953125\"/>\n      </g>\n     </g>\n    </g>\n    <g id=\"ytick_2\">\n     <g id=\"line2d_5\">\n      <g>\n       <use xlink:href=\"#me15b2f2b3f\" x=\"41.359375\" y=\"175.723366\" style=\"stroke: #000000; stroke-width: 0.8\"/>\n      </g>\n     </g>\n     <g id=\"text_6\">\n      <!-- 2.5 -->\n      <g transform=\"translate(21.15625 179.51946)scale(0.1 -0.1)\">\n       <defs>\n        <path id=\"MalgunGothic-35\" d=\"M 3072 1403 \nQ 3072 722 2636 322 \nQ 2200 -78 1469 -78 \nQ 828 -78 516 113 \nL 516 650 \nQ 994 344 1475 344 \nQ 1969 344 2270 630 \nQ 2572 916 2572 1372 \nQ 2572 1838 2265 2092 \nQ 1959 2347 1381 2347 \nQ 994 2347 603 2300 \nL 759 4600 \nL 2869 4600 \nL 2869 4147 \nL 1206 4147 \nL 1106 2763 \nQ 1347 2784 1547 2784 \nQ 2263 2784 2667 2414 \nQ 3072 2044 3072 1403 \nz\n\" transform=\"scale(0.015625)\"/>\n       </defs>\n       <use xlink:href=\"#MalgunGothic-32\"/>\n       <use xlink:href=\"#MalgunGothic-2e\" x=\"55.078125\"/>\n       <use xlink:href=\"#MalgunGothic-35\" x=\"76.953125\"/>\n      </g>\n     </g>\n    </g>\n    <g id=\"ytick_3\">\n     <g id=\"line2d_6\">\n      <g>\n       <use xlink:href=\"#me15b2f2b3f\" x=\"41.359375\" y=\"134.541548\" style=\"stroke: #000000; stroke-width: 0.8\"/>\n      </g>\n     </g>\n     <g id=\"text_7\">\n      <!-- 3.0 -->\n      <g transform=\"translate(21.15625 138.337642)scale(0.1 -0.1)\">\n       <defs>\n        <path id=\"MalgunGothic-33\" d=\"M 416 719 \nQ 891 344 1478 344 \nQ 1959 344 2254 587 \nQ 2550 831 2550 1247 \nQ 2550 2169 1253 2169 \nL 872 2169 \nL 872 2591 \nL 1234 2591 \nQ 2388 2591 2388 3453 \nQ 2388 4250 1509 4250 \nQ 1022 4250 594 3916 \nL 594 4413 \nQ 1031 4675 1634 4675 \nQ 2184 4675 2539 4372 \nQ 2894 4069 2894 3581 \nQ 2894 2678 1972 2409 \nL 1972 2400 \nQ 2469 2356 2764 2053 \nQ 3059 1750 3059 1300 \nQ 3059 672 2604 297 \nQ 2150 -78 1450 -78 \nQ 806 -78 416 169 \nL 416 719 \nz\n\" transform=\"scale(0.015625)\"/>\n       </defs>\n       <use xlink:href=\"#MalgunGothic-33\"/>\n       <use xlink:href=\"#MalgunGothic-2e\" x=\"55.078125\"/>\n       <use xlink:href=\"#MalgunGothic-30\" x=\"76.953125\"/>\n      </g>\n     </g>\n    </g>\n    <g id=\"ytick_4\">\n     <g id=\"line2d_7\">\n      <g>\n       <use xlink:href=\"#me15b2f2b3f\" x=\"41.359375\" y=\"93.35973\" style=\"stroke: #000000; stroke-width: 0.8\"/>\n      </g>\n     </g>\n     <g id=\"text_8\">\n      <!-- 3.5 -->\n      <g transform=\"translate(21.15625 97.155824)scale(0.1 -0.1)\">\n       <use xlink:href=\"#MalgunGothic-33\"/>\n       <use xlink:href=\"#MalgunGothic-2e\" x=\"55.078125\"/>\n       <use xlink:href=\"#MalgunGothic-35\" x=\"76.953125\"/>\n      </g>\n     </g>\n    </g>\n    <g id=\"ytick_5\">\n     <g id=\"line2d_8\">\n      <g>\n       <use xlink:href=\"#me15b2f2b3f\" x=\"41.359375\" y=\"52.177912\" style=\"stroke: #000000; stroke-width: 0.8\"/>\n      </g>\n     </g>\n     <g id=\"text_9\">\n      <!-- 4.0 -->\n      <g transform=\"translate(21.15625 55.974006)scale(0.1 -0.1)\">\n       <defs>\n        <path id=\"MalgunGothic-34\" d=\"M 2703 4600 \nL 2703 1563 \nL 3309 1563 \nL 3309 1113 \nL 2703 1113 \nL 2703 0 \nL 2213 0 \nL 2213 1113 \nL 50 1113 \nL 50 1534 \nQ 728 2297 1295 3109 \nQ 1863 3922 2172 4600 \nL 2703 4600 \nz\nM 625 1563 \nL 2213 1563 \nL 2213 3831 \nQ 1613 2788 959 1981 \nL 625 1563 \nz\n\" transform=\"scale(0.015625)\"/>\n       </defs>\n       <use xlink:href=\"#MalgunGothic-34\"/>\n       <use xlink:href=\"#MalgunGothic-2e\" x=\"55.078125\"/>\n       <use xlink:href=\"#MalgunGothic-30\" x=\"76.953125\"/>\n      </g>\n     </g>\n    </g>\n    <g id=\"ytick_6\">\n     <g id=\"line2d_9\">\n      <g>\n       <use xlink:href=\"#me15b2f2b3f\" x=\"41.359375\" y=\"10.996094\" style=\"stroke: #000000; stroke-width: 0.8\"/>\n      </g>\n     </g>\n     <g id=\"text_10\">\n      <!-- 4.5 -->\n      <g transform=\"translate(21.15625 14.792188)scale(0.1 -0.1)\">\n       <use xlink:href=\"#MalgunGothic-34\"/>\n       <use xlink:href=\"#MalgunGothic-2e\" x=\"55.078125\"/>\n       <use xlink:href=\"#MalgunGothic-35\" x=\"76.953125\"/>\n      </g>\n     </g>\n    </g>\n    <g id=\"text_11\">\n     <!-- sepal width -->\n     <g transform=\"translate(14.792188 143.971946)rotate(-90)scale(0.1 -0.1)\">\n      <defs>\n       <path id=\"MalgunGothic-70\" d=\"M 1034 481 \nL 1034 -1513 \nL 538 -1513 \nL 538 3284 \nL 1034 3284 \nL 1034 2703 \nL 1047 2703 \nQ 1438 3359 2184 3359 \nQ 2809 3359 3171 2920 \nQ 3534 2481 3534 1738 \nQ 3534 906 3126 414 \nQ 2719 -78 2034 -78 \nQ 1394 -78 1047 481 \nL 1034 481 \nz\nM 1034 1331 \nQ 1034 922 1307 633 \nQ 1581 344 1991 344 \nQ 2475 344 2751 716 \nQ 3028 1088 3028 1753 \nQ 3028 2300 2767 2620 \nQ 2506 2941 2072 2941 \nQ 1619 2941 1326 2619 \nQ 1034 2297 1034 1806 \nL 1034 1331 \nz\n\" transform=\"scale(0.015625)\"/>\n       <path id=\"MalgunGothic-20\" transform=\"scale(0.015625)\"/>\n       <path id=\"MalgunGothic-77\" d=\"M 4634 3284 \nL 3650 0 \nL 3134 0 \nL 2447 2378 \nQ 2409 2506 2397 2675 \nL 2384 2675 \nQ 2384 2609 2316 2384 \nL 1572 0 \nL 1078 0 \nL 81 3284 \nL 600 3284 \nL 1294 794 \nQ 1325 681 1338 503 \nL 1363 503 \nQ 1378 656 1422 800 \nL 2191 3284 \nL 2644 3284 \nL 3334 788 \nQ 3359 700 3381 497 \nL 3409 497 \nQ 3416 631 3463 788 \nL 4144 3284 \nL 4634 3284 \nz\n\" transform=\"scale(0.015625)\"/>\n       <path id=\"MalgunGothic-64\" d=\"M 3313 0 \nL 2822 0 \nL 2822 566 \nL 2809 566 \nQ 2444 -78 1675 -78 \nQ 1056 -78 686 364 \nQ 316 806 316 1566 \nQ 316 2375 728 2867 \nQ 1141 3359 1816 3359 \nQ 2494 3359 2809 2822 \nL 2822 2822 \nL 2822 4859 \nL 3313 4859 \nL 3313 0 \nz\nM 2822 1978 \nQ 2822 2378 2550 2659 \nQ 2278 2941 1872 2941 \nQ 1384 2941 1101 2577 \nQ 819 2213 819 1591 \nQ 819 1025 1086 684 \nQ 1353 344 1813 344 \nQ 2250 344 2536 666 \nQ 2822 988 2822 1478 \nL 2822 1978 \nz\n\" transform=\"scale(0.015625)\"/>\n       <path id=\"MalgunGothic-68\" d=\"M 3238 0 \nL 2744 0 \nL 2744 1894 \nQ 2744 2941 1963 2941 \nQ 1572 2941 1303 2637 \nQ 1034 2334 1034 1859 \nL 1034 0 \nL 538 0 \nL 538 4859 \nL 1034 4859 \nL 1034 2734 \nL 1047 2734 \nQ 1425 3359 2128 3359 \nQ 3238 3359 3238 2022 \nL 3238 0 \nz\n\" transform=\"scale(0.015625)\"/>\n      </defs>\n      <use xlink:href=\"#MalgunGothic-73\"/>\n      <use xlink:href=\"#MalgunGothic-65\" x=\"43.310547\"/>\n      <use xlink:href=\"#MalgunGothic-70\" x=\"96.826172\"/>\n      <use xlink:href=\"#MalgunGothic-61\" x=\"155.509766\"/>\n      <use xlink:href=\"#MalgunGothic-6c\" x=\"207.511719\"/>\n      <use xlink:href=\"#MalgunGothic-20\" x=\"232.121094\"/>\n      <use xlink:href=\"#MalgunGothic-77\" x=\"267.277344\"/>\n      <use xlink:href=\"#MalgunGothic-69\" x=\"340.910156\"/>\n      <use xlink:href=\"#MalgunGothic-64\" x=\"365.519531\"/>\n      <use xlink:href=\"#MalgunGothic-74\" x=\"425.724609\"/>\n      <use xlink:href=\"#MalgunGothic-68\" x=\"460.197266\"/>\n     </g>\n    </g>\n   </g>\n   <g id=\"patch_3\">\n    <path d=\"M 41.359375 226.788821 \nL 41.359375 9.348821 \n\" style=\"fill: none; stroke: #000000; stroke-width: 0.8; stroke-linejoin: miter; stroke-linecap: square\"/>\n   </g>\n   <g id=\"patch_4\">\n    <path d=\"M 376.159375 226.788821 \nL 376.159375 9.348821 \n\" style=\"fill: none; stroke: #000000; stroke-width: 0.8; stroke-linejoin: miter; stroke-linecap: square\"/>\n   </g>\n   <g id=\"patch_5\">\n    <path d=\"M 41.359375 226.788821 \nL 376.159375 226.788821 \n\" style=\"fill: none; stroke: #000000; stroke-width: 0.8; stroke-linejoin: miter; stroke-linecap: square\"/>\n   </g>\n   <g id=\"patch_6\">\n    <path d=\"M 41.359375 9.348821 \nL 376.159375 9.348821 \n\" style=\"fill: none; stroke: #000000; stroke-width: 0.8; stroke-linejoin: miter; stroke-linecap: square\"/>\n   </g>\n   <g id=\"legend_1\">\n    <g id=\"patch_7\">\n     <path d=\"M 162.559375 77.280071 \nL 254.959375 77.280071 \nQ 256.959375 77.280071 256.959375 75.280071 \nL 256.959375 16.348821 \nQ 256.959375 14.348821 254.959375 14.348821 \nL 162.559375 14.348821 \nQ 160.559375 14.348821 160.559375 16.348821 \nL 160.559375 75.280071 \nQ 160.559375 77.280071 162.559375 77.280071 \nz\n\" style=\"fill: #ffffff; opacity: 0.8; stroke: #cccccc; stroke-linejoin: miter\"/>\n    </g>\n    <g id=\"text_12\">\n     <!-- target -->\n     <g transform=\"translate(195.327344 25.941009)scale(0.1 -0.1)\">\n      <use xlink:href=\"#MalgunGothic-74\"/>\n      <use xlink:href=\"#MalgunGothic-61\" x=\"34.472656\"/>\n      <use xlink:href=\"#MalgunGothic-72\" x=\"86.474609\"/>\n      <use xlink:href=\"#MalgunGothic-67\" x=\"120.451172\"/>\n      <use xlink:href=\"#MalgunGothic-65\" x=\"180.65625\"/>\n      <use xlink:href=\"#MalgunGothic-74\" x=\"234.171875\"/>\n     </g>\n    </g>\n    <g id=\"PathCollection_5\">\n     <defs>\n      <path id=\"m98df0a62cc\" d=\"M 0 3 \nC 0.795609 3 1.55874 2.683901 2.12132 2.12132 \nC 2.683901 1.55874 3 0.795609 3 0 \nC 3 -0.795609 2.683901 -1.55874 2.12132 -2.12132 \nC 1.55874 -2.683901 0.795609 -3 0 -3 \nC -0.795609 -3 -1.55874 -2.683901 -2.12132 -2.12132 \nC -2.683901 -1.55874 -3 -0.795609 -3 0 \nC -3 0.795609 -2.683901 1.55874 -2.12132 2.12132 \nC -1.55874 2.683901 -0.795609 3 0 3 \nz\n\" style=\"stroke: #1f77b4\"/>\n     </defs>\n     <g>\n      <use xlink:href=\"#m98df0a62cc\" x=\"174.559375\" y=\"38.325384\" style=\"fill: #1f77b4; stroke: #1f77b4\"/>\n     </g>\n    </g>\n    <g id=\"text_13\">\n     <!-- Iris-setosa -->\n     <g transform=\"translate(192.559375 40.950384)scale(0.1 -0.1)\">\n      <use xlink:href=\"#MalgunGothic-49\"/>\n      <use xlink:href=\"#MalgunGothic-72\" x=\"27.001953\"/>\n      <use xlink:href=\"#MalgunGothic-69\" x=\"62.353516\"/>\n      <use xlink:href=\"#MalgunGothic-73\" x=\"86.962891\"/>\n      <use xlink:href=\"#MalgunGothic-2d\" x=\"130.273438\"/>\n      <use xlink:href=\"#MalgunGothic-73\" x=\"171.289062\"/>\n      <use xlink:href=\"#MalgunGothic-65\" x=\"214.599609\"/>\n      <use xlink:href=\"#MalgunGothic-74\" x=\"268.115234\"/>\n      <use xlink:href=\"#MalgunGothic-6f\" x=\"301.712891\"/>\n      <use xlink:href=\"#MalgunGothic-73\" x=\"361.625\"/>\n      <use xlink:href=\"#MalgunGothic-61\" x=\"404.935547\"/>\n     </g>\n    </g>\n    <g id=\"PathCollection_6\">\n     <defs>\n      <path id=\"m48439a65c4\" d=\"M 0 3 \nC 0.795609 3 1.55874 2.683901 2.12132 2.12132 \nC 2.683901 1.55874 3 0.795609 3 0 \nC 3 -0.795609 2.683901 -1.55874 2.12132 -2.12132 \nC 1.55874 -2.683901 0.795609 -3 0 -3 \nC -0.795609 -3 -1.55874 -2.683901 -2.12132 -2.12132 \nC -2.683901 -1.55874 -3 -0.795609 -3 0 \nC -3 0.795609 -2.683901 1.55874 -2.12132 2.12132 \nC -1.55874 2.683901 -0.795609 3 0 3 \nz\n\" style=\"stroke: #ff7f0e\"/>\n     </defs>\n     <g>\n      <use xlink:href=\"#m48439a65c4\" x=\"174.559375\" y=\"53.281634\" style=\"fill: #ff7f0e; stroke: #ff7f0e\"/>\n     </g>\n    </g>\n    <g id=\"text_14\">\n     <!-- Iris-versicolor -->\n     <g transform=\"translate(192.559375 55.906634)scale(0.1 -0.1)\">\n      <use xlink:href=\"#MalgunGothic-49\"/>\n      <use xlink:href=\"#MalgunGothic-72\" x=\"27.001953\"/>\n      <use xlink:href=\"#MalgunGothic-69\" x=\"62.353516\"/>\n      <use xlink:href=\"#MalgunGothic-73\" x=\"86.962891\"/>\n      <use xlink:href=\"#MalgunGothic-2d\" x=\"130.273438\"/>\n      <use xlink:href=\"#MalgunGothic-76\" x=\"171.289062\"/>\n      <use xlink:href=\"#MalgunGothic-65\" x=\"219.394531\"/>\n      <use xlink:href=\"#MalgunGothic-72\" x=\"272.910156\"/>\n      <use xlink:href=\"#MalgunGothic-73\" x=\"309.011719\"/>\n      <use xlink:href=\"#MalgunGothic-69\" x=\"352.322266\"/>\n      <use xlink:href=\"#MalgunGothic-63\" x=\"376.931641\"/>\n      <use xlink:href=\"#MalgunGothic-6f\" x=\"424.197266\"/>\n      <use xlink:href=\"#MalgunGothic-6c\" x=\"484.109375\"/>\n      <use xlink:href=\"#MalgunGothic-6f\" x=\"508.71875\"/>\n      <use xlink:href=\"#MalgunGothic-72\" x=\"568.630859\"/>\n     </g>\n    </g>\n    <g id=\"PathCollection_7\">\n     <defs>\n      <path id=\"m56fe705cb8\" d=\"M 0 3 \nC 0.795609 3 1.55874 2.683901 2.12132 2.12132 \nC 2.683901 1.55874 3 0.795609 3 0 \nC 3 -0.795609 2.683901 -1.55874 2.12132 -2.12132 \nC 1.55874 -2.683901 0.795609 -3 0 -3 \nC -0.795609 -3 -1.55874 -2.683901 -2.12132 -2.12132 \nC -2.683901 -1.55874 -3 -0.795609 -3 0 \nC -3 0.795609 -2.683901 1.55874 -2.12132 2.12132 \nC -1.55874 2.683901 -0.795609 3 0 3 \nz\n\" style=\"stroke: #2ca02c\"/>\n     </defs>\n     <g>\n      <use xlink:href=\"#m56fe705cb8\" x=\"174.559375\" y=\"68.237884\" style=\"fill: #2ca02c; stroke: #2ca02c\"/>\n     </g>\n    </g>\n    <g id=\"text_15\">\n     <!-- Iris-virginica -->\n     <g transform=\"translate(192.559375 70.862884)scale(0.1 -0.1)\">\n      <use xlink:href=\"#MalgunGothic-49\"/>\n      <use xlink:href=\"#MalgunGothic-72\" x=\"27.001953\"/>\n      <use xlink:href=\"#MalgunGothic-69\" x=\"62.353516\"/>\n      <use xlink:href=\"#MalgunGothic-73\" x=\"86.962891\"/>\n      <use xlink:href=\"#MalgunGothic-2d\" x=\"130.273438\"/>\n      <use xlink:href=\"#MalgunGothic-76\" x=\"171.289062\"/>\n      <use xlink:href=\"#MalgunGothic-69\" x=\"220.019531\"/>\n      <use xlink:href=\"#MalgunGothic-72\" x=\"244.628906\"/>\n      <use xlink:href=\"#MalgunGothic-67\" x=\"278.605469\"/>\n      <use xlink:href=\"#MalgunGothic-69\" x=\"338.810547\"/>\n      <use xlink:href=\"#MalgunGothic-6e\" x=\"363.419922\"/>\n      <use xlink:href=\"#MalgunGothic-69\" x=\"421.232422\"/>\n      <use xlink:href=\"#MalgunGothic-63\" x=\"445.841797\"/>\n      <use xlink:href=\"#MalgunGothic-61\" x=\"493.107422\"/>\n     </g>\n    </g>\n   </g>\n  </g>\n </g>\n <defs>\n  <clipPath id=\"p4d3e9d961a\">\n   <rect x=\"41.359375\" y=\"9.348821\" width=\"334.8\" height=\"217.44\"/>\n  </clipPath>\n </defs>\n</svg>\n",
      "text/plain": [
       "<Figure size 432x288 with 1 Axes>"
      ]
     },
     "metadata": {
      "needs_background": "light"
     },
     "output_type": "display_data"
    }
   ],
   "source": [
    "sns.scatterplot(data=iris, x='target', y='sepal width', hue='target')"
   ]
  },
  {
   "cell_type": "code",
   "execution_count": 32,
   "metadata": {},
   "outputs": [
    {
     "data": {
      "text/plain": [
       "(ShapiroResult(statistic=0.968691885471344, pvalue=0.20465604960918427),\n",
       " ShapiroResult(statistic=0.9741330742835999, pvalue=0.33798879384994507),\n",
       " ShapiroResult(statistic=0.9673910140991211, pvalue=0.1809043288230896))"
      ]
     },
     "execution_count": 32,
     "metadata": {},
     "output_type": "execute_result"
    }
   ],
   "source": [
    "# 정규성 검정 → 정규성 만족\n",
    "ss.shapiro(setosa), ss.shapiro(versicolor), ss.shapiro(virginica)"
   ]
  },
  {
   "cell_type": "code",
   "execution_count": 33,
   "metadata": {},
   "outputs": [
    {
     "data": {
      "text/plain": [
       "LeveneResult(statistic=0.6475222363405327, pvalue=0.5248269975064537)"
      ]
     },
     "execution_count": 33,
     "metadata": {},
     "output_type": "execute_result"
    }
   ],
   "source": [
    "# 등분산성 검정 → 등분산성 만족\n",
    "ss.levene(setosa, versicolor, virginica)"
   ]
  },
  {
   "cell_type": "code",
   "execution_count": 34,
   "metadata": {},
   "outputs": [
    {
     "data": {
      "text/plain": [
       "F_onewayResult(statistic=47.36446140299382, pvalue=1.3279165184572242e-16)"
      ]
     },
     "execution_count": 34,
     "metadata": {},
     "output_type": "execute_result"
    }
   ],
   "source": [
    "ss.f_oneway(setosa, versicolor, virginica)"
   ]
  },
  {
   "cell_type": "code",
   "execution_count": 38,
   "metadata": {},
   "outputs": [
    {
     "data": {
      "text/html": [
       "<table class=\"simpletable\">\n",
       "<caption>Multiple Comparison of Means - Tukey HSD, FWER=0.05</caption>\n",
       "<tr>\n",
       "      <th>group1</th>          <th>group2</th>      <th>meandiff</th> <th>p-adj</th>  <th>lower</th>   <th>upper</th>  <th>reject</th>\n",
       "</tr>\n",
       "<tr>\n",
       "    <td>Iris-setosa</td>   <td>Iris-versicolor</td>  <td>-0.648</td>   <td>0.0</td>  <td>-0.8092</td> <td>-0.4868</td>  <td>True</td> \n",
       "</tr>\n",
       "<tr>\n",
       "    <td>Iris-setosa</td>   <td>Iris-virginica</td>   <td>-0.444</td>   <td>0.0</td>  <td>-0.6052</td> <td>-0.2828</td>  <td>True</td> \n",
       "</tr>\n",
       "<tr>\n",
       "  <td>Iris-versicolor</td> <td>Iris-virginica</td>    <td>0.204</td>  <td>0.009</td> <td>0.0428</td>  <td>0.3652</td>   <td>True</td> \n",
       "</tr>\n",
       "</table>"
      ],
      "text/plain": [
       "<class 'statsmodels.iolib.table.SimpleTable'>"
      ]
     },
     "execution_count": 38,
     "metadata": {},
     "output_type": "execute_result"
    },
    {
     "data": {
      "image/svg+xml": "<?xml version=\"1.0\" encoding=\"utf-8\" standalone=\"no\"?>\n<!DOCTYPE svg PUBLIC \"-//W3C//DTD SVG 1.1//EN\"\n  \"http://www.w3.org/Graphics/SVG/1.1/DTD/svg11.dtd\">\n<svg xmlns:xlink=\"http://www.w3.org/1999/xlink\" width=\"639.8pt\" height=\"372.626875pt\" viewBox=\"0 0 639.8 372.626875\" xmlns=\"http://www.w3.org/2000/svg\" version=\"1.1\">\n <metadata>\n  <rdf:RDF xmlns:dc=\"http://purl.org/dc/elements/1.1/\" xmlns:cc=\"http://creativecommons.org/ns#\" xmlns:rdf=\"http://www.w3.org/1999/02/22-rdf-syntax-ns#\">\n   <cc:Work>\n    <dc:type rdf:resource=\"http://purl.org/dc/dcmitype/StillImage\"/>\n    <dc:date>2023-01-08T00:55:22.883918</dc:date>\n    <dc:format>image/svg+xml</dc:format>\n    <dc:creator>\n     <cc:Agent>\n      <dc:title>Matplotlib v3.5.1, https://matplotlib.org/</dc:title>\n     </cc:Agent>\n    </dc:creator>\n   </cc:Work>\n  </rdf:RDF>\n </metadata>\n <defs>\n  <style type=\"text/css\">*{stroke-linejoin: round; stroke-linecap: butt}</style>\n </defs>\n <g id=\"figure_1\">\n  <g id=\"patch_1\">\n   <path d=\"M 0 372.626875 \nL 639.8 372.626875 \nL 639.8 0 \nL 0 0 \nL 0 372.626875 \nz\n\" style=\"fill: none\"/>\n  </g>\n  <g id=\"axes_1\">\n   <g id=\"patch_2\">\n    <path d=\"M 74.6 348.470625 \nL 632.6 348.470625 \nL 632.6 22.310625 \nL 74.6 22.310625 \nz\n\" style=\"fill: #ffffff\"/>\n   </g>\n   <g id=\"matplotlib.axis_1\">\n    <g id=\"xtick_1\">\n     <g id=\"line2d_1\">\n      <defs>\n       <path id=\"m78c8603e0c\" d=\"M 0 0 \nL 0 3.5 \n\" style=\"stroke: #000000; stroke-width: 0.8\"/>\n      </defs>\n      <g>\n       <use xlink:href=\"#m78c8603e0c\" x=\"184.655582\" y=\"348.470625\" style=\"stroke: #000000; stroke-width: 0.8\"/>\n      </g>\n     </g>\n     <g id=\"text_1\">\n      <!-- 2.8 -->\n      <g transform=\"translate(178.054019 363.062813)scale(0.1 -0.1)\">\n       <defs>\n        <path id=\"MalgunGothic-32\" d=\"M 2519 3372 \nQ 2519 3784 2275 4018 \nQ 2031 4253 1628 4253 \nQ 1341 4253 1053 4104 \nQ 766 3956 534 3697 \nL 534 4234 \nQ 981 4675 1691 4675 \nQ 2281 4675 2642 4334 \nQ 3003 3994 3003 3416 \nQ 3003 2919 2772 2545 \nQ 2541 2172 1984 1775 \nQ 1459 1406 1254 1215 \nQ 1050 1025 967 854 \nQ 884 684 884 450 \nL 3116 450 \nL 3116 0 \nL 356 0 \nL 356 225 \nQ 356 603 461 870 \nQ 566 1138 811 1392 \nQ 1056 1647 1597 2022 \nQ 2091 2363 2305 2670 \nQ 2519 2978 2519 3372 \nz\n\" transform=\"scale(0.015625)\"/>\n        <path id=\"MalgunGothic-2e\" d=\"M 356 275 \nQ 356 422 459 523 \nQ 563 625 700 625 \nQ 838 625 941 523 \nQ 1044 422 1044 275 \nQ 1044 138 942 33 \nQ 841 -72 700 -72 \nQ 559 -72 457 29 \nQ 356 131 356 275 \nz\n\" transform=\"scale(0.015625)\"/>\n        <path id=\"MalgunGothic-38\" d=\"M 303 1281 \nQ 303 1669 539 2011 \nQ 775 2353 1153 2494 \nQ 856 2647 675 2915 \nQ 494 3184 494 3500 \nQ 494 3828 659 4098 \nQ 825 4369 1122 4522 \nQ 1419 4675 1778 4675 \nQ 2334 4675 2700 4342 \nQ 3066 4009 3066 3500 \nQ 3066 3181 2881 2914 \nQ 2697 2647 2413 2494 \nQ 2788 2350 3022 2009 \nQ 3256 1669 3256 1281 \nQ 3256 672 2843 297 \nQ 2431 -78 1778 -78 \nQ 1131 -78 717 301 \nQ 303 681 303 1281 \nz\nM 809 1328 \nQ 809 878 1081 611 \nQ 1353 344 1781 344 \nQ 2206 344 2482 619 \nQ 2759 894 2759 1328 \nQ 2759 1731 2482 2011 \nQ 2206 2291 1781 2291 \nQ 1372 2291 1090 2020 \nQ 809 1750 809 1328 \nz\nM 1003 3459 \nQ 1003 3125 1234 2900 \nQ 1466 2675 1781 2675 \nQ 2097 2675 2330 2900 \nQ 2563 3125 2563 3459 \nQ 2563 3803 2341 4026 \nQ 2119 4250 1781 4250 \nQ 1450 4250 1226 4029 \nQ 1003 3809 1003 3459 \nz\n\" transform=\"scale(0.015625)\"/>\n       </defs>\n       <use xlink:href=\"#MalgunGothic-32\"/>\n       <use xlink:href=\"#MalgunGothic-2e\" x=\"55.078125\"/>\n       <use xlink:href=\"#MalgunGothic-38\" x=\"76.953125\"/>\n      </g>\n     </g>\n    </g>\n    <g id=\"xtick_2\">\n     <g id=\"line2d_2\">\n      <g>\n       <use xlink:href=\"#m78c8603e0c\" x=\"299.583757\" y=\"348.470625\" style=\"stroke: #000000; stroke-width: 0.8\"/>\n      </g>\n     </g>\n     <g id=\"text_2\">\n      <!-- 3.0 -->\n      <g transform=\"translate(292.982195 363.062813)scale(0.1 -0.1)\">\n       <defs>\n        <path id=\"MalgunGothic-33\" d=\"M 416 719 \nQ 891 344 1478 344 \nQ 1959 344 2254 587 \nQ 2550 831 2550 1247 \nQ 2550 2169 1253 2169 \nL 872 2169 \nL 872 2591 \nL 1234 2591 \nQ 2388 2591 2388 3453 \nQ 2388 4250 1509 4250 \nQ 1022 4250 594 3916 \nL 594 4413 \nQ 1031 4675 1634 4675 \nQ 2184 4675 2539 4372 \nQ 2894 4069 2894 3581 \nQ 2894 2678 1972 2409 \nL 1972 2400 \nQ 2469 2356 2764 2053 \nQ 3059 1750 3059 1300 \nQ 3059 672 2604 297 \nQ 2150 -78 1450 -78 \nQ 806 -78 416 169 \nL 416 719 \nz\n\" transform=\"scale(0.015625)\"/>\n        <path id=\"MalgunGothic-30\" d=\"M 278 2206 \nQ 278 3425 675 4050 \nQ 1072 4675 1819 4675 \nQ 3253 4675 3253 2319 \nQ 3253 1156 2854 539 \nQ 2456 -78 1716 -78 \nQ 1016 -78 647 520 \nQ 278 1119 278 2206 \nz\nM 784 2231 \nQ 784 344 1769 344 \nQ 2747 344 2747 2259 \nQ 2747 4250 1794 4250 \nQ 784 4250 784 2231 \nz\n\" transform=\"scale(0.015625)\"/>\n       </defs>\n       <use xlink:href=\"#MalgunGothic-33\"/>\n       <use xlink:href=\"#MalgunGothic-2e\" x=\"55.078125\"/>\n       <use xlink:href=\"#MalgunGothic-30\" x=\"76.953125\"/>\n      </g>\n     </g>\n    </g>\n    <g id=\"xtick_3\">\n     <g id=\"line2d_3\">\n      <g>\n       <use xlink:href=\"#m78c8603e0c\" x=\"414.511933\" y=\"348.470625\" style=\"stroke: #000000; stroke-width: 0.8\"/>\n      </g>\n     </g>\n     <g id=\"text_3\">\n      <!-- 3.2 -->\n      <g transform=\"translate(407.910371 363.062813)scale(0.1 -0.1)\">\n       <use xlink:href=\"#MalgunGothic-33\"/>\n       <use xlink:href=\"#MalgunGothic-2e\" x=\"55.078125\"/>\n       <use xlink:href=\"#MalgunGothic-32\" x=\"76.953125\"/>\n      </g>\n     </g>\n    </g>\n    <g id=\"xtick_4\">\n     <g id=\"line2d_4\">\n      <g>\n       <use xlink:href=\"#m78c8603e0c\" x=\"529.440109\" y=\"348.470625\" style=\"stroke: #000000; stroke-width: 0.8\"/>\n      </g>\n     </g>\n     <g id=\"text_4\">\n      <!-- 3.4 -->\n      <g transform=\"translate(522.838547 363.062813)scale(0.1 -0.1)\">\n       <defs>\n        <path id=\"MalgunGothic-34\" d=\"M 2703 4600 \nL 2703 1563 \nL 3309 1563 \nL 3309 1113 \nL 2703 1113 \nL 2703 0 \nL 2213 0 \nL 2213 1113 \nL 50 1113 \nL 50 1534 \nQ 728 2297 1295 3109 \nQ 1863 3922 2172 4600 \nL 2703 4600 \nz\nM 625 1563 \nL 2213 1563 \nL 2213 3831 \nQ 1613 2788 959 1981 \nL 625 1563 \nz\n\" transform=\"scale(0.015625)\"/>\n       </defs>\n       <use xlink:href=\"#MalgunGothic-33\"/>\n       <use xlink:href=\"#MalgunGothic-2e\" x=\"55.078125\"/>\n       <use xlink:href=\"#MalgunGothic-34\" x=\"76.953125\"/>\n      </g>\n     </g>\n    </g>\n   </g>\n   <g id=\"matplotlib.axis_2\">\n    <g id=\"ytick_1\">\n     <g id=\"line2d_5\">\n      <defs>\n       <path id=\"mbbfa419438\" d=\"M 0 0 \nL -3.5 0 \n\" style=\"stroke: #000000; stroke-width: 0.8\"/>\n      </defs>\n      <g>\n       <use xlink:href=\"#mbbfa419438\" x=\"74.6\" y=\"348.470625\" style=\"stroke: #000000; stroke-width: 0.8\"/>\n      </g>\n     </g>\n    </g>\n    <g id=\"ytick_2\">\n     <g id=\"line2d_6\">\n      <g>\n       <use xlink:href=\"#mbbfa419438\" x=\"74.6\" y=\"266.930625\" style=\"stroke: #000000; stroke-width: 0.8\"/>\n      </g>\n     </g>\n     <g id=\"text_5\">\n      <!-- Iris-setosa -->\n      <g transform=\"translate(21.90625 270.726719)scale(0.1 -0.1)\">\n       <defs>\n        <path id=\"MalgunGothic-49\" d=\"M 1116 0 \nL 613 0 \nL 613 4600 \nL 1116 4600 \nL 1116 0 \nz\n\" transform=\"scale(0.015625)\"/>\n        <path id=\"MalgunGothic-72\" d=\"M 2225 2775 \nQ 2084 2881 1828 2881 \nQ 1491 2881 1262 2553 \nQ 1034 2225 1034 1681 \nL 1034 0 \nL 538 0 \nL 538 3284 \nL 1034 3284 \nL 1034 2603 \nL 1047 2603 \nQ 1159 2950 1389 3145 \nQ 1619 3341 1903 3341 \nQ 2109 3341 2225 3297 \nL 2225 2775 \nz\n\" transform=\"scale(0.015625)\"/>\n        <path id=\"MalgunGothic-69\" d=\"M 472 4466 \nQ 472 4606 565 4701 \nQ 659 4797 794 4797 \nQ 934 4797 1029 4700 \nQ 1125 4603 1125 4466 \nQ 1125 4325 1029 4231 \nQ 934 4138 794 4138 \nQ 659 4138 565 4230 \nQ 472 4322 472 4466 \nz\nM 541 0 \nL 541 3284 \nL 1034 3284 \nL 1034 0 \nL 541 0 \nz\n\" transform=\"scale(0.015625)\"/>\n        <path id=\"MalgunGothic-73\" d=\"M 331 669 \nQ 763 350 1278 350 \nQ 1978 350 1978 822 \nQ 1978 1025 1825 1158 \nQ 1672 1291 1222 1459 \nQ 703 1666 520 1878 \nQ 338 2091 338 2416 \nQ 338 2834 700 3096 \nQ 1063 3359 1584 3359 \nQ 2003 3359 2341 3213 \nL 2341 2697 \nQ 1975 2934 1506 2934 \nQ 1200 2934 1025 2798 \nQ 850 2663 850 2459 \nQ 850 2241 979 2125 \nQ 1109 2009 1544 1838 \nQ 2131 1609 2309 1390 \nQ 2488 1172 2488 869 \nQ 2488 431 2127 176 \nQ 1766 -78 1203 -78 \nQ 694 -78 331 122 \nL 331 669 \nz\n\" transform=\"scale(0.015625)\"/>\n        <path id=\"MalgunGothic-2d\" d=\"M 2213 1634 \nL 463 1634 \nL 463 2031 \nL 2213 2031 \nL 2213 1634 \nz\n\" transform=\"scale(0.015625)\"/>\n        <path id=\"MalgunGothic-65\" d=\"M 3156 1519 \nL 828 1519 \nQ 844 950 1133 648 \nQ 1422 347 1909 347 \nQ 2472 347 2934 719 \nL 2934 244 \nQ 2494 -78 1794 -78 \nQ 1100 -78 708 376 \nQ 316 831 316 1634 \nQ 316 2381 747 2870 \nQ 1178 3359 1816 3359 \nQ 2453 3359 2804 2942 \nQ 3156 2525 3156 1788 \nL 3156 1519 \nz\nM 2644 1956 \nQ 2644 2416 2423 2675 \nQ 2203 2934 1809 2934 \nQ 1438 2934 1169 2667 \nQ 900 2400 834 1956 \nL 2644 1956 \nz\n\" transform=\"scale(0.015625)\"/>\n        <path id=\"MalgunGothic-74\" d=\"M 2031 31 \nQ 1844 -72 1553 -72 \nQ 706 -72 706 881 \nL 706 2856 \nL 138 2856 \nL 138 3284 \nL 706 3284 \nL 706 4091 \nL 1200 4250 \nL 1200 3284 \nL 2031 3284 \nL 2031 2856 \nL 1200 2856 \nL 1200 972 \nQ 1200 625 1315 487 \nQ 1431 350 1691 350 \nQ 1888 350 2031 459 \nL 2031 31 \nz\n\" transform=\"scale(0.015625)\"/>\n        <path id=\"MalgunGothic-6f\" d=\"M 316 1600 \nQ 316 2419 761 2889 \nQ 1206 3359 1978 3359 \nQ 2697 3359 3111 2907 \nQ 3525 2456 3525 1650 \nQ 3525 869 3078 395 \nQ 2631 -78 1900 -78 \nQ 1184 -78 750 384 \nQ 316 847 316 1600 \nz\nM 819 1622 \nQ 819 1041 1123 692 \nQ 1428 344 1934 344 \nQ 2459 344 2739 680 \nQ 3019 1016 3019 1634 \nQ 3019 2256 2737 2598 \nQ 2456 2941 1934 2941 \nQ 1425 2941 1122 2587 \nQ 819 2234 819 1622 \nz\n\" transform=\"scale(0.015625)\"/>\n        <path id=\"MalgunGothic-61\" d=\"M 616 3050 \nQ 1097 3359 1722 3359 \nQ 2866 3359 2866 2147 \nL 2866 0 \nL 2369 0 \nL 2369 516 \nL 2350 516 \nQ 2009 -78 1341 -78 \nQ 859 -78 576 180 \nQ 294 438 294 869 \nQ 294 1784 1375 1934 \nL 2366 2078 \nQ 2366 2934 1684 2934 \nQ 1084 2934 616 2525 \nL 616 3050 \nz\nM 1563 1559 \nQ 1178 1509 993 1371 \nQ 809 1234 809 903 \nQ 809 653 986 500 \nQ 1163 347 1450 347 \nQ 1847 347 2106 628 \nQ 2366 909 2366 1334 \nL 2366 1666 \nL 1563 1559 \nz\n\" transform=\"scale(0.015625)\"/>\n       </defs>\n       <use xlink:href=\"#MalgunGothic-49\"/>\n       <use xlink:href=\"#MalgunGothic-72\" x=\"27.001953\"/>\n       <use xlink:href=\"#MalgunGothic-69\" x=\"62.353516\"/>\n       <use xlink:href=\"#MalgunGothic-73\" x=\"86.962891\"/>\n       <use xlink:href=\"#MalgunGothic-2d\" x=\"130.273438\"/>\n       <use xlink:href=\"#MalgunGothic-73\" x=\"171.289062\"/>\n       <use xlink:href=\"#MalgunGothic-65\" x=\"214.599609\"/>\n       <use xlink:href=\"#MalgunGothic-74\" x=\"268.115234\"/>\n       <use xlink:href=\"#MalgunGothic-6f\" x=\"301.712891\"/>\n       <use xlink:href=\"#MalgunGothic-73\" x=\"361.625\"/>\n       <use xlink:href=\"#MalgunGothic-61\" x=\"404.935547\"/>\n      </g>\n     </g>\n    </g>\n    <g id=\"ytick_3\">\n     <g id=\"line2d_7\">\n      <g>\n       <use xlink:href=\"#mbbfa419438\" x=\"74.6\" y=\"185.390625\" style=\"stroke: #000000; stroke-width: 0.8\"/>\n      </g>\n     </g>\n     <g id=\"text_6\">\n      <!-- Iris-versicolor -->\n      <g transform=\"translate(7.2 189.186719)scale(0.1 -0.1)\">\n       <defs>\n        <path id=\"MalgunGothic-76\" d=\"M 3084 3284 \nL 1769 0 \nL 1294 0 \nL 47 3284 \nL 594 3284 \nL 1441 872 \nQ 1531 609 1556 425 \nL 1572 425 \nQ 1603 669 1672 863 \nL 2563 3284 \nL 3084 3284 \nz\n\" transform=\"scale(0.015625)\"/>\n        <path id=\"MalgunGothic-63\" d=\"M 2763 153 \nQ 2375 -78 1872 -78 \nQ 1184 -78 750 372 \nQ 316 822 316 1566 \nQ 316 2381 777 2870 \nQ 1238 3359 2009 3359 \nQ 2434 3359 2766 3200 \nL 2766 2681 \nQ 2397 2941 1981 2941 \nQ 1478 2941 1148 2577 \nQ 819 2213 819 1609 \nQ 819 1034 1120 689 \nQ 1422 344 1947 344 \nQ 2381 344 2763 631 \nL 2763 153 \nz\n\" transform=\"scale(0.015625)\"/>\n        <path id=\"MalgunGothic-6c\" d=\"M 541 0 \nL 541 4859 \nL 1034 4859 \nL 1034 0 \nL 541 0 \nz\n\" transform=\"scale(0.015625)\"/>\n       </defs>\n       <use xlink:href=\"#MalgunGothic-49\"/>\n       <use xlink:href=\"#MalgunGothic-72\" x=\"27.001953\"/>\n       <use xlink:href=\"#MalgunGothic-69\" x=\"62.353516\"/>\n       <use xlink:href=\"#MalgunGothic-73\" x=\"86.962891\"/>\n       <use xlink:href=\"#MalgunGothic-2d\" x=\"130.273438\"/>\n       <use xlink:href=\"#MalgunGothic-76\" x=\"171.289062\"/>\n       <use xlink:href=\"#MalgunGothic-65\" x=\"219.394531\"/>\n       <use xlink:href=\"#MalgunGothic-72\" x=\"272.910156\"/>\n       <use xlink:href=\"#MalgunGothic-73\" x=\"309.011719\"/>\n       <use xlink:href=\"#MalgunGothic-69\" x=\"352.322266\"/>\n       <use xlink:href=\"#MalgunGothic-63\" x=\"376.931641\"/>\n       <use xlink:href=\"#MalgunGothic-6f\" x=\"424.197266\"/>\n       <use xlink:href=\"#MalgunGothic-6c\" x=\"484.109375\"/>\n       <use xlink:href=\"#MalgunGothic-6f\" x=\"508.71875\"/>\n       <use xlink:href=\"#MalgunGothic-72\" x=\"568.630859\"/>\n      </g>\n     </g>\n    </g>\n    <g id=\"ytick_4\">\n     <g id=\"line2d_8\">\n      <g>\n       <use xlink:href=\"#mbbfa419438\" x=\"74.6\" y=\"103.850625\" style=\"stroke: #000000; stroke-width: 0.8\"/>\n      </g>\n     </g>\n     <g id=\"text_7\">\n      <!-- Iris-virginica -->\n      <g transform=\"translate(13.0875 107.620156)scale(0.1 -0.1)\">\n       <defs>\n        <path id=\"MalgunGothic-67\" d=\"M 3313 259 \nQ 3313 -1547 1603 -1547 \nQ 1003 -1547 538 -1313 \nL 538 -806 \nQ 1088 -1116 1600 -1116 \nQ 2822 -1116 2822 194 \nL 2822 559 \nL 2809 559 \nQ 2422 -78 1675 -78 \nQ 1066 -78 691 362 \nQ 316 803 316 1534 \nQ 316 2375 722 2867 \nQ 1128 3359 1816 3359 \nQ 2484 3359 2809 2822 \nL 2822 2822 \nL 2822 3284 \nL 3313 3284 \nL 3313 259 \nz\nM 2822 1978 \nQ 2822 2378 2547 2659 \nQ 2272 2941 1878 2941 \nQ 1384 2941 1101 2577 \nQ 819 2213 819 1572 \nQ 819 1016 1092 680 \nQ 1366 344 1803 344 \nQ 2247 344 2534 666 \nQ 2822 988 2822 1478 \nL 2822 1978 \nz\n\" transform=\"scale(0.015625)\"/>\n        <path id=\"MalgunGothic-6e\" d=\"M 3238 0 \nL 2741 0 \nL 2741 1875 \nQ 2741 2941 1963 2941 \nQ 1563 2941 1298 2639 \nQ 1034 2338 1034 1872 \nL 1034 0 \nL 538 0 \nL 538 3284 \nL 1034 3284 \nL 1034 2734 \nL 1047 2734 \nQ 1416 3359 2125 3359 \nQ 2666 3359 2952 3012 \nQ 3238 2666 3238 2006 \nL 3238 0 \nz\n\" transform=\"scale(0.015625)\"/>\n       </defs>\n       <use xlink:href=\"#MalgunGothic-49\"/>\n       <use xlink:href=\"#MalgunGothic-72\" x=\"27.001953\"/>\n       <use xlink:href=\"#MalgunGothic-69\" x=\"62.353516\"/>\n       <use xlink:href=\"#MalgunGothic-73\" x=\"86.962891\"/>\n       <use xlink:href=\"#MalgunGothic-2d\" x=\"130.273438\"/>\n       <use xlink:href=\"#MalgunGothic-76\" x=\"171.289062\"/>\n       <use xlink:href=\"#MalgunGothic-69\" x=\"220.019531\"/>\n       <use xlink:href=\"#MalgunGothic-72\" x=\"244.628906\"/>\n       <use xlink:href=\"#MalgunGothic-67\" x=\"278.605469\"/>\n       <use xlink:href=\"#MalgunGothic-69\" x=\"338.810547\"/>\n       <use xlink:href=\"#MalgunGothic-6e\" x=\"363.419922\"/>\n       <use xlink:href=\"#MalgunGothic-69\" x=\"421.232422\"/>\n       <use xlink:href=\"#MalgunGothic-63\" x=\"445.841797\"/>\n       <use xlink:href=\"#MalgunGothic-61\" x=\"493.107422\"/>\n      </g>\n     </g>\n    </g>\n    <g id=\"ytick_5\">\n     <g id=\"line2d_9\">\n      <g>\n       <use xlink:href=\"#mbbfa419438\" x=\"74.6\" y=\"22.310625\" style=\"stroke: #000000; stroke-width: 0.8\"/>\n      </g>\n     </g>\n    </g>\n   </g>\n   <g id=\"LineCollection_1\">\n    <path d=\"M 493.46729 266.930625 \nL 586.1 266.930625 \n\" clip-path=\"url(#p253bcad93a)\" style=\"fill: none; stroke: #000000; stroke-width: 1.5\"/>\n    <path d=\"M 121.1 185.390625 \nL 213.73271 185.390625 \n\" clip-path=\"url(#p253bcad93a)\" style=\"fill: none; stroke: #000000; stroke-width: 1.5\"/>\n    <path d=\"M 238.326739 103.850625 \nL 330.95945 103.850625 \n\" clip-path=\"url(#p253bcad93a)\" style=\"fill: none; stroke: #000000; stroke-width: 1.5\"/>\n   </g>\n   <g id=\"line2d_10\">\n    <defs>\n     <path id=\"mb285756082\" d=\"M 0 3 \nC 0.795609 3 1.55874 2.683901 2.12132 2.12132 \nC 2.683901 1.55874 3 0.795609 3 0 \nC 3 -0.795609 2.683901 -1.55874 2.12132 -2.12132 \nC 1.55874 -2.683901 0.795609 -3 0 -3 \nC -0.795609 -3 -1.55874 -2.683901 -2.12132 -2.12132 \nC -2.683901 -1.55874 -3 -0.795609 -3 0 \nC -3 0.795609 -2.683901 1.55874 -2.12132 2.12132 \nC -1.55874 2.683901 -0.795609 3 0 3 \nz\n\" style=\"stroke: #000000\"/>\n    </defs>\n    <g clip-path=\"url(#p253bcad93a)\">\n     <use xlink:href=\"#mb285756082\" x=\"539.783645\" y=\"266.930625\" style=\"stroke: #000000\"/>\n     <use xlink:href=\"#mb285756082\" x=\"167.416355\" y=\"185.390625\" style=\"stroke: #000000\"/>\n     <use xlink:href=\"#mb285756082\" x=\"284.643095\" y=\"103.850625\" style=\"stroke: #000000\"/>\n    </g>\n   </g>\n   <g id=\"patch_3\">\n    <path d=\"M 74.6 348.470625 \nL 74.6 22.310625 \n\" style=\"fill: none; stroke: #000000; stroke-width: 0.8; stroke-linejoin: miter; stroke-linecap: square\"/>\n   </g>\n   <g id=\"patch_4\">\n    <path d=\"M 632.6 348.470625 \nL 632.6 22.310625 \n\" style=\"fill: none; stroke: #000000; stroke-width: 0.8; stroke-linejoin: miter; stroke-linecap: square\"/>\n   </g>\n   <g id=\"patch_5\">\n    <path d=\"M 74.6 348.470625 \nL 632.6 348.470625 \n\" style=\"fill: none; stroke: #000000; stroke-width: 0.8; stroke-linejoin: miter; stroke-linecap: square\"/>\n   </g>\n   <g id=\"patch_6\">\n    <path d=\"M 74.6 22.310625 \nL 632.6 22.310625 \n\" style=\"fill: none; stroke: #000000; stroke-width: 0.8; stroke-linejoin: miter; stroke-linecap: square\"/>\n   </g>\n   <g id=\"text_8\">\n    <!-- Multiple Comparisons Between All Pairs (Tukey) -->\n    <g transform=\"translate(224.209063 16.310625)scale(0.12 -0.12)\">\n     <defs>\n      <path id=\"MalgunGothic-4d\" d=\"M 4756 0 \nL 4756 3106 \nQ 4756 3466 4803 3994 \nL 4788 3994 \nQ 4713 3684 4653 3559 \nL 3050 0 \nL 2822 0 \nL 1222 3534 \nQ 1159 3669 1091 3994 \nL 1075 3994 \nQ 1100 3822 1100 3116 \nL 1100 0 \nL 609 0 \nL 609 4600 \nL 1269 4600 \nL 2706 1359 \nQ 2881 966 2922 816 \nL 2941 816 \nQ 2988 944 3166 1375 \nL 4638 4600 \nL 5259 4600 \nL 5259 0 \nL 4756 0 \nz\n\" transform=\"scale(0.015625)\"/>\n      <path id=\"MalgunGothic-75\" d=\"M 3166 0 \nL 2669 0 \nL 2669 519 \nL 2656 519 \nQ 2331 -78 1644 -78 \nQ 469 -78 469 1322 \nL 469 3284 \nL 959 3284 \nL 959 1403 \nQ 959 344 1766 344 \nQ 2159 344 2414 636 \nQ 2669 928 2669 1394 \nL 2669 3284 \nL 3166 3284 \nL 3166 0 \nz\n\" transform=\"scale(0.015625)\"/>\n      <path id=\"MalgunGothic-70\" d=\"M 1034 481 \nL 1034 -1513 \nL 538 -1513 \nL 538 3284 \nL 1034 3284 \nL 1034 2703 \nL 1047 2703 \nQ 1438 3359 2184 3359 \nQ 2809 3359 3171 2920 \nQ 3534 2481 3534 1738 \nQ 3534 906 3126 414 \nQ 2719 -78 2034 -78 \nQ 1394 -78 1047 481 \nL 1034 481 \nz\nM 1034 1331 \nQ 1034 922 1307 633 \nQ 1581 344 1991 344 \nQ 2475 344 2751 716 \nQ 3028 1088 3028 1753 \nQ 3028 2300 2767 2620 \nQ 2506 2941 2072 2941 \nQ 1619 2941 1326 2619 \nQ 1034 2297 1034 1806 \nL 1034 1331 \nz\n\" transform=\"scale(0.015625)\"/>\n      <path id=\"MalgunGothic-20\" transform=\"scale(0.015625)\"/>\n      <path id=\"MalgunGothic-43\" d=\"M 3725 197 \nQ 3216 -78 2459 -78 \nQ 1488 -78 897 561 \nQ 306 1200 306 2213 \nQ 306 3281 959 3978 \nQ 1613 4675 2644 4675 \nQ 3297 4675 3725 4484 \nL 3725 3941 \nQ 3234 4213 2634 4213 \nQ 1813 4213 1325 3659 \nQ 838 3106 838 2241 \nQ 838 1413 1297 897 \nQ 1756 381 2522 381 \nQ 3216 381 3725 688 \nL 3725 197 \nz\n\" transform=\"scale(0.015625)\"/>\n      <path id=\"MalgunGothic-6d\" d=\"M 5166 0 \nL 4669 0 \nL 4669 1884 \nQ 4669 2463 4495 2702 \nQ 4322 2941 3922 2941 \nQ 3584 2941 3342 2623 \nQ 3100 2306 3100 1875 \nL 3100 0 \nL 2606 0 \nL 2606 1953 \nQ 2606 2941 1844 2941 \nQ 1497 2941 1265 2642 \nQ 1034 2344 1034 1875 \nL 1034 0 \nL 538 0 \nL 538 3284 \nL 1034 3284 \nL 1034 2763 \nL 1047 2763 \nQ 1391 3359 2063 3359 \nQ 2381 3359 2636 3176 \nQ 2891 2994 2991 2675 \nQ 3356 3359 4081 3359 \nQ 5166 3359 5166 2022 \nL 5166 0 \nz\n\" transform=\"scale(0.015625)\"/>\n      <path id=\"MalgunGothic-42\" d=\"M 609 0 \nL 609 4600 \nL 1894 4600 \nQ 2466 4600 2817 4311 \nQ 3169 4022 3169 3547 \nQ 3169 3166 2961 2870 \nQ 2753 2575 2378 2453 \nL 2378 2441 \nQ 2844 2391 3122 2089 \nQ 3400 1788 3400 1319 \nQ 3400 731 2978 365 \nQ 2556 0 1919 0 \nL 609 0 \nz\nM 1113 4128 \nL 1113 2619 \nL 1672 2619 \nQ 2134 2619 2387 2839 \nQ 2641 3059 2641 3447 \nQ 2641 4128 1750 4128 \nL 1113 4128 \nz\nM 1113 2153 \nL 1113 469 \nL 1859 469 \nQ 2334 469 2603 698 \nQ 2872 928 2872 1325 \nQ 2872 2153 1738 2153 \nL 1113 2153 \nz\n\" transform=\"scale(0.015625)\"/>\n      <path id=\"MalgunGothic-77\" d=\"M 4634 3284 \nL 3650 0 \nL 3134 0 \nL 2447 2378 \nQ 2409 2506 2397 2675 \nL 2384 2675 \nQ 2384 2609 2316 2384 \nL 1572 0 \nL 1078 0 \nL 81 3284 \nL 600 3284 \nL 1294 794 \nQ 1325 681 1338 503 \nL 1363 503 \nQ 1378 656 1422 800 \nL 2191 3284 \nL 2644 3284 \nL 3334 788 \nQ 3359 700 3381 497 \nL 3409 497 \nQ 3416 631 3463 788 \nL 4144 3284 \nL 4634 3284 \nz\n\" transform=\"scale(0.015625)\"/>\n      <path id=\"MalgunGothic-41\" d=\"M 4134 0 \nL 3575 0 \nL 3075 1306 \nL 1103 1306 \nL 638 0 \nL 75 0 \nL 1844 4600 \nL 2356 4600 \nL 4134 0 \nz\nM 2903 1769 \nL 2169 3756 \nQ 2128 3866 2100 4059 \nL 2084 4059 \nQ 2050 3844 2009 3756 \nL 1281 1769 \nL 2903 1769 \nz\n\" transform=\"scale(0.015625)\"/>\n      <path id=\"MalgunGothic-50\" d=\"M 1113 1747 \nL 1113 0 \nL 609 0 \nL 609 4600 \nL 1850 4600 \nQ 2575 4600 2979 4240 \nQ 3384 3881 3384 3231 \nQ 3384 2559 2909 2140 \nQ 2434 1722 1728 1747 \nL 1113 1747 \nz\nM 1113 4131 \nL 1113 2219 \nL 1691 2219 \nQ 2256 2219 2554 2475 \nQ 2853 2731 2853 3206 \nQ 2853 4131 1759 4131 \nL 1113 4131 \nz\n\" transform=\"scale(0.015625)\"/>\n      <path id=\"MalgunGothic-28\" d=\"M 1438 -1044 \nQ 447 88 447 1753 \nQ 447 3431 1438 4600 \nL 1888 4600 \nQ 878 3372 878 1759 \nQ 878 153 1881 -1044 \nL 1438 -1044 \nz\n\" transform=\"scale(0.015625)\"/>\n      <path id=\"MalgunGothic-54\" d=\"M 3294 4134 \nL 1966 4134 \nL 1966 0 \nL 1456 0 \nL 1456 4134 \nL 134 4134 \nL 134 4600 \nL 3294 4600 \nL 3294 4134 \nz\n\" transform=\"scale(0.015625)\"/>\n      <path id=\"MalgunGothic-6b\" d=\"M 3228 0 \nL 2525 0 \nL 1047 1575 \nL 1034 1575 \nL 1034 0 \nL 538 0 \nL 538 4859 \nL 1034 4859 \nL 1034 1778 \nL 1047 1778 \nL 2450 3284 \nL 3106 3284 \nL 1563 1694 \nL 3228 0 \nz\n\" transform=\"scale(0.015625)\"/>\n      <path id=\"MalgunGothic-79\" d=\"M 3119 3284 \nL 1597 -544 \nQ 1197 -1547 481 -1547 \nQ 313 -1547 156 -1509 \nL 156 -1056 \nQ 316 -1109 459 -1109 \nQ 859 -1109 1059 -628 \nL 1328 6 \nL 47 3284 \nL 597 3284 \nL 1503 722 \nQ 1513 697 1572 488 \nL 1588 488 \nL 1650 716 \nL 2603 3284 \nL 3119 3284 \nz\n\" transform=\"scale(0.015625)\"/>\n      <path id=\"MalgunGothic-29\" d=\"M 81 -1044 \nQ 1081 150 1081 1759 \nQ 1081 3378 72 4600 \nL 525 4600 \nQ 1522 3431 1522 1753 \nQ 1522 88 525 -1044 \nL 81 -1044 \nz\n\" transform=\"scale(0.015625)\"/>\n     </defs>\n     <use xlink:href=\"#MalgunGothic-4d\"/>\n     <use xlink:href=\"#MalgunGothic-75\" x=\"91.699219\"/>\n     <use xlink:href=\"#MalgunGothic-6c\" x=\"149.511719\"/>\n     <use xlink:href=\"#MalgunGothic-74\" x=\"174.121094\"/>\n     <use xlink:href=\"#MalgunGothic-69\" x=\"208.59375\"/>\n     <use xlink:href=\"#MalgunGothic-70\" x=\"233.203125\"/>\n     <use xlink:href=\"#MalgunGothic-6c\" x=\"293.261719\"/>\n     <use xlink:href=\"#MalgunGothic-65\" x=\"317.871094\"/>\n     <use xlink:href=\"#MalgunGothic-20\" x=\"371.386719\"/>\n     <use xlink:href=\"#MalgunGothic-43\" x=\"406.542969\"/>\n     <use xlink:href=\"#MalgunGothic-6f\" x=\"470.019531\"/>\n     <use xlink:href=\"#MalgunGothic-6d\" x=\"529.931641\"/>\n     <use xlink:href=\"#MalgunGothic-70\" x=\"617.919922\"/>\n     <use xlink:href=\"#MalgunGothic-61\" x=\"676.603516\"/>\n     <use xlink:href=\"#MalgunGothic-72\" x=\"728.605469\"/>\n     <use xlink:href=\"#MalgunGothic-69\" x=\"763.957031\"/>\n     <use xlink:href=\"#MalgunGothic-73\" x=\"788.566406\"/>\n     <use xlink:href=\"#MalgunGothic-6f\" x=\"831.876953\"/>\n     <use xlink:href=\"#MalgunGothic-6e\" x=\"891.789062\"/>\n     <use xlink:href=\"#MalgunGothic-73\" x=\"949.601562\"/>\n     <use xlink:href=\"#MalgunGothic-20\" x=\"992.912109\"/>\n     <use xlink:href=\"#MalgunGothic-42\" x=\"1028.068359\"/>\n     <use xlink:href=\"#MalgunGothic-65\" x=\"1086.417969\"/>\n     <use xlink:href=\"#MalgunGothic-74\" x=\"1139.933594\"/>\n     <use xlink:href=\"#MalgunGothic-77\" x=\"1174.40625\"/>\n     <use xlink:href=\"#MalgunGothic-65\" x=\"1247.539062\"/>\n     <use xlink:href=\"#MalgunGothic-65\" x=\"1301.054688\"/>\n     <use xlink:href=\"#MalgunGothic-6e\" x=\"1354.570312\"/>\n     <use xlink:href=\"#MalgunGothic-20\" x=\"1412.382812\"/>\n     <use xlink:href=\"#MalgunGothic-41\" x=\"1447.539062\"/>\n     <use xlink:href=\"#MalgunGothic-6c\" x=\"1513.359375\"/>\n     <use xlink:href=\"#MalgunGothic-6c\" x=\"1537.96875\"/>\n     <use xlink:href=\"#MalgunGothic-20\" x=\"1562.578125\"/>\n     <use xlink:href=\"#MalgunGothic-50\" x=\"1597.734375\"/>\n     <use xlink:href=\"#MalgunGothic-61\" x=\"1651.314453\"/>\n     <use xlink:href=\"#MalgunGothic-69\" x=\"1703.316406\"/>\n     <use xlink:href=\"#MalgunGothic-72\" x=\"1727.925781\"/>\n     <use xlink:href=\"#MalgunGothic-73\" x=\"1764.027344\"/>\n     <use xlink:href=\"#MalgunGothic-20\" x=\"1807.337891\"/>\n     <use xlink:href=\"#MalgunGothic-28\" x=\"1842.494141\"/>\n     <use xlink:href=\"#MalgunGothic-54\" x=\"1872.962891\"/>\n     <use xlink:href=\"#MalgunGothic-75\" x=\"1916.957031\"/>\n     <use xlink:href=\"#MalgunGothic-6b\" x=\"1974.769531\"/>\n     <use xlink:href=\"#MalgunGothic-65\" x=\"2023.230469\"/>\n     <use xlink:href=\"#MalgunGothic-79\" x=\"2076.746094\"/>\n     <use xlink:href=\"#MalgunGothic-29\" x=\"2126.013672\"/>\n    </g>\n   </g>\n  </g>\n </g>\n <defs>\n  <clipPath id=\"p253bcad93a\">\n   <rect x=\"74.6\" y=\"22.310625\" width=\"558\" height=\"326.16\"/>\n  </clipPath>\n </defs>\n</svg>\n",
      "text/plain": [
       "<Figure size 720x432 with 1 Axes>"
      ]
     },
     "metadata": {
      "needs_background": "light"
     },
     "output_type": "display_data"
    }
   ],
   "source": [
    "mc = MultiComparison(data=iris['sepal width'], groups=iris['target'])\n",
    "tukeyhsd = mc.tukeyhsd(alpha=0.05)\n",
    "fig = tukeyhsd.plot_simultaneous()\n",
    "# diff는 오른쪽 집단 - 왼쪽 집단\n",
    "tukeyhsd.summary()"
   ]
  },
  {
   "cell_type": "code",
   "execution_count": 39,
   "metadata": {},
   "outputs": [
    {
     "data": {
      "text/plain": [
       "KruskalResult(statistic=62.49463010053111, pvalue=2.6882119006774528e-14)"
      ]
     },
     "execution_count": 39,
     "metadata": {},
     "output_type": "execute_result"
    }
   ],
   "source": [
    "# 정규성을 만족하지 못했을 경우\n",
    "ss.kruskal(setosa, versicolor, virginica)"
   ]
  },
  {
   "cell_type": "code",
   "execution_count": 40,
   "metadata": {},
   "outputs": [
    {
     "data": {
      "text/html": [
       "<div>\n",
       "<style scoped>\n",
       "    .dataframe tbody tr th:only-of-type {\n",
       "        vertical-align: middle;\n",
       "    }\n",
       "\n",
       "    .dataframe tbody tr th {\n",
       "        vertical-align: top;\n",
       "    }\n",
       "\n",
       "    .dataframe thead th {\n",
       "        text-align: right;\n",
       "    }\n",
       "</style>\n",
       "<table border=\"1\" class=\"dataframe\">\n",
       "  <thead>\n",
       "    <tr style=\"text-align: right;\">\n",
       "      <th></th>\n",
       "      <th>Source</th>\n",
       "      <th>ddof1</th>\n",
       "      <th>ddof2</th>\n",
       "      <th>F</th>\n",
       "      <th>p-unc</th>\n",
       "      <th>np2</th>\n",
       "    </tr>\n",
       "  </thead>\n",
       "  <tbody>\n",
       "    <tr>\n",
       "      <th>0</th>\n",
       "      <td>target</td>\n",
       "      <td>2</td>\n",
       "      <td>97.369597</td>\n",
       "      <td>43.303381</td>\n",
       "      <td>3.519723e-14</td>\n",
       "      <td>0.391881</td>\n",
       "    </tr>\n",
       "  </tbody>\n",
       "</table>\n",
       "</div>"
      ],
      "text/plain": [
       "   Source  ddof1      ddof2          F         p-unc       np2\n",
       "0  target      2  97.369597  43.303381  3.519723e-14  0.391881"
      ]
     },
     "execution_count": 40,
     "metadata": {},
     "output_type": "execute_result"
    }
   ],
   "source": [
    "# 등분산성을 만족하지 못했을 경우\n",
    "pg.welch_anova(data=iris, dv='sepal width', between='target')"
   ]
  },
  {
   "cell_type": "code",
   "execution_count": 42,
   "metadata": {},
   "outputs": [
    {
     "data": {
      "text/html": [
       "<div>\n",
       "<style scoped>\n",
       "    .dataframe tbody tr th:only-of-type {\n",
       "        vertical-align: middle;\n",
       "    }\n",
       "\n",
       "    .dataframe tbody tr th {\n",
       "        vertical-align: top;\n",
       "    }\n",
       "\n",
       "    .dataframe thead th {\n",
       "        text-align: right;\n",
       "    }\n",
       "</style>\n",
       "<table border=\"1\" class=\"dataframe\">\n",
       "  <thead>\n",
       "    <tr style=\"text-align: right;\">\n",
       "      <th></th>\n",
       "      <th>Unnamed: 0</th>\n",
       "      <th>mpg</th>\n",
       "      <th>cyl</th>\n",
       "      <th>disp</th>\n",
       "      <th>hp</th>\n",
       "      <th>drat</th>\n",
       "      <th>wt</th>\n",
       "      <th>qsec</th>\n",
       "      <th>vs</th>\n",
       "      <th>am</th>\n",
       "      <th>gear</th>\n",
       "      <th>carb</th>\n",
       "    </tr>\n",
       "  </thead>\n",
       "  <tbody>\n",
       "    <tr>\n",
       "      <th>0</th>\n",
       "      <td>Mazda RX4</td>\n",
       "      <td>21.0</td>\n",
       "      <td>6</td>\n",
       "      <td>160.0</td>\n",
       "      <td>110</td>\n",
       "      <td>3.90</td>\n",
       "      <td>2.620</td>\n",
       "      <td>16.46</td>\n",
       "      <td>0</td>\n",
       "      <td>1</td>\n",
       "      <td>4</td>\n",
       "      <td>4</td>\n",
       "    </tr>\n",
       "    <tr>\n",
       "      <th>1</th>\n",
       "      <td>Mazda RX4 Wag</td>\n",
       "      <td>21.0</td>\n",
       "      <td>6</td>\n",
       "      <td>160.0</td>\n",
       "      <td>110</td>\n",
       "      <td>3.90</td>\n",
       "      <td>2.875</td>\n",
       "      <td>17.02</td>\n",
       "      <td>0</td>\n",
       "      <td>1</td>\n",
       "      <td>4</td>\n",
       "      <td>4</td>\n",
       "    </tr>\n",
       "    <tr>\n",
       "      <th>2</th>\n",
       "      <td>Datsun 710</td>\n",
       "      <td>22.8</td>\n",
       "      <td>4</td>\n",
       "      <td>108.0</td>\n",
       "      <td>93</td>\n",
       "      <td>3.85</td>\n",
       "      <td>2.320</td>\n",
       "      <td>18.61</td>\n",
       "      <td>1</td>\n",
       "      <td>1</td>\n",
       "      <td>4</td>\n",
       "      <td>1</td>\n",
       "    </tr>\n",
       "    <tr>\n",
       "      <th>3</th>\n",
       "      <td>Hornet 4 Drive</td>\n",
       "      <td>21.4</td>\n",
       "      <td>6</td>\n",
       "      <td>258.0</td>\n",
       "      <td>110</td>\n",
       "      <td>3.08</td>\n",
       "      <td>3.215</td>\n",
       "      <td>19.44</td>\n",
       "      <td>1</td>\n",
       "      <td>0</td>\n",
       "      <td>3</td>\n",
       "      <td>1</td>\n",
       "    </tr>\n",
       "    <tr>\n",
       "      <th>4</th>\n",
       "      <td>Hornet Sportabout</td>\n",
       "      <td>18.7</td>\n",
       "      <td>8</td>\n",
       "      <td>360.0</td>\n",
       "      <td>175</td>\n",
       "      <td>3.15</td>\n",
       "      <td>3.440</td>\n",
       "      <td>17.02</td>\n",
       "      <td>0</td>\n",
       "      <td>0</td>\n",
       "      <td>3</td>\n",
       "      <td>2</td>\n",
       "    </tr>\n",
       "  </tbody>\n",
       "</table>\n",
       "</div>"
      ],
      "text/plain": [
       "          Unnamed: 0   mpg  cyl   disp   hp  drat     wt   qsec  vs  am  gear  \\\n",
       "0          Mazda RX4  21.0    6  160.0  110  3.90  2.620  16.46   0   1     4   \n",
       "1      Mazda RX4 Wag  21.0    6  160.0  110  3.90  2.875  17.02   0   1     4   \n",
       "2         Datsun 710  22.8    4  108.0   93  3.85  2.320  18.61   1   1     4   \n",
       "3     Hornet 4 Drive  21.4    6  258.0  110  3.08  3.215  19.44   1   0     3   \n",
       "4  Hornet Sportabout  18.7    8  360.0  175  3.15  3.440  17.02   0   0     3   \n",
       "\n",
       "   carb  \n",
       "0     4  \n",
       "1     4  \n",
       "2     1  \n",
       "3     1  \n",
       "4     2  "
      ]
     },
     "execution_count": 42,
     "metadata": {},
     "output_type": "execute_result"
    }
   ],
   "source": [
    "mtcars = pd.read_csv('data_ba/mtcars.csv')\n",
    "mtcars.head()"
   ]
  },
  {
   "cell_type": "code",
   "execution_count": 44,
   "metadata": {},
   "outputs": [
    {
     "data": {
      "text/html": [
       "<div>\n",
       "<style scoped>\n",
       "    .dataframe tbody tr th:only-of-type {\n",
       "        vertical-align: middle;\n",
       "    }\n",
       "\n",
       "    .dataframe tbody tr th {\n",
       "        vertical-align: top;\n",
       "    }\n",
       "\n",
       "    .dataframe thead th {\n",
       "        text-align: right;\n",
       "    }\n",
       "</style>\n",
       "<table border=\"1\" class=\"dataframe\">\n",
       "  <thead>\n",
       "    <tr style=\"text-align: right;\">\n",
       "      <th></th>\n",
       "      <th>sum_sq</th>\n",
       "      <th>df</th>\n",
       "      <th>F</th>\n",
       "      <th>PR(&gt;F)</th>\n",
       "    </tr>\n",
       "  </thead>\n",
       "  <tbody>\n",
       "    <tr>\n",
       "      <th>C(cyl)</th>\n",
       "      <td>456.400921</td>\n",
       "      <td>2.0</td>\n",
       "      <td>24.819011</td>\n",
       "      <td>9.354735e-07</td>\n",
       "    </tr>\n",
       "    <tr>\n",
       "      <th>C(am)</th>\n",
       "      <td>36.766919</td>\n",
       "      <td>1.0</td>\n",
       "      <td>3.998759</td>\n",
       "      <td>5.608373e-02</td>\n",
       "    </tr>\n",
       "    <tr>\n",
       "      <th>C(cyl):C(am)</th>\n",
       "      <td>25.436511</td>\n",
       "      <td>2.0</td>\n",
       "      <td>1.383233</td>\n",
       "      <td>2.686140e-01</td>\n",
       "    </tr>\n",
       "    <tr>\n",
       "      <th>Residual</th>\n",
       "      <td>239.059167</td>\n",
       "      <td>26.0</td>\n",
       "      <td>NaN</td>\n",
       "      <td>NaN</td>\n",
       "    </tr>\n",
       "  </tbody>\n",
       "</table>\n",
       "</div>"
      ],
      "text/plain": [
       "                  sum_sq    df          F        PR(>F)\n",
       "C(cyl)        456.400921   2.0  24.819011  9.354735e-07\n",
       "C(am)          36.766919   1.0   3.998759  5.608373e-02\n",
       "C(cyl):C(am)   25.436511   2.0   1.383233  2.686140e-01\n",
       "Residual      239.059167  26.0        NaN           NaN"
      ]
     },
     "execution_count": 44,
     "metadata": {},
     "output_type": "execute_result"
    }
   ],
   "source": [
    "# 각 범주형 변수 및 교호작용이 종속변수에 영향을 미치는지 → 교호작용이 존재하지 않아야(귀무가설이 맞아야)\n",
    "formula = 'mpg ~ C(cyl) + C(am) + C(cyl):C(am)'\n",
    "model = smfa.ols(formula, mtcars).fit()\n",
    "aov_table = anova_lm(model, typ=2)\n",
    "aov_table"
   ]
  },
  {
   "cell_type": "code",
   "execution_count": 46,
   "metadata": {},
   "outputs": [
    {
     "data": {
      "text/html": [
       "<table class=\"simpletable\">\n",
       "<caption>Multiple Comparison of Means - Tukey HSD, FWER=0.05</caption>\n",
       "<tr>\n",
       "  <th>group1</th> <th>group2</th> <th>meandiff</th>  <th>p-adj</th>   <th>lower</th>   <th>upper</th>  <th>reject</th>\n",
       "</tr>\n",
       "<tr>\n",
       "     <td>4</td>      <td>6</td>    <td>-6.9208</td> <td>0.0003</td> <td>-10.7693</td> <td>-3.0722</td>  <td>True</td> \n",
       "</tr>\n",
       "<tr>\n",
       "     <td>4</td>      <td>8</td>   <td>-11.5636</td>   <td>0.0</td>  <td>-14.7708</td> <td>-8.3565</td>  <td>True</td> \n",
       "</tr>\n",
       "<tr>\n",
       "     <td>6</td>      <td>8</td>    <td>-4.6429</td> <td>0.0112</td>  <td>-8.3276</td> <td>-0.9581</td>  <td>True</td> \n",
       "</tr>\n",
       "</table>"
      ],
      "text/plain": [
       "<class 'statsmodels.iolib.table.SimpleTable'>"
      ]
     },
     "execution_count": 46,
     "metadata": {},
     "output_type": "execute_result"
    },
    {
     "data": {
      "image/svg+xml": "<?xml version=\"1.0\" encoding=\"utf-8\" standalone=\"no\"?>\n<!DOCTYPE svg PUBLIC \"-//W3C//DTD SVG 1.1//EN\"\n  \"http://www.w3.org/Graphics/SVG/1.1/DTD/svg11.dtd\">\n<svg xmlns:xlink=\"http://www.w3.org/1999/xlink\" width=\"584.907812pt\" height=\"372.626875pt\" viewBox=\"0 0 584.907812 372.626875\" xmlns=\"http://www.w3.org/2000/svg\" version=\"1.1\">\n <metadata>\n  <rdf:RDF xmlns:dc=\"http://purl.org/dc/elements/1.1/\" xmlns:cc=\"http://creativecommons.org/ns#\" xmlns:rdf=\"http://www.w3.org/1999/02/22-rdf-syntax-ns#\">\n   <cc:Work>\n    <dc:type rdf:resource=\"http://purl.org/dc/dcmitype/StillImage\"/>\n    <dc:date>2023-01-08T01:05:47.643692</dc:date>\n    <dc:format>image/svg+xml</dc:format>\n    <dc:creator>\n     <cc:Agent>\n      <dc:title>Matplotlib v3.5.1, https://matplotlib.org/</dc:title>\n     </cc:Agent>\n    </dc:creator>\n   </cc:Work>\n  </rdf:RDF>\n </metadata>\n <defs>\n  <style type=\"text/css\">*{stroke-linejoin: round; stroke-linecap: butt}</style>\n </defs>\n <g id=\"figure_1\">\n  <g id=\"patch_1\">\n   <path d=\"M 0 372.626875 \nL 584.907812 372.626875 \nL 584.907812 0 \nL 0 0 \nL 0 372.626875 \nz\n\" style=\"fill: none\"/>\n  </g>\n  <g id=\"axes_1\">\n   <g id=\"patch_2\">\n    <path d=\"M 19.707813 348.470625 \nL 577.707813 348.470625 \nL 577.707813 22.310625 \nL 19.707813 22.310625 \nz\n\" style=\"fill: #ffffff\"/>\n   </g>\n   <g id=\"matplotlib.axis_1\">\n    <g id=\"xtick_1\">\n     <g id=\"line2d_1\">\n      <defs>\n       <path id=\"mcf700598e6\" d=\"M 0 0 \nL 0 3.5 \n\" style=\"stroke: #000000; stroke-width: 0.8\"/>\n      </defs>\n      <g>\n       <use xlink:href=\"#mcf700598e6\" x=\"79.481767\" y=\"348.470625\" style=\"stroke: #000000; stroke-width: 0.8\"/>\n      </g>\n     </g>\n     <g id=\"text_1\">\n      <!-- 14 -->\n      <g transform=\"translate(73.973955 363.062813)scale(0.1 -0.1)\">\n       <defs>\n        <path id=\"MalgunGothic-31\" d=\"M 2231 0 \nL 1734 0 \nL 1734 3972 \nQ 1591 3828 1266 3661 \nQ 941 3494 672 3428 \nL 672 3959 \nQ 1016 4056 1409 4275 \nQ 1803 4494 2031 4700 \nL 2231 4700 \nL 2231 0 \nz\n\" transform=\"scale(0.015625)\"/>\n        <path id=\"MalgunGothic-34\" d=\"M 2703 4600 \nL 2703 1563 \nL 3309 1563 \nL 3309 1113 \nL 2703 1113 \nL 2703 0 \nL 2213 0 \nL 2213 1113 \nL 50 1113 \nL 50 1534 \nQ 728 2297 1295 3109 \nQ 1863 3922 2172 4600 \nL 2703 4600 \nz\nM 625 1563 \nL 2213 1563 \nL 2213 3831 \nQ 1613 2788 959 1981 \nL 625 1563 \nz\n\" transform=\"scale(0.015625)\"/>\n       </defs>\n       <use xlink:href=\"#MalgunGothic-31\"/>\n       <use xlink:href=\"#MalgunGothic-34\" x=\"55.078125\"/>\n      </g>\n     </g>\n    </g>\n    <g id=\"xtick_2\">\n     <g id=\"line2d_2\">\n      <g>\n       <use xlink:href=\"#mcf700598e6\" x=\"142.443919\" y=\"348.470625\" style=\"stroke: #000000; stroke-width: 0.8\"/>\n      </g>\n     </g>\n     <g id=\"text_2\">\n      <!-- 16 -->\n      <g transform=\"translate(136.936106 363.062813)scale(0.1 -0.1)\">\n       <defs>\n        <path id=\"MalgunGothic-36\" d=\"M 2981 4069 \nQ 2619 4250 2228 4250 \nQ 1591 4250 1228 3689 \nQ 866 3128 869 2213 \nL 884 2213 \nQ 1203 2872 1938 2872 \nQ 2547 2872 2903 2478 \nQ 3259 2084 3259 1450 \nQ 3259 797 2857 359 \nQ 2456 -78 1825 -78 \nQ 1116 -78 736 478 \nQ 356 1034 356 2019 \nQ 356 3181 847 3928 \nQ 1338 4675 2222 4675 \nQ 2700 4675 2981 4544 \nL 2981 4069 \nz\nM 906 1506 \nQ 906 1022 1165 683 \nQ 1425 344 1844 344 \nQ 2247 344 2498 645 \nQ 2750 947 2750 1388 \nQ 2750 1888 2509 2167 \nQ 2269 2447 1838 2447 \nQ 1444 2447 1175 2173 \nQ 906 1900 906 1506 \nz\n\" transform=\"scale(0.015625)\"/>\n       </defs>\n       <use xlink:href=\"#MalgunGothic-31\"/>\n       <use xlink:href=\"#MalgunGothic-36\" x=\"55.078125\"/>\n      </g>\n     </g>\n    </g>\n    <g id=\"xtick_3\">\n     <g id=\"line2d_3\">\n      <g>\n       <use xlink:href=\"#mcf700598e6\" x=\"205.406071\" y=\"348.470625\" style=\"stroke: #000000; stroke-width: 0.8\"/>\n      </g>\n     </g>\n     <g id=\"text_3\">\n      <!-- 18 -->\n      <g transform=\"translate(199.898258 363.062813)scale(0.1 -0.1)\">\n       <defs>\n        <path id=\"MalgunGothic-38\" d=\"M 303 1281 \nQ 303 1669 539 2011 \nQ 775 2353 1153 2494 \nQ 856 2647 675 2915 \nQ 494 3184 494 3500 \nQ 494 3828 659 4098 \nQ 825 4369 1122 4522 \nQ 1419 4675 1778 4675 \nQ 2334 4675 2700 4342 \nQ 3066 4009 3066 3500 \nQ 3066 3181 2881 2914 \nQ 2697 2647 2413 2494 \nQ 2788 2350 3022 2009 \nQ 3256 1669 3256 1281 \nQ 3256 672 2843 297 \nQ 2431 -78 1778 -78 \nQ 1131 -78 717 301 \nQ 303 681 303 1281 \nz\nM 809 1328 \nQ 809 878 1081 611 \nQ 1353 344 1781 344 \nQ 2206 344 2482 619 \nQ 2759 894 2759 1328 \nQ 2759 1731 2482 2011 \nQ 2206 2291 1781 2291 \nQ 1372 2291 1090 2020 \nQ 809 1750 809 1328 \nz\nM 1003 3459 \nQ 1003 3125 1234 2900 \nQ 1466 2675 1781 2675 \nQ 2097 2675 2330 2900 \nQ 2563 3125 2563 3459 \nQ 2563 3803 2341 4026 \nQ 2119 4250 1781 4250 \nQ 1450 4250 1226 4029 \nQ 1003 3809 1003 3459 \nz\n\" transform=\"scale(0.015625)\"/>\n       </defs>\n       <use xlink:href=\"#MalgunGothic-31\"/>\n       <use xlink:href=\"#MalgunGothic-38\" x=\"55.078125\"/>\n      </g>\n     </g>\n    </g>\n    <g id=\"xtick_4\">\n     <g id=\"line2d_4\">\n      <g>\n       <use xlink:href=\"#mcf700598e6\" x=\"268.368222\" y=\"348.470625\" style=\"stroke: #000000; stroke-width: 0.8\"/>\n      </g>\n     </g>\n     <g id=\"text_4\">\n      <!-- 20 -->\n      <g transform=\"translate(262.86041 363.062813)scale(0.1 -0.1)\">\n       <defs>\n        <path id=\"MalgunGothic-32\" d=\"M 2519 3372 \nQ 2519 3784 2275 4018 \nQ 2031 4253 1628 4253 \nQ 1341 4253 1053 4104 \nQ 766 3956 534 3697 \nL 534 4234 \nQ 981 4675 1691 4675 \nQ 2281 4675 2642 4334 \nQ 3003 3994 3003 3416 \nQ 3003 2919 2772 2545 \nQ 2541 2172 1984 1775 \nQ 1459 1406 1254 1215 \nQ 1050 1025 967 854 \nQ 884 684 884 450 \nL 3116 450 \nL 3116 0 \nL 356 0 \nL 356 225 \nQ 356 603 461 870 \nQ 566 1138 811 1392 \nQ 1056 1647 1597 2022 \nQ 2091 2363 2305 2670 \nQ 2519 2978 2519 3372 \nz\n\" transform=\"scale(0.015625)\"/>\n        <path id=\"MalgunGothic-30\" d=\"M 278 2206 \nQ 278 3425 675 4050 \nQ 1072 4675 1819 4675 \nQ 3253 4675 3253 2319 \nQ 3253 1156 2854 539 \nQ 2456 -78 1716 -78 \nQ 1016 -78 647 520 \nQ 278 1119 278 2206 \nz\nM 784 2231 \nQ 784 344 1769 344 \nQ 2747 344 2747 2259 \nQ 2747 4250 1794 4250 \nQ 784 4250 784 2231 \nz\n\" transform=\"scale(0.015625)\"/>\n       </defs>\n       <use xlink:href=\"#MalgunGothic-32\"/>\n       <use xlink:href=\"#MalgunGothic-30\" x=\"55.078125\"/>\n      </g>\n     </g>\n    </g>\n    <g id=\"xtick_5\">\n     <g id=\"line2d_5\">\n      <g>\n       <use xlink:href=\"#mcf700598e6\" x=\"331.330374\" y=\"348.470625\" style=\"stroke: #000000; stroke-width: 0.8\"/>\n      </g>\n     </g>\n     <g id=\"text_5\">\n      <!-- 22 -->\n      <g transform=\"translate(325.822562 363.062813)scale(0.1 -0.1)\">\n       <use xlink:href=\"#MalgunGothic-32\"/>\n       <use xlink:href=\"#MalgunGothic-32\" x=\"55.078125\"/>\n      </g>\n     </g>\n    </g>\n    <g id=\"xtick_6\">\n     <g id=\"line2d_6\">\n      <g>\n       <use xlink:href=\"#mcf700598e6\" x=\"394.292526\" y=\"348.470625\" style=\"stroke: #000000; stroke-width: 0.8\"/>\n      </g>\n     </g>\n     <g id=\"text_6\">\n      <!-- 24 -->\n      <g transform=\"translate(388.784713 363.062813)scale(0.1 -0.1)\">\n       <use xlink:href=\"#MalgunGothic-32\"/>\n       <use xlink:href=\"#MalgunGothic-34\" x=\"55.078125\"/>\n      </g>\n     </g>\n    </g>\n    <g id=\"xtick_7\">\n     <g id=\"line2d_7\">\n      <g>\n       <use xlink:href=\"#mcf700598e6\" x=\"457.254678\" y=\"348.470625\" style=\"stroke: #000000; stroke-width: 0.8\"/>\n      </g>\n     </g>\n     <g id=\"text_7\">\n      <!-- 26 -->\n      <g transform=\"translate(451.746865 363.062813)scale(0.1 -0.1)\">\n       <use xlink:href=\"#MalgunGothic-32\"/>\n       <use xlink:href=\"#MalgunGothic-36\" x=\"55.078125\"/>\n      </g>\n     </g>\n    </g>\n    <g id=\"xtick_8\">\n     <g id=\"line2d_8\">\n      <g>\n       <use xlink:href=\"#mcf700598e6\" x=\"520.216829\" y=\"348.470625\" style=\"stroke: #000000; stroke-width: 0.8\"/>\n      </g>\n     </g>\n     <g id=\"text_8\">\n      <!-- 28 -->\n      <g transform=\"translate(514.709017 363.062813)scale(0.1 -0.1)\">\n       <use xlink:href=\"#MalgunGothic-32\"/>\n       <use xlink:href=\"#MalgunGothic-38\" x=\"55.078125\"/>\n      </g>\n     </g>\n    </g>\n   </g>\n   <g id=\"matplotlib.axis_2\">\n    <g id=\"ytick_1\">\n     <g id=\"line2d_9\">\n      <defs>\n       <path id=\"mbad0f96e0c\" d=\"M 0 0 \nL -3.5 0 \n\" style=\"stroke: #000000; stroke-width: 0.8\"/>\n      </defs>\n      <g>\n       <use xlink:href=\"#mbad0f96e0c\" x=\"19.707813\" y=\"348.470625\" style=\"stroke: #000000; stroke-width: 0.8\"/>\n      </g>\n     </g>\n    </g>\n    <g id=\"ytick_2\">\n     <g id=\"line2d_10\">\n      <g>\n       <use xlink:href=\"#mbad0f96e0c\" x=\"19.707813\" y=\"266.930625\" style=\"stroke: #000000; stroke-width: 0.8\"/>\n      </g>\n     </g>\n     <g id=\"text_9\">\n      <!-- 4 -->\n      <g transform=\"translate(7.2 270.726719)scale(0.1 -0.1)\">\n       <use xlink:href=\"#MalgunGothic-34\"/>\n      </g>\n     </g>\n    </g>\n    <g id=\"ytick_3\">\n     <g id=\"line2d_11\">\n      <g>\n       <use xlink:href=\"#mbad0f96e0c\" x=\"19.707813\" y=\"185.390625\" style=\"stroke: #000000; stroke-width: 0.8\"/>\n      </g>\n     </g>\n     <g id=\"text_10\">\n      <!-- 6 -->\n      <g transform=\"translate(7.2 189.186719)scale(0.1 -0.1)\">\n       <use xlink:href=\"#MalgunGothic-36\"/>\n      </g>\n     </g>\n    </g>\n    <g id=\"ytick_4\">\n     <g id=\"line2d_12\">\n      <g>\n       <use xlink:href=\"#mbad0f96e0c\" x=\"19.707813\" y=\"103.850625\" style=\"stroke: #000000; stroke-width: 0.8\"/>\n      </g>\n     </g>\n     <g id=\"text_11\">\n      <!-- 8 -->\n      <g transform=\"translate(7.2 107.646719)scale(0.1 -0.1)\">\n       <use xlink:href=\"#MalgunGothic-38\"/>\n      </g>\n     </g>\n    </g>\n    <g id=\"ytick_5\">\n     <g id=\"line2d_13\">\n      <g>\n       <use xlink:href=\"#mbad0f96e0c\" x=\"19.707813\" y=\"22.310625\" style=\"stroke: #000000; stroke-width: 0.8\"/>\n      </g>\n     </g>\n    </g>\n   </g>\n   <g id=\"LineCollection_1\">\n    <path d=\"M 425.085516 266.930625 \nL 531.207813 266.930625 \n\" clip-path=\"url(#p187fb26fd5)\" style=\"fill: none; stroke: #000000; stroke-width: 1.5\"/>\n    <path d=\"M 192.177093 185.390625 \nL 328.369084 185.390625 \n\" clip-path=\"url(#p187fb26fd5)\" style=\"fill: none; stroke: #000000; stroke-width: 1.5\"/>\n    <path d=\"M 66.207812 103.850625 \nL 162.014089 103.850625 \n\" clip-path=\"url(#p187fb26fd5)\" style=\"fill: none; stroke: #000000; stroke-width: 1.5\"/>\n   </g>\n   <g id=\"line2d_14\">\n    <defs>\n     <path id=\"m9b25fe4d6c\" d=\"M 0 3 \nC 0.795609 3 1.55874 2.683901 2.12132 2.12132 \nC 2.683901 1.55874 3 0.795609 3 0 \nC 3 -0.795609 2.683901 -1.55874 2.12132 -2.12132 \nC 1.55874 -2.683901 0.795609 -3 0 -3 \nC -0.795609 -3 -1.55874 -2.683901 -2.12132 -2.12132 \nC -2.683901 -1.55874 -3 -0.795609 -3 0 \nC -3 0.795609 -2.683901 1.55874 -2.12132 2.12132 \nC -1.55874 2.683901 -0.795609 3 0 3 \nz\n\" style=\"stroke: #000000\"/>\n    </defs>\n    <g clip-path=\"url(#p187fb26fd5)\">\n     <use xlink:href=\"#m9b25fe4d6c\" x=\"478.146664\" y=\"266.930625\" style=\"stroke: #000000\"/>\n     <use xlink:href=\"#m9b25fe4d6c\" x=\"260.273089\" y=\"185.390625\" style=\"stroke: #000000\"/>\n     <use xlink:href=\"#m9b25fe4d6c\" x=\"114.110951\" y=\"103.850625\" style=\"stroke: #000000\"/>\n    </g>\n   </g>\n   <g id=\"patch_3\">\n    <path d=\"M 19.707813 348.470625 \nL 19.707813 22.310625 \n\" style=\"fill: none; stroke: #000000; stroke-width: 0.8; stroke-linejoin: miter; stroke-linecap: square\"/>\n   </g>\n   <g id=\"patch_4\">\n    <path d=\"M 577.707813 348.470625 \nL 577.707813 22.310625 \n\" style=\"fill: none; stroke: #000000; stroke-width: 0.8; stroke-linejoin: miter; stroke-linecap: square\"/>\n   </g>\n   <g id=\"patch_5\">\n    <path d=\"M 19.707812 348.470625 \nL 577.707813 348.470625 \n\" style=\"fill: none; stroke: #000000; stroke-width: 0.8; stroke-linejoin: miter; stroke-linecap: square\"/>\n   </g>\n   <g id=\"patch_6\">\n    <path d=\"M 19.707812 22.310625 \nL 577.707813 22.310625 \n\" style=\"fill: none; stroke: #000000; stroke-width: 0.8; stroke-linejoin: miter; stroke-linecap: square\"/>\n   </g>\n   <g id=\"text_12\">\n    <!-- Multiple Comparisons Between All Pairs (Tukey) -->\n    <g transform=\"translate(169.316875 16.310625)scale(0.12 -0.12)\">\n     <defs>\n      <path id=\"MalgunGothic-4d\" d=\"M 4756 0 \nL 4756 3106 \nQ 4756 3466 4803 3994 \nL 4788 3994 \nQ 4713 3684 4653 3559 \nL 3050 0 \nL 2822 0 \nL 1222 3534 \nQ 1159 3669 1091 3994 \nL 1075 3994 \nQ 1100 3822 1100 3116 \nL 1100 0 \nL 609 0 \nL 609 4600 \nL 1269 4600 \nL 2706 1359 \nQ 2881 966 2922 816 \nL 2941 816 \nQ 2988 944 3166 1375 \nL 4638 4600 \nL 5259 4600 \nL 5259 0 \nL 4756 0 \nz\n\" transform=\"scale(0.015625)\"/>\n      <path id=\"MalgunGothic-75\" d=\"M 3166 0 \nL 2669 0 \nL 2669 519 \nL 2656 519 \nQ 2331 -78 1644 -78 \nQ 469 -78 469 1322 \nL 469 3284 \nL 959 3284 \nL 959 1403 \nQ 959 344 1766 344 \nQ 2159 344 2414 636 \nQ 2669 928 2669 1394 \nL 2669 3284 \nL 3166 3284 \nL 3166 0 \nz\n\" transform=\"scale(0.015625)\"/>\n      <path id=\"MalgunGothic-6c\" d=\"M 541 0 \nL 541 4859 \nL 1034 4859 \nL 1034 0 \nL 541 0 \nz\n\" transform=\"scale(0.015625)\"/>\n      <path id=\"MalgunGothic-74\" d=\"M 2031 31 \nQ 1844 -72 1553 -72 \nQ 706 -72 706 881 \nL 706 2856 \nL 138 2856 \nL 138 3284 \nL 706 3284 \nL 706 4091 \nL 1200 4250 \nL 1200 3284 \nL 2031 3284 \nL 2031 2856 \nL 1200 2856 \nL 1200 972 \nQ 1200 625 1315 487 \nQ 1431 350 1691 350 \nQ 1888 350 2031 459 \nL 2031 31 \nz\n\" transform=\"scale(0.015625)\"/>\n      <path id=\"MalgunGothic-69\" d=\"M 472 4466 \nQ 472 4606 565 4701 \nQ 659 4797 794 4797 \nQ 934 4797 1029 4700 \nQ 1125 4603 1125 4466 \nQ 1125 4325 1029 4231 \nQ 934 4138 794 4138 \nQ 659 4138 565 4230 \nQ 472 4322 472 4466 \nz\nM 541 0 \nL 541 3284 \nL 1034 3284 \nL 1034 0 \nL 541 0 \nz\n\" transform=\"scale(0.015625)\"/>\n      <path id=\"MalgunGothic-70\" d=\"M 1034 481 \nL 1034 -1513 \nL 538 -1513 \nL 538 3284 \nL 1034 3284 \nL 1034 2703 \nL 1047 2703 \nQ 1438 3359 2184 3359 \nQ 2809 3359 3171 2920 \nQ 3534 2481 3534 1738 \nQ 3534 906 3126 414 \nQ 2719 -78 2034 -78 \nQ 1394 -78 1047 481 \nL 1034 481 \nz\nM 1034 1331 \nQ 1034 922 1307 633 \nQ 1581 344 1991 344 \nQ 2475 344 2751 716 \nQ 3028 1088 3028 1753 \nQ 3028 2300 2767 2620 \nQ 2506 2941 2072 2941 \nQ 1619 2941 1326 2619 \nQ 1034 2297 1034 1806 \nL 1034 1331 \nz\n\" transform=\"scale(0.015625)\"/>\n      <path id=\"MalgunGothic-65\" d=\"M 3156 1519 \nL 828 1519 \nQ 844 950 1133 648 \nQ 1422 347 1909 347 \nQ 2472 347 2934 719 \nL 2934 244 \nQ 2494 -78 1794 -78 \nQ 1100 -78 708 376 \nQ 316 831 316 1634 \nQ 316 2381 747 2870 \nQ 1178 3359 1816 3359 \nQ 2453 3359 2804 2942 \nQ 3156 2525 3156 1788 \nL 3156 1519 \nz\nM 2644 1956 \nQ 2644 2416 2423 2675 \nQ 2203 2934 1809 2934 \nQ 1438 2934 1169 2667 \nQ 900 2400 834 1956 \nL 2644 1956 \nz\n\" transform=\"scale(0.015625)\"/>\n      <path id=\"MalgunGothic-20\" transform=\"scale(0.015625)\"/>\n      <path id=\"MalgunGothic-43\" d=\"M 3725 197 \nQ 3216 -78 2459 -78 \nQ 1488 -78 897 561 \nQ 306 1200 306 2213 \nQ 306 3281 959 3978 \nQ 1613 4675 2644 4675 \nQ 3297 4675 3725 4484 \nL 3725 3941 \nQ 3234 4213 2634 4213 \nQ 1813 4213 1325 3659 \nQ 838 3106 838 2241 \nQ 838 1413 1297 897 \nQ 1756 381 2522 381 \nQ 3216 381 3725 688 \nL 3725 197 \nz\n\" transform=\"scale(0.015625)\"/>\n      <path id=\"MalgunGothic-6f\" d=\"M 316 1600 \nQ 316 2419 761 2889 \nQ 1206 3359 1978 3359 \nQ 2697 3359 3111 2907 \nQ 3525 2456 3525 1650 \nQ 3525 869 3078 395 \nQ 2631 -78 1900 -78 \nQ 1184 -78 750 384 \nQ 316 847 316 1600 \nz\nM 819 1622 \nQ 819 1041 1123 692 \nQ 1428 344 1934 344 \nQ 2459 344 2739 680 \nQ 3019 1016 3019 1634 \nQ 3019 2256 2737 2598 \nQ 2456 2941 1934 2941 \nQ 1425 2941 1122 2587 \nQ 819 2234 819 1622 \nz\n\" transform=\"scale(0.015625)\"/>\n      <path id=\"MalgunGothic-6d\" d=\"M 5166 0 \nL 4669 0 \nL 4669 1884 \nQ 4669 2463 4495 2702 \nQ 4322 2941 3922 2941 \nQ 3584 2941 3342 2623 \nQ 3100 2306 3100 1875 \nL 3100 0 \nL 2606 0 \nL 2606 1953 \nQ 2606 2941 1844 2941 \nQ 1497 2941 1265 2642 \nQ 1034 2344 1034 1875 \nL 1034 0 \nL 538 0 \nL 538 3284 \nL 1034 3284 \nL 1034 2763 \nL 1047 2763 \nQ 1391 3359 2063 3359 \nQ 2381 3359 2636 3176 \nQ 2891 2994 2991 2675 \nQ 3356 3359 4081 3359 \nQ 5166 3359 5166 2022 \nL 5166 0 \nz\n\" transform=\"scale(0.015625)\"/>\n      <path id=\"MalgunGothic-61\" d=\"M 616 3050 \nQ 1097 3359 1722 3359 \nQ 2866 3359 2866 2147 \nL 2866 0 \nL 2369 0 \nL 2369 516 \nL 2350 516 \nQ 2009 -78 1341 -78 \nQ 859 -78 576 180 \nQ 294 438 294 869 \nQ 294 1784 1375 1934 \nL 2366 2078 \nQ 2366 2934 1684 2934 \nQ 1084 2934 616 2525 \nL 616 3050 \nz\nM 1563 1559 \nQ 1178 1509 993 1371 \nQ 809 1234 809 903 \nQ 809 653 986 500 \nQ 1163 347 1450 347 \nQ 1847 347 2106 628 \nQ 2366 909 2366 1334 \nL 2366 1666 \nL 1563 1559 \nz\n\" transform=\"scale(0.015625)\"/>\n      <path id=\"MalgunGothic-72\" d=\"M 2225 2775 \nQ 2084 2881 1828 2881 \nQ 1491 2881 1262 2553 \nQ 1034 2225 1034 1681 \nL 1034 0 \nL 538 0 \nL 538 3284 \nL 1034 3284 \nL 1034 2603 \nL 1047 2603 \nQ 1159 2950 1389 3145 \nQ 1619 3341 1903 3341 \nQ 2109 3341 2225 3297 \nL 2225 2775 \nz\n\" transform=\"scale(0.015625)\"/>\n      <path id=\"MalgunGothic-73\" d=\"M 331 669 \nQ 763 350 1278 350 \nQ 1978 350 1978 822 \nQ 1978 1025 1825 1158 \nQ 1672 1291 1222 1459 \nQ 703 1666 520 1878 \nQ 338 2091 338 2416 \nQ 338 2834 700 3096 \nQ 1063 3359 1584 3359 \nQ 2003 3359 2341 3213 \nL 2341 2697 \nQ 1975 2934 1506 2934 \nQ 1200 2934 1025 2798 \nQ 850 2663 850 2459 \nQ 850 2241 979 2125 \nQ 1109 2009 1544 1838 \nQ 2131 1609 2309 1390 \nQ 2488 1172 2488 869 \nQ 2488 431 2127 176 \nQ 1766 -78 1203 -78 \nQ 694 -78 331 122 \nL 331 669 \nz\n\" transform=\"scale(0.015625)\"/>\n      <path id=\"MalgunGothic-6e\" d=\"M 3238 0 \nL 2741 0 \nL 2741 1875 \nQ 2741 2941 1963 2941 \nQ 1563 2941 1298 2639 \nQ 1034 2338 1034 1872 \nL 1034 0 \nL 538 0 \nL 538 3284 \nL 1034 3284 \nL 1034 2734 \nL 1047 2734 \nQ 1416 3359 2125 3359 \nQ 2666 3359 2952 3012 \nQ 3238 2666 3238 2006 \nL 3238 0 \nz\n\" transform=\"scale(0.015625)\"/>\n      <path id=\"MalgunGothic-42\" d=\"M 609 0 \nL 609 4600 \nL 1894 4600 \nQ 2466 4600 2817 4311 \nQ 3169 4022 3169 3547 \nQ 3169 3166 2961 2870 \nQ 2753 2575 2378 2453 \nL 2378 2441 \nQ 2844 2391 3122 2089 \nQ 3400 1788 3400 1319 \nQ 3400 731 2978 365 \nQ 2556 0 1919 0 \nL 609 0 \nz\nM 1113 4128 \nL 1113 2619 \nL 1672 2619 \nQ 2134 2619 2387 2839 \nQ 2641 3059 2641 3447 \nQ 2641 4128 1750 4128 \nL 1113 4128 \nz\nM 1113 2153 \nL 1113 469 \nL 1859 469 \nQ 2334 469 2603 698 \nQ 2872 928 2872 1325 \nQ 2872 2153 1738 2153 \nL 1113 2153 \nz\n\" transform=\"scale(0.015625)\"/>\n      <path id=\"MalgunGothic-77\" d=\"M 4634 3284 \nL 3650 0 \nL 3134 0 \nL 2447 2378 \nQ 2409 2506 2397 2675 \nL 2384 2675 \nQ 2384 2609 2316 2384 \nL 1572 0 \nL 1078 0 \nL 81 3284 \nL 600 3284 \nL 1294 794 \nQ 1325 681 1338 503 \nL 1363 503 \nQ 1378 656 1422 800 \nL 2191 3284 \nL 2644 3284 \nL 3334 788 \nQ 3359 700 3381 497 \nL 3409 497 \nQ 3416 631 3463 788 \nL 4144 3284 \nL 4634 3284 \nz\n\" transform=\"scale(0.015625)\"/>\n      <path id=\"MalgunGothic-41\" d=\"M 4134 0 \nL 3575 0 \nL 3075 1306 \nL 1103 1306 \nL 638 0 \nL 75 0 \nL 1844 4600 \nL 2356 4600 \nL 4134 0 \nz\nM 2903 1769 \nL 2169 3756 \nQ 2128 3866 2100 4059 \nL 2084 4059 \nQ 2050 3844 2009 3756 \nL 1281 1769 \nL 2903 1769 \nz\n\" transform=\"scale(0.015625)\"/>\n      <path id=\"MalgunGothic-50\" d=\"M 1113 1747 \nL 1113 0 \nL 609 0 \nL 609 4600 \nL 1850 4600 \nQ 2575 4600 2979 4240 \nQ 3384 3881 3384 3231 \nQ 3384 2559 2909 2140 \nQ 2434 1722 1728 1747 \nL 1113 1747 \nz\nM 1113 4131 \nL 1113 2219 \nL 1691 2219 \nQ 2256 2219 2554 2475 \nQ 2853 2731 2853 3206 \nQ 2853 4131 1759 4131 \nL 1113 4131 \nz\n\" transform=\"scale(0.015625)\"/>\n      <path id=\"MalgunGothic-28\" d=\"M 1438 -1044 \nQ 447 88 447 1753 \nQ 447 3431 1438 4600 \nL 1888 4600 \nQ 878 3372 878 1759 \nQ 878 153 1881 -1044 \nL 1438 -1044 \nz\n\" transform=\"scale(0.015625)\"/>\n      <path id=\"MalgunGothic-54\" d=\"M 3294 4134 \nL 1966 4134 \nL 1966 0 \nL 1456 0 \nL 1456 4134 \nL 134 4134 \nL 134 4600 \nL 3294 4600 \nL 3294 4134 \nz\n\" transform=\"scale(0.015625)\"/>\n      <path id=\"MalgunGothic-6b\" d=\"M 3228 0 \nL 2525 0 \nL 1047 1575 \nL 1034 1575 \nL 1034 0 \nL 538 0 \nL 538 4859 \nL 1034 4859 \nL 1034 1778 \nL 1047 1778 \nL 2450 3284 \nL 3106 3284 \nL 1563 1694 \nL 3228 0 \nz\n\" transform=\"scale(0.015625)\"/>\n      <path id=\"MalgunGothic-79\" d=\"M 3119 3284 \nL 1597 -544 \nQ 1197 -1547 481 -1547 \nQ 313 -1547 156 -1509 \nL 156 -1056 \nQ 316 -1109 459 -1109 \nQ 859 -1109 1059 -628 \nL 1328 6 \nL 47 3284 \nL 597 3284 \nL 1503 722 \nQ 1513 697 1572 488 \nL 1588 488 \nL 1650 716 \nL 2603 3284 \nL 3119 3284 \nz\n\" transform=\"scale(0.015625)\"/>\n      <path id=\"MalgunGothic-29\" d=\"M 81 -1044 \nQ 1081 150 1081 1759 \nQ 1081 3378 72 4600 \nL 525 4600 \nQ 1522 3431 1522 1753 \nQ 1522 88 525 -1044 \nL 81 -1044 \nz\n\" transform=\"scale(0.015625)\"/>\n     </defs>\n     <use xlink:href=\"#MalgunGothic-4d\"/>\n     <use xlink:href=\"#MalgunGothic-75\" x=\"91.699219\"/>\n     <use xlink:href=\"#MalgunGothic-6c\" x=\"149.511719\"/>\n     <use xlink:href=\"#MalgunGothic-74\" x=\"174.121094\"/>\n     <use xlink:href=\"#MalgunGothic-69\" x=\"208.59375\"/>\n     <use xlink:href=\"#MalgunGothic-70\" x=\"233.203125\"/>\n     <use xlink:href=\"#MalgunGothic-6c\" x=\"293.261719\"/>\n     <use xlink:href=\"#MalgunGothic-65\" x=\"317.871094\"/>\n     <use xlink:href=\"#MalgunGothic-20\" x=\"371.386719\"/>\n     <use xlink:href=\"#MalgunGothic-43\" x=\"406.542969\"/>\n     <use xlink:href=\"#MalgunGothic-6f\" x=\"470.019531\"/>\n     <use xlink:href=\"#MalgunGothic-6d\" x=\"529.931641\"/>\n     <use xlink:href=\"#MalgunGothic-70\" x=\"617.919922\"/>\n     <use xlink:href=\"#MalgunGothic-61\" x=\"676.603516\"/>\n     <use xlink:href=\"#MalgunGothic-72\" x=\"728.605469\"/>\n     <use xlink:href=\"#MalgunGothic-69\" x=\"763.957031\"/>\n     <use xlink:href=\"#MalgunGothic-73\" x=\"788.566406\"/>\n     <use xlink:href=\"#MalgunGothic-6f\" x=\"831.876953\"/>\n     <use xlink:href=\"#MalgunGothic-6e\" x=\"891.789062\"/>\n     <use xlink:href=\"#MalgunGothic-73\" x=\"949.601562\"/>\n     <use xlink:href=\"#MalgunGothic-20\" x=\"992.912109\"/>\n     <use xlink:href=\"#MalgunGothic-42\" x=\"1028.068359\"/>\n     <use xlink:href=\"#MalgunGothic-65\" x=\"1086.417969\"/>\n     <use xlink:href=\"#MalgunGothic-74\" x=\"1139.933594\"/>\n     <use xlink:href=\"#MalgunGothic-77\" x=\"1174.40625\"/>\n     <use xlink:href=\"#MalgunGothic-65\" x=\"1247.539062\"/>\n     <use xlink:href=\"#MalgunGothic-65\" x=\"1301.054688\"/>\n     <use xlink:href=\"#MalgunGothic-6e\" x=\"1354.570312\"/>\n     <use xlink:href=\"#MalgunGothic-20\" x=\"1412.382812\"/>\n     <use xlink:href=\"#MalgunGothic-41\" x=\"1447.539062\"/>\n     <use xlink:href=\"#MalgunGothic-6c\" x=\"1513.359375\"/>\n     <use xlink:href=\"#MalgunGothic-6c\" x=\"1537.96875\"/>\n     <use xlink:href=\"#MalgunGothic-20\" x=\"1562.578125\"/>\n     <use xlink:href=\"#MalgunGothic-50\" x=\"1597.734375\"/>\n     <use xlink:href=\"#MalgunGothic-61\" x=\"1651.314453\"/>\n     <use xlink:href=\"#MalgunGothic-69\" x=\"1703.316406\"/>\n     <use xlink:href=\"#MalgunGothic-72\" x=\"1727.925781\"/>\n     <use xlink:href=\"#MalgunGothic-73\" x=\"1764.027344\"/>\n     <use xlink:href=\"#MalgunGothic-20\" x=\"1807.337891\"/>\n     <use xlink:href=\"#MalgunGothic-28\" x=\"1842.494141\"/>\n     <use xlink:href=\"#MalgunGothic-54\" x=\"1872.962891\"/>\n     <use xlink:href=\"#MalgunGothic-75\" x=\"1916.957031\"/>\n     <use xlink:href=\"#MalgunGothic-6b\" x=\"1974.769531\"/>\n     <use xlink:href=\"#MalgunGothic-65\" x=\"2023.230469\"/>\n     <use xlink:href=\"#MalgunGothic-79\" x=\"2076.746094\"/>\n     <use xlink:href=\"#MalgunGothic-29\" x=\"2126.013672\"/>\n    </g>\n   </g>\n  </g>\n </g>\n <defs>\n  <clipPath id=\"p187fb26fd5\">\n   <rect x=\"19.707813\" y=\"22.310625\" width=\"558\" height=\"326.16\"/>\n  </clipPath>\n </defs>\n</svg>\n",
      "text/plain": [
       "<Figure size 720x432 with 1 Axes>"
      ]
     },
     "metadata": {
      "needs_background": "light"
     },
     "output_type": "display_data"
    }
   ],
   "source": [
    "mc = MultiComparison(data=mtcars['mpg'], groups=mtcars['cyl'])\n",
    "tukeyhsd = mc.tukeyhsd(alpha=0.05)\n",
    "fig = tukeyhsd.plot_simultaneous()\n",
    "tukeyhsd.summary()"
   ]
  },
  {
   "cell_type": "code",
   "execution_count": null,
   "metadata": {},
   "outputs": [],
   "source": []
  }
 ],
 "metadata": {
  "kernelspec": {
   "display_name": "base",
   "language": "python",
   "name": "python3"
  },
  "language_info": {
   "codemirror_mode": {
    "name": "ipython",
    "version": 3
   },
   "file_extension": ".py",
   "mimetype": "text/x-python",
   "name": "python",
   "nbconvert_exporter": "python",
   "pygments_lexer": "ipython3",
   "version": "3.9.12"
  },
  "orig_nbformat": 4,
  "vscode": {
   "interpreter": {
    "hash": "610a6f344c2137faf927ea819c63f6cee33a2c04455044b28099f39fe9722347"
   }
  }
 },
 "nbformat": 4,
 "nbformat_minor": 2
}
