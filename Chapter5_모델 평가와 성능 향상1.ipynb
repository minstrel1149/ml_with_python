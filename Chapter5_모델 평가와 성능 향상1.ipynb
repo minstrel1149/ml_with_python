{
 "cells": [
  {
   "cell_type": "code",
   "execution_count": 1,
   "metadata": {},
   "outputs": [
    {
     "name": "stderr",
     "output_type": "stream",
     "text": [
      "c:\\Users\\admin\\anaconda3\\lib\\site-packages\\outdated\\utils.py:14: OutdatedPackageWarning: The package pingouin is out of date. Your version is 0.5.2, the latest is 0.5.3.\n",
      "Set the environment variable OUTDATED_IGNORE=1 to disable these warnings.\n",
      "  return warn(\n"
     ]
    }
   ],
   "source": [
    "import os, sys\n",
    "import datetime\n",
    "from datetime import datetime, date, timedelta\n",
    "import numpy as np\n",
    "%matplotlib inline\n",
    "import matplotlib.pyplot as plt\n",
    "import seaborn as sns\n",
    "import pandas as pd\n",
    "from pandas.plotting import scatter_matrix\n",
    "from pandas_profiling import ProfileReport\n",
    "import mglearn\n",
    "plt.rcParams['font.family'] = 'Malgun Gothic'\n",
    "plt.rcParams['axes.unicode_minus'] = False\n",
    "%config InlineBackend.figure_format = 'svg'\n",
    "from mpl_toolkits.mplot3d import Axes3D, axes3d\n",
    "from scipy import sparse\n",
    "import scipy.stats as ss\n",
    "import scipy.cluster.hierarchy as sch\n",
    "import pingouin as pg\n",
    "import spacy, nltk\n",
    "from konlpy.tag import Okt"
   ]
  },
  {
   "cell_type": "code",
   "execution_count": 7,
   "metadata": {},
   "outputs": [],
   "source": [
    "from sklearn.datasets import make_blobs\n",
    "from sklearn.datasets import load_iris"
   ]
  },
  {
   "cell_type": "code",
   "execution_count": 26,
   "metadata": {},
   "outputs": [],
   "source": [
    "from sklearn.model_selection import train_test_split\n",
    "from sklearn.model_selection import cross_validate, cross_val_score\n",
    "from sklearn.model_selection import StratifiedKFold, KFold, GroupKFold, StratifiedGroupKFold, LeaveOneOut, ShuffleSplit, RepeatedStratifiedKFold\n",
    "from sklearn.model_selection import GridSearchCV\n",
    "from sklearn.linear_model import LogisticRegression\n",
    "from sklearn.svm import SVC, SVR"
   ]
  },
  {
   "cell_type": "code",
   "execution_count": 5,
   "metadata": {},
   "outputs": [],
   "source": [
    "X, y = make_blobs(random_state=0)\n",
    "X_train, X_test, y_train, y_test = train_test_split(X, y, random_state=0)"
   ]
  },
  {
   "cell_type": "code",
   "execution_count": 8,
   "metadata": {},
   "outputs": [],
   "source": [
    "iris = load_iris(as_frame=True)"
   ]
  },
  {
   "cell_type": "code",
   "execution_count": 10,
   "metadata": {},
   "outputs": [
    {
     "data": {
      "text/plain": [
       "array([0.96666667, 1.        , 0.93333333, 0.96666667, 1.        ])"
      ]
     },
     "execution_count": 10,
     "metadata": {},
     "output_type": "execute_result"
    }
   ],
   "source": [
    "logreg = LogisticRegression(max_iter=1000)\n",
    "scores = cross_val_score(logreg, iris['data'], iris['target'], cv=5)\n",
    "scores"
   ]
  },
  {
   "cell_type": "code",
   "execution_count": 12,
   "metadata": {},
   "outputs": [
    {
     "data": {
      "text/plain": [
       "{'fit_time': array([0.02602386, 0.02802491, 0.02402234, 0.01901627, 0.02001739]),\n",
       " 'score_time': array([0.00100088, 0.00100088, 0.00200176, 0.00100136, 0.00100112]),\n",
       " 'test_score': array([0.96666667, 1.        , 0.93333333, 0.96666667, 1.        ]),\n",
       " 'train_score': array([0.96666667, 0.96666667, 0.98333333, 0.98333333, 0.975     ])}"
      ]
     },
     "execution_count": 12,
     "metadata": {},
     "output_type": "execute_result"
    }
   ],
   "source": [
    "scores = cross_validate(logreg, iris['data'], iris['target'], cv=5, return_train_score=True)\n",
    "scores"
   ]
  },
  {
   "cell_type": "code",
   "execution_count": 13,
   "metadata": {},
   "outputs": [
    {
     "data": {
      "text/html": [
       "<div>\n",
       "<style scoped>\n",
       "    .dataframe tbody tr th:only-of-type {\n",
       "        vertical-align: middle;\n",
       "    }\n",
       "\n",
       "    .dataframe tbody tr th {\n",
       "        vertical-align: top;\n",
       "    }\n",
       "\n",
       "    .dataframe thead th {\n",
       "        text-align: right;\n",
       "    }\n",
       "</style>\n",
       "<table border=\"1\" class=\"dataframe\">\n",
       "  <thead>\n",
       "    <tr style=\"text-align: right;\">\n",
       "      <th></th>\n",
       "      <th>fit_time</th>\n",
       "      <th>score_time</th>\n",
       "      <th>test_score</th>\n",
       "      <th>train_score</th>\n",
       "    </tr>\n",
       "  </thead>\n",
       "  <tbody>\n",
       "    <tr>\n",
       "      <th>0</th>\n",
       "      <td>0.026024</td>\n",
       "      <td>0.001001</td>\n",
       "      <td>0.966667</td>\n",
       "      <td>0.966667</td>\n",
       "    </tr>\n",
       "    <tr>\n",
       "      <th>1</th>\n",
       "      <td>0.028025</td>\n",
       "      <td>0.001001</td>\n",
       "      <td>1.000000</td>\n",
       "      <td>0.966667</td>\n",
       "    </tr>\n",
       "    <tr>\n",
       "      <th>2</th>\n",
       "      <td>0.024022</td>\n",
       "      <td>0.002002</td>\n",
       "      <td>0.933333</td>\n",
       "      <td>0.983333</td>\n",
       "    </tr>\n",
       "    <tr>\n",
       "      <th>3</th>\n",
       "      <td>0.019016</td>\n",
       "      <td>0.001001</td>\n",
       "      <td>0.966667</td>\n",
       "      <td>0.983333</td>\n",
       "    </tr>\n",
       "    <tr>\n",
       "      <th>4</th>\n",
       "      <td>0.020017</td>\n",
       "      <td>0.001001</td>\n",
       "      <td>1.000000</td>\n",
       "      <td>0.975000</td>\n",
       "    </tr>\n",
       "  </tbody>\n",
       "</table>\n",
       "</div>"
      ],
      "text/plain": [
       "   fit_time  score_time  test_score  train_score\n",
       "0  0.026024    0.001001    0.966667     0.966667\n",
       "1  0.028025    0.001001    1.000000     0.966667\n",
       "2  0.024022    0.002002    0.933333     0.983333\n",
       "3  0.019016    0.001001    0.966667     0.983333\n",
       "4  0.020017    0.001001    1.000000     0.975000"
      ]
     },
     "execution_count": 13,
     "metadata": {},
     "output_type": "execute_result"
    }
   ],
   "source": [
    "scores_df = pd.DataFrame(scores)\n",
    "scores_df"
   ]
  },
  {
   "cell_type": "code",
   "execution_count": 19,
   "metadata": {},
   "outputs": [
    {
     "data": {
      "text/plain": [
       "array([0.97777778, 0.95555556, 0.95555556, 0.97777778, 0.97777778,\n",
       "       0.97777778, 0.91111111, 0.97777778, 0.95555556, 0.95555556])"
      ]
     },
     "execution_count": 19,
     "metadata": {},
     "output_type": "execute_result"
    }
   ],
   "source": [
    "shuffle_split = ShuffleSplit(train_size=0.5, test_size=0.3, n_splits=10)\n",
    "scores = cross_val_score(logreg, iris['data'], iris['target'], cv=shuffle_split)\n",
    "scores"
   ]
  },
  {
   "cell_type": "code",
   "execution_count": 20,
   "metadata": {},
   "outputs": [],
   "source": [
    "X, y = make_blobs(n_samples=12, random_state=0)\n",
    "groups = [0, 0, 0, 1, 1, 1, 1, 2, 2, 3, 3, 3]"
   ]
  },
  {
   "cell_type": "code",
   "execution_count": 22,
   "metadata": {},
   "outputs": [
    {
     "data": {
      "text/plain": [
       "array([0.75      , 0.6       , 0.66666667])"
      ]
     },
     "execution_count": 22,
     "metadata": {},
     "output_type": "execute_result"
    }
   ],
   "source": [
    "scores = cross_val_score(logreg, X, y, groups=groups, cv=GroupKFold(n_splits=3))\n",
    "scores"
   ]
  },
  {
   "cell_type": "code",
   "execution_count": 23,
   "metadata": {},
   "outputs": [
    {
     "data": {
      "image/svg+xml": "<?xml version=\"1.0\" encoding=\"utf-8\" standalone=\"no\"?>\n<!DOCTYPE svg PUBLIC \"-//W3C//DTD SVG 1.1//EN\"\n  \"http://www.w3.org/Graphics/SVG/1.1/DTD/svg11.dtd\">\n<svg xmlns:xlink=\"http://www.w3.org/1999/xlink\" width=\"712.779687pt\" height=\"137.9325pt\" viewBox=\"0 0 712.779687 137.9325\" xmlns=\"http://www.w3.org/2000/svg\" version=\"1.1\">\n <metadata>\n  <rdf:RDF xmlns:dc=\"http://purl.org/dc/elements/1.1/\" xmlns:cc=\"http://creativecommons.org/ns#\" xmlns:rdf=\"http://www.w3.org/1999/02/22-rdf-syntax-ns#\">\n   <cc:Work>\n    <dc:type rdf:resource=\"http://purl.org/dc/dcmitype/StillImage\"/>\n    <dc:date>2023-01-06T21:53:07.460968</dc:date>\n    <dc:format>image/svg+xml</dc:format>\n    <dc:creator>\n     <cc:Agent>\n      <dc:title>Matplotlib v3.5.1, https://matplotlib.org/</dc:title>\n     </cc:Agent>\n    </dc:creator>\n   </cc:Work>\n  </rdf:RDF>\n </metadata>\n <defs>\n  <style type=\"text/css\">*{stroke-linejoin: round; stroke-linecap: butt}</style>\n </defs>\n <g id=\"figure_1\">\n  <g id=\"patch_1\">\n   <path d=\"M 0 137.9325 \nL 712.779687 137.9325 \nL 712.779687 0 \nL 0 0 \nL 0 137.9325 \nz\n\" style=\"fill: none\"/>\n  </g>\n  <g id=\"axes_1\">\n   <g id=\"patch_2\">\n    <path d=\"M 57.179688 23.070521 \nL 95.871683 23.070521 \nL 95.871683 35.735451 \nL 57.179688 35.735451 \nz\n\" clip-path=\"url(#p6e7849c18b)\" style=\"fill: url(#ha6d39d7842); stroke: #000000; stroke-linejoin: miter\"/>\n   </g>\n   <g id=\"patch_3\">\n    <path d=\"M 57.179688 44.178738 \nL 95.871683 44.178738 \nL 95.871683 56.843669 \nL 57.179688 56.843669 \nz\n\" clip-path=\"url(#p6e7849c18b)\" style=\"fill: url(#ha6d39d7842); stroke: #000000; stroke-linejoin: miter\"/>\n   </g>\n   <g id=\"patch_4\">\n    <path d=\"M 57.179688 65.286956 \nL 95.871683 65.286956 \nL 95.871683 77.951887 \nL 57.179688 77.951887 \nz\n\" clip-path=\"url(#p6e7849c18b)\" style=\"fill: url(#hc11969bb03); stroke: #000000; stroke-linejoin: miter\"/>\n   </g>\n   <g id=\"patch_5\">\n    <path d=\"M 100.170793 23.070521 \nL 138.862788 23.070521 \nL 138.862788 35.735451 \nL 100.170793 35.735451 \nz\n\" clip-path=\"url(#p6e7849c18b)\" style=\"fill: url(#ha6d39d7842); stroke: #000000; stroke-linejoin: miter\"/>\n   </g>\n   <g id=\"patch_6\">\n    <path d=\"M 100.170793 44.178738 \nL 138.862788 44.178738 \nL 138.862788 56.843669 \nL 100.170793 56.843669 \nz\n\" clip-path=\"url(#p6e7849c18b)\" style=\"fill: url(#ha6d39d7842); stroke: #000000; stroke-linejoin: miter\"/>\n   </g>\n   <g id=\"patch_7\">\n    <path d=\"M 100.170793 65.286956 \nL 138.862788 65.286956 \nL 138.862788 77.951887 \nL 100.170793 77.951887 \nz\n\" clip-path=\"url(#p6e7849c18b)\" style=\"fill: url(#hc11969bb03); stroke: #000000; stroke-linejoin: miter\"/>\n   </g>\n   <g id=\"patch_8\">\n    <path d=\"M 143.161899 23.070521 \nL 181.853894 23.070521 \nL 181.853894 35.735451 \nL 143.161899 35.735451 \nz\n\" clip-path=\"url(#p6e7849c18b)\" style=\"fill: url(#ha6d39d7842); stroke: #000000; stroke-linejoin: miter\"/>\n   </g>\n   <g id=\"patch_9\">\n    <path d=\"M 143.161899 44.178738 \nL 181.853894 44.178738 \nL 181.853894 56.843669 \nL 143.161899 56.843669 \nz\n\" clip-path=\"url(#p6e7849c18b)\" style=\"fill: url(#ha6d39d7842); stroke: #000000; stroke-linejoin: miter\"/>\n   </g>\n   <g id=\"patch_10\">\n    <path d=\"M 143.161899 65.286956 \nL 181.853894 65.286956 \nL 181.853894 77.951887 \nL 143.161899 77.951887 \nz\n\" clip-path=\"url(#p6e7849c18b)\" style=\"fill: url(#hc11969bb03); stroke: #000000; stroke-linejoin: miter\"/>\n   </g>\n   <g id=\"patch_11\">\n    <path d=\"M 186.153005 23.070521 \nL 224.845 23.070521 \nL 224.845 35.735451 \nL 186.153005 35.735451 \nz\n\" clip-path=\"url(#p6e7849c18b)\" style=\"fill: url(#hc11969bb03); stroke: #000000; stroke-linejoin: miter\"/>\n   </g>\n   <g id=\"patch_12\">\n    <path d=\"M 186.153005 44.178738 \nL 224.845 44.178738 \nL 224.845 56.843669 \nL 186.153005 56.843669 \nz\n\" clip-path=\"url(#p6e7849c18b)\" style=\"fill: url(#ha6d39d7842); stroke: #000000; stroke-linejoin: miter\"/>\n   </g>\n   <g id=\"patch_13\">\n    <path d=\"M 186.153005 65.286956 \nL 224.845 65.286956 \nL 224.845 77.951887 \nL 186.153005 77.951887 \nz\n\" clip-path=\"url(#p6e7849c18b)\" style=\"fill: url(#ha6d39d7842); stroke: #000000; stroke-linejoin: miter\"/>\n   </g>\n   <g id=\"patch_14\">\n    <path d=\"M 229.144111 23.070521 \nL 267.836106 23.070521 \nL 267.836106 35.735451 \nL 229.144111 35.735451 \nz\n\" clip-path=\"url(#p6e7849c18b)\" style=\"fill: url(#hc11969bb03); stroke: #000000; stroke-linejoin: miter\"/>\n   </g>\n   <g id=\"patch_15\">\n    <path d=\"M 229.144111 44.178738 \nL 267.836106 44.178738 \nL 267.836106 56.843669 \nL 229.144111 56.843669 \nz\n\" clip-path=\"url(#p6e7849c18b)\" style=\"fill: url(#ha6d39d7842); stroke: #000000; stroke-linejoin: miter\"/>\n   </g>\n   <g id=\"patch_16\">\n    <path d=\"M 229.144111 65.286956 \nL 267.836106 65.286956 \nL 267.836106 77.951887 \nL 229.144111 77.951887 \nz\n\" clip-path=\"url(#p6e7849c18b)\" style=\"fill: url(#ha6d39d7842); stroke: #000000; stroke-linejoin: miter\"/>\n   </g>\n   <g id=\"patch_17\">\n    <path d=\"M 272.135216 23.070521 \nL 310.827212 23.070521 \nL 310.827212 35.735451 \nL 272.135216 35.735451 \nz\n\" clip-path=\"url(#p6e7849c18b)\" style=\"fill: url(#hc11969bb03); stroke: #000000; stroke-linejoin: miter\"/>\n   </g>\n   <g id=\"patch_18\">\n    <path d=\"M 272.135216 44.178738 \nL 310.827212 44.178738 \nL 310.827212 56.843669 \nL 272.135216 56.843669 \nz\n\" clip-path=\"url(#p6e7849c18b)\" style=\"fill: url(#ha6d39d7842); stroke: #000000; stroke-linejoin: miter\"/>\n   </g>\n   <g id=\"patch_19\">\n    <path d=\"M 272.135216 65.286956 \nL 310.827212 65.286956 \nL 310.827212 77.951887 \nL 272.135216 77.951887 \nz\n\" clip-path=\"url(#p6e7849c18b)\" style=\"fill: url(#ha6d39d7842); stroke: #000000; stroke-linejoin: miter\"/>\n   </g>\n   <g id=\"patch_20\">\n    <path d=\"M 315.126322 23.070521 \nL 353.818317 23.070521 \nL 353.818317 35.735451 \nL 315.126322 35.735451 \nz\n\" clip-path=\"url(#p6e7849c18b)\" style=\"fill: url(#hc11969bb03); stroke: #000000; stroke-linejoin: miter\"/>\n   </g>\n   <g id=\"patch_21\">\n    <path d=\"M 315.126322 44.178738 \nL 353.818317 44.178738 \nL 353.818317 56.843669 \nL 315.126322 56.843669 \nz\n\" clip-path=\"url(#p6e7849c18b)\" style=\"fill: url(#ha6d39d7842); stroke: #000000; stroke-linejoin: miter\"/>\n   </g>\n   <g id=\"patch_22\">\n    <path d=\"M 315.126322 65.286956 \nL 353.818317 65.286956 \nL 353.818317 77.951887 \nL 315.126322 77.951887 \nz\n\" clip-path=\"url(#p6e7849c18b)\" style=\"fill: url(#ha6d39d7842); stroke: #000000; stroke-linejoin: miter\"/>\n   </g>\n   <g id=\"patch_23\">\n    <path d=\"M 358.117428 23.070521 \nL 396.809423 23.070521 \nL 396.809423 35.735451 \nL 358.117428 35.735451 \nz\n\" clip-path=\"url(#p6e7849c18b)\" style=\"fill: url(#ha6d39d7842); stroke: #000000; stroke-linejoin: miter\"/>\n   </g>\n   <g id=\"patch_24\">\n    <path d=\"M 358.117428 44.178738 \nL 396.809423 44.178738 \nL 396.809423 56.843669 \nL 358.117428 56.843669 \nz\n\" clip-path=\"url(#p6e7849c18b)\" style=\"fill: url(#hc11969bb03); stroke: #000000; stroke-linejoin: miter\"/>\n   </g>\n   <g id=\"patch_25\">\n    <path d=\"M 358.117428 65.286956 \nL 396.809423 65.286956 \nL 396.809423 77.951887 \nL 358.117428 77.951887 \nz\n\" clip-path=\"url(#p6e7849c18b)\" style=\"fill: url(#ha6d39d7842); stroke: #000000; stroke-linejoin: miter\"/>\n   </g>\n   <g id=\"patch_26\">\n    <path d=\"M 401.108534 23.070521 \nL 439.800529 23.070521 \nL 439.800529 35.735451 \nL 401.108534 35.735451 \nz\n\" clip-path=\"url(#p6e7849c18b)\" style=\"fill: url(#ha6d39d7842); stroke: #000000; stroke-linejoin: miter\"/>\n   </g>\n   <g id=\"patch_27\">\n    <path d=\"M 401.108534 44.178738 \nL 439.800529 44.178738 \nL 439.800529 56.843669 \nL 401.108534 56.843669 \nz\n\" clip-path=\"url(#p6e7849c18b)\" style=\"fill: url(#hc11969bb03); stroke: #000000; stroke-linejoin: miter\"/>\n   </g>\n   <g id=\"patch_28\">\n    <path d=\"M 401.108534 65.286956 \nL 439.800529 65.286956 \nL 439.800529 77.951887 \nL 401.108534 77.951887 \nz\n\" clip-path=\"url(#p6e7849c18b)\" style=\"fill: url(#ha6d39d7842); stroke: #000000; stroke-linejoin: miter\"/>\n   </g>\n   <g id=\"patch_29\">\n    <path d=\"M 444.099639 23.070521 \nL 482.791635 23.070521 \nL 482.791635 35.735451 \nL 444.099639 35.735451 \nz\n\" clip-path=\"url(#p6e7849c18b)\" style=\"fill: url(#ha6d39d7842); stroke: #000000; stroke-linejoin: miter\"/>\n   </g>\n   <g id=\"patch_30\">\n    <path d=\"M 444.099639 44.178738 \nL 482.791635 44.178738 \nL 482.791635 56.843669 \nL 444.099639 56.843669 \nz\n\" clip-path=\"url(#p6e7849c18b)\" style=\"fill: url(#hc11969bb03); stroke: #000000; stroke-linejoin: miter\"/>\n   </g>\n   <g id=\"patch_31\">\n    <path d=\"M 444.099639 65.286956 \nL 482.791635 65.286956 \nL 482.791635 77.951887 \nL 444.099639 77.951887 \nz\n\" clip-path=\"url(#p6e7849c18b)\" style=\"fill: url(#ha6d39d7842); stroke: #000000; stroke-linejoin: miter\"/>\n   </g>\n   <g id=\"patch_32\">\n    <path d=\"M 487.090745 23.070521 \nL 525.78274 23.070521 \nL 525.78274 35.735451 \nL 487.090745 35.735451 \nz\n\" clip-path=\"url(#p6e7849c18b)\" style=\"fill: url(#ha6d39d7842); stroke: #000000; stroke-linejoin: miter\"/>\n   </g>\n   <g id=\"patch_33\">\n    <path d=\"M 487.090745 44.178738 \nL 525.78274 44.178738 \nL 525.78274 56.843669 \nL 487.090745 56.843669 \nz\n\" clip-path=\"url(#p6e7849c18b)\" style=\"fill: url(#hc11969bb03); stroke: #000000; stroke-linejoin: miter\"/>\n   </g>\n   <g id=\"patch_34\">\n    <path d=\"M 487.090745 65.286956 \nL 525.78274 65.286956 \nL 525.78274 77.951887 \nL 487.090745 77.951887 \nz\n\" clip-path=\"url(#p6e7849c18b)\" style=\"fill: url(#ha6d39d7842); stroke: #000000; stroke-linejoin: miter\"/>\n   </g>\n   <g id=\"patch_35\">\n    <path d=\"M 530.081851 23.070521 \nL 568.773846 23.070521 \nL 568.773846 35.735451 \nL 530.081851 35.735451 \nz\n\" clip-path=\"url(#p6e7849c18b)\" style=\"fill: url(#ha6d39d7842); stroke: #000000; stroke-linejoin: miter\"/>\n   </g>\n   <g id=\"patch_36\">\n    <path d=\"M 530.081851 44.178738 \nL 568.773846 44.178738 \nL 568.773846 56.843669 \nL 530.081851 56.843669 \nz\n\" clip-path=\"url(#p6e7849c18b)\" style=\"fill: url(#hc11969bb03); stroke: #000000; stroke-linejoin: miter\"/>\n   </g>\n   <g id=\"patch_37\">\n    <path d=\"M 530.081851 65.286956 \nL 568.773846 65.286956 \nL 568.773846 77.951887 \nL 530.081851 77.951887 \nz\n\" clip-path=\"url(#p6e7849c18b)\" style=\"fill: url(#ha6d39d7842); stroke: #000000; stroke-linejoin: miter\"/>\n   </g>\n   <g id=\"patch_38\">\n    <path d=\"M 57.179688 86.395174 \nL 95.871683 86.395174 \nL 95.871683 99.060104 \nL 57.179688 99.060104 \nz\n\" clip-path=\"url(#p6e7849c18b)\" style=\"fill: #ffffff; stroke: #000000; stroke-linejoin: miter\"/>\n   </g>\n   <g id=\"patch_39\">\n    <path d=\"M 100.170793 86.395174 \nL 138.862788 86.395174 \nL 138.862788 99.060104 \nL 100.170793 99.060104 \nz\n\" clip-path=\"url(#p6e7849c18b)\" style=\"fill: #ffffff; stroke: #000000; stroke-linejoin: miter\"/>\n   </g>\n   <g id=\"patch_40\">\n    <path d=\"M 143.161899 86.395174 \nL 181.853894 86.395174 \nL 181.853894 99.060104 \nL 143.161899 99.060104 \nz\n\" clip-path=\"url(#p6e7849c18b)\" style=\"fill: #ffffff; stroke: #000000; stroke-linejoin: miter\"/>\n   </g>\n   <g id=\"patch_41\">\n    <path d=\"M 186.153005 86.395174 \nL 224.845 86.395174 \nL 224.845 99.060104 \nL 186.153005 99.060104 \nz\n\" clip-path=\"url(#p6e7849c18b)\" style=\"fill: #ffffff; stroke: #000000; stroke-linejoin: miter\"/>\n   </g>\n   <g id=\"patch_42\">\n    <path d=\"M 229.144111 86.395174 \nL 267.836106 86.395174 \nL 267.836106 99.060104 \nL 229.144111 99.060104 \nz\n\" clip-path=\"url(#p6e7849c18b)\" style=\"fill: #ffffff; stroke: #000000; stroke-linejoin: miter\"/>\n   </g>\n   <g id=\"patch_43\">\n    <path d=\"M 272.135216 86.395174 \nL 310.827212 86.395174 \nL 310.827212 99.060104 \nL 272.135216 99.060104 \nz\n\" clip-path=\"url(#p6e7849c18b)\" style=\"fill: #ffffff; stroke: #000000; stroke-linejoin: miter\"/>\n   </g>\n   <g id=\"patch_44\">\n    <path d=\"M 315.126322 86.395174 \nL 353.818317 86.395174 \nL 353.818317 99.060104 \nL 315.126322 99.060104 \nz\n\" clip-path=\"url(#p6e7849c18b)\" style=\"fill: #ffffff; stroke: #000000; stroke-linejoin: miter\"/>\n   </g>\n   <g id=\"patch_45\">\n    <path d=\"M 358.117428 86.395174 \nL 396.809423 86.395174 \nL 396.809423 99.060104 \nL 358.117428 99.060104 \nz\n\" clip-path=\"url(#p6e7849c18b)\" style=\"fill: #ffffff; stroke: #000000; stroke-linejoin: miter\"/>\n   </g>\n   <g id=\"patch_46\">\n    <path d=\"M 401.108534 86.395174 \nL 439.800529 86.395174 \nL 439.800529 99.060104 \nL 401.108534 99.060104 \nz\n\" clip-path=\"url(#p6e7849c18b)\" style=\"fill: #ffffff; stroke: #000000; stroke-linejoin: miter\"/>\n   </g>\n   <g id=\"patch_47\">\n    <path d=\"M 444.099639 86.395174 \nL 482.791635 86.395174 \nL 482.791635 99.060104 \nL 444.099639 99.060104 \nz\n\" clip-path=\"url(#p6e7849c18b)\" style=\"fill: #ffffff; stroke: #000000; stroke-linejoin: miter\"/>\n   </g>\n   <g id=\"patch_48\">\n    <path d=\"M 487.090745 86.395174 \nL 525.78274 86.395174 \nL 525.78274 99.060104 \nL 487.090745 99.060104 \nz\n\" clip-path=\"url(#p6e7849c18b)\" style=\"fill: #ffffff; stroke: #000000; stroke-linejoin: miter\"/>\n   </g>\n   <g id=\"patch_49\">\n    <path d=\"M 530.081851 86.395174 \nL 568.773846 86.395174 \nL 568.773846 99.060104 \nL 530.081851 99.060104 \nz\n\" clip-path=\"url(#p6e7849c18b)\" style=\"fill: #ffffff; stroke: #000000; stroke-linejoin: miter\"/>\n   </g>\n   <g id=\"matplotlib.axis_1\">\n    <g id=\"xtick_1\">\n     <g id=\"line2d_1\">\n      <defs>\n       <path id=\"m5f3abf31fc\" d=\"M 0 0 \nL 0 3.5 \n\" style=\"stroke: #000000; stroke-width: 0.8\"/>\n      </defs>\n      <g>\n       <use xlink:href=\"#m5f3abf31fc\" x=\"78.67524\" y=\"99.82\" style=\"stroke: #000000; stroke-width: 0.8\"/>\n      </g>\n     </g>\n     <g id=\"text_1\">\n      <!-- 1 -->\n      <g transform=\"translate(75.921334 114.412187)scale(0.1 -0.1)\">\n       <defs>\n        <path id=\"MalgunGothic-31\" d=\"M 2231 0 \nL 1734 0 \nL 1734 3972 \nQ 1591 3828 1266 3661 \nQ 941 3494 672 3428 \nL 672 3959 \nQ 1016 4056 1409 4275 \nQ 1803 4494 2031 4700 \nL 2231 4700 \nL 2231 0 \nz\n\" transform=\"scale(0.015625)\"/>\n       </defs>\n       <use xlink:href=\"#MalgunGothic-31\"/>\n      </g>\n     </g>\n    </g>\n    <g id=\"xtick_2\">\n     <g id=\"line2d_2\">\n      <g>\n       <use xlink:href=\"#m5f3abf31fc\" x=\"121.666346\" y=\"99.82\" style=\"stroke: #000000; stroke-width: 0.8\"/>\n      </g>\n     </g>\n     <g id=\"text_2\">\n      <!-- 2 -->\n      <g transform=\"translate(118.91244 114.412187)scale(0.1 -0.1)\">\n       <defs>\n        <path id=\"MalgunGothic-32\" d=\"M 2519 3372 \nQ 2519 3784 2275 4018 \nQ 2031 4253 1628 4253 \nQ 1341 4253 1053 4104 \nQ 766 3956 534 3697 \nL 534 4234 \nQ 981 4675 1691 4675 \nQ 2281 4675 2642 4334 \nQ 3003 3994 3003 3416 \nQ 3003 2919 2772 2545 \nQ 2541 2172 1984 1775 \nQ 1459 1406 1254 1215 \nQ 1050 1025 967 854 \nQ 884 684 884 450 \nL 3116 450 \nL 3116 0 \nL 356 0 \nL 356 225 \nQ 356 603 461 870 \nQ 566 1138 811 1392 \nQ 1056 1647 1597 2022 \nQ 2091 2363 2305 2670 \nQ 2519 2978 2519 3372 \nz\n\" transform=\"scale(0.015625)\"/>\n       </defs>\n       <use xlink:href=\"#MalgunGothic-32\"/>\n      </g>\n     </g>\n    </g>\n    <g id=\"xtick_3\">\n     <g id=\"line2d_3\">\n      <g>\n       <use xlink:href=\"#m5f3abf31fc\" x=\"164.657452\" y=\"99.82\" style=\"stroke: #000000; stroke-width: 0.8\"/>\n      </g>\n     </g>\n     <g id=\"text_3\">\n      <!-- 3 -->\n      <g transform=\"translate(161.903546 114.412187)scale(0.1 -0.1)\">\n       <defs>\n        <path id=\"MalgunGothic-33\" d=\"M 416 719 \nQ 891 344 1478 344 \nQ 1959 344 2254 587 \nQ 2550 831 2550 1247 \nQ 2550 2169 1253 2169 \nL 872 2169 \nL 872 2591 \nL 1234 2591 \nQ 2388 2591 2388 3453 \nQ 2388 4250 1509 4250 \nQ 1022 4250 594 3916 \nL 594 4413 \nQ 1031 4675 1634 4675 \nQ 2184 4675 2539 4372 \nQ 2894 4069 2894 3581 \nQ 2894 2678 1972 2409 \nL 1972 2400 \nQ 2469 2356 2764 2053 \nQ 3059 1750 3059 1300 \nQ 3059 672 2604 297 \nQ 2150 -78 1450 -78 \nQ 806 -78 416 169 \nL 416 719 \nz\n\" transform=\"scale(0.015625)\"/>\n       </defs>\n       <use xlink:href=\"#MalgunGothic-33\"/>\n      </g>\n     </g>\n    </g>\n    <g id=\"xtick_4\">\n     <g id=\"line2d_4\">\n      <g>\n       <use xlink:href=\"#m5f3abf31fc\" x=\"207.648558\" y=\"99.82\" style=\"stroke: #000000; stroke-width: 0.8\"/>\n      </g>\n     </g>\n     <g id=\"text_4\">\n      <!-- 4 -->\n      <g transform=\"translate(204.894651 114.412187)scale(0.1 -0.1)\">\n       <defs>\n        <path id=\"MalgunGothic-34\" d=\"M 2703 4600 \nL 2703 1563 \nL 3309 1563 \nL 3309 1113 \nL 2703 1113 \nL 2703 0 \nL 2213 0 \nL 2213 1113 \nL 50 1113 \nL 50 1534 \nQ 728 2297 1295 3109 \nQ 1863 3922 2172 4600 \nL 2703 4600 \nz\nM 625 1563 \nL 2213 1563 \nL 2213 3831 \nQ 1613 2788 959 1981 \nL 625 1563 \nz\n\" transform=\"scale(0.015625)\"/>\n       </defs>\n       <use xlink:href=\"#MalgunGothic-34\"/>\n      </g>\n     </g>\n    </g>\n    <g id=\"xtick_5\">\n     <g id=\"line2d_5\">\n      <g>\n       <use xlink:href=\"#m5f3abf31fc\" x=\"250.639663\" y=\"99.82\" style=\"stroke: #000000; stroke-width: 0.8\"/>\n      </g>\n     </g>\n     <g id=\"text_5\">\n      <!-- 5 -->\n      <g transform=\"translate(247.885757 114.412187)scale(0.1 -0.1)\">\n       <defs>\n        <path id=\"MalgunGothic-35\" d=\"M 3072 1403 \nQ 3072 722 2636 322 \nQ 2200 -78 1469 -78 \nQ 828 -78 516 113 \nL 516 650 \nQ 994 344 1475 344 \nQ 1969 344 2270 630 \nQ 2572 916 2572 1372 \nQ 2572 1838 2265 2092 \nQ 1959 2347 1381 2347 \nQ 994 2347 603 2300 \nL 759 4600 \nL 2869 4600 \nL 2869 4147 \nL 1206 4147 \nL 1106 2763 \nQ 1347 2784 1547 2784 \nQ 2263 2784 2667 2414 \nQ 3072 2044 3072 1403 \nz\n\" transform=\"scale(0.015625)\"/>\n       </defs>\n       <use xlink:href=\"#MalgunGothic-35\"/>\n      </g>\n     </g>\n    </g>\n    <g id=\"xtick_6\">\n     <g id=\"line2d_6\">\n      <g>\n       <use xlink:href=\"#m5f3abf31fc\" x=\"293.630769\" y=\"99.82\" style=\"stroke: #000000; stroke-width: 0.8\"/>\n      </g>\n     </g>\n     <g id=\"text_6\">\n      <!-- 6 -->\n      <g transform=\"translate(290.876863 114.412187)scale(0.1 -0.1)\">\n       <defs>\n        <path id=\"MalgunGothic-36\" d=\"M 2981 4069 \nQ 2619 4250 2228 4250 \nQ 1591 4250 1228 3689 \nQ 866 3128 869 2213 \nL 884 2213 \nQ 1203 2872 1938 2872 \nQ 2547 2872 2903 2478 \nQ 3259 2084 3259 1450 \nQ 3259 797 2857 359 \nQ 2456 -78 1825 -78 \nQ 1116 -78 736 478 \nQ 356 1034 356 2019 \nQ 356 3181 847 3928 \nQ 1338 4675 2222 4675 \nQ 2700 4675 2981 4544 \nL 2981 4069 \nz\nM 906 1506 \nQ 906 1022 1165 683 \nQ 1425 344 1844 344 \nQ 2247 344 2498 645 \nQ 2750 947 2750 1388 \nQ 2750 1888 2509 2167 \nQ 2269 2447 1838 2447 \nQ 1444 2447 1175 2173 \nQ 906 1900 906 1506 \nz\n\" transform=\"scale(0.015625)\"/>\n       </defs>\n       <use xlink:href=\"#MalgunGothic-36\"/>\n      </g>\n     </g>\n    </g>\n    <g id=\"xtick_7\">\n     <g id=\"line2d_7\">\n      <g>\n       <use xlink:href=\"#m5f3abf31fc\" x=\"336.621875\" y=\"99.82\" style=\"stroke: #000000; stroke-width: 0.8\"/>\n      </g>\n     </g>\n     <g id=\"text_7\">\n      <!-- 7 -->\n      <g transform=\"translate(333.867969 114.412187)scale(0.1 -0.1)\">\n       <defs>\n        <path id=\"MalgunGothic-37\" d=\"M 3213 4297 \nQ 2478 3006 2064 1918 \nQ 1650 831 1550 0 \nL 1009 0 \nQ 1084 531 1290 1176 \nQ 1497 1822 1815 2537 \nQ 2134 3253 2631 4147 \nL 291 4147 \nL 291 4600 \nL 3213 4600 \nL 3213 4297 \nz\n\" transform=\"scale(0.015625)\"/>\n       </defs>\n       <use xlink:href=\"#MalgunGothic-37\"/>\n      </g>\n     </g>\n    </g>\n    <g id=\"xtick_8\">\n     <g id=\"line2d_8\">\n      <g>\n       <use xlink:href=\"#m5f3abf31fc\" x=\"379.612981\" y=\"99.82\" style=\"stroke: #000000; stroke-width: 0.8\"/>\n      </g>\n     </g>\n     <g id=\"text_8\">\n      <!-- 8 -->\n      <g transform=\"translate(376.859075 114.412187)scale(0.1 -0.1)\">\n       <defs>\n        <path id=\"MalgunGothic-38\" d=\"M 303 1281 \nQ 303 1669 539 2011 \nQ 775 2353 1153 2494 \nQ 856 2647 675 2915 \nQ 494 3184 494 3500 \nQ 494 3828 659 4098 \nQ 825 4369 1122 4522 \nQ 1419 4675 1778 4675 \nQ 2334 4675 2700 4342 \nQ 3066 4009 3066 3500 \nQ 3066 3181 2881 2914 \nQ 2697 2647 2413 2494 \nQ 2788 2350 3022 2009 \nQ 3256 1669 3256 1281 \nQ 3256 672 2843 297 \nQ 2431 -78 1778 -78 \nQ 1131 -78 717 301 \nQ 303 681 303 1281 \nz\nM 809 1328 \nQ 809 878 1081 611 \nQ 1353 344 1781 344 \nQ 2206 344 2482 619 \nQ 2759 894 2759 1328 \nQ 2759 1731 2482 2011 \nQ 2206 2291 1781 2291 \nQ 1372 2291 1090 2020 \nQ 809 1750 809 1328 \nz\nM 1003 3459 \nQ 1003 3125 1234 2900 \nQ 1466 2675 1781 2675 \nQ 2097 2675 2330 2900 \nQ 2563 3125 2563 3459 \nQ 2563 3803 2341 4026 \nQ 2119 4250 1781 4250 \nQ 1450 4250 1226 4029 \nQ 1003 3809 1003 3459 \nz\n\" transform=\"scale(0.015625)\"/>\n       </defs>\n       <use xlink:href=\"#MalgunGothic-38\"/>\n      </g>\n     </g>\n    </g>\n    <g id=\"xtick_9\">\n     <g id=\"line2d_9\">\n      <g>\n       <use xlink:href=\"#m5f3abf31fc\" x=\"422.604087\" y=\"99.82\" style=\"stroke: #000000; stroke-width: 0.8\"/>\n      </g>\n     </g>\n     <g id=\"text_9\">\n      <!-- 9 -->\n      <g transform=\"translate(419.85018 114.412187)scale(0.1 -0.1)\">\n       <defs>\n        <path id=\"MalgunGothic-39\" d=\"M 556 563 \nQ 941 344 1366 344 \nQ 1994 344 2347 855 \nQ 2700 1366 2700 2313 \nQ 2694 2306 2688 2313 \nQ 2388 1713 1653 1713 \nQ 1059 1713 682 2120 \nQ 306 2528 306 3144 \nQ 306 3806 711 4240 \nQ 1116 4675 1772 4675 \nQ 2466 4675 2833 4131 \nQ 3200 3588 3200 2578 \nQ 3200 1319 2717 620 \nQ 2234 -78 1344 -78 \nQ 881 -78 556 78 \nL 556 563 \nz\nM 813 3219 \nQ 813 2741 1063 2450 \nQ 1313 2159 1759 2159 \nQ 2147 2159 2406 2417 \nQ 2666 2675 2666 3047 \nQ 2666 3556 2411 3903 \nQ 2156 4250 1725 4250 \nQ 1322 4250 1067 3948 \nQ 813 3647 813 3219 \nz\n\" transform=\"scale(0.015625)\"/>\n       </defs>\n       <use xlink:href=\"#MalgunGothic-39\"/>\n      </g>\n     </g>\n    </g>\n    <g id=\"xtick_10\">\n     <g id=\"line2d_10\">\n      <g>\n       <use xlink:href=\"#m5f3abf31fc\" x=\"465.595192\" y=\"99.82\" style=\"stroke: #000000; stroke-width: 0.8\"/>\n      </g>\n     </g>\n     <g id=\"text_10\">\n      <!-- 10 -->\n      <g transform=\"translate(460.08738 114.412187)scale(0.1 -0.1)\">\n       <defs>\n        <path id=\"MalgunGothic-30\" d=\"M 278 2206 \nQ 278 3425 675 4050 \nQ 1072 4675 1819 4675 \nQ 3253 4675 3253 2319 \nQ 3253 1156 2854 539 \nQ 2456 -78 1716 -78 \nQ 1016 -78 647 520 \nQ 278 1119 278 2206 \nz\nM 784 2231 \nQ 784 344 1769 344 \nQ 2747 344 2747 2259 \nQ 2747 4250 1794 4250 \nQ 784 4250 784 2231 \nz\n\" transform=\"scale(0.015625)\"/>\n       </defs>\n       <use xlink:href=\"#MalgunGothic-31\"/>\n       <use xlink:href=\"#MalgunGothic-30\" x=\"55.078125\"/>\n      </g>\n     </g>\n    </g>\n    <g id=\"xtick_11\">\n     <g id=\"line2d_11\">\n      <g>\n       <use xlink:href=\"#m5f3abf31fc\" x=\"508.586298\" y=\"99.82\" style=\"stroke: #000000; stroke-width: 0.8\"/>\n      </g>\n     </g>\n     <g id=\"text_11\">\n      <!-- 11 -->\n      <g transform=\"translate(503.078486 114.412187)scale(0.1 -0.1)\">\n       <use xlink:href=\"#MalgunGothic-31\"/>\n       <use xlink:href=\"#MalgunGothic-31\" x=\"55.078125\"/>\n      </g>\n     </g>\n    </g>\n    <g id=\"xtick_12\">\n     <g id=\"line2d_12\">\n      <g>\n       <use xlink:href=\"#m5f3abf31fc\" x=\"551.577404\" y=\"99.82\" style=\"stroke: #000000; stroke-width: 0.8\"/>\n      </g>\n     </g>\n     <g id=\"text_12\">\n      <!-- 12 -->\n      <g transform=\"translate(546.069591 114.412187)scale(0.1 -0.1)\">\n       <use xlink:href=\"#MalgunGothic-31\"/>\n       <use xlink:href=\"#MalgunGothic-32\" x=\"55.078125\"/>\n      </g>\n     </g>\n    </g>\n    <g id=\"text_13\">\n     <!-- 데이터 포인트 -->\n     <g transform=\"translate(304.864063 128.368437)scale(0.1 -0.1)\">\n      <defs>\n       <path id=\"MalgunGothic-b370\" d=\"M 5044 -563 \nL 5044 5466 \nL 5509 5466 \nL 5509 -563 \nL 5044 -563 \nz\nM 3897 -366 \nL 3897 2859 \nL 2650 2859 \nL 2650 3272 \nL 3897 3272 \nL 3897 5344 \nL 4359 5344 \nL 4359 -366 \nL 3897 -366 \nz\nM 3359 1094 \nQ 2766 1019 909 1019 \nL 909 4966 \nL 3138 4966 \nL 3138 4550 \nL 1369 4550 \nL 1369 1428 \nQ 2897 1428 3328 1491 \nL 3359 1094 \nz\n\" transform=\"scale(0.015625)\"/>\n       <path id=\"MalgunGothic-c774\" d=\"M 4947 -563 \nL 4947 5466 \nL 5416 5466 \nL 5416 -563 \nL 4947 -563 \nz\nM 2284 959 \nQ 1597 959 1173 1514 \nQ 750 2069 750 3016 \nQ 750 3975 1169 4522 \nQ 1588 5069 2284 5069 \nQ 2978 5069 3403 4522 \nQ 3828 3975 3828 3016 \nQ 3828 2063 3401 1511 \nQ 2975 959 2284 959 \nz\nM 2284 4653 \nQ 1803 4653 1503 4204 \nQ 1203 3756 1203 3016 \nQ 1203 2278 1506 1826 \nQ 1809 1375 2284 1375 \nQ 2756 1375 3061 1828 \nQ 3366 2281 3366 3016 \nQ 3366 3759 3067 4206 \nQ 2769 4653 2284 4653 \nz\n\" transform=\"scale(0.015625)\"/>\n       <path id=\"MalgunGothic-d130\" d=\"M 4891 -563 \nL 4891 2516 \nL 3706 2516 \nL 3706 2925 \nL 4891 2925 \nL 4891 5466 \nL 5356 5466 \nL 5356 -563 \nL 4891 -563 \nz\nM 1422 2816 \nL 1422 1331 \nL 2144 1331 \nQ 3525 1331 4141 1409 \nL 4172 1006 \nQ 3694 950 3141 936 \nQ 2588 922 953 922 \nL 953 4953 \nL 3841 4953 \nL 3841 4531 \nL 1422 4531 \nL 1422 3219 \nL 3181 3219 \nL 3181 2816 \nL 1422 2816 \nz\n\" transform=\"scale(0.015625)\"/>\n       <path id=\"MalgunGothic-20\" transform=\"scale(0.015625)\"/>\n       <path id=\"MalgunGothic-d3ec\" d=\"M 997 4897 \nL 5403 4897 \nL 5403 4488 \nL 997 4488 \nL 997 4897 \nz\nM 4494 2478 \nL 5478 2478 \nL 5478 2059 \nL 3438 2059 \nL 3438 756 \nL 5997 756 \nL 5997 341 \nL 403 341 \nL 403 756 \nL 2963 756 \nL 2963 2059 \nL 922 2059 \nL 922 2478 \nL 1906 2478 \nL 1831 4172 \nL 2291 4172 \nL 2375 2478 \nL 4025 2478 \nL 4109 4172 \nL 4569 4172 \nL 4494 2478 \nz\n\" transform=\"scale(0.015625)\"/>\n       <path id=\"MalgunGothic-c778\" d=\"M 4947 1063 \nL 4947 5466 \nL 5416 5466 \nL 5416 1063 \nL 4947 1063 \nz\nM 2438 2175 \nQ 1763 2175 1309 2601 \nQ 856 3028 856 3706 \nQ 856 4388 1307 4811 \nQ 1759 5234 2438 5234 \nQ 3116 5234 3564 4812 \nQ 4013 4391 4013 3706 \nQ 4013 3028 3563 2601 \nQ 3113 2175 2438 2175 \nz\nM 2438 4819 \nQ 1944 4819 1634 4516 \nQ 1325 4213 1325 3706 \nQ 1325 3200 1633 2895 \nQ 1941 2591 2438 2591 \nQ 2934 2591 3243 2895 \nQ 3553 3200 3553 3706 \nQ 3553 4213 3243 4516 \nQ 2934 4819 2438 4819 \nz\nM 1613 -331 \nL 1613 1625 \nL 2081 1625 \nL 2081 91 \nL 5575 91 \nL 5575 -331 \nL 1613 -331 \nz\n\" transform=\"scale(0.015625)\"/>\n       <path id=\"MalgunGothic-d2b8\" d=\"M 5131 4469 \nL 1766 4469 \nL 1766 3597 \nL 4959 3597 \nL 4959 3181 \nL 1766 3181 \nL 1766 2356 \nL 5228 2356 \nL 5228 1941 \nL 1306 1941 \nL 1306 4878 \nL 5131 4878 \nL 5131 4469 \nz\nM 403 384 \nL 403 800 \nL 5997 800 \nL 5997 384 \nL 403 384 \nz\n\" transform=\"scale(0.015625)\"/>\n      </defs>\n      <use xlink:href=\"#MalgunGothic-b370\"/>\n      <use xlink:href=\"#MalgunGothic-c774\" x=\"100\"/>\n      <use xlink:href=\"#MalgunGothic-d130\" x=\"200\"/>\n      <use xlink:href=\"#MalgunGothic-20\" x=\"300\"/>\n      <use xlink:href=\"#MalgunGothic-d3ec\" x=\"335.15625\"/>\n      <use xlink:href=\"#MalgunGothic-c778\" x=\"435.15625\"/>\n      <use xlink:href=\"#MalgunGothic-d2b8\" x=\"535.15625\"/>\n     </g>\n    </g>\n   </g>\n   <g id=\"matplotlib.axis_2\">\n    <g id=\"ytick_1\">\n     <g id=\"line2d_13\">\n      <defs>\n       <path id=\"m9f3cdcf7cd\" d=\"M 0 0 \nL -3.5 0 \n\" style=\"stroke: #000000; stroke-width: 0.8\"/>\n      </defs>\n      <g>\n       <use xlink:href=\"#m9f3cdcf7cd\" x=\"57.179688\" y=\"29.402986\" style=\"stroke: #000000; stroke-width: 0.8\"/>\n      </g>\n     </g>\n     <g id=\"text_14\">\n      <!-- 분할 1 -->\n      <g transform=\"translate(21.15625 33.19908)scale(0.1 -0.1)\">\n       <defs>\n        <path id=\"MalgunGothic-bd84\" d=\"M 1338 2994 \nL 1338 5306 \nL 1806 5306 \nL 1806 4525 \nL 4594 4525 \nL 4594 5306 \nL 5056 5306 \nL 5056 2994 \nL 1338 2994 \nz\nM 4594 4109 \nL 1806 4109 \nL 1806 3406 \nL 4594 3406 \nL 4594 4109 \nz\nM 3456 1863 \nL 3456 494 \nL 2988 494 \nL 2988 1863 \nL 403 1863 \nL 403 2278 \nL 5997 2278 \nL 5997 1863 \nL 3456 1863 \nz\nM 1288 -384 \nL 1288 1344 \nL 1753 1344 \nL 1753 31 \nL 5216 31 \nL 5216 -384 \nL 1288 -384 \nz\n\" transform=\"scale(0.015625)\"/>\n        <path id=\"MalgunGothic-d560\" d=\"M 447 4506 \nL 447 4903 \nL 1997 4903 \nL 1997 5563 \nL 2463 5563 \nL 2463 4903 \nL 4019 4903 \nL 4019 4506 \nL 447 4506 \nz\nM 5125 3278 \nL 5125 2106 \nL 4659 2106 \nL 4659 5466 \nL 5125 5466 \nL 5125 3688 \nL 6034 3688 \nL 6034 3278 \nL 5125 3278 \nz\nM 2228 2234 \nQ 1528 2234 1133 2495 \nQ 738 2756 738 3194 \nQ 738 3634 1130 3896 \nQ 1522 4159 2234 4159 \nQ 2944 4159 3337 3893 \nQ 3731 3628 3731 3194 \nQ 3731 2759 3332 2496 \nQ 2934 2234 2228 2234 \nz\nM 2234 3788 \nQ 1750 3788 1476 3627 \nQ 1203 3466 1203 3194 \nQ 1203 2922 1481 2767 \nQ 1759 2613 2234 2613 \nQ 2713 2613 2984 2769 \nQ 3256 2925 3256 3194 \nQ 3256 3463 2989 3625 \nQ 2722 3788 2234 3788 \nz\nM 1428 -506 \nL 1428 844 \nL 4666 844 \nL 4666 1369 \nL 1428 1369 \nL 1428 1772 \nL 5125 1772 \nL 5125 459 \nL 1888 459 \nL 1888 -109 \nL 5288 -109 \nL 5288 -506 \nL 1428 -506 \nz\n\" transform=\"scale(0.015625)\"/>\n       </defs>\n       <use xlink:href=\"#MalgunGothic-bd84\"/>\n       <use xlink:href=\"#MalgunGothic-d560\" x=\"100\"/>\n       <use xlink:href=\"#MalgunGothic-20\" x=\"200\"/>\n       <use xlink:href=\"#MalgunGothic-31\" x=\"235.15625\"/>\n      </g>\n     </g>\n    </g>\n    <g id=\"ytick_2\">\n     <g id=\"line2d_14\">\n      <g>\n       <use xlink:href=\"#m9f3cdcf7cd\" x=\"57.179688\" y=\"50.511204\" style=\"stroke: #000000; stroke-width: 0.8\"/>\n      </g>\n     </g>\n     <g id=\"text_15\">\n      <!-- 분할 2 -->\n      <g transform=\"translate(21.15625 54.307297)scale(0.1 -0.1)\">\n       <use xlink:href=\"#MalgunGothic-bd84\"/>\n       <use xlink:href=\"#MalgunGothic-d560\" x=\"100\"/>\n       <use xlink:href=\"#MalgunGothic-20\" x=\"200\"/>\n       <use xlink:href=\"#MalgunGothic-32\" x=\"235.15625\"/>\n      </g>\n     </g>\n    </g>\n    <g id=\"ytick_3\">\n     <g id=\"line2d_15\">\n      <g>\n       <use xlink:href=\"#m9f3cdcf7cd\" x=\"57.179688\" y=\"71.619421\" style=\"stroke: #000000; stroke-width: 0.8\"/>\n      </g>\n     </g>\n     <g id=\"text_16\">\n      <!-- 분할 3 -->\n      <g transform=\"translate(21.15625 75.415515)scale(0.1 -0.1)\">\n       <use xlink:href=\"#MalgunGothic-bd84\"/>\n       <use xlink:href=\"#MalgunGothic-d560\" x=\"100\"/>\n       <use xlink:href=\"#MalgunGothic-20\" x=\"200\"/>\n       <use xlink:href=\"#MalgunGothic-33\" x=\"235.15625\"/>\n      </g>\n     </g>\n    </g>\n    <g id=\"ytick_4\">\n     <g id=\"line2d_16\">\n      <g>\n       <use xlink:href=\"#m9f3cdcf7cd\" x=\"57.179688\" y=\"92.727639\" style=\"stroke: #000000; stroke-width: 0.8\"/>\n      </g>\n     </g>\n     <g id=\"text_17\">\n      <!-- 그룹 -->\n      <g transform=\"translate(30.179688 96.523733)scale(0.1 -0.1)\">\n       <defs>\n        <path id=\"MalgunGothic-adf8\" d=\"M 403 622 \nL 403 1038 \nL 4434 1038 \nQ 4563 1981 4563 3053 \nL 4563 4481 \nL 1253 4481 \nL 1253 4897 \nL 5031 4897 \nL 5031 3238 \nQ 5031 2322 4891 1038 \nL 5997 1038 \nL 5997 622 \nL 403 622 \nz\n\" transform=\"scale(0.015625)\"/>\n        <path id=\"MalgunGothic-b8f9\" d=\"M 1344 3072 \nL 1344 4441 \nL 4594 4441 \nL 4594 4953 \nL 1344 4953 \nL 1344 5363 \nL 5056 5363 \nL 5056 4031 \nL 1806 4031 \nL 1806 3481 \nL 5191 3481 \nL 5191 3072 \nL 1344 3072 \nz\nM 3438 2144 \nL 3438 1222 \nL 2963 1222 \nL 2963 2144 \nL 403 2144 \nL 403 2553 \nL 5997 2553 \nL 5997 2144 \nL 3438 2144 \nz\nM 1325 -453 \nL 1325 1672 \nL 1784 1672 \nL 1784 941 \nL 4609 941 \nL 4609 1672 \nL 5069 1672 \nL 5069 -453 \nL 1325 -453 \nz\nM 4609 531 \nL 1784 531 \nL 1784 -38 \nL 4609 -38 \nL 4609 531 \nz\n\" transform=\"scale(0.015625)\"/>\n       </defs>\n       <use xlink:href=\"#MalgunGothic-adf8\"/>\n       <use xlink:href=\"#MalgunGothic-b8f9\" x=\"100\"/>\n      </g>\n     </g>\n    </g>\n    <g id=\"text_18\">\n     <!-- 교차 검증 반복 -->\n     <g transform=\"translate(14.792187 94.580937)rotate(-90)scale(0.1 -0.1)\">\n      <defs>\n       <path id=\"MalgunGothic-ad50\" d=\"M 5088 1631 \nL 4628 1684 \nQ 4716 2581 4716 3597 \nL 4716 4475 \nL 1131 4475 \nL 1131 4897 \nL 5197 4897 \nL 5197 3597 \nQ 5197 2713 5088 1631 \nz\nM 403 459 \nL 403 884 \nL 1850 884 \nL 1850 2931 \nL 2309 2931 \nL 2309 884 \nL 3378 884 \nL 3378 2931 \nL 3841 2931 \nL 3841 884 \nL 5997 884 \nL 5997 459 \nL 403 459 \nz\n\" transform=\"scale(0.015625)\"/>\n       <path id=\"MalgunGothic-cc28\" d=\"M 3803 972 \nQ 3288 1272 2848 1772 \nQ 2409 2272 2266 2663 \nQ 2144 2278 1692 1715 \nQ 1241 1153 775 850 \nL 428 1197 \nQ 1084 1513 1559 2223 \nQ 2034 2934 2034 3597 \nL 2034 4206 \nL 563 4206 \nL 563 4622 \nL 2028 4622 \nL 2028 5466 \nL 2491 5466 \nL 2491 4622 \nL 3956 4622 \nL 3956 4206 \nL 2491 4206 \nL 2491 3578 \nQ 2491 2938 2966 2281 \nQ 3441 1625 4122 1338 \nL 3803 972 \nz\nM 5094 2497 \nL 5094 -563 \nL 4628 -563 \nL 4628 5466 \nL 5094 5466 \nL 5094 2919 \nL 6081 2919 \nL 6081 2497 \nL 5094 2497 \nz\n\" transform=\"scale(0.015625)\"/>\n       <path id=\"MalgunGothic-ac80\" d=\"M 4947 2113 \nL 4947 3359 \nL 3559 3359 \nL 3559 3775 \nL 4947 3775 \nL 4947 5466 \nL 5416 5466 \nL 5416 2113 \nL 4947 2113 \nz\nM 3603 5147 \nQ 3603 4181 2859 3287 \nQ 2116 2394 872 1913 \nL 538 2278 \nQ 1550 2600 2258 3292 \nQ 2966 3984 3072 4728 \nL 941 4728 \nL 941 5147 \nL 3603 5147 \nz\nM 1722 -397 \nL 1722 1778 \nL 5416 1778 \nL 5416 -397 \nL 1722 -397 \nz\nM 4953 1363 \nL 2181 1363 \nL 2181 13 \nL 4953 13 \nL 4953 1363 \nz\n\" transform=\"scale(0.015625)\"/>\n       <path id=\"MalgunGothic-c99d\" d=\"M 5459 3272 \nQ 4738 3378 4095 3717 \nQ 3453 4056 3206 4416 \nQ 2941 4056 2294 3717 \nQ 1647 3378 972 3278 \nL 697 3653 \nQ 1484 3716 2148 4086 \nQ 2813 4456 2950 4878 \nL 1025 4878 \nL 1025 5300 \nL 5375 5300 \nL 5375 4878 \nL 3456 4878 \nQ 3600 4459 4270 4084 \nQ 4941 3709 5703 3653 \nL 5459 3272 \nz\nM 403 2328 \nL 403 2747 \nL 5997 2747 \nL 5997 2328 \nL 403 2328 \nz\nM 3200 -500 \nQ 2263 -500 1766 -200 \nQ 1269 100 1269 628 \nQ 1269 1144 1767 1442 \nQ 2266 1741 3200 1741 \nQ 4134 1741 4632 1442 \nQ 5131 1144 5131 628 \nQ 5131 100 4634 -200 \nQ 4138 -500 3200 -500 \nz\nM 3200 1344 \nQ 2481 1344 2117 1155 \nQ 1753 966 1753 628 \nQ 1753 284 2123 90 \nQ 2494 -103 3200 -103 \nQ 3903 -103 4275 90 \nQ 4647 284 4647 628 \nQ 4647 966 4281 1155 \nQ 3916 1344 3200 1344 \nz\n\" transform=\"scale(0.015625)\"/>\n       <path id=\"MalgunGothic-bc18\" d=\"M 5125 3169 \nL 5125 1063 \nL 4659 1063 \nL 4659 5466 \nL 5125 5466 \nL 5125 3591 \nL 6034 3591 \nL 6034 3169 \nL 5125 3169 \nz\nM 756 2119 \nL 756 5178 \nL 1216 5178 \nL 1216 4019 \nL 3059 4019 \nL 3059 5178 \nL 3519 5178 \nL 3519 2119 \nL 756 2119 \nz\nM 3059 3603 \nL 1216 3603 \nL 1216 2534 \nL 3059 2534 \nL 3059 3603 \nz\nM 1453 -372 \nL 1453 1478 \nL 1919 1478 \nL 1919 44 \nL 5294 44 \nL 5294 -372 \nL 1453 -372 \nz\n\" transform=\"scale(0.015625)\"/>\n       <path id=\"MalgunGothic-bcf5\" d=\"M 403 1984 \nL 403 2400 \nL 2963 2400 \nL 2963 3097 \nL 1356 3097 \nL 1356 5350 \nL 1819 5350 \nL 1819 4647 \nL 4581 4647 \nL 4581 5350 \nL 5044 5350 \nL 5044 3097 \nL 3438 3097 \nL 3438 2400 \nL 5997 2400 \nL 5997 1984 \nL 403 1984 \nz\nM 4581 4231 \nL 1819 4231 \nL 1819 3506 \nL 4581 3506 \nL 4581 4231 \nz\nM 4609 -563 \nL 4609 966 \nL 1197 966 \nL 1197 1381 \nL 5075 1381 \nL 5075 -563 \nL 4609 -563 \nz\n\" transform=\"scale(0.015625)\"/>\n      </defs>\n      <use xlink:href=\"#MalgunGothic-ad50\"/>\n      <use xlink:href=\"#MalgunGothic-cc28\" x=\"100\"/>\n      <use xlink:href=\"#MalgunGothic-20\" x=\"200\"/>\n      <use xlink:href=\"#MalgunGothic-ac80\" x=\"235.15625\"/>\n      <use xlink:href=\"#MalgunGothic-c99d\" x=\"335.15625\"/>\n      <use xlink:href=\"#MalgunGothic-20\" x=\"435.15625\"/>\n      <use xlink:href=\"#MalgunGothic-bc18\" x=\"470.3125\"/>\n      <use xlink:href=\"#MalgunGothic-bcf5\" x=\"570.3125\"/>\n     </g>\n    </g>\n   </g>\n   <g id=\"text_19\">\n    <!-- 0 -->\n    <g transform=\"translate(75.921334 94.838461)scale(0.1 -0.1)\">\n     <use xlink:href=\"#MalgunGothic-30\"/>\n    </g>\n   </g>\n   <g id=\"text_20\">\n    <!-- 0 -->\n    <g transform=\"translate(118.91244 94.838461)scale(0.1 -0.1)\">\n     <use xlink:href=\"#MalgunGothic-30\"/>\n    </g>\n   </g>\n   <g id=\"text_21\">\n    <!-- 0 -->\n    <g transform=\"translate(161.903546 94.838461)scale(0.1 -0.1)\">\n     <use xlink:href=\"#MalgunGothic-30\"/>\n    </g>\n   </g>\n   <g id=\"text_22\">\n    <!-- 1 -->\n    <g transform=\"translate(204.894651 94.838461)scale(0.1 -0.1)\">\n     <use xlink:href=\"#MalgunGothic-31\"/>\n    </g>\n   </g>\n   <g id=\"text_23\">\n    <!-- 1 -->\n    <g transform=\"translate(247.885757 94.838461)scale(0.1 -0.1)\">\n     <use xlink:href=\"#MalgunGothic-31\"/>\n    </g>\n   </g>\n   <g id=\"text_24\">\n    <!-- 1 -->\n    <g transform=\"translate(290.876863 94.838461)scale(0.1 -0.1)\">\n     <use xlink:href=\"#MalgunGothic-31\"/>\n    </g>\n   </g>\n   <g id=\"text_25\">\n    <!-- 1 -->\n    <g transform=\"translate(333.867969 94.838461)scale(0.1 -0.1)\">\n     <use xlink:href=\"#MalgunGothic-31\"/>\n    </g>\n   </g>\n   <g id=\"text_26\">\n    <!-- 2 -->\n    <g transform=\"translate(376.859075 94.838461)scale(0.1 -0.1)\">\n     <use xlink:href=\"#MalgunGothic-32\"/>\n    </g>\n   </g>\n   <g id=\"text_27\">\n    <!-- 2 -->\n    <g transform=\"translate(419.85018 94.838461)scale(0.1 -0.1)\">\n     <use xlink:href=\"#MalgunGothic-32\"/>\n    </g>\n   </g>\n   <g id=\"text_28\">\n    <!-- 3 -->\n    <g transform=\"translate(462.841286 94.838461)scale(0.1 -0.1)\">\n     <use xlink:href=\"#MalgunGothic-33\"/>\n    </g>\n   </g>\n   <g id=\"text_29\">\n    <!-- 3 -->\n    <g transform=\"translate(505.832392 94.838461)scale(0.1 -0.1)\">\n     <use xlink:href=\"#MalgunGothic-33\"/>\n    </g>\n   </g>\n   <g id=\"text_30\">\n    <!-- 3 -->\n    <g transform=\"translate(548.823498 94.838461)scale(0.1 -0.1)\">\n     <use xlink:href=\"#MalgunGothic-33\"/>\n    </g>\n   </g>\n   <g id=\"text_31\">\n    <!-- GroupKFold -->\n    <g transform=\"translate(304.489063 16.310625)scale(0.12 -0.12)\">\n     <defs>\n      <path id=\"MalgunGothic-47\" d=\"M 4022 316 \nQ 3334 -78 2491 -78 \nQ 1525 -78 915 558 \nQ 306 1194 306 2238 \nQ 306 3303 979 3989 \nQ 1653 4675 2681 4675 \nQ 3453 4675 3938 4428 \nL 3938 3856 \nQ 3381 4209 2619 4209 \nQ 1838 4209 1338 3671 \nQ 838 3134 838 2278 \nQ 838 1391 1300 887 \nQ 1763 384 2563 384 \nQ 3128 384 3516 606 \nL 3516 1922 \nL 2503 1922 \nL 2503 2384 \nL 4022 2384 \nL 4022 316 \nz\n\" transform=\"scale(0.015625)\"/>\n      <path id=\"MalgunGothic-72\" d=\"M 2225 2775 \nQ 2084 2881 1828 2881 \nQ 1491 2881 1262 2553 \nQ 1034 2225 1034 1681 \nL 1034 0 \nL 538 0 \nL 538 3284 \nL 1034 3284 \nL 1034 2603 \nL 1047 2603 \nQ 1159 2950 1389 3145 \nQ 1619 3341 1903 3341 \nQ 2109 3341 2225 3297 \nL 2225 2775 \nz\n\" transform=\"scale(0.015625)\"/>\n      <path id=\"MalgunGothic-6f\" d=\"M 316 1600 \nQ 316 2419 761 2889 \nQ 1206 3359 1978 3359 \nQ 2697 3359 3111 2907 \nQ 3525 2456 3525 1650 \nQ 3525 869 3078 395 \nQ 2631 -78 1900 -78 \nQ 1184 -78 750 384 \nQ 316 847 316 1600 \nz\nM 819 1622 \nQ 819 1041 1123 692 \nQ 1428 344 1934 344 \nQ 2459 344 2739 680 \nQ 3019 1016 3019 1634 \nQ 3019 2256 2737 2598 \nQ 2456 2941 1934 2941 \nQ 1425 2941 1122 2587 \nQ 819 2234 819 1622 \nz\n\" transform=\"scale(0.015625)\"/>\n      <path id=\"MalgunGothic-75\" d=\"M 3166 0 \nL 2669 0 \nL 2669 519 \nL 2656 519 \nQ 2331 -78 1644 -78 \nQ 469 -78 469 1322 \nL 469 3284 \nL 959 3284 \nL 959 1403 \nQ 959 344 1766 344 \nQ 2159 344 2414 636 \nQ 2669 928 2669 1394 \nL 2669 3284 \nL 3166 3284 \nL 3166 0 \nz\n\" transform=\"scale(0.015625)\"/>\n      <path id=\"MalgunGothic-70\" d=\"M 1034 481 \nL 1034 -1513 \nL 538 -1513 \nL 538 3284 \nL 1034 3284 \nL 1034 2703 \nL 1047 2703 \nQ 1438 3359 2184 3359 \nQ 2809 3359 3171 2920 \nQ 3534 2481 3534 1738 \nQ 3534 906 3126 414 \nQ 2719 -78 2034 -78 \nQ 1394 -78 1047 481 \nL 1034 481 \nz\nM 1034 1331 \nQ 1034 922 1307 633 \nQ 1581 344 1991 344 \nQ 2475 344 2751 716 \nQ 3028 1088 3028 1753 \nQ 3028 2300 2767 2620 \nQ 2506 2941 2072 2941 \nQ 1619 2941 1326 2619 \nQ 1034 2297 1034 1806 \nL 1034 1331 \nz\n\" transform=\"scale(0.015625)\"/>\n      <path id=\"MalgunGothic-4b\" d=\"M 3769 0 \nL 3053 0 \nL 1250 2109 \nQ 1150 2225 1128 2263 \nL 1113 2263 \nL 1113 0 \nL 609 0 \nL 609 4600 \nL 1113 4600 \nL 1113 2438 \nL 1128 2438 \nQ 1175 2509 1250 2588 \nL 3000 4600 \nL 3628 4600 \nL 1634 2394 \nL 3769 0 \nz\n\" transform=\"scale(0.015625)\"/>\n      <path id=\"MalgunGothic-46\" d=\"M 2922 4134 \nL 1113 4134 \nL 1113 2516 \nL 2788 2516 \nL 2788 2050 \nL 1113 2050 \nL 1113 0 \nL 609 0 \nL 609 4600 \nL 2922 4600 \nL 2922 4134 \nz\n\" transform=\"scale(0.015625)\"/>\n      <path id=\"MalgunGothic-6c\" d=\"M 541 0 \nL 541 4859 \nL 1034 4859 \nL 1034 0 \nL 541 0 \nz\n\" transform=\"scale(0.015625)\"/>\n      <path id=\"MalgunGothic-64\" d=\"M 3313 0 \nL 2822 0 \nL 2822 566 \nL 2809 566 \nQ 2444 -78 1675 -78 \nQ 1056 -78 686 364 \nQ 316 806 316 1566 \nQ 316 2375 728 2867 \nQ 1141 3359 1816 3359 \nQ 2494 3359 2809 2822 \nL 2822 2822 \nL 2822 4859 \nL 3313 4859 \nL 3313 0 \nz\nM 2822 1978 \nQ 2822 2378 2550 2659 \nQ 2278 2941 1872 2941 \nQ 1384 2941 1101 2577 \nQ 819 2213 819 1591 \nQ 819 1025 1086 684 \nQ 1353 344 1813 344 \nQ 2250 344 2536 666 \nQ 2822 988 2822 1478 \nL 2822 1978 \nz\n\" transform=\"scale(0.015625)\"/>\n     </defs>\n     <use xlink:href=\"#MalgunGothic-47\"/>\n     <use xlink:href=\"#MalgunGothic-72\" x=\"70.166016\"/>\n     <use xlink:href=\"#MalgunGothic-6f\" x=\"104.142578\"/>\n     <use xlink:href=\"#MalgunGothic-75\" x=\"164.054688\"/>\n     <use xlink:href=\"#MalgunGothic-70\" x=\"221.867188\"/>\n     <use xlink:href=\"#MalgunGothic-4b\" x=\"281.925781\"/>\n     <use xlink:href=\"#MalgunGothic-46\" x=\"340.958984\"/>\n     <use xlink:href=\"#MalgunGothic-6f\" x=\"390.8125\"/>\n     <use xlink:href=\"#MalgunGothic-6c\" x=\"450.724609\"/>\n     <use xlink:href=\"#MalgunGothic-64\" x=\"475.333984\"/>\n    </g>\n   </g>\n   <g id=\"legend_1\">\n    <g id=\"patch_50\">\n     <path d=\"M 618.064063 76.567187 \nL 703.579688 76.567187 \nQ 705.579688 76.567187 705.579688 74.567187 \nL 705.579688 45.654687 \nQ 705.579688 43.654687 703.579688 43.654687 \nL 618.064063 43.654687 \nQ 616.064063 43.654687 616.064063 45.654687 \nL 616.064063 74.567187 \nQ 616.064063 76.567187 618.064063 76.567187 \nz\n\" style=\"fill: #ffffff; opacity: 0.8; stroke: #cccccc; stroke-linejoin: miter\"/>\n    </g>\n    <g id=\"patch_51\">\n     <path d=\"M 620.064063 55.246875 \nL 640.064063 55.246875 \nL 640.064063 48.246875 \nL 620.064063 48.246875 \nz\n\" style=\"fill: url(#ha6d39d7842); stroke: #000000; stroke-linejoin: miter\"/>\n    </g>\n    <g id=\"text_32\">\n     <!-- 훈련 세트 -->\n     <g transform=\"translate(648.064063 55.246875)scale(0.1 -0.1)\">\n      <defs>\n       <path id=\"MalgunGothic-d6c8\" d=\"M 934 4506 \nL 934 4916 \nL 2969 4916 \nL 2969 5472 \nL 3431 5472 \nL 3431 4916 \nL 5466 4916 \nL 5466 4506 \nL 934 4506 \nz\nM 3200 2413 \nQ 2234 2413 1737 2663 \nQ 1241 2913 1241 3334 \nQ 1241 3766 1747 4014 \nQ 2253 4263 3200 4263 \nQ 4144 4263 4648 4014 \nQ 5153 3766 5153 3334 \nQ 5153 2916 4661 2664 \nQ 4169 2413 3200 2413 \nz\nM 3200 3866 \nQ 2494 3866 2114 3716 \nQ 1734 3566 1734 3334 \nQ 1734 3100 2115 2954 \nQ 2497 2809 3200 2809 \nQ 3903 2809 4284 2954 \nQ 4666 3100 4666 3334 \nQ 4666 3563 4286 3714 \nQ 3906 3866 3200 3866 \nz\nM 3463 1550 \nL 3463 397 \nL 3003 397 \nL 3003 1550 \nL 403 1550 \nL 403 1959 \nL 5997 1959 \nL 5997 1550 \nL 3463 1550 \nz\nM 1247 -488 \nL 1247 1050 \nL 1709 1050 \nL 1709 -72 \nL 5269 -72 \nL 5269 -488 \nL 1247 -488 \nz\n\" transform=\"scale(0.015625)\"/>\n       <path id=\"MalgunGothic-b828\" d=\"M 3834 2816 \nL 3834 3225 \nL 4947 3225 \nL 4947 4078 \nL 3847 4078 \nL 3847 4481 \nL 4947 4481 \nL 4947 5466 \nL 5416 5466 \nL 5416 1063 \nL 4947 1063 \nL 4947 2816 \nL 3834 2816 \nz\nM 3828 2059 \nQ 3372 1984 2900 1965 \nQ 2428 1947 991 1947 \nL 991 3803 \nL 3009 3803 \nL 3009 4728 \nL 991 4728 \nL 991 5141 \nL 3475 5141 \nL 3475 3400 \nL 1459 3400 \nL 1459 2356 \nL 2181 2356 \nQ 3225 2356 3763 2456 \nL 3828 2059 \nz\nM 1703 -366 \nL 1703 1453 \nL 2175 1453 \nL 2175 56 \nL 5575 56 \nL 5575 -366 \nL 1703 -366 \nz\n\" transform=\"scale(0.015625)\"/>\n       <path id=\"MalgunGothic-c138\" d=\"M 5038 -563 \nL 5038 5466 \nL 5503 5466 \nL 5503 -563 \nL 5038 -563 \nz\nM 3944 -378 \nL 3944 2975 \nL 2894 2975 \nL 2894 3391 \nL 3944 3391 \nL 3944 5344 \nL 4403 5344 \nL 4403 -378 \nL 3944 -378 \nz\nM 3116 850 \nQ 2306 1647 1984 2734 \nQ 1881 2291 1529 1722 \nQ 1178 1153 775 769 \nL 409 1063 \nQ 941 1438 1350 2248 \nQ 1759 3059 1759 3834 \nL 1759 5025 \nL 2222 5025 \nL 2222 3828 \nQ 2222 3075 2589 2328 \nQ 2956 1581 3469 1153 \nL 3116 850 \nz\n\" transform=\"scale(0.015625)\"/>\n      </defs>\n      <use xlink:href=\"#MalgunGothic-d6c8\"/>\n      <use xlink:href=\"#MalgunGothic-b828\" x=\"100\"/>\n      <use xlink:href=\"#MalgunGothic-20\" x=\"200\"/>\n      <use xlink:href=\"#MalgunGothic-c138\" x=\"235.15625\"/>\n      <use xlink:href=\"#MalgunGothic-d2b8\" x=\"335.15625\"/>\n     </g>\n    </g>\n    <g id=\"patch_52\">\n     <path d=\"M 620.064063 70.203125 \nL 640.064063 70.203125 \nL 640.064063 63.203125 \nL 620.064063 63.203125 \nz\n\" style=\"fill: url(#hc11969bb03); stroke: #000000; stroke-linejoin: miter\"/>\n    </g>\n    <g id=\"text_33\">\n     <!-- 테스트 세트 -->\n     <g transform=\"translate(648.064063 70.203125)scale(0.1 -0.1)\">\n      <defs>\n       <path id=\"MalgunGothic-d14c\" d=\"M 5044 -563 \nL 5044 5466 \nL 5509 5466 \nL 5509 -563 \nL 5044 -563 \nz\nM 3897 -366 \nL 3897 2503 \nL 2963 2503 \nL 2963 2919 \nL 3897 2919 \nL 3897 5344 \nL 4359 5344 \nL 4359 -366 \nL 3897 -366 \nz\nM 1313 2828 \nL 1313 1363 \nQ 2809 1363 3263 1434 \nL 3297 1031 \nQ 2781 953 844 953 \nL 844 4966 \nL 3072 4966 \nL 3072 4550 \nL 1313 4550 \nL 1313 3238 \nL 2528 3238 \nL 2528 2828 \nL 1313 2828 \nz\n\" transform=\"scale(0.015625)\"/>\n       <path id=\"MalgunGothic-c2a4\" d=\"M 3194 3897 \nQ 2969 3416 2328 2930 \nQ 1688 2444 959 2247 \nL 641 2619 \nQ 1703 2841 2329 3472 \nQ 2956 4103 2956 4659 \nL 2956 4978 \nL 3438 4978 \nL 3438 4659 \nQ 3438 4094 4073 3476 \nQ 4709 2859 5759 2625 \nL 5428 2253 \nQ 4694 2481 4058 2956 \nQ 3422 3431 3194 3897 \nz\nM 5997 447 \nL 403 447 \nL 403 863 \nL 5997 863 \nL 5997 447 \nz\n\" transform=\"scale(0.015625)\"/>\n      </defs>\n      <use xlink:href=\"#MalgunGothic-d14c\"/>\n      <use xlink:href=\"#MalgunGothic-c2a4\" x=\"100\"/>\n      <use xlink:href=\"#MalgunGothic-d2b8\" x=\"200\"/>\n      <use xlink:href=\"#MalgunGothic-20\" x=\"300\"/>\n      <use xlink:href=\"#MalgunGothic-c138\" x=\"335.15625\"/>\n      <use xlink:href=\"#MalgunGothic-d2b8\" x=\"435.15625\"/>\n     </g>\n    </g>\n   </g>\n  </g>\n </g>\n <defs>\n  <clipPath id=\"p6e7849c18b\">\n   <rect x=\"57.179688\" y=\"22.310625\" width=\"558.884375\" height=\"77.509375\"/>\n  </clipPath>\n </defs>\n <defs>\n  <pattern id=\"ha6d39d7842\" patternUnits=\"userSpaceOnUse\" x=\"0\" y=\"0\" width=\"72\" height=\"72\">\n   <rect x=\"0\" y=\"0\" width=\"73\" height=\"73\" fill=\"#ffffff\"/>\n   <path d=\"M -36 36 \nL 36 -36 \nM -30 42 \nL 42 -30 \nM -24 48 \nL 48 -24 \nM -18 54 \nL 54 -18 \nM -12 60 \nL 60 -12 \nM -6 66 \nL 66 -6 \nM 0 72 \nL 72 0 \nM 6 78 \nL 78 6 \nM 12 84 \nL 84 12 \nM 18 90 \nL 90 18 \nM 24 96 \nL 96 24 \nM 30 102 \nL 102 30 \nM 36 108 \nL 108 36 \n\" style=\"fill: #000000; stroke: #000000; stroke-width: 1.0; stroke-linecap: butt; stroke-linejoin: miter\"/>\n  </pattern>\n  <pattern id=\"hc11969bb03\" patternUnits=\"userSpaceOnUse\" x=\"0\" y=\"0\" width=\"72\" height=\"72\">\n   <rect x=\"0\" y=\"0\" width=\"73\" height=\"73\" fill=\"#808080\"/>\n   <path d=\"M -36 36 \nL 36 -36 \nM -30 42 \nL 42 -30 \nM -24 48 \nL 48 -24 \nM -18 54 \nL 54 -18 \nM -12 60 \nL 60 -12 \nM -6 66 \nL 66 -6 \nM 0 72 \nL 72 0 \nM 6 78 \nL 78 6 \nM 12 84 \nL 84 12 \nM 18 90 \nL 90 18 \nM 24 96 \nL 96 24 \nM 30 102 \nL 102 30 \nM 36 108 \nL 108 36 \n\" style=\"fill: #000000; stroke: #000000; stroke-width: 1.0; stroke-linecap: butt; stroke-linejoin: miter\"/>\n  </pattern>\n </defs>\n</svg>\n",
      "text/plain": [
       "<Figure size 720x144 with 1 Axes>"
      ]
     },
     "metadata": {
      "needs_background": "light"
     },
     "output_type": "display_data"
    }
   ],
   "source": [
    "mglearn.plots.plot_group_kfold()"
   ]
  },
  {
   "cell_type": "code",
   "execution_count": null,
   "metadata": {},
   "outputs": [],
   "source": []
  }
 ],
 "metadata": {
  "kernelspec": {
   "display_name": "base",
   "language": "python",
   "name": "python3"
  },
  "language_info": {
   "codemirror_mode": {
    "name": "ipython",
    "version": 3
   },
   "file_extension": ".py",
   "mimetype": "text/x-python",
   "name": "python",
   "nbconvert_exporter": "python",
   "pygments_lexer": "ipython3",
   "version": "3.9.12"
  },
  "orig_nbformat": 4,
  "vscode": {
   "interpreter": {
    "hash": "610a6f344c2137faf927ea819c63f6cee33a2c04455044b28099f39fe9722347"
   }
  }
 },
 "nbformat": 4,
 "nbformat_minor": 2
}
