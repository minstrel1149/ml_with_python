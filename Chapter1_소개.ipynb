{
 "cells": [
  {
   "cell_type": "code",
   "execution_count": 2,
   "metadata": {},
   "outputs": [
    {
     "name": "stderr",
     "output_type": "stream",
     "text": [
      "c:\\Users\\admin\\anaconda3\\lib\\site-packages\\outdated\\utils.py:14: OutdatedPackageWarning: The package pingouin is out of date. Your version is 0.5.2, the latest is 0.5.3.\n",
      "Set the environment variable OUTDATED_IGNORE=1 to disable these warnings.\n",
      "  return warn(\n"
     ]
    }
   ],
   "source": [
    "import os, sys\n",
    "import datetime\n",
    "from datetime import datetime, date, timedelta\n",
    "import numpy as np\n",
    "%matplotlib inline\n",
    "import matplotlib.pyplot as plt\n",
    "import seaborn as sns\n",
    "import pandas as pd\n",
    "from pandas.plotting import scatter_matrix\n",
    "from pandas_profiling import ProfileReport\n",
    "import mglearn\n",
    "plt.rcParams['font.family'] = 'Malgun Gothic'\n",
    "plt.rcParams['axes.unicode_minus'] = False\n",
    "%config InlineBackend.figure_format = 'svg'\n",
    "from mpl_toolkits.mplot3d import Axes3D, axes3d\n",
    "from scipy import sparse\n",
    "import scipy.stats as ss\n",
    "import scipy.cluster.hierarchy as sch\n",
    "import pingouin as pg\n",
    "import spacy, nltk\n",
    "from konlpy.tag import Okt"
   ]
  },
  {
   "cell_type": "code",
   "execution_count": 17,
   "metadata": {},
   "outputs": [],
   "source": [
    "from sklearn.datasets import load_iris"
   ]
  },
  {
   "cell_type": "code",
   "execution_count": null,
   "metadata": {},
   "outputs": [],
   "source": []
  },
  {
   "cell_type": "code",
   "execution_count": 8,
   "metadata": {},
   "outputs": [
    {
     "data": {
      "text/plain": [
       "array([[1., 0., 0., 0.],\n",
       "       [0., 1., 0., 0.],\n",
       "       [0., 0., 1., 0.],\n",
       "       [0., 0., 0., 1.]])"
      ]
     },
     "execution_count": 8,
     "metadata": {},
     "output_type": "execute_result"
    }
   ],
   "source": [
    "eye = np.eye(4)\n",
    "identity = np.identity(4)\n",
    "eye == identity\n",
    "sparse_matrix = sparse.csr_matrix(eye)\n",
    "sparse_matrix.toarray()"
   ]
  },
  {
   "cell_type": "code",
   "execution_count": 12,
   "metadata": {},
   "outputs": [
    {
     "data": {
      "text/plain": [
       "<4x4 sparse matrix of type '<class 'numpy.float64'>'\n",
       "\twith 4 stored elements in COOrdinate format>"
      ]
     },
     "execution_count": 12,
     "metadata": {},
     "output_type": "execute_result"
    }
   ],
   "source": [
    "data = np.ones(4)\n",
    "row_indices = np.arange(4)\n",
    "col_indices = np.arange(4)\n",
    "# (0, 0), (1, 1)의 개념인듯\n",
    "eye_coo = sparse.coo_matrix((data, (row_indices, col_indices)))\n",
    "eye_coo"
   ]
  },
  {
   "cell_type": "code",
   "execution_count": 16,
   "metadata": {},
   "outputs": [
    {
     "data": {
      "text/plain": [
       "[<matplotlib.lines.Line2D at 0x1ab18d34b50>]"
      ]
     },
     "execution_count": 16,
     "metadata": {},
     "output_type": "execute_result"
    },
    {
     "data": {
      "image/svg+xml": "<?xml version=\"1.0\" encoding=\"utf-8\" standalone=\"no\"?>\n<!DOCTYPE svg PUBLIC \"-//W3C//DTD SVG 1.1//EN\"\n  \"http://www.w3.org/Graphics/SVG/1.1/DTD/svg11.dtd\">\n<svg xmlns:xlink=\"http://www.w3.org/1999/xlink\" width=\"379.0125pt\" height=\"248.79625pt\" viewBox=\"0 0 379.0125 248.79625\" xmlns=\"http://www.w3.org/2000/svg\" version=\"1.1\">\n <metadata>\n  <rdf:RDF xmlns:dc=\"http://purl.org/dc/elements/1.1/\" xmlns:cc=\"http://creativecommons.org/ns#\" xmlns:rdf=\"http://www.w3.org/1999/02/22-rdf-syntax-ns#\">\n   <cc:Work>\n    <dc:type rdf:resource=\"http://purl.org/dc/dcmitype/StillImage\"/>\n    <dc:date>2022-12-31T17:39:59.427668</dc:date>\n    <dc:format>image/svg+xml</dc:format>\n    <dc:creator>\n     <cc:Agent>\n      <dc:title>Matplotlib v3.5.1, https://matplotlib.org/</dc:title>\n     </cc:Agent>\n    </dc:creator>\n   </cc:Work>\n  </rdf:RDF>\n </metadata>\n <defs>\n  <style type=\"text/css\">*{stroke-linejoin: round; stroke-linecap: butt}</style>\n </defs>\n <g id=\"figure_1\">\n  <g id=\"patch_1\">\n   <path d=\"M 0 248.79625 \nL 379.0125 248.79625 \nL 379.0125 0 \nL 0 0 \nL 0 248.79625 \nz\n\" style=\"fill: none\"/>\n  </g>\n  <g id=\"axes_1\">\n   <g id=\"patch_2\">\n    <path d=\"M 37.0125 224.64 \nL 371.8125 224.64 \nL 371.8125 7.2 \nL 37.0125 7.2 \nz\n\" style=\"fill: #ffffff\"/>\n   </g>\n   <g id=\"matplotlib.axis_1\">\n    <g id=\"xtick_1\">\n     <g id=\"line2d_1\">\n      <defs>\n       <path id=\"m6ba031deba\" d=\"M 0 0 \nL 0 3.5 \n\" style=\"stroke: #000000; stroke-width: 0.8\"/>\n      </defs>\n      <g>\n       <use xlink:href=\"#m6ba031deba\" x=\"52.230682\" y=\"224.64\" style=\"stroke: #000000; stroke-width: 0.8\"/>\n      </g>\n     </g>\n     <g id=\"text_1\">\n      <!-- -10.0 -->\n      <g transform=\"translate(40.824432 239.232187)scale(0.1 -0.1)\">\n       <defs>\n        <path id=\"MalgunGothic-2d\" d=\"M 2213 1634 \nL 463 1634 \nL 463 2031 \nL 2213 2031 \nL 2213 1634 \nz\n\" transform=\"scale(0.015625)\"/>\n        <path id=\"MalgunGothic-31\" d=\"M 2231 0 \nL 1734 0 \nL 1734 3972 \nQ 1591 3828 1266 3661 \nQ 941 3494 672 3428 \nL 672 3959 \nQ 1016 4056 1409 4275 \nQ 1803 4494 2031 4700 \nL 2231 4700 \nL 2231 0 \nz\n\" transform=\"scale(0.015625)\"/>\n        <path id=\"MalgunGothic-30\" d=\"M 278 2206 \nQ 278 3425 675 4050 \nQ 1072 4675 1819 4675 \nQ 3253 4675 3253 2319 \nQ 3253 1156 2854 539 \nQ 2456 -78 1716 -78 \nQ 1016 -78 647 520 \nQ 278 1119 278 2206 \nz\nM 784 2231 \nQ 784 344 1769 344 \nQ 2747 344 2747 2259 \nQ 2747 4250 1794 4250 \nQ 784 4250 784 2231 \nz\n\" transform=\"scale(0.015625)\"/>\n        <path id=\"MalgunGothic-2e\" d=\"M 356 275 \nQ 356 422 459 523 \nQ 563 625 700 625 \nQ 838 625 941 523 \nQ 1044 422 1044 275 \nQ 1044 138 942 33 \nQ 841 -72 700 -72 \nQ 559 -72 457 29 \nQ 356 131 356 275 \nz\n\" transform=\"scale(0.015625)\"/>\n       </defs>\n       <use xlink:href=\"#MalgunGothic-2d\"/>\n       <use xlink:href=\"#MalgunGothic-31\" x=\"41.015625\"/>\n       <use xlink:href=\"#MalgunGothic-30\" x=\"96.09375\"/>\n       <use xlink:href=\"#MalgunGothic-2e\" x=\"151.171875\"/>\n       <use xlink:href=\"#MalgunGothic-30\" x=\"173.046875\"/>\n      </g>\n     </g>\n    </g>\n    <g id=\"xtick_2\">\n     <g id=\"line2d_2\">\n      <g>\n       <use xlink:href=\"#m6ba031deba\" x=\"90.276136\" y=\"224.64\" style=\"stroke: #000000; stroke-width: 0.8\"/>\n      </g>\n     </g>\n     <g id=\"text_2\">\n      <!-- -7.5 -->\n      <g transform=\"translate(81.623793 239.232187)scale(0.1 -0.1)\">\n       <defs>\n        <path id=\"MalgunGothic-37\" d=\"M 3213 4297 \nQ 2478 3006 2064 1918 \nQ 1650 831 1550 0 \nL 1009 0 \nQ 1084 531 1290 1176 \nQ 1497 1822 1815 2537 \nQ 2134 3253 2631 4147 \nL 291 4147 \nL 291 4600 \nL 3213 4600 \nL 3213 4297 \nz\n\" transform=\"scale(0.015625)\"/>\n        <path id=\"MalgunGothic-35\" d=\"M 3072 1403 \nQ 3072 722 2636 322 \nQ 2200 -78 1469 -78 \nQ 828 -78 516 113 \nL 516 650 \nQ 994 344 1475 344 \nQ 1969 344 2270 630 \nQ 2572 916 2572 1372 \nQ 2572 1838 2265 2092 \nQ 1959 2347 1381 2347 \nQ 994 2347 603 2300 \nL 759 4600 \nL 2869 4600 \nL 2869 4147 \nL 1206 4147 \nL 1106 2763 \nQ 1347 2784 1547 2784 \nQ 2263 2784 2667 2414 \nQ 3072 2044 3072 1403 \nz\n\" transform=\"scale(0.015625)\"/>\n       </defs>\n       <use xlink:href=\"#MalgunGothic-2d\"/>\n       <use xlink:href=\"#MalgunGothic-37\" x=\"41.015625\"/>\n       <use xlink:href=\"#MalgunGothic-2e\" x=\"96.09375\"/>\n       <use xlink:href=\"#MalgunGothic-35\" x=\"117.96875\"/>\n      </g>\n     </g>\n    </g>\n    <g id=\"xtick_3\">\n     <g id=\"line2d_3\">\n      <g>\n       <use xlink:href=\"#m6ba031deba\" x=\"128.321591\" y=\"224.64\" style=\"stroke: #000000; stroke-width: 0.8\"/>\n      </g>\n     </g>\n     <g id=\"text_3\">\n      <!-- -5.0 -->\n      <g transform=\"translate(119.669247 239.232187)scale(0.1 -0.1)\">\n       <use xlink:href=\"#MalgunGothic-2d\"/>\n       <use xlink:href=\"#MalgunGothic-35\" x=\"41.015625\"/>\n       <use xlink:href=\"#MalgunGothic-2e\" x=\"96.09375\"/>\n       <use xlink:href=\"#MalgunGothic-30\" x=\"117.96875\"/>\n      </g>\n     </g>\n    </g>\n    <g id=\"xtick_4\">\n     <g id=\"line2d_4\">\n      <g>\n       <use xlink:href=\"#m6ba031deba\" x=\"166.367045\" y=\"224.64\" style=\"stroke: #000000; stroke-width: 0.8\"/>\n      </g>\n     </g>\n     <g id=\"text_4\">\n      <!-- -2.5 -->\n      <g transform=\"translate(157.714702 239.232187)scale(0.1 -0.1)\">\n       <defs>\n        <path id=\"MalgunGothic-32\" d=\"M 2519 3372 \nQ 2519 3784 2275 4018 \nQ 2031 4253 1628 4253 \nQ 1341 4253 1053 4104 \nQ 766 3956 534 3697 \nL 534 4234 \nQ 981 4675 1691 4675 \nQ 2281 4675 2642 4334 \nQ 3003 3994 3003 3416 \nQ 3003 2919 2772 2545 \nQ 2541 2172 1984 1775 \nQ 1459 1406 1254 1215 \nQ 1050 1025 967 854 \nQ 884 684 884 450 \nL 3116 450 \nL 3116 0 \nL 356 0 \nL 356 225 \nQ 356 603 461 870 \nQ 566 1138 811 1392 \nQ 1056 1647 1597 2022 \nQ 2091 2363 2305 2670 \nQ 2519 2978 2519 3372 \nz\n\" transform=\"scale(0.015625)\"/>\n       </defs>\n       <use xlink:href=\"#MalgunGothic-2d\"/>\n       <use xlink:href=\"#MalgunGothic-32\" x=\"41.015625\"/>\n       <use xlink:href=\"#MalgunGothic-2e\" x=\"96.09375\"/>\n       <use xlink:href=\"#MalgunGothic-35\" x=\"117.96875\"/>\n      </g>\n     </g>\n    </g>\n    <g id=\"xtick_5\">\n     <g id=\"line2d_5\">\n      <g>\n       <use xlink:href=\"#m6ba031deba\" x=\"204.4125\" y=\"224.64\" style=\"stroke: #000000; stroke-width: 0.8\"/>\n      </g>\n     </g>\n     <g id=\"text_5\">\n      <!-- 0.0 -->\n      <g transform=\"translate(197.810938 239.232187)scale(0.1 -0.1)\">\n       <use xlink:href=\"#MalgunGothic-30\"/>\n       <use xlink:href=\"#MalgunGothic-2e\" x=\"55.078125\"/>\n       <use xlink:href=\"#MalgunGothic-30\" x=\"76.953125\"/>\n      </g>\n     </g>\n    </g>\n    <g id=\"xtick_6\">\n     <g id=\"line2d_6\">\n      <g>\n       <use xlink:href=\"#m6ba031deba\" x=\"242.457955\" y=\"224.64\" style=\"stroke: #000000; stroke-width: 0.8\"/>\n      </g>\n     </g>\n     <g id=\"text_6\">\n      <!-- 2.5 -->\n      <g transform=\"translate(235.856392 239.232187)scale(0.1 -0.1)\">\n       <use xlink:href=\"#MalgunGothic-32\"/>\n       <use xlink:href=\"#MalgunGothic-2e\" x=\"55.078125\"/>\n       <use xlink:href=\"#MalgunGothic-35\" x=\"76.953125\"/>\n      </g>\n     </g>\n    </g>\n    <g id=\"xtick_7\">\n     <g id=\"line2d_7\">\n      <g>\n       <use xlink:href=\"#m6ba031deba\" x=\"280.503409\" y=\"224.64\" style=\"stroke: #000000; stroke-width: 0.8\"/>\n      </g>\n     </g>\n     <g id=\"text_7\">\n      <!-- 5.0 -->\n      <g transform=\"translate(273.901847 239.232187)scale(0.1 -0.1)\">\n       <use xlink:href=\"#MalgunGothic-35\"/>\n       <use xlink:href=\"#MalgunGothic-2e\" x=\"55.078125\"/>\n       <use xlink:href=\"#MalgunGothic-30\" x=\"76.953125\"/>\n      </g>\n     </g>\n    </g>\n    <g id=\"xtick_8\">\n     <g id=\"line2d_8\">\n      <g>\n       <use xlink:href=\"#m6ba031deba\" x=\"318.548864\" y=\"224.64\" style=\"stroke: #000000; stroke-width: 0.8\"/>\n      </g>\n     </g>\n     <g id=\"text_8\">\n      <!-- 7.5 -->\n      <g transform=\"translate(311.947301 239.232187)scale(0.1 -0.1)\">\n       <use xlink:href=\"#MalgunGothic-37\"/>\n       <use xlink:href=\"#MalgunGothic-2e\" x=\"55.078125\"/>\n       <use xlink:href=\"#MalgunGothic-35\" x=\"76.953125\"/>\n      </g>\n     </g>\n    </g>\n    <g id=\"xtick_9\">\n     <g id=\"line2d_9\">\n      <g>\n       <use xlink:href=\"#m6ba031deba\" x=\"356.594318\" y=\"224.64\" style=\"stroke: #000000; stroke-width: 0.8\"/>\n      </g>\n     </g>\n     <g id=\"text_9\">\n      <!-- 10.0 -->\n      <g transform=\"translate(347.238849 239.232187)scale(0.1 -0.1)\">\n       <use xlink:href=\"#MalgunGothic-31\"/>\n       <use xlink:href=\"#MalgunGothic-30\" x=\"55.078125\"/>\n       <use xlink:href=\"#MalgunGothic-2e\" x=\"110.15625\"/>\n       <use xlink:href=\"#MalgunGothic-30\" x=\"132.03125\"/>\n      </g>\n     </g>\n    </g>\n   </g>\n   <g id=\"matplotlib.axis_2\">\n    <g id=\"ytick_1\">\n     <g id=\"line2d_10\">\n      <defs>\n       <path id=\"mcee53ca371\" d=\"M 0 0 \nL -3.5 0 \n\" style=\"stroke: #000000; stroke-width: 0.8\"/>\n      </defs>\n      <g>\n       <use xlink:href=\"#mcee53ca371\" x=\"37.0125\" y=\"214.817229\" style=\"stroke: #000000; stroke-width: 0.8\"/>\n      </g>\n     </g>\n     <g id=\"text_10\">\n      <!-- -1.00 -->\n      <g transform=\"translate(7.2 218.613323)scale(0.1 -0.1)\">\n       <use xlink:href=\"#MalgunGothic-2d\"/>\n       <use xlink:href=\"#MalgunGothic-31\" x=\"41.015625\"/>\n       <use xlink:href=\"#MalgunGothic-2e\" x=\"96.09375\"/>\n       <use xlink:href=\"#MalgunGothic-30\" x=\"117.96875\"/>\n       <use xlink:href=\"#MalgunGothic-30\" x=\"173.046875\"/>\n      </g>\n     </g>\n    </g>\n    <g id=\"ytick_2\">\n     <g id=\"line2d_11\">\n      <g>\n       <use xlink:href=\"#mcee53ca371\" x=\"37.0125\" y=\"190.092922\" style=\"stroke: #000000; stroke-width: 0.8\"/>\n      </g>\n     </g>\n     <g id=\"text_11\">\n      <!-- -0.75 -->\n      <g transform=\"translate(7.2 193.889016)scale(0.1 -0.1)\">\n       <use xlink:href=\"#MalgunGothic-2d\"/>\n       <use xlink:href=\"#MalgunGothic-30\" x=\"41.015625\"/>\n       <use xlink:href=\"#MalgunGothic-2e\" x=\"96.09375\"/>\n       <use xlink:href=\"#MalgunGothic-37\" x=\"117.96875\"/>\n       <use xlink:href=\"#MalgunGothic-35\" x=\"173.046875\"/>\n      </g>\n     </g>\n    </g>\n    <g id=\"ytick_3\">\n     <g id=\"line2d_12\">\n      <g>\n       <use xlink:href=\"#mcee53ca371\" x=\"37.0125\" y=\"165.368615\" style=\"stroke: #000000; stroke-width: 0.8\"/>\n      </g>\n     </g>\n     <g id=\"text_12\">\n      <!-- -0.50 -->\n      <g transform=\"translate(7.2 169.164708)scale(0.1 -0.1)\">\n       <use xlink:href=\"#MalgunGothic-2d\"/>\n       <use xlink:href=\"#MalgunGothic-30\" x=\"41.015625\"/>\n       <use xlink:href=\"#MalgunGothic-2e\" x=\"96.09375\"/>\n       <use xlink:href=\"#MalgunGothic-35\" x=\"117.96875\"/>\n       <use xlink:href=\"#MalgunGothic-30\" x=\"173.046875\"/>\n      </g>\n     </g>\n    </g>\n    <g id=\"ytick_4\">\n     <g id=\"line2d_13\">\n      <g>\n       <use xlink:href=\"#mcee53ca371\" x=\"37.0125\" y=\"140.644307\" style=\"stroke: #000000; stroke-width: 0.8\"/>\n      </g>\n     </g>\n     <g id=\"text_13\">\n      <!-- -0.25 -->\n      <g transform=\"translate(7.2 144.440401)scale(0.1 -0.1)\">\n       <use xlink:href=\"#MalgunGothic-2d\"/>\n       <use xlink:href=\"#MalgunGothic-30\" x=\"41.015625\"/>\n       <use xlink:href=\"#MalgunGothic-2e\" x=\"96.09375\"/>\n       <use xlink:href=\"#MalgunGothic-32\" x=\"117.96875\"/>\n       <use xlink:href=\"#MalgunGothic-35\" x=\"173.046875\"/>\n      </g>\n     </g>\n    </g>\n    <g id=\"ytick_5\">\n     <g id=\"line2d_14\">\n      <g>\n       <use xlink:href=\"#mcee53ca371\" x=\"37.0125\" y=\"115.92\" style=\"stroke: #000000; stroke-width: 0.8\"/>\n      </g>\n     </g>\n     <g id=\"text_14\">\n      <!-- 0.00 -->\n      <g transform=\"translate(11.301563 119.716094)scale(0.1 -0.1)\">\n       <use xlink:href=\"#MalgunGothic-30\"/>\n       <use xlink:href=\"#MalgunGothic-2e\" x=\"55.078125\"/>\n       <use xlink:href=\"#MalgunGothic-30\" x=\"76.953125\"/>\n       <use xlink:href=\"#MalgunGothic-30\" x=\"132.03125\"/>\n      </g>\n     </g>\n    </g>\n    <g id=\"ytick_6\">\n     <g id=\"line2d_15\">\n      <g>\n       <use xlink:href=\"#mcee53ca371\" x=\"37.0125\" y=\"91.195693\" style=\"stroke: #000000; stroke-width: 0.8\"/>\n      </g>\n     </g>\n     <g id=\"text_15\">\n      <!-- 0.25 -->\n      <g transform=\"translate(11.301563 94.991786)scale(0.1 -0.1)\">\n       <use xlink:href=\"#MalgunGothic-30\"/>\n       <use xlink:href=\"#MalgunGothic-2e\" x=\"55.078125\"/>\n       <use xlink:href=\"#MalgunGothic-32\" x=\"76.953125\"/>\n       <use xlink:href=\"#MalgunGothic-35\" x=\"132.03125\"/>\n      </g>\n     </g>\n    </g>\n    <g id=\"ytick_7\">\n     <g id=\"line2d_16\">\n      <g>\n       <use xlink:href=\"#mcee53ca371\" x=\"37.0125\" y=\"66.471385\" style=\"stroke: #000000; stroke-width: 0.8\"/>\n      </g>\n     </g>\n     <g id=\"text_16\">\n      <!-- 0.50 -->\n      <g transform=\"translate(11.301563 70.267479)scale(0.1 -0.1)\">\n       <use xlink:href=\"#MalgunGothic-30\"/>\n       <use xlink:href=\"#MalgunGothic-2e\" x=\"55.078125\"/>\n       <use xlink:href=\"#MalgunGothic-35\" x=\"76.953125\"/>\n       <use xlink:href=\"#MalgunGothic-30\" x=\"132.03125\"/>\n      </g>\n     </g>\n    </g>\n    <g id=\"ytick_8\">\n     <g id=\"line2d_17\">\n      <g>\n       <use xlink:href=\"#mcee53ca371\" x=\"37.0125\" y=\"41.747078\" style=\"stroke: #000000; stroke-width: 0.8\"/>\n      </g>\n     </g>\n     <g id=\"text_17\">\n      <!-- 0.75 -->\n      <g transform=\"translate(11.301563 45.543172)scale(0.1 -0.1)\">\n       <use xlink:href=\"#MalgunGothic-30\"/>\n       <use xlink:href=\"#MalgunGothic-2e\" x=\"55.078125\"/>\n       <use xlink:href=\"#MalgunGothic-37\" x=\"76.953125\"/>\n       <use xlink:href=\"#MalgunGothic-35\" x=\"132.03125\"/>\n      </g>\n     </g>\n    </g>\n    <g id=\"ytick_9\">\n     <g id=\"line2d_18\">\n      <g>\n       <use xlink:href=\"#mcee53ca371\" x=\"37.0125\" y=\"17.022771\" style=\"stroke: #000000; stroke-width: 0.8\"/>\n      </g>\n     </g>\n     <g id=\"text_18\">\n      <!-- 1.00 -->\n      <g transform=\"translate(11.301563 20.818865)scale(0.1 -0.1)\">\n       <use xlink:href=\"#MalgunGothic-31\"/>\n       <use xlink:href=\"#MalgunGothic-2e\" x=\"55.078125\"/>\n       <use xlink:href=\"#MalgunGothic-30\" x=\"76.953125\"/>\n       <use xlink:href=\"#MalgunGothic-30\" x=\"132.03125\"/>\n      </g>\n     </g>\n    </g>\n   </g>\n   <g id=\"line2d_19\">\n    <path d=\"M 52.230682 62.11782 \nL 55.305062 79.862195 \nL 58.379442 99.07317 \nL 61.453822 118.969365 \nL 64.528202 138.741532 \nL 67.602583 157.585466 \nL 70.676963 174.734718 \nL 73.751343 189.491766 \nL 76.825723 201.25639 \nL 79.900103 209.55008 \nL 82.974483 214.035502 \nL 86.048864 214.530219 \nL 89.123244 211.014108 \nL 92.197624 203.630183 \nL 95.272004 192.678773 \nL 98.346384 178.605311 \nL 101.420764 161.982216 \nL 104.495145 143.485607 \nL 107.569525 123.867807 \nL 110.643905 103.926741 \nL 113.718285 84.473484 \nL 116.792665 66.299268 \nL 119.867045 50.143303 \nL 122.941426 36.66271 \nL 126.015806 26.405792 \nL 129.090186 19.789735 \nL 132.164566 17.083636 \nL 135.238946 18.397564 \nL 138.313326 23.678074 \nL 141.387707 32.710391 \nL 144.462087 45.127138 \nL 147.536467 60.423282 \nL 150.610847 77.976674 \nL 153.685227 97.073357 \nL 156.759607 116.936598 \nL 159.833988 136.758492 \nL 162.908368 155.732809 \nL 165.982748 173.087799 \nL 169.057128 188.117571 \nL 172.131508 200.210812 \nL 175.205888 208.875647 \nL 178.280269 213.759646 \nL 181.354649 214.664159 \nL 184.429029 211.552397 \nL 187.503409 204.550925 \nL 190.577789 193.94452 \nL 193.652169 180.164581 \nL 196.72655 163.771587 \nL 199.80093 145.432298 \nL 202.87531 125.89264 \nL 205.94969 105.94736 \nL 209.02407 86.407702 \nL 212.09845 68.068413 \nL 215.172831 51.675419 \nL 218.247211 37.89548 \nL 221.321591 27.289075 \nL 224.395971 20.287603 \nL 227.470351 17.175841 \nL 230.544731 18.080354 \nL 233.619112 22.964353 \nL 236.693492 31.629188 \nL 239.767872 43.722429 \nL 242.842252 58.752201 \nL 245.916632 76.107191 \nL 248.991012 95.081508 \nL 252.065393 114.903402 \nL 255.139773 134.766643 \nL 258.214153 153.863326 \nL 261.288533 171.416718 \nL 264.362913 186.712862 \nL 267.437293 199.129609 \nL 270.511674 208.161926 \nL 273.586054 213.442436 \nL 276.660434 214.756364 \nL 279.734814 212.050265 \nL 282.809194 205.434208 \nL 285.883574 195.17729 \nL 288.957955 181.696697 \nL 292.032335 165.540732 \nL 295.106715 147.366516 \nL 298.181095 127.913259 \nL 301.255475 107.972193 \nL 304.329855 88.354393 \nL 307.404236 69.857784 \nL 310.478616 53.234689 \nL 313.552996 39.161227 \nL 316.627376 28.209817 \nL 319.701756 20.825892 \nL 322.776136 17.309781 \nL 325.850517 17.804498 \nL 328.924897 22.28992 \nL 331.999277 30.58361 \nL 335.073657 42.348234 \nL 338.148037 57.105282 \nL 341.222417 74.254534 \nL 344.296798 93.098468 \nL 347.371178 112.870635 \nL 350.445558 132.76683 \nL 353.519938 151.977805 \nL 356.594318 169.72218 \n\" clip-path=\"url(#p308cd00340)\" style=\"fill: none; stroke: #1f77b4; stroke-width: 1.5; stroke-linecap: square\"/>\n    <defs>\n     <path id=\"mfe8e3ab511\" d=\"M -3 3 \nL 3 -3 \nM -3 -3 \nL 3 3 \n\" style=\"stroke: #1f77b4\"/>\n    </defs>\n    <g clip-path=\"url(#p308cd00340)\">\n     <use xlink:href=\"#mfe8e3ab511\" x=\"52.230682\" y=\"62.11782\" style=\"fill: #1f77b4; stroke: #1f77b4\"/>\n     <use xlink:href=\"#mfe8e3ab511\" x=\"55.305062\" y=\"79.862195\" style=\"fill: #1f77b4; stroke: #1f77b4\"/>\n     <use xlink:href=\"#mfe8e3ab511\" x=\"58.379442\" y=\"99.07317\" style=\"fill: #1f77b4; stroke: #1f77b4\"/>\n     <use xlink:href=\"#mfe8e3ab511\" x=\"61.453822\" y=\"118.969365\" style=\"fill: #1f77b4; stroke: #1f77b4\"/>\n     <use xlink:href=\"#mfe8e3ab511\" x=\"64.528202\" y=\"138.741532\" style=\"fill: #1f77b4; stroke: #1f77b4\"/>\n     <use xlink:href=\"#mfe8e3ab511\" x=\"67.602583\" y=\"157.585466\" style=\"fill: #1f77b4; stroke: #1f77b4\"/>\n     <use xlink:href=\"#mfe8e3ab511\" x=\"70.676963\" y=\"174.734718\" style=\"fill: #1f77b4; stroke: #1f77b4\"/>\n     <use xlink:href=\"#mfe8e3ab511\" x=\"73.751343\" y=\"189.491766\" style=\"fill: #1f77b4; stroke: #1f77b4\"/>\n     <use xlink:href=\"#mfe8e3ab511\" x=\"76.825723\" y=\"201.25639\" style=\"fill: #1f77b4; stroke: #1f77b4\"/>\n     <use xlink:href=\"#mfe8e3ab511\" x=\"79.900103\" y=\"209.55008\" style=\"fill: #1f77b4; stroke: #1f77b4\"/>\n     <use xlink:href=\"#mfe8e3ab511\" x=\"82.974483\" y=\"214.035502\" style=\"fill: #1f77b4; stroke: #1f77b4\"/>\n     <use xlink:href=\"#mfe8e3ab511\" x=\"86.048864\" y=\"214.530219\" style=\"fill: #1f77b4; stroke: #1f77b4\"/>\n     <use xlink:href=\"#mfe8e3ab511\" x=\"89.123244\" y=\"211.014108\" style=\"fill: #1f77b4; stroke: #1f77b4\"/>\n     <use xlink:href=\"#mfe8e3ab511\" x=\"92.197624\" y=\"203.630183\" style=\"fill: #1f77b4; stroke: #1f77b4\"/>\n     <use xlink:href=\"#mfe8e3ab511\" x=\"95.272004\" y=\"192.678773\" style=\"fill: #1f77b4; stroke: #1f77b4\"/>\n     <use xlink:href=\"#mfe8e3ab511\" x=\"98.346384\" y=\"178.605311\" style=\"fill: #1f77b4; stroke: #1f77b4\"/>\n     <use xlink:href=\"#mfe8e3ab511\" x=\"101.420764\" y=\"161.982216\" style=\"fill: #1f77b4; stroke: #1f77b4\"/>\n     <use xlink:href=\"#mfe8e3ab511\" x=\"104.495145\" y=\"143.485607\" style=\"fill: #1f77b4; stroke: #1f77b4\"/>\n     <use xlink:href=\"#mfe8e3ab511\" x=\"107.569525\" y=\"123.867807\" style=\"fill: #1f77b4; stroke: #1f77b4\"/>\n     <use xlink:href=\"#mfe8e3ab511\" x=\"110.643905\" y=\"103.926741\" style=\"fill: #1f77b4; stroke: #1f77b4\"/>\n     <use xlink:href=\"#mfe8e3ab511\" x=\"113.718285\" y=\"84.473484\" style=\"fill: #1f77b4; stroke: #1f77b4\"/>\n     <use xlink:href=\"#mfe8e3ab511\" x=\"116.792665\" y=\"66.299268\" style=\"fill: #1f77b4; stroke: #1f77b4\"/>\n     <use xlink:href=\"#mfe8e3ab511\" x=\"119.867045\" y=\"50.143303\" style=\"fill: #1f77b4; stroke: #1f77b4\"/>\n     <use xlink:href=\"#mfe8e3ab511\" x=\"122.941426\" y=\"36.66271\" style=\"fill: #1f77b4; stroke: #1f77b4\"/>\n     <use xlink:href=\"#mfe8e3ab511\" x=\"126.015806\" y=\"26.405792\" style=\"fill: #1f77b4; stroke: #1f77b4\"/>\n     <use xlink:href=\"#mfe8e3ab511\" x=\"129.090186\" y=\"19.789735\" style=\"fill: #1f77b4; stroke: #1f77b4\"/>\n     <use xlink:href=\"#mfe8e3ab511\" x=\"132.164566\" y=\"17.083636\" style=\"fill: #1f77b4; stroke: #1f77b4\"/>\n     <use xlink:href=\"#mfe8e3ab511\" x=\"135.238946\" y=\"18.397564\" style=\"fill: #1f77b4; stroke: #1f77b4\"/>\n     <use xlink:href=\"#mfe8e3ab511\" x=\"138.313326\" y=\"23.678074\" style=\"fill: #1f77b4; stroke: #1f77b4\"/>\n     <use xlink:href=\"#mfe8e3ab511\" x=\"141.387707\" y=\"32.710391\" style=\"fill: #1f77b4; stroke: #1f77b4\"/>\n     <use xlink:href=\"#mfe8e3ab511\" x=\"144.462087\" y=\"45.127138\" style=\"fill: #1f77b4; stroke: #1f77b4\"/>\n     <use xlink:href=\"#mfe8e3ab511\" x=\"147.536467\" y=\"60.423282\" style=\"fill: #1f77b4; stroke: #1f77b4\"/>\n     <use xlink:href=\"#mfe8e3ab511\" x=\"150.610847\" y=\"77.976674\" style=\"fill: #1f77b4; stroke: #1f77b4\"/>\n     <use xlink:href=\"#mfe8e3ab511\" x=\"153.685227\" y=\"97.073357\" style=\"fill: #1f77b4; stroke: #1f77b4\"/>\n     <use xlink:href=\"#mfe8e3ab511\" x=\"156.759607\" y=\"116.936598\" style=\"fill: #1f77b4; stroke: #1f77b4\"/>\n     <use xlink:href=\"#mfe8e3ab511\" x=\"159.833988\" y=\"136.758492\" style=\"fill: #1f77b4; stroke: #1f77b4\"/>\n     <use xlink:href=\"#mfe8e3ab511\" x=\"162.908368\" y=\"155.732809\" style=\"fill: #1f77b4; stroke: #1f77b4\"/>\n     <use xlink:href=\"#mfe8e3ab511\" x=\"165.982748\" y=\"173.087799\" style=\"fill: #1f77b4; stroke: #1f77b4\"/>\n     <use xlink:href=\"#mfe8e3ab511\" x=\"169.057128\" y=\"188.117571\" style=\"fill: #1f77b4; stroke: #1f77b4\"/>\n     <use xlink:href=\"#mfe8e3ab511\" x=\"172.131508\" y=\"200.210812\" style=\"fill: #1f77b4; stroke: #1f77b4\"/>\n     <use xlink:href=\"#mfe8e3ab511\" x=\"175.205888\" y=\"208.875647\" style=\"fill: #1f77b4; stroke: #1f77b4\"/>\n     <use xlink:href=\"#mfe8e3ab511\" x=\"178.280269\" y=\"213.759646\" style=\"fill: #1f77b4; stroke: #1f77b4\"/>\n     <use xlink:href=\"#mfe8e3ab511\" x=\"181.354649\" y=\"214.664159\" style=\"fill: #1f77b4; stroke: #1f77b4\"/>\n     <use xlink:href=\"#mfe8e3ab511\" x=\"184.429029\" y=\"211.552397\" style=\"fill: #1f77b4; stroke: #1f77b4\"/>\n     <use xlink:href=\"#mfe8e3ab511\" x=\"187.503409\" y=\"204.550925\" style=\"fill: #1f77b4; stroke: #1f77b4\"/>\n     <use xlink:href=\"#mfe8e3ab511\" x=\"190.577789\" y=\"193.94452\" style=\"fill: #1f77b4; stroke: #1f77b4\"/>\n     <use xlink:href=\"#mfe8e3ab511\" x=\"193.652169\" y=\"180.164581\" style=\"fill: #1f77b4; stroke: #1f77b4\"/>\n     <use xlink:href=\"#mfe8e3ab511\" x=\"196.72655\" y=\"163.771587\" style=\"fill: #1f77b4; stroke: #1f77b4\"/>\n     <use xlink:href=\"#mfe8e3ab511\" x=\"199.80093\" y=\"145.432298\" style=\"fill: #1f77b4; stroke: #1f77b4\"/>\n     <use xlink:href=\"#mfe8e3ab511\" x=\"202.87531\" y=\"125.89264\" style=\"fill: #1f77b4; stroke: #1f77b4\"/>\n     <use xlink:href=\"#mfe8e3ab511\" x=\"205.94969\" y=\"105.94736\" style=\"fill: #1f77b4; stroke: #1f77b4\"/>\n     <use xlink:href=\"#mfe8e3ab511\" x=\"209.02407\" y=\"86.407702\" style=\"fill: #1f77b4; stroke: #1f77b4\"/>\n     <use xlink:href=\"#mfe8e3ab511\" x=\"212.09845\" y=\"68.068413\" style=\"fill: #1f77b4; stroke: #1f77b4\"/>\n     <use xlink:href=\"#mfe8e3ab511\" x=\"215.172831\" y=\"51.675419\" style=\"fill: #1f77b4; stroke: #1f77b4\"/>\n     <use xlink:href=\"#mfe8e3ab511\" x=\"218.247211\" y=\"37.89548\" style=\"fill: #1f77b4; stroke: #1f77b4\"/>\n     <use xlink:href=\"#mfe8e3ab511\" x=\"221.321591\" y=\"27.289075\" style=\"fill: #1f77b4; stroke: #1f77b4\"/>\n     <use xlink:href=\"#mfe8e3ab511\" x=\"224.395971\" y=\"20.287603\" style=\"fill: #1f77b4; stroke: #1f77b4\"/>\n     <use xlink:href=\"#mfe8e3ab511\" x=\"227.470351\" y=\"17.175841\" style=\"fill: #1f77b4; stroke: #1f77b4\"/>\n     <use xlink:href=\"#mfe8e3ab511\" x=\"230.544731\" y=\"18.080354\" style=\"fill: #1f77b4; stroke: #1f77b4\"/>\n     <use xlink:href=\"#mfe8e3ab511\" x=\"233.619112\" y=\"22.964353\" style=\"fill: #1f77b4; stroke: #1f77b4\"/>\n     <use xlink:href=\"#mfe8e3ab511\" x=\"236.693492\" y=\"31.629188\" style=\"fill: #1f77b4; stroke: #1f77b4\"/>\n     <use xlink:href=\"#mfe8e3ab511\" x=\"239.767872\" y=\"43.722429\" style=\"fill: #1f77b4; stroke: #1f77b4\"/>\n     <use xlink:href=\"#mfe8e3ab511\" x=\"242.842252\" y=\"58.752201\" style=\"fill: #1f77b4; stroke: #1f77b4\"/>\n     <use xlink:href=\"#mfe8e3ab511\" x=\"245.916632\" y=\"76.107191\" style=\"fill: #1f77b4; stroke: #1f77b4\"/>\n     <use xlink:href=\"#mfe8e3ab511\" x=\"248.991012\" y=\"95.081508\" style=\"fill: #1f77b4; stroke: #1f77b4\"/>\n     <use xlink:href=\"#mfe8e3ab511\" x=\"252.065393\" y=\"114.903402\" style=\"fill: #1f77b4; stroke: #1f77b4\"/>\n     <use xlink:href=\"#mfe8e3ab511\" x=\"255.139773\" y=\"134.766643\" style=\"fill: #1f77b4; stroke: #1f77b4\"/>\n     <use xlink:href=\"#mfe8e3ab511\" x=\"258.214153\" y=\"153.863326\" style=\"fill: #1f77b4; stroke: #1f77b4\"/>\n     <use xlink:href=\"#mfe8e3ab511\" x=\"261.288533\" y=\"171.416718\" style=\"fill: #1f77b4; stroke: #1f77b4\"/>\n     <use xlink:href=\"#mfe8e3ab511\" x=\"264.362913\" y=\"186.712862\" style=\"fill: #1f77b4; stroke: #1f77b4\"/>\n     <use xlink:href=\"#mfe8e3ab511\" x=\"267.437293\" y=\"199.129609\" style=\"fill: #1f77b4; stroke: #1f77b4\"/>\n     <use xlink:href=\"#mfe8e3ab511\" x=\"270.511674\" y=\"208.161926\" style=\"fill: #1f77b4; stroke: #1f77b4\"/>\n     <use xlink:href=\"#mfe8e3ab511\" x=\"273.586054\" y=\"213.442436\" style=\"fill: #1f77b4; stroke: #1f77b4\"/>\n     <use xlink:href=\"#mfe8e3ab511\" x=\"276.660434\" y=\"214.756364\" style=\"fill: #1f77b4; stroke: #1f77b4\"/>\n     <use xlink:href=\"#mfe8e3ab511\" x=\"279.734814\" y=\"212.050265\" style=\"fill: #1f77b4; stroke: #1f77b4\"/>\n     <use xlink:href=\"#mfe8e3ab511\" x=\"282.809194\" y=\"205.434208\" style=\"fill: #1f77b4; stroke: #1f77b4\"/>\n     <use xlink:href=\"#mfe8e3ab511\" x=\"285.883574\" y=\"195.17729\" style=\"fill: #1f77b4; stroke: #1f77b4\"/>\n     <use xlink:href=\"#mfe8e3ab511\" x=\"288.957955\" y=\"181.696697\" style=\"fill: #1f77b4; stroke: #1f77b4\"/>\n     <use xlink:href=\"#mfe8e3ab511\" x=\"292.032335\" y=\"165.540732\" style=\"fill: #1f77b4; stroke: #1f77b4\"/>\n     <use xlink:href=\"#mfe8e3ab511\" x=\"295.106715\" y=\"147.366516\" style=\"fill: #1f77b4; stroke: #1f77b4\"/>\n     <use xlink:href=\"#mfe8e3ab511\" x=\"298.181095\" y=\"127.913259\" style=\"fill: #1f77b4; stroke: #1f77b4\"/>\n     <use xlink:href=\"#mfe8e3ab511\" x=\"301.255475\" y=\"107.972193\" style=\"fill: #1f77b4; stroke: #1f77b4\"/>\n     <use xlink:href=\"#mfe8e3ab511\" x=\"304.329855\" y=\"88.354393\" style=\"fill: #1f77b4; stroke: #1f77b4\"/>\n     <use xlink:href=\"#mfe8e3ab511\" x=\"307.404236\" y=\"69.857784\" style=\"fill: #1f77b4; stroke: #1f77b4\"/>\n     <use xlink:href=\"#mfe8e3ab511\" x=\"310.478616\" y=\"53.234689\" style=\"fill: #1f77b4; stroke: #1f77b4\"/>\n     <use xlink:href=\"#mfe8e3ab511\" x=\"313.552996\" y=\"39.161227\" style=\"fill: #1f77b4; stroke: #1f77b4\"/>\n     <use xlink:href=\"#mfe8e3ab511\" x=\"316.627376\" y=\"28.209817\" style=\"fill: #1f77b4; stroke: #1f77b4\"/>\n     <use xlink:href=\"#mfe8e3ab511\" x=\"319.701756\" y=\"20.825892\" style=\"fill: #1f77b4; stroke: #1f77b4\"/>\n     <use xlink:href=\"#mfe8e3ab511\" x=\"322.776136\" y=\"17.309781\" style=\"fill: #1f77b4; stroke: #1f77b4\"/>\n     <use xlink:href=\"#mfe8e3ab511\" x=\"325.850517\" y=\"17.804498\" style=\"fill: #1f77b4; stroke: #1f77b4\"/>\n     <use xlink:href=\"#mfe8e3ab511\" x=\"328.924897\" y=\"22.28992\" style=\"fill: #1f77b4; stroke: #1f77b4\"/>\n     <use xlink:href=\"#mfe8e3ab511\" x=\"331.999277\" y=\"30.58361\" style=\"fill: #1f77b4; stroke: #1f77b4\"/>\n     <use xlink:href=\"#mfe8e3ab511\" x=\"335.073657\" y=\"42.348234\" style=\"fill: #1f77b4; stroke: #1f77b4\"/>\n     <use xlink:href=\"#mfe8e3ab511\" x=\"338.148037\" y=\"57.105282\" style=\"fill: #1f77b4; stroke: #1f77b4\"/>\n     <use xlink:href=\"#mfe8e3ab511\" x=\"341.222417\" y=\"74.254534\" style=\"fill: #1f77b4; stroke: #1f77b4\"/>\n     <use xlink:href=\"#mfe8e3ab511\" x=\"344.296798\" y=\"93.098468\" style=\"fill: #1f77b4; stroke: #1f77b4\"/>\n     <use xlink:href=\"#mfe8e3ab511\" x=\"347.371178\" y=\"112.870635\" style=\"fill: #1f77b4; stroke: #1f77b4\"/>\n     <use xlink:href=\"#mfe8e3ab511\" x=\"350.445558\" y=\"132.76683\" style=\"fill: #1f77b4; stroke: #1f77b4\"/>\n     <use xlink:href=\"#mfe8e3ab511\" x=\"353.519938\" y=\"151.977805\" style=\"fill: #1f77b4; stroke: #1f77b4\"/>\n     <use xlink:href=\"#mfe8e3ab511\" x=\"356.594318\" y=\"169.72218\" style=\"fill: #1f77b4; stroke: #1f77b4\"/>\n    </g>\n   </g>\n   <g id=\"patch_3\">\n    <path d=\"M 37.0125 224.64 \nL 37.0125 7.2 \n\" style=\"fill: none; stroke: #000000; stroke-width: 0.8; stroke-linejoin: miter; stroke-linecap: square\"/>\n   </g>\n   <g id=\"patch_4\">\n    <path d=\"M 371.8125 224.64 \nL 371.8125 7.2 \n\" style=\"fill: none; stroke: #000000; stroke-width: 0.8; stroke-linejoin: miter; stroke-linecap: square\"/>\n   </g>\n   <g id=\"patch_5\">\n    <path d=\"M 37.0125 224.64 \nL 371.8125 224.64 \n\" style=\"fill: none; stroke: #000000; stroke-width: 0.8; stroke-linejoin: miter; stroke-linecap: square\"/>\n   </g>\n   <g id=\"patch_6\">\n    <path d=\"M 37.0125 7.2 \nL 371.8125 7.2 \n\" style=\"fill: none; stroke: #000000; stroke-width: 0.8; stroke-linejoin: miter; stroke-linecap: square\"/>\n   </g>\n  </g>\n </g>\n <defs>\n  <clipPath id=\"p308cd00340\">\n   <rect x=\"37.0125\" y=\"7.2\" width=\"334.8\" height=\"217.44\"/>\n  </clipPath>\n </defs>\n</svg>\n",
      "text/plain": [
       "<Figure size 432x288 with 1 Axes>"
      ]
     },
     "metadata": {
      "needs_background": "light"
     },
     "output_type": "display_data"
    }
   ],
   "source": [
    "x = np.linspace(-10, 10, 100)\n",
    "y = np.sin(x)\n",
    "plt.plot(x, y, marker='x')"
   ]
  },
  {
   "cell_type": "code",
   "execution_count": 19,
   "metadata": {},
   "outputs": [
    {
     "data": {
      "text/plain": [
       "dict_keys(['data', 'target', 'frame', 'target_names', 'DESCR', 'feature_names', 'filename', 'data_module'])"
      ]
     },
     "execution_count": 19,
     "metadata": {},
     "output_type": "execute_result"
    }
   ],
   "source": [
    "iris_dataset = load_iris()\n",
    "iris_dataset.keys()"
   ]
  },
  {
   "cell_type": "code",
   "execution_count": 34,
   "metadata": {},
   "outputs": [
    {
     "data": {
      "text/html": [
       "<div>\n",
       "<style scoped>\n",
       "    .dataframe tbody tr th:only-of-type {\n",
       "        vertical-align: middle;\n",
       "    }\n",
       "\n",
       "    .dataframe tbody tr th {\n",
       "        vertical-align: top;\n",
       "    }\n",
       "\n",
       "    .dataframe thead th {\n",
       "        text-align: right;\n",
       "    }\n",
       "</style>\n",
       "<table border=\"1\" class=\"dataframe\">\n",
       "  <thead>\n",
       "    <tr style=\"text-align: right;\">\n",
       "      <th></th>\n",
       "      <th>sepal length (cm)</th>\n",
       "      <th>sepal width (cm)</th>\n",
       "      <th>petal length (cm)</th>\n",
       "      <th>petal width (cm)</th>\n",
       "      <th>target</th>\n",
       "    </tr>\n",
       "  </thead>\n",
       "  <tbody>\n",
       "    <tr>\n",
       "      <th>0</th>\n",
       "      <td>5.1</td>\n",
       "      <td>3.5</td>\n",
       "      <td>1.4</td>\n",
       "      <td>0.2</td>\n",
       "      <td>0</td>\n",
       "    </tr>\n",
       "    <tr>\n",
       "      <th>1</th>\n",
       "      <td>4.9</td>\n",
       "      <td>3.0</td>\n",
       "      <td>1.4</td>\n",
       "      <td>0.2</td>\n",
       "      <td>0</td>\n",
       "    </tr>\n",
       "    <tr>\n",
       "      <th>2</th>\n",
       "      <td>4.7</td>\n",
       "      <td>3.2</td>\n",
       "      <td>1.3</td>\n",
       "      <td>0.2</td>\n",
       "      <td>0</td>\n",
       "    </tr>\n",
       "    <tr>\n",
       "      <th>3</th>\n",
       "      <td>4.6</td>\n",
       "      <td>3.1</td>\n",
       "      <td>1.5</td>\n",
       "      <td>0.2</td>\n",
       "      <td>0</td>\n",
       "    </tr>\n",
       "    <tr>\n",
       "      <th>4</th>\n",
       "      <td>5.0</td>\n",
       "      <td>3.6</td>\n",
       "      <td>1.4</td>\n",
       "      <td>0.2</td>\n",
       "      <td>0</td>\n",
       "    </tr>\n",
       "  </tbody>\n",
       "</table>\n",
       "</div>"
      ],
      "text/plain": [
       "   sepal length (cm)  sepal width (cm)  petal length (cm)  petal width (cm)  \\\n",
       "0                5.1               3.5                1.4               0.2   \n",
       "1                4.9               3.0                1.4               0.2   \n",
       "2                4.7               3.2                1.3               0.2   \n",
       "3                4.6               3.1                1.5               0.2   \n",
       "4                5.0               3.6                1.4               0.2   \n",
       "\n",
       "   target  \n",
       "0       0  \n",
       "1       0  \n",
       "2       0  \n",
       "3       0  \n",
       "4       0  "
      ]
     },
     "execution_count": 34,
     "metadata": {},
     "output_type": "execute_result"
    }
   ],
   "source": [
    "iris_df = pd.concat([pd.DataFrame(iris_dataset['data'], columns=iris_dataset['feature_names']),\n",
    "pd.DataFrame(iris_dataset['target'], columns=['target'])], axis=1)\n",
    "iris_df.head()"
   ]
  },
  {
   "cell_type": "code",
   "execution_count": null,
   "metadata": {},
   "outputs": [],
   "source": []
  }
 ],
 "metadata": {
  "kernelspec": {
   "display_name": "base",
   "language": "python",
   "name": "python3"
  },
  "language_info": {
   "codemirror_mode": {
    "name": "ipython",
    "version": 3
   },
   "file_extension": ".py",
   "mimetype": "text/x-python",
   "name": "python",
   "nbconvert_exporter": "python",
   "pygments_lexer": "ipython3",
   "version": "3.9.12"
  },
  "orig_nbformat": 4,
  "vscode": {
   "interpreter": {
    "hash": "610a6f344c2137faf927ea819c63f6cee33a2c04455044b28099f39fe9722347"
   }
  }
 },
 "nbformat": 4,
 "nbformat_minor": 2
}
